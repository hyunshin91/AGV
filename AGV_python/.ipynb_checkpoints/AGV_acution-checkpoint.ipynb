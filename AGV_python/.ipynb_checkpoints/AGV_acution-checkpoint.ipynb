{
 "cells": [
  {
   "cell_type": "code",
   "execution_count": 1,
   "metadata": {},
   "outputs": [],
   "source": [
    "import numpy as np\n",
    "import matplotlib.pyplot as plt\n",
    "import queue\n",
    "import random"
   ]
  },
  {
   "cell_type": "markdown",
   "metadata": {},
   "source": [
    "# Create Job"
   ]
  },
  {
   "cell_type": "code",
   "execution_count": 2,
   "metadata": {},
   "outputs": [
    {
     "name": "stdout",
     "output_type": "stream",
     "text": [
      "[ 9  6  1  6  3  3  7  4  5  4  6  4  6  3 12  5  7  3  3  1  8  5  2  3\n",
      "  6  7  6  4  8  5  1  8  8  4  4  2  5  3  8  4  5  7  1  7  1  5  4  3\n",
      "  9  7  6  3  4  4  7  5  3  7  5  7  5 13  3  2  2  4  7  7  6  3  1  3\n",
      "  9  4  8  2  7  5  8  2  3 10  7  6  3  5  4  5  4  2  4  9  4  3  4  5\n",
      "  6  4  6]\n",
      "[0, 9, 15, 16, 22, 25, 28, 35, 39, 44, 48, 54, 58, 64, 67, 79, 84, 91, 94, 97, 98, 106, 111, 113, 116, 122, 129, 135, 139, 147, 152, 153, 161, 169, 173, 177, 179, 184, 187, 195, 199, 204, 211, 212, 219, 220, 225, 229, 232, 241, 248, 254, 257, 261, 265, 272, 277, 280, 287, 292, 299, 304, 317, 320, 322, 324, 328, 335, 342, 348, 351, 352, 355, 364, 368, 376, 378, 385, 390, 398, 400, 403, 413, 420, 426, 429, 434, 438, 443, 447, 449, 453, 462, 466, 469, 473, 478, 484, 488, 494]\n",
      "100\n"
     ]
    }
   ],
   "source": [
    "job_time_interval = np.random.poisson(5,99)\n",
    "job_create_time = [sum(job_time_interval[:i]) for i in range(len(job_time_interval)+1)]\n",
    "print(job_time_interval)\n",
    "print(job_create_time)\n",
    "print(len(job_create_time))"
   ]
  },
  {
   "cell_type": "code",
   "execution_count": 3,
   "metadata": {},
   "outputs": [
    {
     "data": {
      "image/png": "[encoded data removed]",
      "text/plain": [
       "<Figure size 432x288 with 1 Axes>"
      ]
     },
     "metadata": {
      "needs_background": "light"
     },
     "output_type": "display_data"
    }
   ],
   "source": [
    "count, bins, ignored = plt.hist(job_time_interval, 100, density = True)\n",
    "plt.show()"
   ]
  },
  {
   "cell_type": "code",
   "execution_count": 4,
   "metadata": {},
   "outputs": [
    {
     "data": {
      "image/png": "[encoded data removed]",
      "text/plain": [
       "<Figure size 432x288 with 1 Axes>"
      ]
     },
     "metadata": {
      "needs_background": "light"
     },
     "output_type": "display_data"
    }
   ],
   "source": [
    "plt.plot(job_create_time)\n",
    "plt.show()"
   ]
  },
  {
   "cell_type": "markdown",
   "metadata": {},
   "source": [
    "# Job Queue"
   ]
  },
  {
   "cell_type": "code",
   "execution_count": 5,
   "metadata": {},
   "outputs": [],
   "source": [
    "class JobQueue(object):\n",
    "    \n",
    "    def __init__(self):\n",
    "        self.job_q = queue.Queue()\n",
    "        self.job_number = 0\n",
    "        \n",
    "    def insertJob(self, inout,  station_dest):\n",
    "        job = {\"inout\": inout, \"station_dest\": station_dest}\n",
    "        self.job_q.put(job)\n",
    "        self.job_number+=1\n",
    "\n",
    "    def getJob(self):\n",
    "        if self.job_q.empty():\n",
    "            return \n",
    "        self.job_number-=1\n",
    "        return self.job_q.get()"
   ]
  },
  {
   "cell_type": "code",
   "execution_count": 6,
   "metadata": {},
   "outputs": [],
   "source": [
    "def job_create(rack_location,job_create_time,jobQ,total_job_location_list):\n",
    "    job_location = [random.choice(rack_location)]\n",
    "    if total_job_location_list.count(job_location)%2==0:\n",
    "        jobQ.insertJob(\"in\",job_location)\n",
    "    else:\n",
    "        jobQ.insertJob(\"out\",job_location)\n",
    "    total_job_location_list.append(job_location)\n",
    "    return jobQ"
   ]
  },
  {
   "cell_type": "markdown",
   "metadata": {},
   "source": [
    "# Auction"
   ]
  },
  {
   "cell_type": "code",
   "execution_count": 7,
   "metadata": {},
   "outputs": [],
   "source": [
    "class Auction():\n",
    "    def __init__(self,job,available_agv):\n",
    "        self.job = job \n",
    "        self.available_agv = available_agv\n",
    "        \n",
    "    def choose_auctioneer(self,auction_agv_list):\n",
    "        if len(auction_agv_list) == 0:\n",
    "            self.auctioneer = random.choice(available_agv)\n",
    "        \n",
    "    def select_agv(self,bidding_list):\n",
    "        self.bidding_list = bidding_list\n",
    "        min_bid = min(biddling_list)\n",
    "        target_agv = available_agv.index(min_bid)\n",
    "        return target_agv\n",
    "    "
   ]
  },
  {
   "cell_type": "markdown",
   "metadata": {},
   "source": [
    "# AGV"
   ]
  },
  {
   "cell_type": "code",
   "execution_count": 28,
   "metadata": {},
   "outputs": [],
   "source": [
    "class AGV(object):\n",
    "    max_battery = 1000\n",
    "    CHARGING_STATION = [(2,9),(6,9)]    \n",
    "    \n",
    "    def __init__(self,agv_id,current_location,current_tick=0):\n",
    "        self.agv_id = agv_id\n",
    "        self.battery = self.max_battery\n",
    "        self.current_location = current_location\n",
    "        self.job = None\n",
    "        self.destination = None\n",
    "        self.available = True\n",
    "        self.current_tick = current_tick\n",
    "    \n",
    "    def move_one_tick(self):\n",
    "        self.next_location = self.path[0]\n",
    "        self.current_location = self.next_location\n",
    "        del self.path[0]\n",
    "        self.battery -=1\n",
    "        self.current_tick +=1\n",
    "    \n",
    "    def get_job(self,job,astar_path):\n",
    "        self.job = job\n",
    "        self.path = astar_path\n",
    "        self.available = False\n",
    "    \n",
    "    def calculate_cost(self,agv_id,job,warehouse,INPUT_STATION,OUTPUT_STATION):\n",
    "        if job['inout']=='in':\n",
    "            cost = len(astar(warehouse,agv.current_location,INPUT_STATION))\n",
    "        else:\n",
    "            cost = len(astar(warehouse,agv.current_location,Rack_enterence[job['station_dest']]))\n",
    "        return cost        "
   ]
  },
  {
   "cell_type": "code",
   "execution_count": 29,
   "metadata": {},
   "outputs": [],
   "source": [
    "def getAvailAGV(AGV_LIST,battery_threshold):\n",
    "    return [agv for agv in AGV_LIST if agv.available == True and agv.battery > battery_threshold]"
   ]
  },
  {
   "cell_type": "markdown",
   "metadata": {},
   "source": [
    "# Astar"
   ]
  },
  {
   "cell_type": "code",
   "execution_count": 30,
   "metadata": {},
   "outputs": [],
   "source": [
    "class node:\n",
    "    def __init__(self,parent=None, position = None):\n",
    "        self.parent = parent\n",
    "        self.position = position\n",
    "        self.g = 0\n",
    "        self.h = 0\n",
    "        self.f = 0\n",
    "    def __eq__(self,other):\n",
    "        return self.position == other.position"
   ]
  },
  {
   "cell_type": "code",
   "execution_count": 31,
   "metadata": {},
   "outputs": [],
   "source": [
    "def manhattan_distance(start_node,goal_node):\n",
    "    dx = abs(start_node[0]-goal_node[0])\n",
    "    dy = abs(start_node[1]-goal_node[1])\n",
    "    return dx + dy"
   ]
  },
  {
   "cell_type": "code",
   "execution_count": 32,
   "metadata": {},
   "outputs": [],
   "source": [
    "def astar(graph,start,goal):\n",
    "    start_node = node(None,(start[1],start[0]))\n",
    "    goal_node = node(None,(goal[1],goal[0]))\n",
    "    open_list = []\n",
    "    closed_list = []\n",
    "    graph = [el for el in graph][::-1]\n",
    "#     for i in graph:\n",
    "#         print(i)\n",
    "    \n",
    "    open_list.append(start_node)\n",
    "    while open_list:\n",
    "        current_node = open_list[0]\n",
    "        current_index = 0\n",
    "        \n",
    "        for index, item in enumerate(open_list):\n",
    "            if item.f < current_node.f:\n",
    "                current_node = item\n",
    "                current_index = index\n",
    "        open_list.pop(current_index)\n",
    "        closed_list.append(current_node)\n",
    "        \n",
    "        if current_node == goal_node:\n",
    "            path = []\n",
    "            current = current_node\n",
    "            while current is not None:\n",
    "#                 x,y = current.position\n",
    "#                 graph[x][y] = 9\n",
    "                path.append((current.position[1],current.position[0]))\n",
    "                current = current.parent\n",
    "                \n",
    "            return path[::-1]\n",
    "        \n",
    "        children = []\n",
    "        for new_position in [(0,1),(1,0),(-1,0),(0,-1)]:\n",
    "            node_position = (current_node.position[0]+new_position[0],\n",
    "                             current_node.position[1]+new_position[1])\n",
    "            within_range = [\n",
    "                node_position[1]>len(graph)-1,\n",
    "                node_position[1]<0,\n",
    "                node_position[0]>len(graph[len(graph)-1])-1,\n",
    "                node_position[0]<0]\n",
    "            if any(within_range):\n",
    "                continue\n",
    "            if graph[node_position[0]][node_position[1]] !=0:\n",
    "                continue\n",
    "            \n",
    "            new_node = node(current_node, node_position)\n",
    "            children.append(new_node)\n",
    "        \n",
    "        for child in children:\n",
    "            if child in closed_list:\n",
    "                continue\n",
    "            child.g = current_node.g+1\n",
    "            child.h = manhattan_distance(child.position,goal_node.position)\n",
    "            child.f = child.g + child.h\n",
    "            \n",
    "            if len([open_node for open_node in open_list\n",
    "                   if child == open_node and child.g>open_node.g]) > 0:\n",
    "                continue\n",
    "            open_list.append(child)\n",
    "            "
   ]
  },
  {
   "cell_type": "markdown",
   "metadata": {},
   "source": [
    "# Warehouse, Rack"
   ]
  },
  {
   "cell_type": "code",
   "execution_count": 33,
   "metadata": {},
   "outputs": [],
   "source": [
    "def make_warehouse(row,col):\n",
    "    warehouse = [[0]*col for i in range(row)]\n",
    "    return warehouse "
   ]
  },
  {
   "cell_type": "code",
   "execution_count": 34,
   "metadata": {},
   "outputs": [],
   "source": [
    "def set_rack(warehouse,rack_location):\n",
    "    for idx, row in enumerate(warehouse):\n",
    "        warehouse[idx] =  [1 if (ix, ROW -1 - idx) in rack_location else 0 for ix,col in enumerate(warehouse[idx])]"
   ]
  },
  {
   "cell_type": "code",
   "execution_count": 35,
   "metadata": {},
   "outputs": [],
   "source": [
    "def get4Ways(point):\n",
    "    return [(point[0],point[1]+1), (point[0]+1,point[1]),\n",
    "            (point[0],point[1]-1), (point[0]-1,point[1])]"
   ]
  },
  {
   "cell_type": "markdown",
   "metadata": {},
   "source": [
    "## Make Warehouse, Rack, Rack enterence, Station"
   ]
  },
  {
   "cell_type": "code",
   "execution_count": 36,
   "metadata": {},
   "outputs": [],
   "source": [
    "ROW, COL = 10,10\n",
    "battery_threshold = 200\n",
    "warehouse = make_warehouse(ROW,COL)"
   ]
  },
  {
   "cell_type": "code",
   "execution_count": 37,
   "metadata": {},
   "outputs": [],
   "source": [
    "rack_location =  [(1, 1), (1, 2), (1, 3), (1, 4), (1, 5), (1, 6), (1, 7),\n",
    "                  (2, 1), (2, 2), (2, 3), (2, 4), (2, 5), (2, 6), (2, 7), \n",
    "                  (4, 1), (4, 2), (4, 3), (4, 4), (4, 5), (4, 6), (4, 7), \n",
    "                  (5, 1), (5, 2), (5, 3), (5, 4), (5, 5), (5, 6), (5, 7), \n",
    "                  (7, 1), (7, 2), (7, 3), (7, 4), (7, 5), (7, 6), (7, 7), \n",
    "                  (8, 1), (8, 2), (8, 3), (8, 4), (8, 5), (8, 6), (8, 7)]\n",
    "\n",
    "set_rack(warehouse,rack_location)"
   ]
  },
  {
   "cell_type": "code",
   "execution_count": 38,
   "metadata": {},
   "outputs": [],
   "source": [
    "Rack_enterence={}\n",
    "for point in rack_location:\n",
    "    four_ways = get4Ways(point)\n",
    "    neighbour_obstacle_list = [way for way in four_ways if way in rack_location]  ## 좌표정보 ex) (1,3), (2,2)....\n",
    "    neighbour_empty_list = [way for way in four_ways if way not in rack_location] \n",
    "    if len(neighbour_empty_list) == 1: ### 모서리 아님\n",
    "        Rack_enterence[point] = neighbour_empty_list[0]\n",
    "    elif len(neighbour_empty_list) == 2: ### 모서리임\n",
    "        obstacle_way_list = [four_ways.index(obst) for obst in neighbour_obstacle_list]  ## 방향정보 ex) 0,1, 2...\n",
    "        for idx, obst_point in enumerate(neighbour_obstacle_list):\n",
    "            obst_way = obstacle_way_list[idx]\n",
    "            obst_plus1_point = get4Ways(obst_point)[obst_way]\n",
    "            if obst_plus1_point in rack_location:\n",
    "                continue\n",
    "            else:\n",
    "                Rack_enterence[point] = four_ways[obst_way-2]\n",
    "    else:\n",
    "        print('ERROR finding obstacle/entrance for RACK {}'.format(point))"
   ]
  },
  {
   "cell_type": "code",
   "execution_count": 39,
   "metadata": {},
   "outputs": [],
   "source": [
    "INPUT_STATION = (3,0)\n",
    "OUTPUT_STATION = (6,0)"
   ]
  },
  {
   "cell_type": "markdown",
   "metadata": {},
   "source": [
    "# 실험"
   ]
  },
  {
   "cell_type": "code",
   "execution_count": 40,
   "metadata": {},
   "outputs": [],
   "source": [
    "jobQ = JobQueue()\n",
    "total_job_location_list = []"
   ]
  },
  {
   "cell_type": "code",
   "execution_count": 41,
   "metadata": {},
   "outputs": [
    {
     "data": {
      "text/plain": [
       "[<__main__.AGV at 0x166f2fbbf88>,\n",
       " <__main__.AGV at 0x166f2fbbd08>,\n",
       " <__main__.AGV at 0x166f25cf788>,\n",
       " <__main__.AGV at 0x166f2f79488>]"
      ]
     },
     "execution_count": 41,
     "metadata": {},
     "output_type": "execute_result"
    }
   ],
   "source": [
    "agv1 = AGV(\"agv1\",(0,9))\n",
    "agv2 = AGV(\"agv2\",(3,9))\n",
    "agv3 = AGV(\"agv3\",(6,9))\n",
    "agv4 = AGV(\"agv4\",(9,9))\n",
    "AGV_LIST = [agv1,agv2,agv3,agv4]\n",
    "AGV_LIST"
   ]
  },
  {
   "cell_type": "code",
   "execution_count": 42,
   "metadata": {},
   "outputs": [],
   "source": [
    "jobQ.insertJob(\"in\",(1,1))\n",
    "jobQ.insertJob(\"out\",(1,2))\n",
    "jobQ.insertJob(\"in\",(1,1))\n",
    "jobQ.insertJob(\"out\",(1,3))"
   ]
  },
  {
   "cell_type": "code",
   "execution_count": 43,
   "metadata": {},
   "outputs": [
    {
     "name": "stdout",
     "output_type": "stream",
     "text": [
      "[<__main__.AGV object at 0x00000166F2FBBF88>, <__main__.AGV object at 0x00000166F2FBBD08>, <__main__.AGV object at 0x00000166F25CF788>, <__main__.AGV object at 0x00000166F2F79488>]\n"
     ]
    }
   ],
   "source": [
    "avail = getAvailAGV(AGV_LIST,battery_threshold)\n",
    "print(avail)"
   ]
  },
  {
   "cell_type": "code",
   "execution_count": 44,
   "metadata": {},
   "outputs": [
    {
     "name": "stdout",
     "output_type": "stream",
     "text": [
      "[13, 10, 13, 16]\n"
     ]
    }
   ],
   "source": [
    "job = jobQ.getJob()\n",
    "bidding_list=[]\n",
    "for agv in avail:\n",
    "    bidding_list.append(agv.calculate_cost(agv,job,warehouse,INPUT_STATION,OUTPUT_STATION))\n",
    "print(bidding_list)\n",
    "    "
   ]
  },
  {
   "cell_type": "markdown",
   "metadata": {},
   "source": [
    "# Main 함수"
   ]
  },
  {
   "cell_type": "code",
   "execution_count": 45,
   "metadata": {},
   "outputs": [
    {
     "name": "stdout",
     "output_type": "stream",
     "text": [
      "[0, 9, 15, 16, 22, 25, 28, 35, 39, 44, 48, 54, 58, 64, 67, 79, 84, 91, 94, 97, 98, 106, 111, 113, 116, 122, 129, 135, 139, 147, 152, 153, 161, 169, 173, 177, 179, 184, 187, 195, 199, 204, 211, 212, 219, 220, 225, 229, 232, 241, 248, 254, 257, 261, 265, 272, 277, 280, 287, 292, 299, 304, 317, 320, 322, 324, 328, 335, 342, 348, 351, 352, 355, 364, 368, 376, 378, 385, 390, 398, 400, 403, 413, 420, 426, 429, 434, 438, 443, 447, 449, 453, 462, 466, 469, 473, 478, 484, 488, 494]\n"
     ]
    }
   ],
   "source": [
    "print(job_create_time)"
   ]
  },
  {
   "cell_type": "code",
   "execution_count": 46,
   "metadata": {},
   "outputs": [],
   "source": [
    "jobQ = JobQueue()\n",
    "run_time = 15\n",
    "total_job_location_list = []\n",
    "select_agv = []"
   ]
  },
  {
   "cell_type": "code",
   "execution_count": 47,
   "metadata": {},
   "outputs": [
    {
     "name": "stdout",
     "output_type": "stream",
     "text": [
      "{'inout': 'in', 'station_dest': [(7, 6)]}\n",
      "<__main__.AGV object at 0x00000166F2FBBD08>\n",
      "<__main__.AGV object at 0x00000166F2FBBF88>\n",
      "{'inout': 'in', 'station_dest': [(2, 6)]}\n",
      "<__main__.AGV object at 0x00000166F2FBBF88>\n",
      "<__main__.AGV object at 0x00000166F2FBBD08>\n",
      "{'inout': 'in', 'station_dest': [(5, 2)]}\n",
      "<__main__.AGV object at 0x00000166F25CF788>\n",
      "<__main__.AGV object at 0x00000166F2FBBF88>\n"
     ]
    }
   ],
   "source": [
    "for time in range(run_time+1):\n",
    "    if time in job_create_time:\n",
    "        job_create(rack_location,job_create_time,jobQ,total_job_location_list)\n",
    "    agv_avail = getAvailAGV(AGV_LIST,battery_threshold)\n",
    "    if len(agv_avail)!=0 and jobQ.job_number !=0:\n",
    "        if time ==0:\n",
    "            auctioneer = random.choice(agv_avail)\n",
    "        else:\n",
    "            auctioneer = select_agv[-1]\n",
    "        job = jobQ.getJob()\n",
    "        print(job)\n",
    "        bid_list = []\n",
    "        for agv in agv_avail:\n",
    "            bid_list.append(agv.calculate_cost(agv,job,warehouse,INPUT_STATION,OUTPUT_STATION))\n",
    "        min_bid = min(bid_list)\n",
    "        target_agv = agv_avail[bid_list.index(min_bid)]\n",
    "        if job['inout']=='in':\n",
    "            astar_path = astar(warehouse,target_agv.current_location,INPUT_STATION)\n",
    "        else:\n",
    "            astar_path = astar(warehouse,target_agv.current_location,Rack_enterence[job['station_dest']])\n",
    "        target_agv.get_job(job,astar_path)\n",
    "        select_agv.append(target_agv)\n",
    "        target_agv.move_one_tick()\n",
    "        print(target_agv)\n",
    "        print(auctioneer)"
   ]
  },
  {
   "cell_type": "code",
   "execution_count": null,
   "metadata": {},
   "outputs": [],
   "source": []
  },
  {
   "cell_type": "code",
   "execution_count": null,
   "metadata": {},
   "outputs": [],
   "source": []
  }
 ],
 "metadata": {
  "kernelspec": {
   "display_name": "Python 3",
   "language": "python",
   "name": "python3"
  },
  "language_info": {
   "codemirror_mode": {
    "name": "ipython",
    "version": 3
   },
   "file_extension": ".py",
   "mimetype": "text/x-python",
   "name": "python",
   "nbconvert_exporter": "python",
   "pygments_lexer": "ipython3",
   "version": "3.7.6"
  }
 },
 "nbformat": 4,
 "nbformat_minor": 4
}
