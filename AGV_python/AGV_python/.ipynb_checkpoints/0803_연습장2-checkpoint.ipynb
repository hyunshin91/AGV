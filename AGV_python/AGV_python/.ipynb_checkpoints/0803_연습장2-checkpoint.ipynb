{
 "cells": [
  {
   "cell_type": "markdown",
   "metadata": {},
   "source": [
    "# Import library"
   ]
  },
  {
   "cell_type": "code",
   "execution_count": 1,
   "metadata": {},
   "outputs": [],
   "source": [
    "import numpy as np\n",
    "import matplotlib.pyplot as plt\n",
    "import queue\n",
    "import random\n",
    "from enum import Enum\n",
    "from heapq import *"
   ]
  },
  {
   "cell_type": "markdown",
   "metadata": {},
   "source": [
    "# Seed 고정"
   ]
  },
  {
   "cell_type": "code",
   "execution_count": 2,
   "metadata": {},
   "outputs": [],
   "source": [
    "np.random.seed(10)\n",
    "random.seed(10)"
   ]
  },
  {
   "cell_type": "markdown",
   "metadata": {},
   "source": [
    "# Create Job"
   ]
  },
  {
   "cell_type": "code",
   "execution_count": 3,
   "metadata": {},
   "outputs": [],
   "source": [
    "job_number  = 100"
   ]
  },
  {
   "cell_type": "code",
   "execution_count": 4,
   "metadata": {},
   "outputs": [
    {
     "name": "stdout",
     "output_type": "stream",
     "text": [
      "[13 11 10  7  6 13 12 15 10  9  9 11 11 13 15  5 10  7  8  8  8  9 13  9\n",
      " 13 10  4  8  8  8 14 14 11 11  8  8 10 10  8  8  4 11  8  8 12  3  5 14\n",
      "  7 10  6 11  7  7 15 11 11 11  6 12  9 10  5 11  7  8 12  9 11 11 12 10\n",
      " 10  6 10  5  5  4 11 11  8  9  9 10 19 14  7 10 13  8  9 14 11  9 10  8\n",
      " 13  7 11]\n",
      "[0, 13, 24, 34, 41, 47, 60, 72, 87, 97, 106, 115, 126, 137, 150, 165, 170, 180, 187, 195, 203, 211, 220, 233, 242, 255, 265, 269, 277, 285, 293, 307, 321, 332, 343, 351, 359, 369, 379, 387, 395, 399, 410, 418, 426, 438, 441, 446, 460, 467, 477, 483, 494, 501, 508, 523, 534, 545, 556, 562, 574, 583, 593, 598, 609, 616, 624, 636, 645, 656, 667, 679, 689, 699, 705, 715, 720, 725, 729, 740, 751, 759, 768, 777, 787, 806, 820, 827, 837, 850, 858, 867, 881, 892, 901, 911, 919, 932, 939, 950]\n"
     ]
    }
   ],
   "source": [
    "job_time_interval = np.random.poisson(10,job_number-1)\n",
    "job_create_time = [sum(job_time_interval[:i]) for i in range(len(job_time_interval)+1)]\n",
    "print(job_time_interval)\n",
    "print(job_create_time)"
   ]
  },
  {
   "cell_type": "code",
   "execution_count": 5,
   "metadata": {},
   "outputs": [
    {
     "data": {
      "image/png": "[encoded data removed]",
      "text/plain": [
       "<Figure size 432x288 with 1 Axes>"
      ]
     },
     "metadata": {
      "needs_background": "light"
     },
     "output_type": "display_data"
    }
   ],
   "source": [
    "count, bins, ignored = plt.hist(job_time_interval, 100, density = True)\n",
    "plt.show()"
   ]
  },
  {
   "cell_type": "code",
   "execution_count": 6,
   "metadata": {},
   "outputs": [
    {
     "data": {
      "image/png": "[encoded data removed]",
      "text/plain": [
       "<Figure size 432x288 with 1 Axes>"
      ]
     },
     "metadata": {
      "needs_background": "light"
     },
     "output_type": "display_data"
    }
   ],
   "source": [
    "plt.plot(job_create_time)\n",
    "plt.show()"
   ]
  },
  {
   "cell_type": "markdown",
   "metadata": {},
   "source": [
    "# Job Queue"
   ]
  },
  {
   "cell_type": "code",
   "execution_count": 7,
   "metadata": {},
   "outputs": [],
   "source": [
    "class JobQueue(object):\n",
    "    \n",
    "    def __init__(self):\n",
    "        self.job_q = queue.Queue()\n",
    "        self.job_number = 0\n",
    "        \n",
    "    def insertJob(self, inout,  station_dest):\n",
    "        job = {\"inout\": inout, \"station_dest\": station_dest}\n",
    "        self.job_q.put(job)\n",
    "        self.job_number+=1\n",
    "\n",
    "    def getJob(self):\n",
    "        if self.job_q.empty():\n",
    "            return \n",
    "        self.job_number-=1\n",
    "        return self.job_q.get()"
   ]
  },
  {
   "cell_type": "code",
   "execution_count": 8,
   "metadata": {},
   "outputs": [],
   "source": [
    "def job_create(rack_location,total_job_location_list,time,total_job_information):\n",
    "    job_location = [random.choice(rack_location)]\n",
    "    if total_job_location_list.count(job_location)%2==0:\n",
    "        total_job_information['{}'.format(time)] = ['in',job_location]\n",
    "    else:\n",
    "        total_job_information['{}'.format(time)] = ['out',job_location]\n",
    "    total_job_location_list.append(job_location)\n",
    "    return total_job_information"
   ]
  },
  {
   "cell_type": "markdown",
   "metadata": {},
   "source": [
    "# AGV"
   ]
  },
  {
   "cell_type": "code",
   "execution_count": 9,
   "metadata": {},
   "outputs": [],
   "source": [
    "class AGV(object):\n",
    "    max_battery = 200\n",
    "    CHARGING_STATION = [(2,9),(6,9)]    \n",
    "    \n",
    "    def __init__(self,agv_id,current_location,job_for_bid,current_tick=0,cost=0,bid_list = []):\n",
    "        self.agv_id = agv_id\n",
    "        self.battery = self.max_battery\n",
    "        self.current_location = current_location\n",
    "        self.job = None\n",
    "        self.destination = None\n",
    "        self.available = True\n",
    "        self.current_tick = current_tick\n",
    "        self.to_chaging_station = False\n",
    "        self.charging = False\n",
    "        self.job_for_bid = job_for_bid\n",
    "        self.bid_list = bid_list\n",
    "        self.cost = cost \n",
    "        \n",
    "#     def __str__(self):\n",
    "#         return 'agv_id:{}  job:{}  available:{}'.format(self.agv_id, self.job, self.available)\n",
    "    \n",
    "    def __str__(self):\n",
    "        return 'agv_id:{}'.format(self.agv_id)\n",
    "    \n",
    "    def move_one_tick(self):\n",
    "        if len(self.path) !=0:\n",
    "            self.next_location = self.path[0]\n",
    "            self.current_location = self.next_location\n",
    "            del self.path[0]\n",
    "            if len(self.path) ==0:\n",
    "                self.available = True\n",
    "            self.battery -=1\n",
    "            self.current_tick +=1\n",
    "        else:\n",
    "            self.available = True\n",
    "            \n",
    "    def move_one_tick_for_charge(self,charging_agvs_list,moving_for_charge_agvs):\n",
    "        self.path_for_charge = self.astar_path_to_charger\n",
    "        if len(self.path_for_charge) !=0:\n",
    "            self.to_chaging_station = True\n",
    "            self.next_location = self.path_for_charge[0]\n",
    "            self.current_location = self.next_location\n",
    "            del self.path_for_charge[0]\n",
    "            self.battery -=1\n",
    "            self.current_tick +=1\n",
    "            if len(self.path_for_charge) ==0:\n",
    "                charging_agvs_list.append(self)\n",
    "                moving_for_charge_agvs.remove(self)\n",
    "                self.to_chaging_station = False\n",
    "                self.charging = True\n",
    "#                 self.charging_agv()\n",
    "#         else:\n",
    "#             self.charging = True\n",
    "    \n",
    "    def get_job(self,job,astar_path):\n",
    "        self.job = job\n",
    "        self.path = astar_path\n",
    "        self.available = False\n",
    "        \n",
    "    def go_to_charge(self,astar_path_to_charger):\n",
    "        self.path_for_charge = astar_path_to_charger\n",
    "        self.to_chaging_station = True\n",
    "    \n",
    "    \n",
    "#     def agv_to_charging_station(self,battery_threshold):\n",
    "#         if self.available == True and self.battery <= battery_threshold:\n",
    "#             self.to_chaging_station = True\n",
    "\n",
    "    def calculate_bid(self,job,warehouse,INPUT_STATION,OUTPUT_STATION):\n",
    "        if job['inout']=='in':\n",
    "            cost = len(astar(warehouse,agv.current_location,INPUT_STATION)+astar(warehouse,INPUT_STATION,Rack_enterence[job['station_dest']]))\n",
    "        else:\n",
    "            cost = len(astar(warehouse,agv.current_location,Rack_enterence[job['station_dest']])+astar(warehouse,Rack_enterence[job['station_dest']],OUTPUT_STATION))\n",
    "        self.cost= cost \n",
    "        return self,cost,self.agv_id\n",
    "    \n",
    "#     def calculate_cost_for_charing_bid(self,warehouse,CHARGING_STATION):\n",
    "#         bid_for_charge = []\n",
    "#         for charging_station in CHARGING_STATION:\n",
    "#             bid_for_charge.append(charging_station,astar(warehouse,self.current_location,charging_station))\n",
    "#         bid_for_charge_sort = sorted(bid_for_charge, key =lambda x:x[1])\n",
    "#         selected_chargeing\n",
    "#         return cost        \n",
    "    \n",
    "    \n",
    "    def select_charging_station(self,warehouse,CHARGING_STATION):\n",
    "        bid_for_charge = []\n",
    "#         print('%',CHARGING_STATION)\n",
    "        for charging_station in CHARGING_STATION:\n",
    "            print(\"^\",charging_station)\n",
    "            bid_for_charge.append((charging_station,len(astar(warehouse,self.current_location,charging_station))))\n",
    "        bid_for_charge_sort = sorted(bid_for_charge, key =lambda x:x[1])\n",
    "        selected_charging_station = bid_for_charge_sort[0][0]\n",
    "        astar_path_to_charger = astar(warehouse,self.current_location,charging_station)\n",
    "        self.astar_path_to_charger = astar_path_to_charger\n",
    "#         print('3',astar_path_to_charger)\n",
    "        return selected_charging_station, astar_path_to_charger   \n",
    "    \n",
    "    def charge_agv(self,charging_agvs):\n",
    "        if self.charging == True:\n",
    "            self.battery +=10\n",
    "            if self.battery >= self.max_battery:\n",
    "                self.battery = self.max_battery\n",
    "                self.charging = False \n",
    "                self.available=True\n",
    "                charging_agvs.remove(self)\n",
    "                \n",
    "#                 \n",
    "                \n",
    "    def send_bid(self,avail_agv_list):\n",
    "        for agv_ in avail_agv_list:\n",
    "            agv_.bid_list.append((self,agv.agv_id,agv.cost))\n",
    "            \n",
    "#     def win_bid(self)\n",
    "        \n",
    "    \n",
    "    def drop_job(self):\n",
    "        self.job = None\n",
    "        self.available = True\n",
    "        \n",
    "    def clear_bid_list(self,agv_list):\n",
    "        for agv in agv_list:\n",
    "            agv.bid_list = []\n"
   ]
  },
  {
   "cell_type": "code",
   "execution_count": 10,
   "metadata": {},
   "outputs": [],
   "source": [
    "def getAvailAGV(AGV_LIST,battery_threshold):\n",
    "    return [agv for agv in AGV_LIST if agv.available == True and agv.battery > battery_threshold and agv.charging == False]"
   ]
  },
  {
   "cell_type": "code",
   "execution_count": 11,
   "metadata": {},
   "outputs": [],
   "source": [
    "def getnNeedChargeAgv(AGV_LIST,battery_threshold):\n",
    "    return [agv for agv in AGV_LIST if agv.charging == True and agv.battery <= battery_threshold and agv.charging == False and agv.to_chaging_station == False]"
   ]
  },
  {
   "cell_type": "code",
   "execution_count": 12,
   "metadata": {},
   "outputs": [],
   "source": [
    "def getChargingAGV(AGV_LIST):\n",
    "    return [agv for agv in AGV_LIST if agv.charging == True]"
   ]
  },
  {
   "cell_type": "markdown",
   "metadata": {},
   "source": [
    "# Astar"
   ]
  },
  {
   "cell_type": "code",
   "execution_count": 13,
   "metadata": {},
   "outputs": [],
   "source": [
    "# class node:\n",
    "#     def __init__(self,parent=None, position = None):\n",
    "#         self.parent = parent\n",
    "#         self.position = position\n",
    "#         self.g = 0\n",
    "#         self.h = 0\n",
    "#         self.f = 0\n",
    "#     def __eq__(self,other):\n",
    "#         return self.position == other.position"
   ]
  },
  {
   "cell_type": "code",
   "execution_count": 14,
   "metadata": {},
   "outputs": [],
   "source": [
    "#새로운 Astar에 사용\n",
    "def manhattan_distance(start, end):\n",
    "    dist_x = abs(start.coordinates[1] - end.coordinates[1])\n",
    "    dist_y = abs(start.coordinates[0] - end.coordinates[0])\n",
    "    return dist_x + dist_y"
   ]
  },
  {
   "cell_type": "code",
   "execution_count": 15,
   "metadata": {},
   "outputs": [],
   "source": [
    "##기존 Astart에 사용\n",
    "# def manhattan_distance(start_node,goal_node):\n",
    "#     dx = abs(start_node[0]-goal_node[0])\n",
    "#     dy = abs(start_node[1]-goal_node[1])\n",
    "#     return dx + dy"
   ]
  },
  {
   "cell_type": "code",
   "execution_count": 16,
   "metadata": {},
   "outputs": [],
   "source": [
    "# def astar(graph,start,goal):\n",
    "#     start_node = node(None,(start[1],start[0]))\n",
    "#     goal_node = node(None,(goal[1],goal[0]))\n",
    "#     open_list = []\n",
    "#     closed_list = []\n",
    "#     graph = [el for el in graph][::-1]   \n",
    "#     open_list.append(start_node)\n",
    "    \n",
    "#     while open_list:\n",
    "#         current_node = open_list[0]\n",
    "#         current_index = 0\n",
    "        \n",
    "#         for index, item in enumerate(open_list):\n",
    "#             if item.f < current_node.f:\n",
    "#                 current_node = item\n",
    "#                 current_index = index\n",
    "#         open_list.pop(current_index)\n",
    "#         closed_list.append(current_node)\n",
    "        \n",
    "#         if current_node == goal_node:\n",
    "#             path = []\n",
    "#             current = current_node\n",
    "#             while current is not None:\n",
    "# #                 x,y = current.position\n",
    "# #                 graph[x][y] = 9\n",
    "#                 path.append((current.position[1],current.position[0]))\n",
    "#                 current = current.parent\n",
    "                \n",
    "#             return path[::-1]\n",
    "        \n",
    "#         children = []\n",
    "#         for new_position in [(0,1),(1,0),(-1,0),(0,-1)]:\n",
    "#             node_position = (current_node.position[0]+new_position[0],\n",
    "#                              current_node.position[1]+new_position[1])\n",
    "#             within_range = [\n",
    "#                 node_position[1]>len(graph)-1,\n",
    "#                 node_position[1]<0,\n",
    "#                 node_position[0]>len(graph[len(graph)-1])-1,\n",
    "#                 node_position[0]<0]\n",
    "#             if any(within_range):\n",
    "#                 continue\n",
    "#             if graph[node_position[0]][node_position[1]] !=0:\n",
    "#                 continue\n",
    "            \n",
    "#             new_node = node(current_node, node_position)\n",
    "#             children.append(new_node)\n",
    "        \n",
    "#         for child in children:\n",
    "#             if child in closed_list:\n",
    "#                 continue\n",
    "#             child.g = current_node.g+1\n",
    "#             child.h = manhattan_distance(child.position,goal_node.position)\n",
    "#             child.f = child.g + child.h\n",
    "            \n",
    "#             if len([open_node for open_node in open_list\n",
    "#                    if child == open_node and child.g>open_node.g]) > 0:\n",
    "#                 continue\n",
    "#             open_list.append(child)"
   ]
  },
  {
   "cell_type": "code",
   "execution_count": 44,
   "metadata": {},
   "outputs": [
    {
     "data": {
      "text/plain": [
       "5"
      ]
     },
     "execution_count": 44,
     "metadata": {},
     "output_type": "execute_result"
    }
   ],
   "source": [
    "random.randint(0,10)"
   ]
  },
  {
   "cell_type": "markdown",
   "metadata": {},
   "source": [
    "### 내가 만든 CA*"
   ]
  },
  {
   "cell_type": "code",
   "execution_count": 17,
   "metadata": {},
   "outputs": [],
   "source": [
    "class NodeType(Enum):\n",
    "    DEFAULT = 0\n",
    "    OBSTACLE = 1\n",
    "    PICKUP = 2\n",
    "    DROPOFF = 3\n",
    "\n",
    "\n",
    "class BasicNode(object):\n",
    "    def __init__(self, new_id, new_type):\n",
    "        self.id = new_id\n",
    "        self.type = new_type\n",
    "\n",
    "class AStarNode(BasicNode):\n",
    "    def __init__(self, new_id, new_type, new_coordinaters):\n",
    "        BasicNode.__init__(self, new_id, new_type)\n",
    "        self.coordinates = new_coordinaters\n",
    "        self.g = None\n",
    "        self.h = None\n",
    "        self.f = None\n",
    "#         self.came_from = None\n",
    "        self.depth = 0\n",
    "        self.booked = False\n",
    "\n",
    "    def __lt__(self, other):\n",
    "        if self.f == None or other.f == None:\n",
    "            raise Exception(\"Some f value not initialized!\")\n",
    "        else:\n",
    "            return self.f < other.f\n",
    "\n",
    "    def __eq__(self, other):\n",
    "        return (self.id == other.id and self.depth == other.depth)\n",
    "\n",
    "    def __hash__(self):\n",
    "        return self.id\n",
    "\n",
    "    def compare(self, other):\n",
    "        ok = True\n",
    "        if self.id != other.id:\n",
    "            print(\"1\")\n",
    "            return False\n",
    "        if self.type != other.type:\n",
    "            print(\"2\")\n",
    "            return False\n",
    "        if self.coordinates != other.coordinates:\n",
    "            print(\"3\")\n",
    "            return False\n",
    "        if self.g != other.g:\n",
    "            print(\"4\")\n",
    "            #return False\n",
    "            ok = False\n",
    "        if self.h != other.h:\n",
    "            print(\"5\")\n",
    "            #return False\n",
    "            ok = False\n",
    "        if self.f != other.f:\n",
    "            print(\"6\")\n",
    "            #return False\n",
    "            ok = False\n",
    "        if self.came_from and other.came_from:\n",
    "            if self.came_from.id != other.came_from.id:\n",
    "                print(\"7\")\n",
    "                ok = False\n",
    "        elif self.came_from and not other.came_from:\n",
    "            print(\"8\")\n",
    "            ok = False\n",
    "        elif other.came_from and not self.came_from:\n",
    "            print(\"9\")\n",
    "            ok = False\n",
    "        if self.depth != other.depth:\n",
    "            print(\"10\")\n",
    "            ok = False\n",
    "        if self.booked != other.booked:\n",
    "            print(\"11\")\n",
    "            ok = False\n",
    "\n",
    "        if not ok:\n",
    "            return False\n",
    "        return True\n"
   ]
  },
  {
   "cell_type": "code",
   "execution_count": null,
   "metadata": {},
   "outputs": [],
   "source": [
    "def AStar(graph, agent, p=False):\n",
    "    #reset_graph(graph)\n",
    "    start = agent.pos\n",
    "    start.depth = 0\n",
    "    start.came_from = None\n",
    "    target = agent.pickup.get_target()\n",
    "\n",
    "    if p:\n",
    "        print(\"new astar from %d to %d\" % (start.id, target.id))\n",
    "\n",
    "    start.g = 0\n",
    "    start.h = manhattan_distance(start, target)\n",
    "    start.f = start.h\n",
    "\n",
    "    neighbours = [(0,1),(1,0),(-1,0),(0,-1)]\n",
    "\n",
    "    open_list = []\n",
    "    closed_list = set()\n",
    "\n",
    "    heappush(open_list, start) # add start to open list\n",
    "\n",
    "    while open_list:\n",
    "        current = heappop(open_list)\n",
    "        closed_list.add(current)\n",
    "\n",
    "        if current.coordinates == target.coordinates:\n",
    "            # target is found, extract the path\n",
    "            return extract_path(current, graph)\n",
    "\n",
    "        for (i,j) in neighbours:\n",
    "            x, y = (current.coordinates[0] + i, current.coordinates[1] + j)\n",
    "            if x < 0 or x >= graph.shape[0] or y < 0 or y >= graph.shape[1]:\n",
    "                # neighbour coordinates are out of the graph\n",
    "                continue\n",
    "            neighbour = graph[x][y]\n",
    "            neighbour.depth = 0\n",
    "            if neighbour.type == NodeType.OBSTACLE and agent.is_carrying_shelf:\n",
    "                continue\n",
    "            if neighbour in closed_list:\n",
    "                continue\n",
    "\n",
    "            if neighbour not in open_list or current.g + 1 < neighbour.g:\n",
    "                neighbour.g = current.g + 1\n",
    "                neighbour.h = manhattan_distance(neighbour, target)\n",
    "                neighbour.f = neighbour.g + neighbour.h\n",
    "                neighbour.came_from = current\n",
    "                if neighbour not in open_list:\n",
    "                    heappush(open_list, neighbour)\n",
    "\n",
    "def collisionWillOccur(reservation_table, current, neighbour):\n",
    "    if (neighbour.id, current.depth + 1) in reservation_table:\n",
    "        # Moving to node collision\n",
    "        return True\n",
    "    if (current.id, current.depth + 1) in reservation_table and (neighbour.id, current.depth) in reservation_table:\n",
    "        # Swap collision\n",
    "        return True\n",
    "    return False\n",
    "\n",
    "def AStarReserved(graph, agent, reservation_table, p=False):\n",
    "    #reset_graph(graph)\n",
    "    start = agent.pos\n",
    "    start.came_from = None\n",
    "    start.depth = 0\n",
    "    target = agent.pickup.get_target()\n",
    "\n",
    "    if p:\n",
    "        print(\"new astar from %d to %d\" % (start.id, target.id))\n",
    "\n",
    "    start.g = 0\n",
    "    start.h = manhattan_distance(start, target)\n",
    "    start.f = start.h\n",
    "\n",
    "    neighbours = [(0,1),(1,0),(-1,0),(0,-1)]\n",
    "\n",
    "    open_list = []\n",
    "    closed_list = set()\n",
    "\n",
    "    heappush(open_list, start) # add start to open list\n",
    "\n",
    "    while open_list:\n",
    "        current = heappop(open_list)\n",
    "        closed_list.add((current.id, current.depth))\n",
    "\n",
    "        if p:\n",
    "            print(\"now looking at %d depth: %d\" % (current.id, current.depth))\n",
    "\n",
    "        if current.coordinates == target.coordinates:\n",
    "            # target is found, extract the path\n",
    "            path = extract_path(current, graph)\n",
    "            if p:\n",
    "                print(\"found path is\")\n",
    "                print([x.id for x in path])\n",
    "            return path\n",
    "\n",
    "        for (i,j) in neighbours:\n",
    "            x, y = (current.coordinates[0] + i, current.coordinates[1] + j)\n",
    "            if x < 0 or x >= graph.shape[0] or y < 0 or y >= graph.shape[1]:\n",
    "                # neighbour coordinates are out of the graph\n",
    "                continue\n",
    "            neighbour = graph[x][y]\n",
    "            #if not current.depth > 7:\n",
    "            neighbour = copy.deepcopy(neighbour)\n",
    "            neighbour.depth = current.depth + 1\n",
    "            if neighbour.type == NodeType.OBSTACLE and agent.is_carrying_shelf:\n",
    "                continue\n",
    "\n",
    "            if (neighbour.id, current.depth + 1) in closed_list:\n",
    "                if p:\n",
    "                    print(\"skipped neighbour %d depth: %d becuase in CLOSED\" % (neighbour.id, neighbour.depth))\n",
    "                continue\n",
    "\n",
    "            if collisionWillOccur(reservation_table, current, neighbour):\n",
    "                if p:\n",
    "                    print(\"skipped neighbour %d depth %d becuase of collision\" % (neighbour.id, neighbour.depth))\n",
    "                continue\n",
    "\n",
    "            if neighbour in open_list:\n",
    "                # make neighbour refer to correct node object\n",
    "                for x in open_list:\n",
    "                    if x == neighbour:\n",
    "                        neighbour = x\n",
    "                        break\n",
    "\n",
    "            if neighbour not in open_list or current.g + 1 < neighbour.g:\n",
    "                neighbour.g = current.g + 1\n",
    "                neighbour.h = manhattan_distance(neighbour, target)\n",
    "                neighbour.f = neighbour.g + neighbour.h\n",
    "                neighbour.came_from = current\n",
    "                if neighbour not in open_list:\n",
    "                    if p:\n",
    "                        print(\"added %d depth %d to open list\" % (neighbour.id, neighbour.depth))\n",
    "                    heappush(open_list, neighbour)\n",
    "    return []\n"
   ]
  },
  {
   "cell_type": "code",
   "execution_count": 45,
   "metadata": {},
   "outputs": [],
   "source": [
    "# def findPathAStar(graph, agent,start_pos, reservation_table, W, workers, K):\n",
    "#     # initialize starting node\n",
    "#     start = start_pos\n",
    "\n",
    "#     if not agent.available():\n",
    "#         return [start_pos]\n",
    "#     target = agent.pickup.get_target()\n",
    "\n",
    "#     start.g = 0\n",
    "#     start.h = manhattan_distance(start, target)\n",
    "#     start.f = start.h\n",
    "#     #start.depth = 0\n",
    "\n",
    "#     neighbours = [(0,1),(1,0),(-1,0),(0,-1),(0,0)]\n",
    "\n",
    "#     open_list = []\n",
    "#     closed_list = set()\n",
    "\n",
    "#     # add start to open list\n",
    "#     heappush(open_list, start)\n",
    "\n",
    "#     reached_target_last_step = False\n",
    "#     while open_list:\n",
    "#         current = heappop(open_list)\n",
    "#         closed_list.add(current)\n",
    "\n",
    "#         #Check if reached goal\n",
    "#         if current.coordinates == target.coordinates:\n",
    "#             if not reached_target_last_step:\n",
    "#                 reached_target_last_step = True\n",
    "#             else:\n",
    "#                 path_so_far = extract_path(current)\n",
    "#                 if len(path_so_far) > K + 1:\n",
    "#                     agent = copy.deepcopy(agent)\n",
    "#                     agent.is_copy = True\n",
    "\n",
    "#                 if not agent.pickup.advance_pickup_state(workers, agent.is_copy):\n",
    "#                     #Delivered back shelf\n",
    "#                     if not assign_item_to_agent(agent, workers):\n",
    "#                         agent.pickup = None\n",
    "#                         agent.is_carrying_shelf = False\n",
    "#                 if agent.pickup:\n",
    "#                     agent.is_carrying_shelf = agent.pickup.is_carrying_shelf()\n",
    "\n",
    "#                 current_depth = current.depth\n",
    "#                 reset_f_val_graph(graph)\n",
    "#                 current.came_from = None\n",
    "#                 next_path = findPathAStar(graph, agent, current, reservation_table, W, workers, K+1-len(path_so_far))\n",
    "#                 if next_path == None:\n",
    "#                     return None\n",
    "#                 return path_so_far + next_path[1:]\n",
    "#         else:\n",
    "#             reached_target_last_step = False\n",
    "\n",
    "#         for (i,j) in neighbours:\n",
    "#             x, y = (current.coordinates[0] + i, current.coordinates[1] + j)\n",
    "#             if x < 0 or x >= graph.shape[0] or y < 0 or y >= graph.shape[1]:\n",
    "#                 # neighbour coordinates are out of the graph\n",
    "#                 continue\n",
    "\n",
    "#             neighbour = graph[x][y]\n",
    "#             neighbour = copy.deepcopy(neighbour)\n",
    "#             neighbour.depth = current.depth + 1\n",
    "\n",
    "#             if neighbour.type == NodeType.OBSTACLE and agent.is_carrying_shelf:\n",
    "#                 # neighbour is not traversable, an obstacle\n",
    "#                 #print(\"neigbout %d depth %d has OBSTACLE\" % (neighbour.id, neighbour.depth))\n",
    "#                 continue\n",
    "\n",
    "#             if neighbour in closed_list:\n",
    "#                 # neighbour case has already been considered\n",
    "#                 #print(\"neigbout %d depth %d has CLOSED\" % (neighbour.id, neighbour.depth))\n",
    "#                 continue\n",
    "\n",
    "#             if collisionWillOccur(reservation_table, current, neighbour):\n",
    "#                 # can't move to neighbour since another agent is there\n",
    "#                 #print(\"neigbout %d depth %d has colliiiishhh\" % (neighbour.id, neighbour.depth))\n",
    "#                 continue\n",
    "\n",
    "#             if neighbour in open_list:\n",
    "#                 # make neighbour refer to correct node object\n",
    "#                 for x in open_list:\n",
    "#                     if x == neighbour:\n",
    "#                         neighbour = x\n",
    "#                         break\n",
    "\n",
    "#             if neighbour not in open_list or current.g + 1 < neighbour.g:\n",
    "#                 if neighbour.coordinates == target.coordinates:\n",
    "#                     # waiting at target is preferred\n",
    "#                     neighbour.g = current.g + 0\n",
    "#                 else:\n",
    "#                     neighbour.g = current.g + 1\n",
    "#                 neighbour.h = manhattan_distance(neighbour, target)\n",
    "#                 neighbour.f = neighbour.g + neighbour.h\n",
    "\n",
    "#                 # set parent\n",
    "#                 neighbour.came_from = current\n",
    "\n",
    "#                 if neighbour not in open_list:\n",
    "#                     # add newly discovered node to open list.\n",
    "#                     heappush(open_list, neighbour)\n",
    "\n",
    "#     print(\"IMPOSSIBLE PROBLEM\")"
   ]
  },
  {
   "cell_type": "code",
   "execution_count": 46,
   "metadata": {},
   "outputs": [],
   "source": [
    "def extract_path(current, graph=None):\n",
    "    path = [current]\n",
    "    next_node = current.came_from\n",
    "    while next_node:\n",
    "        path.insert(0, next_node)\n",
    "        next_node = next_node.came_from\n",
    "\n",
    "    for node in path:\n",
    "        node.came_from = None\n",
    "    # if graph != None:\n",
    "    #     reset_graph(graph)\n",
    "    print(path)\n",
    "    return path"
   ]
  },
  {
   "cell_type": "markdown",
   "metadata": {},
   "source": [
    "# Warehouse, Rack, Charging_station"
   ]
  },
  {
   "cell_type": "code",
   "execution_count": 47,
   "metadata": {},
   "outputs": [],
   "source": [
    "# def make_warehouse(row,col):\n",
    "#     warehouse = [[0]*col for i in range(row)]\n",
    "#     return warehouse "
   ]
  },
  {
   "cell_type": "code",
   "execution_count": 48,
   "metadata": {},
   "outputs": [],
   "source": [
    "def set_rack(warehouse,rack_location):\n",
    "    for idx, row in enumerate(warehouse):\n",
    "        warehouse[idx] =  [1 if (ix, ROW -1 - idx) in rack_location else 0 for ix,col in enumerate(warehouse[idx])]"
   ]
  },
  {
   "cell_type": "code",
   "execution_count": 49,
   "metadata": {},
   "outputs": [],
   "source": [
    "def get4Ways(point):\n",
    "    return [(point[0],point[1]+1), (point[0]+1,point[1]),\n",
    "            (point[0],point[1]-1), (point[0]-1,point[1])]"
   ]
  },
  {
   "cell_type": "code",
   "execution_count": 50,
   "metadata": {},
   "outputs": [],
   "source": [
    "def set_charging_station(warehouse,CHARGING_STATION,ROW,COL):\n",
    "    for charging_spot in CHARGING_STATION:\n",
    "        warehouse[ROW-1-charging_spot[1]][charging_spot[0]]=2\n",
    "    return warehouse"
   ]
  },
  {
   "cell_type": "code",
   "execution_count": 51,
   "metadata": {},
   "outputs": [],
   "source": [
    "def create_Astar_graph(warehouse):\n",
    "    graph = np.ndarray((warehouse.shape), dtype=BasicNode)\n",
    "\n",
    "    index = 0\n",
    "    item_counter = 0\n",
    "    workers = []\n",
    "    items = []\n",
    "    for (i,j), value in np.ndenumerate(warehouse):\n",
    "            graph[i][j] = AStarNode(index, NodeType(value), (i,j))\n",
    "            if value == 2:\n",
    "                graph[i][j].booked = False\n",
    "                items.append(graph[i][j])\n",
    "            if value == 3:\n",
    "                workers.append(graph[i][j])\n",
    "            index += 1\n",
    "    return graph, items, workers"
   ]
  },
  {
   "cell_type": "markdown",
   "metadata": {},
   "source": [
    "# Make warehouse, Rack, Rack enterence, Station"
   ]
  },
  {
   "cell_type": "code",
   "execution_count": 52,
   "metadata": {},
   "outputs": [],
   "source": [
    "ROW, COL = 10,10\n",
    "# warehouse = make_warehouse(ROW,COL)\n",
    "INPUT_STATION = (3,0)\n",
    "OUTPUT_STATION = (6,0)\n",
    "CHARGING_STATION = [(2,9),(7,9)]   \n",
    "rack_location =  [(1, 1), (1, 2), (1, 3), (1, 4), (1, 5), (1, 6), (1, 7),\n",
    "                  (2, 1), (2, 2), (2, 3), (2, 4), (2, 5), (2, 6), (2, 7), \n",
    "                  (4, 1), (4, 2), (4, 3), (4, 4), (4, 5), (4, 6), (4, 7), \n",
    "                  (5, 1), (5, 2), (5, 3), (5, 4), (5, 5), (5, 6), (5, 7), \n",
    "                  (7, 1), (7, 2), (7, 3), (7, 4), (7, 5), (7, 6), (7, 7), \n",
    "                  (8, 1), (8, 2), (8, 3), (8, 4), (8, 5), (8, 6), (8, 7)]\n"
   ]
  },
  {
   "cell_type": "code",
   "execution_count": 53,
   "metadata": {},
   "outputs": [],
   "source": [
    "warehouse = np.array(\n",
    "[[0, 0, 0, 0, 0, 0, 0, 0, 0, 0],\n",
    " [0, 0, 0, 0, 0, 0, 0, 0, 0, 0],\n",
    " [0, 1, 1, 0, 1, 1, 0, 1, 1, 0],\n",
    " [0, 1, 1, 0, 1, 1, 0, 1, 1, 0],\n",
    " [0, 1, 1, 0, 1, 1, 0, 1, 1, 0],\n",
    " [0, 1, 1, 0, 1, 1, 0, 1, 1, 0],\n",
    " [0, 1, 1, 0, 1, 1, 0, 1, 1, 0],\n",
    " [0, 1, 1, 0, 1, 1, 0, 1, 1, 0],\n",
    " [0, 1, 1, 0, 1, 1, 0, 1, 1, 0],\n",
    " [0, 0, 0, 0, 0, 0, 0, 0, 0, 0]], dtype = np.int32)"
   ]
  },
  {
   "cell_type": "code",
   "execution_count": 54,
   "metadata": {},
   "outputs": [],
   "source": [
    "set_rack(warehouse,rack_location)\n",
    "# set_charging_station(warehouse,CHARGING_STATION,ROW,COL)"
   ]
  },
  {
   "cell_type": "code",
   "execution_count": 55,
   "metadata": {},
   "outputs": [],
   "source": [
    "Rack_enterence={}\n",
    "for point in rack_location:\n",
    "    four_ways = get4Ways(point)\n",
    "    neighbour_obstacle_list = [way for way in four_ways if way in rack_location]  ## 좌표정보 ex) (1,3), (2,2)....\n",
    "    neighbour_empty_list = [way for way in four_ways if way not in rack_location] \n",
    "    if len(neighbour_empty_list) == 1: ### 모서리 아님\n",
    "        Rack_enterence[point] = neighbour_empty_list[0]\n",
    "    elif len(neighbour_empty_list) == 2: ### 모서리임\n",
    "        obstacle_way_list = [four_ways.index(obst) for obst in neighbour_obstacle_list]  ## 방향정보 ex) 0,1, 2...\n",
    "        for idx, obst_point in enumerate(neighbour_obstacle_list):\n",
    "            obst_way = obstacle_way_list[idx]\n",
    "            obst_plus1_point = get4Ways(obst_point)[obst_way]\n",
    "            if obst_plus1_point in rack_location:\n",
    "                continue\n",
    "            else:\n",
    "                Rack_enterence[point] = four_ways[obst_way-2]\n",
    "    else:\n",
    "        print('ERROR finding obstacle/entrance for RACK {}'.format(point))"
   ]
  },
  {
   "cell_type": "markdown",
   "metadata": {},
   "source": [
    "### reset graph"
   ]
  },
  {
   "cell_type": "code",
   "execution_count": 56,
   "metadata": {},
   "outputs": [],
   "source": [
    "# def reset_graph(graph):\n",
    "#     for i in range(0, graph.shape[0]):\n",
    "#         for j in range(0, graph.shape[1]):\n",
    "#             graph[i][j].g = None\n",
    "#             graph[i][j].h = None\n",
    "#             graph[i][j].f = None\n",
    "#             graph[i][j].came_from = None\n",
    "#             graph[i][j].depth = 0"
   ]
  },
  {
   "cell_type": "markdown",
   "metadata": {},
   "source": [
    "# 실험"
   ]
  },
  {
   "cell_type": "markdown",
   "metadata": {},
   "source": [
    "### Simulation condition"
   ]
  },
  {
   "cell_type": "code",
   "execution_count": 57,
   "metadata": {},
   "outputs": [],
   "source": [
    "jobQ = JobQueue()\n",
    "jobQ_for_simulation = JobQueue()\n",
    "run_time = 2000\n",
    "total_job_location_list = []\n",
    "select_agv_list = []\n",
    "charging_agvs_list = []\n",
    "moving_for_charge_agvs_list = []\n",
    "battery_threshold = 100\n",
    "total_job_information = {}"
   ]
  },
  {
   "cell_type": "markdown",
   "metadata": {},
   "source": [
    "### Created Job 확인"
   ]
  },
  {
   "cell_type": "code",
   "execution_count": 58,
   "metadata": {},
   "outputs": [
    {
     "name": "stdout",
     "output_type": "stream",
     "text": [
      "{'0': ['in', [(4, 7)]], '13': ['in', [(5, 7)]], '24': ['in', [(4, 1)]], '34': ['in', [(1, 1)]], '41': ['in', [(7, 7)]], '47': ['in', [(1, 3)]], '60': ['in', [(5, 1)]], '72': ['out', [(4, 7)]], '87': ['in', [(4, 2)]], '97': ['in', [(1, 6)]], '106': ['in', [(4, 3)]], '115': ['in', [(7, 1)]], '126': ['in', [(5, 5)]], '137': ['in', [(8, 3)]], '150': ['in', [(2, 4)]], '165': ['in', [(5, 4)]], '170': ['in', [(7, 4)]], '180': ['out', [(4, 2)]], '187': ['in', [(7, 6)]], '195': ['in', [(4, 4)]], '203': ['out', [(7, 6)]], '211': ['in', [(7, 3)]], '220': ['in', [(8, 4)]], '233': ['out', [(7, 4)]], '242': ['in', [(1, 5)]], '255': ['out', [(2, 4)]], '265': ['in', [(7, 4)]], '269': ['in', [(7, 2)]], '277': ['out', [(5, 5)]], '285': ['in', [(2, 2)]], '293': ['in', [(5, 6)]], '307': ['out', [(7, 7)]], '321': ['out', [(8, 3)]], '332': ['in', [(5, 2)]], '343': ['in', [(7, 7)]], '351': ['out', [(5, 4)]], '359': ['out', [(7, 4)]], '369': ['in', [(2, 4)]], '379': ['in', [(8, 1)]], '387': ['out', [(7, 1)]], '395': ['in', [(1, 7)]], '399': ['out', [(5, 6)]], '410': ['out', [(1, 3)]], '418': ['out', [(1, 1)]], '426': ['in', [(7, 1)]], '438': ['out', [(7, 7)]], '441': ['out', [(1, 5)]], '446': ['in', [(1, 4)]], '460': ['out', [(5, 2)]], '467': ['out', [(1, 6)]], '477': ['in', [(2, 3)]], '483': ['out', [(1, 7)]], '494': ['out', [(8, 4)]], '501': ['out', [(7, 2)]], '508': ['in', [(7, 4)]], '523': ['out', [(2, 2)]], '534': ['in', [(7, 2)]], '545': ['out', [(5, 7)]], '556': ['in', [(7, 5)]], '562': ['out', [(7, 1)]], '574': ['out', [(5, 1)]], '583': ['out', [(4, 3)]], '593': ['out', [(7, 2)]], '598': ['in', [(5, 7)]], '609': ['in', [(5, 1)]], '616': ['in', [(8, 7)]], '624': ['in', [(7, 6)]], '636': ['out', [(7, 6)]], '645': ['out', [(2, 3)]], '656': ['in', [(4, 2)]], '667': ['in', [(4, 7)]], '679': ['in', [(8, 5)]], '689': ['in', [(1, 3)]], '699': ['in', [(2, 6)]], '705': ['out', [(8, 7)]], '715': ['in', [(8, 3)]], '720': ['in', [(8, 2)]], '725': ['in', [(8, 6)]], '729': ['out', [(7, 3)]], '740': ['in', [(1, 2)]], '751': ['in', [(2, 1)]], '759': ['in', [(4, 5)]], '768': ['out', [(5, 7)]], '777': ['out', [(4, 2)]], '787': ['out', [(4, 5)]], '806': ['in', [(1, 6)]], '820': ['out', [(1, 3)]], '827': ['in', [(8, 4)]], '837': ['out', [(8, 1)]], '850': ['in', [(1, 7)]], '858': ['in', [(4, 5)]], '867': ['out', [(2, 4)]], '881': ['in', [(7, 3)]], '892': ['in', [(2, 3)]], '901': ['in', [(5, 3)]], '911': ['out', [(8, 4)]], '919': ['in', [(5, 5)]], '932': ['out', [(2, 6)]], '939': ['in', [(5, 2)]], '950': ['in', [(2, 5)]]}\n",
      "100\n"
     ]
    }
   ],
   "source": [
    "for time in range(run_time+1):\n",
    "    if time in job_create_time:\n",
    "        job_create(rack_location,total_job_location_list,time,total_job_information)\n",
    "print(total_job_information)\n",
    "print(len(total_job_information))"
   ]
  },
  {
   "cell_type": "markdown",
   "metadata": {},
   "source": [
    "### Create AGV"
   ]
  },
  {
   "cell_type": "code",
   "execution_count": 59,
   "metadata": {},
   "outputs": [
    {
     "data": {
      "text/plain": [
       "[<__main__.AGV at 0x2b04bb2dc08>,\n",
       " <__main__.AGV at 0x2b04bb2d9c8>,\n",
       " <__main__.AGV at 0x2b04bb2df08>,\n",
       " <__main__.AGV at 0x2b04bafa7c8>]"
      ]
     },
     "execution_count": 59,
     "metadata": {},
     "output_type": "execute_result"
    }
   ],
   "source": [
    "agv1 = AGV(\"agv1\",(0,9),[])\n",
    "agv2 = AGV(\"agv2\",(3,9),[])\n",
    "agv3 = AGV(\"agv3\",(6,9),[])\n",
    "agv4 = AGV(\"agv4\",(9,9),[])\n",
    "AGV_LIST = [agv1,agv2,agv3,agv4]\n",
    "AGV_LIST"
   ]
  },
  {
   "cell_type": "code",
   "execution_count": 60,
   "metadata": {},
   "outputs": [
    {
     "data": {
      "text/plain": [
       "array([[0, 0, 0, 0, 0, 0, 0, 0, 0, 0],\n",
       "       [0, 0, 0, 0, 0, 0, 0, 0, 0, 0],\n",
       "       [0, 1, 1, 0, 1, 1, 0, 1, 1, 0],\n",
       "       [0, 1, 1, 0, 1, 1, 0, 1, 1, 0],\n",
       "       [0, 1, 1, 0, 1, 1, 0, 1, 1, 0],\n",
       "       [0, 1, 1, 0, 1, 1, 0, 1, 1, 0],\n",
       "       [0, 1, 1, 0, 1, 1, 0, 1, 1, 0],\n",
       "       [0, 1, 1, 0, 1, 1, 0, 1, 1, 0],\n",
       "       [0, 1, 1, 0, 1, 1, 0, 1, 1, 0],\n",
       "       [0, 0, 0, 0, 0, 0, 0, 0, 0, 0]])"
      ]
     },
     "execution_count": 60,
     "metadata": {},
     "output_type": "execute_result"
    }
   ],
   "source": [
    "warehouse"
   ]
  },
  {
   "cell_type": "markdown",
   "metadata": {},
   "source": [
    "### 실험"
   ]
  },
  {
   "cell_type": "code",
   "execution_count": 68,
   "metadata": {},
   "outputs": [],
   "source": [
    "reservation_table = dict()"
   ]
  },
  {
   "cell_type": "code",
   "execution_count": null,
   "metadata": {},
   "outputs": [],
   "source": []
  },
  {
   "cell_type": "code",
   "execution_count": null,
   "metadata": {},
   "outputs": [],
   "source": []
  },
  {
   "cell_type": "code",
   "execution_count": null,
   "metadata": {},
   "outputs": [],
   "source": []
  },
  {
   "cell_type": "code",
   "execution_count": null,
   "metadata": {},
   "outputs": [],
   "source": []
  },
  {
   "cell_type": "code",
   "execution_count": null,
   "metadata": {},
   "outputs": [],
   "source": []
  },
  {
   "cell_type": "code",
   "execution_count": null,
   "metadata": {},
   "outputs": [],
   "source": []
  },
  {
   "cell_type": "code",
   "execution_count": null,
   "metadata": {},
   "outputs": [],
   "source": []
  },
  {
   "cell_type": "code",
   "execution_count": null,
   "metadata": {},
   "outputs": [],
   "source": []
  },
  {
   "cell_type": "code",
   "execution_count": null,
   "metadata": {},
   "outputs": [],
   "source": []
  },
  {
   "cell_type": "code",
   "execution_count": null,
   "metadata": {},
   "outputs": [],
   "source": []
  },
  {
   "cell_type": "code",
   "execution_count": null,
   "metadata": {},
   "outputs": [],
   "source": []
  },
  {
   "cell_type": "code",
   "execution_count": null,
   "metadata": {},
   "outputs": [],
   "source": []
  },
  {
   "cell_type": "code",
   "execution_count": null,
   "metadata": {},
   "outputs": [],
   "source": []
  },
  {
   "cell_type": "code",
   "execution_count": null,
   "metadata": {},
   "outputs": [],
   "source": []
  },
  {
   "cell_type": "code",
   "execution_count": null,
   "metadata": {},
   "outputs": [],
   "source": []
  },
  {
   "cell_type": "code",
   "execution_count": 36,
   "metadata": {},
   "outputs": [],
   "source": [
    "number_of_tests =10"
   ]
  },
  {
   "cell_type": "code",
   "execution_count": 37,
   "metadata": {},
   "outputs": [],
   "source": [
    "def main():\n",
    "    global number_of_tests\n",
    "    cost_WHCA = []\n",
    "    input_size_items = []\n",
    "    input_size_orders = []\n",
    "    number_of_agents = 20\n",
    "    failed_count = 0\n",
    "    impossible_problems_WHCA = 0\n",
    "    for test_number in range(0,number_of_test):\n",
    "        print(\"starting test {}\".format(test_number))\n",
    "        order_input = simulate_8020_orders(random.randint(2,15))\n",
    "        current_item_size = get_item_size(order_input)\n",
    "        current_order_size = len(order_input)\n",
    "        graph_WHCA, pickup_nodes_WHCA, drop_off_nodes_WHCA = create_Astar_graph(warehouse)\n",
    "        workers_WHCA = create_workers(drop_off_nodes_WHCA)\n",
    "        orders_WHCA = create_orders(order_input, pickup_nodes_WHCA)\n",
    "        distribute_orders(workers_WHCA, orders_WHCA)\n",
    "        agents_WHCA = create_agents(drop_off_nodes_WHCA, number_of_agents)\n",
    "        assign_first_items(agents_WHCA, workers_WHCA)\n",
    "        one_algorithm_failed = False\n",
    "        current_WHCA_COST = WHCA(graph_WHCA, agents_WHCA, 20, 10, workers_WHCA)\n",
    "        if current_WHCA_COST == -1:\n",
    "            impossible_problems_WHCA += 1\n",
    "            one_algorithm_failed = True\n",
    "        cost_WHCA.append(current_WHCA_COST)\n",
    "        input_size_items.append(current_item_size)\n",
    "        input_size_orders.append(current_order_size)\n",
    "    number_of_tests = number_of_tests - failed_count\n",
    "    if number_of_tests <= 0:\n",
    "        print(\"No simulations were successful\")\n",
    "        return\n",
    "    avg_cost_WHCA = np.sum(cost_WHCA) / number_of_tests\n",
    "    print(\"The average cost for WHCA: %.3f\" % (avg_cost_WHCA))\n",
    "    print(\"impossible problems encountered: WHCA: %d\" % (impossible_problems_WHCA))\n",
    "        \n",
    "        \n",
    "            \n",
    "        \n"
   ]
  },
  {
   "cell_type": "code",
   "execution_count": null,
   "metadata": {},
   "outputs": [],
   "source": []
  },
  {
   "cell_type": "code",
   "execution_count": null,
   "metadata": {},
   "outputs": [],
   "source": []
  },
  {
   "cell_type": "markdown",
   "metadata": {},
   "source": [
    "### Main 함수 "
   ]
  },
  {
   "cell_type": "code",
   "execution_count": 38,
   "metadata": {},
   "outputs": [
    {
     "name": "stdout",
     "output_type": "stream",
     "text": [
      "@@@@@@@@@@@@@@@@@ 0\n"
     ]
    },
    {
     "ename": "NameError",
     "evalue": "name 'astar' is not defined",
     "output_type": "error",
     "traceback": [
      "\u001b[1;31m---------------------------------------------------------------------------\u001b[0m",
      "\u001b[1;31mNameError\u001b[0m                                 Traceback (most recent call last)",
      "\u001b[1;32m<ipython-input-38-e296911d0bd8>\u001b[0m in \u001b[0;36m<module>\u001b[1;34m\u001b[0m\n\u001b[0;32m     28\u001b[0m             \u001b[0magv_avail\u001b[0m \u001b[1;33m=\u001b[0m \u001b[0mgetAvailAGV\u001b[0m\u001b[1;33m(\u001b[0m\u001b[0mAGV_LIST\u001b[0m\u001b[1;33m,\u001b[0m \u001b[0mbattery_threshold\u001b[0m\u001b[1;33m)\u001b[0m\u001b[1;33m\u001b[0m\u001b[1;33m\u001b[0m\u001b[0m\n\u001b[0;32m     29\u001b[0m             \u001b[1;32mfor\u001b[0m \u001b[0magv\u001b[0m \u001b[1;32min\u001b[0m \u001b[0magv_avail\u001b[0m\u001b[1;33m:\u001b[0m\u001b[1;33m\u001b[0m\u001b[1;33m\u001b[0m\u001b[0m\n\u001b[1;32m---> 30\u001b[1;33m                 \u001b[0magv\u001b[0m\u001b[1;33m.\u001b[0m\u001b[0mcalculate_bid\u001b[0m\u001b[1;33m(\u001b[0m\u001b[0mjob\u001b[0m\u001b[1;33m,\u001b[0m\u001b[0mwarehouse\u001b[0m\u001b[1;33m,\u001b[0m\u001b[0mINPUT_STATION\u001b[0m\u001b[1;33m,\u001b[0m\u001b[0mOUTPUT_STATION\u001b[0m\u001b[1;33m)\u001b[0m\u001b[1;33m\u001b[0m\u001b[1;33m\u001b[0m\u001b[0m\n\u001b[0m\u001b[0;32m     31\u001b[0m                 \u001b[0magv\u001b[0m\u001b[1;33m.\u001b[0m\u001b[0mbid_list\u001b[0m\u001b[1;33m.\u001b[0m\u001b[0mappend\u001b[0m\u001b[1;33m(\u001b[0m\u001b[0magv\u001b[0m\u001b[1;33m.\u001b[0m\u001b[0mcalculate_bid\u001b[0m\u001b[1;33m(\u001b[0m\u001b[0mjob\u001b[0m\u001b[1;33m,\u001b[0m\u001b[0mwarehouse\u001b[0m\u001b[1;33m,\u001b[0m\u001b[0mINPUT_STATION\u001b[0m\u001b[1;33m,\u001b[0m\u001b[0mOUTPUT_STATION\u001b[0m\u001b[1;33m)\u001b[0m\u001b[1;33m)\u001b[0m\u001b[1;33m\u001b[0m\u001b[1;33m\u001b[0m\u001b[0m\n\u001b[0;32m     32\u001b[0m             \u001b[1;32mfor\u001b[0m \u001b[0magv_\u001b[0m \u001b[1;32min\u001b[0m \u001b[0magv_avail\u001b[0m\u001b[1;33m:\u001b[0m\u001b[1;33m\u001b[0m\u001b[1;33m\u001b[0m\u001b[0m\n",
      "\u001b[1;32m<ipython-input-9-25d77775618d>\u001b[0m in \u001b[0;36mcalculate_bid\u001b[1;34m(self, job, warehouse, INPUT_STATION, OUTPUT_STATION)\u001b[0m\n\u001b[0;32m     69\u001b[0m     \u001b[1;32mdef\u001b[0m \u001b[0mcalculate_bid\u001b[0m\u001b[1;33m(\u001b[0m\u001b[0mself\u001b[0m\u001b[1;33m,\u001b[0m\u001b[0mjob\u001b[0m\u001b[1;33m,\u001b[0m\u001b[0mwarehouse\u001b[0m\u001b[1;33m,\u001b[0m\u001b[0mINPUT_STATION\u001b[0m\u001b[1;33m,\u001b[0m\u001b[0mOUTPUT_STATION\u001b[0m\u001b[1;33m)\u001b[0m\u001b[1;33m:\u001b[0m\u001b[1;33m\u001b[0m\u001b[1;33m\u001b[0m\u001b[0m\n\u001b[0;32m     70\u001b[0m         \u001b[1;32mif\u001b[0m \u001b[0mjob\u001b[0m\u001b[1;33m[\u001b[0m\u001b[1;34m'inout'\u001b[0m\u001b[1;33m]\u001b[0m\u001b[1;33m==\u001b[0m\u001b[1;34m'in'\u001b[0m\u001b[1;33m:\u001b[0m\u001b[1;33m\u001b[0m\u001b[1;33m\u001b[0m\u001b[0m\n\u001b[1;32m---> 71\u001b[1;33m             \u001b[0mcost\u001b[0m \u001b[1;33m=\u001b[0m \u001b[0mlen\u001b[0m\u001b[1;33m(\u001b[0m\u001b[0mastar\u001b[0m\u001b[1;33m(\u001b[0m\u001b[0mwarehouse\u001b[0m\u001b[1;33m,\u001b[0m\u001b[0magv\u001b[0m\u001b[1;33m.\u001b[0m\u001b[0mcurrent_location\u001b[0m\u001b[1;33m,\u001b[0m\u001b[0mINPUT_STATION\u001b[0m\u001b[1;33m)\u001b[0m\u001b[1;33m+\u001b[0m\u001b[0mastar\u001b[0m\u001b[1;33m(\u001b[0m\u001b[0mwarehouse\u001b[0m\u001b[1;33m,\u001b[0m\u001b[0mINPUT_STATION\u001b[0m\u001b[1;33m,\u001b[0m\u001b[0mRack_enterence\u001b[0m\u001b[1;33m[\u001b[0m\u001b[0mjob\u001b[0m\u001b[1;33m[\u001b[0m\u001b[1;34m'station_dest'\u001b[0m\u001b[1;33m]\u001b[0m\u001b[1;33m]\u001b[0m\u001b[1;33m)\u001b[0m\u001b[1;33m)\u001b[0m\u001b[1;33m\u001b[0m\u001b[1;33m\u001b[0m\u001b[0m\n\u001b[0m\u001b[0;32m     72\u001b[0m         \u001b[1;32melse\u001b[0m\u001b[1;33m:\u001b[0m\u001b[1;33m\u001b[0m\u001b[1;33m\u001b[0m\u001b[0m\n\u001b[0;32m     73\u001b[0m             \u001b[0mcost\u001b[0m \u001b[1;33m=\u001b[0m \u001b[0mlen\u001b[0m\u001b[1;33m(\u001b[0m\u001b[0mastar\u001b[0m\u001b[1;33m(\u001b[0m\u001b[0mwarehouse\u001b[0m\u001b[1;33m,\u001b[0m\u001b[0magv\u001b[0m\u001b[1;33m.\u001b[0m\u001b[0mcurrent_location\u001b[0m\u001b[1;33m,\u001b[0m\u001b[0mRack_enterence\u001b[0m\u001b[1;33m[\u001b[0m\u001b[0mjob\u001b[0m\u001b[1;33m[\u001b[0m\u001b[1;34m'station_dest'\u001b[0m\u001b[1;33m]\u001b[0m\u001b[1;33m]\u001b[0m\u001b[1;33m)\u001b[0m\u001b[1;33m+\u001b[0m\u001b[0mastar\u001b[0m\u001b[1;33m(\u001b[0m\u001b[0mwarehouse\u001b[0m\u001b[1;33m,\u001b[0m\u001b[0mRack_enterence\u001b[0m\u001b[1;33m[\u001b[0m\u001b[0mjob\u001b[0m\u001b[1;33m[\u001b[0m\u001b[1;34m'station_dest'\u001b[0m\u001b[1;33m]\u001b[0m\u001b[1;33m]\u001b[0m\u001b[1;33m,\u001b[0m\u001b[0mOUTPUT_STATION\u001b[0m\u001b[1;33m)\u001b[0m\u001b[1;33m)\u001b[0m\u001b[1;33m\u001b[0m\u001b[1;33m\u001b[0m\u001b[0m\n",
      "\u001b[1;31mNameError\u001b[0m: name 'astar' is not defined"
     ]
    }
   ],
   "source": [
    "#7월 21 일 flowchart대로 수정\n",
    "if __name__ =='__main__':\n",
    "    for running_time in range(run_time+1):\n",
    "        now_charging_agv = getChargingAGV(AGV_LIST)\n",
    "        if len(now_charging_agv)!=0:\n",
    "            print('charging_agv',now_charging_agv)\n",
    "        if len(now_charging_agv)!=0:\n",
    "            for charging_agv in now_charging_agv:\n",
    "                charging_agv.charge_agv(charging_agvs_list)\n",
    "        if len(moving_for_charge_agvs_list)!=0:\n",
    "#             print('-',moving_for_charge_agvs_list)\n",
    "            for moving_agvs in moving_for_charge_agvs_list :\n",
    "                moving_agvs.move_one_tick_for_charge(charging_agvs_list,moving_for_charge_agvs_list)\n",
    "                print(\"running time : {}, moving agv for charging : {}, current location : {}, current battery : {}\".format(running_time, moving_agvs,moving_agvs.current_location,moving_agvs.battery))\n",
    "                if moving_agvs.charging == True:\n",
    "                    print('moving_for_charge_agvs_list:',moving_for_charge_agvs_list,'moving_agvs',moving_agvs,'moving_agvs battery:',moving_agvs.battery)\n",
    "#                     moving_for_charge_agvs_list.remove(moving_agvs)\n",
    "                    charging_agvs_list.append(moving_agvs)\n",
    "    #       #사용가능한 agv와 job이 있을때 \n",
    "        if running_time in job_create_time:\n",
    "            print(\"@@@@@@@@@@@@@@@@@\",running_time)\n",
    "            jobQ.insertJob(total_job_information.get('{}'.format(running_time))[0],total_job_information.get('{}'.format(running_time))[1][0])\n",
    "        agv_avail = getAvailAGV(AGV_LIST,battery_threshold)\n",
    "#         print('C running_time : {} , agv_avail : {}'.format(running_time,agv_avail))\n",
    "        while len(agv_avail)!=0 and jobQ.job_number!=0:\n",
    "            job = jobQ.getJob()\n",
    "#             print(job)\n",
    "            agv_avail = getAvailAGV(AGV_LIST, battery_threshold)\n",
    "            for agv in agv_avail:\n",
    "                agv.calculate_bid(job,warehouse,INPUT_STATION,OUTPUT_STATION)\n",
    "                agv.bid_list.append(agv.calculate_bid(job,warehouse,INPUT_STATION,OUTPUT_STATION))\n",
    "            for agv_ in agv_avail:\n",
    "                agv_bid_sort = sorted(agv_.bid_list,key = lambda x:x[1], reverse = False)\n",
    "#                 print(agv_bid_sort)\n",
    "            bid_compare_battery=[]\n",
    "            for i in range(len(agv_bid_sort)):\n",
    "                if agv_bid_sort[i][1]==agv_bid_sort[0][1]:\n",
    "                    bid_compare_battery.append((agv_bid_sort[i]))\n",
    "            bid_compare_battery_sort = sorted(bid_compare_battery, key= lambda x:x[0].battery, reverse =True)\n",
    "#             print('0',type(bid_compare_battery_sort[0][0]))\n",
    "            if job['inout']=='in':\n",
    "                astar_path = astar(warehouse,bid_compare_battery_sort[0][0].current_location,INPUT_STATION)+astar(warehouse,INPUT_STATION,Rack_enterence[job['station_dest']])\n",
    "            else:\n",
    "                astar_path = astar(warehouse,bid_compare_battery_sort[0][0].current_location,Rack_enterence[job['station_dest']])+astar(warehouse,Rack_enterence[job['station_dest']],OUTPUT_STATION)\n",
    "            target_agv = bid_compare_battery_sort[0][0]\n",
    "            select_agv_list.append(target_agv)\n",
    "            target_agv.get_job(job,astar_path)\n",
    "            print(\"D running_time : {}, target_agv : {}, target_agv.battery: {}, destination : {}, astar_path : {}, available:{}\".format(running_time,target_agv,target_agv.battery,job['station_dest'],astar_path,target_agv.available))\n",
    "            for agv in AGV_LIST:\n",
    "                agv.clear_bid_list(AGV_LIST)\n",
    "        for moving_agv in select_agv_list:\n",
    "            moving_agv.move_one_tick()\n",
    "            print(\"E time : {}, moving agv : {}, battery : {}, current location : {}\".format(running_time,moving_agv,moving_agv.battery,moving_agv.current_location))\n",
    "            if len(moving_agv.path)==0:\n",
    "                select_agv_list.remove(moving_agv)\n",
    "                moving_agv.available = True\n",
    "                if moving_agv.battery < battery_threshold:\n",
    "                    moving_for_charge_agvs_list.append(moving_agv)\n",
    "                    moving_agv.go_to_charge(moving_agv.select_charging_station(warehouse,CHARGING_STATION))"
   ]
  },
  {
   "cell_type": "code",
   "execution_count": null,
   "metadata": {},
   "outputs": [],
   "source": []
  }
 ],
 "metadata": {
  "kernelspec": {
   "display_name": "Python 3",
   "language": "python",
   "name": "python3"
  },
  "language_info": {
   "codemirror_mode": {
    "name": "ipython",
    "version": 3
   },
   "file_extension": ".py",
   "mimetype": "text/x-python",
   "name": "python",
   "nbconvert_exporter": "python",
   "pygments_lexer": "ipython3",
   "version": "3.7.6"
  }
 },
 "nbformat": 4,
 "nbformat_minor": 4
}
