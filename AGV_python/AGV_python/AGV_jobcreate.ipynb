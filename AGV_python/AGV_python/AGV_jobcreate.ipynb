{
 "cells": [
  {
   "cell_type": "code",
   "execution_count": 13,
   "metadata": {},
   "outputs": [],
   "source": [
    "import numpy as np\n",
    "import matplotlib.pyplot as plt\n",
    "import queue\n",
    "import random"
   ]
  },
  {
   "cell_type": "code",
   "execution_count": 14,
   "metadata": {},
   "outputs": [
    {
     "name": "stdout",
     "output_type": "stream",
     "text": [
      "[10  4  5  7  5  5  6  2  4  8  5  8  3 12  4  2  4  1  5  0  4  5  5  4\n",
      "  3  2  5  3  6  4  5  8  5  5  4  4  7  4  4  9  8  4  4  6  5  3  5  3\n",
      "  5  3  5  8  4  8  2  6  4  7  6  4  9  3  5  8  4  7  3  5  4  6  3  7\n",
      "  9  7  4  4  6  3  5  4  4  6  3  6  4  6  3  3  2  2  8  6  6  2  3  2\n",
      "  5  5  7]\n",
      "[0, 10, 14, 19, 26, 31, 36, 42, 44, 48, 56, 61, 69, 72, 84, 88, 90, 94, 95, 100, 100, 104, 109, 114, 118, 121, 123, 128, 131, 137, 141, 146, 154, 159, 164, 168, 172, 179, 183, 187, 196, 204, 208, 212, 218, 223, 226, 231, 234, 239, 242, 247, 255, 259, 267, 269, 275, 279, 286, 292, 296, 305, 308, 313, 321, 325, 332, 335, 340, 344, 350, 353, 360, 369, 376, 380, 384, 390, 393, 398, 402, 406, 412, 415, 421, 425, 431, 434, 437, 439, 441, 449, 455, 461, 463, 466, 468, 473, 478, 485]\n"
     ]
    }
   ],
   "source": [
    "job_time_interval = np.random.poisson(5,99)\n",
    "job_create_time = [sum(job_time_interval[:i]) for i in range(len(job_time_interval)+1)]\n",
    "print(job_time_interval)\n",
    "print(job_create_time)"
   ]
  },
  {
   "cell_type": "code",
   "execution_count": 86,
   "metadata": {},
   "outputs": [],
   "source": [
    "class JobQueue(object):\n",
    "    \n",
    "    def __init__(self):\n",
    "        self.job_q = queue.Queue()\n",
    "        \n",
    "    def insertJob(self, inout,  station_dest):\n",
    "        job = {\"inout\": inout, \"station_dest\": station_dest}\n",
    "        self.job_q.put(job)\n",
    "\n",
    "    def getJob(self):\n",
    "        if self.job_q.empty():\n",
    "            return None\n",
    "        return self.job_q.get()"
   ]
  },
  {
   "cell_type": "code",
   "execution_count": 87,
   "metadata": {},
   "outputs": [],
   "source": [
    "rack_location =  [(1, 1), (1, 2), (1, 3), (1, 4), (1, 5), (1, 6), (1, 7),\n",
    "                  (2, 1), (2, 2), (2, 3), (2, 4), (2, 5), (2, 6), (2, 7), \n",
    "                  (4, 1), (4, 2), (4, 3), (4, 4), (4, 5), (4, 6), (4, 7), \n",
    "                  (5, 1), (5, 2), (5, 3), (5, 4), (5, 5), (5, 6), (5, 7), \n",
    "                  (7, 1), (7, 2), (7, 3), (7, 4), (7, 5), (7, 6), (7, 7), \n",
    "                  (8, 1), (8, 2), (8, 3), (8, 4), (8, 5), (8, 6), (8, 7)]\n"
   ]
  },
  {
   "cell_type": "code",
   "execution_count": 88,
   "metadata": {},
   "outputs": [],
   "source": [
    "def job_create(rack_location,job_create_time,jobQ):\n",
    "    job_location = [random.choice(rack_location) for i in range(len(job_create_time))]\n",
    "    for idx, jobloc in enumerate(job_location):\n",
    "        if job_location[:idx].count(jobloc) %2 ==0:\n",
    "            jobQ.insertJob(\"in\",job_location[idx])\n",
    "        else:\n",
    "            jobQ.insertJob(\"out\",job_location[idx])\n",
    "    return jobQ\n",
    "\n",
    "    \n",
    "    "
   ]
  },
  {
   "cell_type": "code",
   "execution_count": 96,
   "metadata": {},
   "outputs": [],
   "source": [
    "jobQ = JobQueue()\n",
    "run_time = 500\n",
    "global_time_tick = 0\n",
    "for tick in range(run_time):\n",
    "    if tick in job_create_time:\n",
    "        job_create(rack_location,job_create_time,jobQ)\n",
    "    global_time_tick+=1\n",
    "\n",
    "    \n",
    "        \n",
    "    "
   ]
  },
  {
   "cell_type": "code",
   "execution_count": null,
   "metadata": {},
   "outputs": [],
   "source": []
  }
 ],
 "metadata": {
  "kernelspec": {
   "display_name": "Python 3",
   "language": "python",
   "name": "python3"
  },
  "language_info": {
   "codemirror_mode": {
    "name": "ipython",
    "version": 3
   },
   "file_extension": ".py",
   "mimetype": "text/x-python",
   "name": "python",
   "nbconvert_exporter": "python",
   "pygments_lexer": "ipython3",
   "version": "3.7.6"
  }
 },
 "nbformat": 4,
 "nbformat_minor": 4
}
