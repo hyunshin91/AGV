{
 "cells": [
  {
   "cell_type": "code",
   "execution_count": 1,
   "metadata": {},
   "outputs": [],
   "source": [
    "import numpy as np\n",
    "import matplotlib.pyplot as plt\n",
    "import queue\n",
    "import random"
   ]
  },
  {
   "cell_type": "markdown",
   "metadata": {},
   "source": [
    "# Create Job"
   ]
  },
  {
   "cell_type": "code",
   "execution_count": 38,
   "metadata": {},
   "outputs": [],
   "source": [
    "job_number  = 100"
   ]
  },
  {
   "cell_type": "code",
   "execution_count": 39,
   "metadata": {},
   "outputs": [
    {
     "name": "stdout",
     "output_type": "stream",
     "text": [
      "[ 3  4  4  5  2  4  5  3  8  6  5  5  5  2  4  5  3  2  6  6  6  4  6  1\n",
      "  9 10  2  8  9  4  4  6  4  5  3  5  7  4  5  5  4  7  6  5  3  7  6  9\n",
      "  6  5  7  5  3  5  2  7  6  6  4  6  6  7  3  1  6  4  4  2  2  7  6  4\n",
      "  9  4  6  6  8  3  5  5  6  6  8  4  4  5  4  5  4  2  3  7  4  6  3  2\n",
      "  3  8  6]\n",
      "[0, 3, 7, 11, 16, 18, 22, 27, 30, 38, 44, 49, 54, 59, 61, 65, 70, 73, 75, 81, 87, 93, 97, 103, 104, 113, 123, 125, 133, 142, 146, 150, 156, 160, 165, 168, 173, 180, 184, 189, 194, 198, 205, 211, 216, 219, 226, 232, 241, 247, 252, 259, 264, 267, 272, 274, 281, 287, 293, 297, 303, 309, 316, 319, 320, 326, 330, 334, 336, 338, 345, 351, 355, 364, 368, 374, 380, 388, 391, 396, 401, 407, 413, 421, 425, 429, 434, 438, 443, 447, 449, 452, 459, 463, 469, 472, 474, 477, 485, 491]\n",
      "100\n"
     ]
    }
   ],
   "source": [
    "job_time_interval = np.random.poisson(5,job_number-1)\n",
    "job_create_time = [sum(job_time_interval[:i]) for i in range(len(job_time_interval)+1)]\n",
    "print(job_time_interval)\n",
    "print(job_create_time)\n",
    "print(len(job_create_time))"
   ]
  },
  {
   "cell_type": "code",
   "execution_count": 40,
   "metadata": {},
   "outputs": [
    {
     "data": {
      "image/png": "[encoded data removed]",
      "text/plain": [
       "<Figure size 432x288 with 1 Axes>"
      ]
     },
     "metadata": {
      "needs_background": "light"
     },
     "output_type": "display_data"
    }
   ],
   "source": [
    "count, bins, ignored = plt.hist(job_time_interval, 100, density = True)\n",
    "plt.show()"
   ]
  },
  {
   "cell_type": "code",
   "execution_count": 41,
   "metadata": {},
   "outputs": [
    {
     "data": {
      "image/png": "[encoded data removed]",
      "text/plain": [
       "<Figure size 432x288 with 1 Axes>"
      ]
     },
     "metadata": {
      "needs_background": "light"
     },
     "output_type": "display_data"
    }
   ],
   "source": [
    "plt.plot(job_create_time)\n",
    "plt.show()"
   ]
  },
  {
   "cell_type": "markdown",
   "metadata": {},
   "source": [
    "# Job Queue"
   ]
  },
  {
   "cell_type": "code",
   "execution_count": 6,
   "metadata": {},
   "outputs": [],
   "source": [
    "class JobQueue(object):\n",
    "    \n",
    "    def __init__(self):\n",
    "        self.job_q = queue.Queue()\n",
    "        self.job_number = 0\n",
    "        \n",
    "    def insertJob(self, inout,  station_dest):\n",
    "        job = {\"inout\": inout, \"station_dest\": station_dest}\n",
    "        self.job_q.put(job)\n",
    "        self.job_number+=1\n",
    "\n",
    "    def getJob(self):\n",
    "        if self.job_q.empty():\n",
    "            return \n",
    "        self.job_number-=1\n",
    "        return self.job_q.get()"
   ]
  },
  {
   "cell_type": "code",
   "execution_count": 7,
   "metadata": {},
   "outputs": [],
   "source": [
    "def job_create(rack_location,total_job_location_list,time,total_job_information):\n",
    "    job_location = [random.choice(rack_location)]\n",
    "    if total_job_location_list.count(job_location)%2==0:\n",
    "        total_job_information['{}'.format(time)] = ['in',job_location]\n",
    "    else:\n",
    "        total_job_information['{}'.format(time)] = ['out',job_location]\n",
    "    total_job_location_list.append(job_location)\n",
    "    return total_job_information"
   ]
  },
  {
   "cell_type": "code",
   "execution_count": 8,
   "metadata": {},
   "outputs": [],
   "source": [
    "# def job_create(rack_location,job_create_time,jobQ,total_job_location_list):\n",
    "#     job_location = [random.choice(rack_location)]\n",
    "#     if total_job_location_list.count(job_location)%2==0:\n",
    "#         jobQ.insertJob(\"in\",job_location)\n",
    "#     else:\n",
    "#         jobQ.insertJob(\"out\",job_location)\n",
    "#     total_job_location_list.append(job_location)\n",
    "#     return jobQ"
   ]
  },
  {
   "cell_type": "code",
   "execution_count": 9,
   "metadata": {},
   "outputs": [],
   "source": [
    "# ###version2\n",
    "# ef job_create(rack_location,job_create_time,jobQ,total_job_location_list,time):\n",
    "#     job_location = [random.choice(rack_location)]\n",
    "#     total_job_information = {}\n",
    "#     if total_job_location_list.count(job_location)%2==0:\n",
    "#         jobQ.insertJob(\"in\",job_location)\n",
    "#         total_job_information['{}'.format(time)] = ['in',job_location]\n",
    "#     else:\n",
    "#         jobQ.insertJob(\"out\",job_location)\n",
    "#         total_job_information['{}'.format(time)] = ['out',job_location]\n",
    "#     total_job_location_list.append(job_location)\n",
    "#     return jobQ, total_job_information"
   ]
  },
  {
   "cell_type": "markdown",
   "metadata": {},
   "source": [
    "# Auction"
   ]
  },
  {
   "cell_type": "code",
   "execution_count": 10,
   "metadata": {},
   "outputs": [],
   "source": [
    "class Auction():\n",
    "    def __init__(self,job,available_agv):\n",
    "        self.job = job \n",
    "        self.available_agv = available_agv\n",
    "        \n",
    "    def choose_auctioneer(self,auction_agv_list):\n",
    "        if len(auction_agv_list) == 0:\n",
    "            self.auctioneer = random.choice(available_agv)\n",
    "        \n",
    "    def select_agv(self,bidding_list):\n",
    "        self.bidding_list = bidding_list\n",
    "        min_bid = min(biddling_list)\n",
    "        target_agv = available_agv.index(min_bid)\n",
    "        return target_agv\n",
    "    "
   ]
  },
  {
   "cell_type": "markdown",
   "metadata": {},
   "source": [
    "# AGV"
   ]
  },
  {
   "cell_type": "code",
   "execution_count": 11,
   "metadata": {},
   "outputs": [],
   "source": [
    "class AGV(object):\n",
    "    max_battery = 100\n",
    "    CHARGING_STATION = [(2,9),(6,9)]    \n",
    "    \n",
    "    def __init__(self,agv_id,current_location,current_tick=0):\n",
    "        self.agv_id = agv_id\n",
    "        self.battery = self.max_battery\n",
    "        self.current_location = current_location\n",
    "        self.job = None\n",
    "        self.destination = None\n",
    "        self.available = True\n",
    "        self.current_tick = current_tick\n",
    "        self.to_chaging_station = False\n",
    "        \n",
    "#     def __str__(self):\n",
    "#         return 'agv_id:{}  job:{}  available:{}'.format(self.agv_id, self.job, self.available)\n",
    "    \n",
    "    def __str__(self):\n",
    "        return 'agv_id:{}'.format(self.agv_id)\n",
    "    \n",
    "    def move_one_tick(self):\n",
    "        if len(self.path) !=0:\n",
    "            self.next_location = self.path[0]\n",
    "            self.current_location = self.next_location\n",
    "            del self.path[0]\n",
    "            if len(self.path) ==0:\n",
    "                self.available = True\n",
    "            self.battery -=1\n",
    "            self.current_tick +=1\n",
    "        else:\n",
    "            self.available = True\n",
    "    \n",
    "    def get_job(self,job,astar_path):\n",
    "        self.job = job\n",
    "        self.path = astar_path\n",
    "        self.available = False\n",
    "    \n",
    "    def calculate_cost(self,agv_id,job,warehouse,INPUT_STATION,OUTPUT_STATION):\n",
    "        if job['inout']=='in':\n",
    "            cost = len(astar(warehouse,agv.current_location,INPUT_STATION))\n",
    "        else:\n",
    "            cost = len(astar(warehouse,agv.current_location,Rack_enterence[job['station_dest']]))\n",
    "        return cost        \n",
    "    \n",
    "        \n",
    "    def agv_to_charging_station(self,battery_threshold):\n",
    "        if self.available == True and self.battery <= battery_threshold:\n",
    "            self.to_chaging_station = True"
   ]
  },
  {
   "cell_type": "code",
   "execution_count": 12,
   "metadata": {},
   "outputs": [],
   "source": [
    "def getAvailAGV(AGV_LIST,battery_threshold):\n",
    "    return [agv for agv in AGV_LIST if agv.available == True and agv.battery > battery_threshold]"
   ]
  },
  {
   "cell_type": "code",
   "execution_count": 13,
   "metadata": {},
   "outputs": [],
   "source": [
    "def get_need_charge_agv(AGV_LIST,battery_threshold):\n",
    "    return [agv for agv in AGV_LIST if agv.to_chaging_station == False and agv.battery <= battery_threshold]"
   ]
  },
  {
   "cell_type": "code",
   "execution_count": 14,
   "metadata": {},
   "outputs": [],
   "source": [
    "# def agv_to_charging(self,battery_threshold):\n",
    "#     if self.available = True and self.battery<=battery_threshold:"
   ]
  },
  {
   "cell_type": "markdown",
   "metadata": {},
   "source": [
    "# Astar"
   ]
  },
  {
   "cell_type": "code",
   "execution_count": 15,
   "metadata": {},
   "outputs": [],
   "source": [
    "class node:\n",
    "    def __init__(self,parent=None, position = None):\n",
    "        self.parent = parent\n",
    "        self.position = position\n",
    "        self.g = 0\n",
    "        self.h = 0\n",
    "        self.f = 0\n",
    "    def __eq__(self,other):\n",
    "        return self.position == other.position"
   ]
  },
  {
   "cell_type": "code",
   "execution_count": 16,
   "metadata": {},
   "outputs": [],
   "source": [
    "def manhattan_distance(start_node,goal_node):\n",
    "    dx = abs(start_node[0]-goal_node[0])\n",
    "    dy = abs(start_node[1]-goal_node[1])\n",
    "    return dx + dy"
   ]
  },
  {
   "cell_type": "code",
   "execution_count": 17,
   "metadata": {},
   "outputs": [],
   "source": [
    "def astar(graph,start,goal):\n",
    "    start_node = node(None,(start[1],start[0]))\n",
    "    goal_node = node(None,(goal[1],goal[0]))\n",
    "    open_list = []\n",
    "    closed_list = []\n",
    "    graph = [el for el in graph][::-1]\n",
    "#     for i in graph:\n",
    "#         print(i)\n",
    "    \n",
    "    open_list.append(start_node)\n",
    "    while open_list:\n",
    "        current_node = open_list[0]\n",
    "        current_index = 0\n",
    "        \n",
    "        for index, item in enumerate(open_list):\n",
    "            if item.f < current_node.f:\n",
    "                current_node = item\n",
    "                current_index = index\n",
    "        open_list.pop(current_index)\n",
    "        closed_list.append(current_node)\n",
    "        \n",
    "        if current_node == goal_node:\n",
    "            path = []\n",
    "            current = current_node\n",
    "            while current is not None:\n",
    "                x,y = current.position\n",
    "                graph[x][y] = 9\n",
    "                path.append((current.position[1],current.position[0]))\n",
    "                current = current.parent\n",
    "                \n",
    "            return path[::-1]\n",
    "        \n",
    "        children = []\n",
    "        for new_position in [(0,1),(1,0),(-1,0),(0,-1)]:\n",
    "            node_position = (current_node.position[0]+new_position[0],\n",
    "                             current_node.position[1]+new_position[1])\n",
    "            within_range = [\n",
    "                node_position[1]>len(graph)-1,\n",
    "                node_position[1]<0,\n",
    "                node_position[0]>len(graph[len(graph)-1])-1,\n",
    "                node_position[0]<0]\n",
    "            if any(within_range):\n",
    "                continue\n",
    "            if graph[node_position[0]][node_position[1]] !=0:\n",
    "                continue\n",
    "            \n",
    "            new_node = node(current_node, node_position)\n",
    "            children.append(new_node)\n",
    "        \n",
    "        for child in children:\n",
    "            if child in closed_list:\n",
    "                continue\n",
    "            child.g = current_node.g+1\n",
    "            child.h = manhattan_distance(child.position,goal_node.position)\n",
    "            child.f = child.g + child.h\n",
    "            \n",
    "            if len([open_node for open_node in open_list\n",
    "                   if child == open_node and child.g>open_node.g]) > 0:\n",
    "                continue\n",
    "            open_list.append(child)\n",
    "            "
   ]
  },
  {
   "cell_type": "markdown",
   "metadata": {},
   "source": [
    "# Charging station"
   ]
  },
  {
   "cell_type": "code",
   "execution_count": 18,
   "metadata": {},
   "outputs": [],
   "source": [
    "# class Charging_station(object):\n",
    "#     CHARGING_STATION = [(2,9),(6,9)]\n",
    "    \n",
    "#     def __init__(self,agv_id,current_location,current_tick=0):\n",
    "#         self.CHARGING_STATION_availbale = True\n",
    "#         self.battery = self.max_battery\n",
    "#         self.current_location = current_location\n",
    "#         self.job = None\n",
    "#         self.destination = None\n",
    "#         self.available = True\n",
    "#         self.current_tick = current_tick\n",
    "        \n",
    "#     def charging_station_notavailble():\n",
    "        "
   ]
  },
  {
   "cell_type": "markdown",
   "metadata": {},
   "source": [
    "# Warehouse, Rack, Charging_station"
   ]
  },
  {
   "cell_type": "code",
   "execution_count": 19,
   "metadata": {},
   "outputs": [],
   "source": [
    "def make_warehouse(row,col):\n",
    "    warehouse = [[0]*col for i in range(row)]\n",
    "    return warehouse "
   ]
  },
  {
   "cell_type": "code",
   "execution_count": 20,
   "metadata": {},
   "outputs": [],
   "source": [
    "def set_rack(warehouse,rack_location):\n",
    "    for idx, row in enumerate(warehouse):\n",
    "        warehouse[idx] =  [1 if (ix, ROW -1 - idx) in rack_location else 0 for ix,col in enumerate(warehouse[idx])]"
   ]
  },
  {
   "cell_type": "code",
   "execution_count": 21,
   "metadata": {},
   "outputs": [],
   "source": [
    "def get4Ways(point):\n",
    "    return [(point[0],point[1]+1), (point[0]+1,point[1]),\n",
    "            (point[0],point[1]-1), (point[0]-1,point[1])]"
   ]
  },
  {
   "cell_type": "code",
   "execution_count": 22,
   "metadata": {},
   "outputs": [],
   "source": [
    "def set_charging_station(warehouse,CHARGING_STATION,ROW,COL):\n",
    "    for charging_spot in CHARGING_STATION:\n",
    "        warehouse[ROW-1-charging_spot[1]][charging_spot[0]]=2\n",
    "    return warehouse"
   ]
  },
  {
   "cell_type": "markdown",
   "metadata": {},
   "source": [
    "## Make Warehouse, Rack, Rack enterence, Station"
   ]
  },
  {
   "cell_type": "code",
   "execution_count": 33,
   "metadata": {},
   "outputs": [],
   "source": [
    "ROW, COL = 10,10\n",
    "warehouse = make_warehouse(ROW,COL)\n",
    "INPUT_STATION = (3,0)\n",
    "OUTPUT_STATION = (6,0)\n",
    "CHARGING_STATION = [(2,9),(7,9)]   \n",
    "rack_location =  [(1, 1), (1, 2), (1, 3), (1, 4), (1, 5), (1, 6), (1, 7),\n",
    "                  (2, 1), (2, 2), (2, 3), (2, 4), (2, 5), (2, 6), (2, 7), \n",
    "                  (4, 1), (4, 2), (4, 3), (4, 4), (4, 5), (4, 6), (4, 7), \n",
    "                  (5, 1), (5, 2), (5, 3), (5, 4), (5, 5), (5, 6), (5, 7), \n",
    "                  (7, 1), (7, 2), (7, 3), (7, 4), (7, 5), (7, 6), (7, 7), \n",
    "                  (8, 1), (8, 2), (8, 3), (8, 4), (8, 5), (8, 6), (8, 7)]\n"
   ]
  },
  {
   "cell_type": "code",
   "execution_count": 34,
   "metadata": {},
   "outputs": [
    {
     "data": {
      "text/plain": [
       "[[0, 0, 2, 0, 0, 0, 0, 2, 0, 0],\n",
       " [0, 0, 0, 0, 0, 0, 0, 0, 0, 0],\n",
       " [0, 1, 1, 0, 1, 1, 0, 1, 1, 0],\n",
       " [0, 1, 1, 0, 1, 1, 0, 1, 1, 0],\n",
       " [0, 1, 1, 0, 1, 1, 0, 1, 1, 0],\n",
       " [0, 1, 1, 0, 1, 1, 0, 1, 1, 0],\n",
       " [0, 1, 1, 0, 1, 1, 0, 1, 1, 0],\n",
       " [0, 1, 1, 0, 1, 1, 0, 1, 1, 0],\n",
       " [0, 1, 1, 0, 1, 1, 0, 1, 1, 0],\n",
       " [0, 0, 0, 0, 0, 0, 0, 0, 0, 0]]"
      ]
     },
     "execution_count": 34,
     "metadata": {},
     "output_type": "execute_result"
    }
   ],
   "source": [
    "set_rack(warehouse,rack_location)\n",
    "set_charging_station(warehouse,CHARGING_STATION,ROW,COL)"
   ]
  },
  {
   "cell_type": "code",
   "execution_count": 35,
   "metadata": {},
   "outputs": [
    {
     "data": {
      "text/plain": [
       "[[0, 0, 2, 0, 0, 0, 0, 2, 0, 0],\n",
       " [0, 0, 0, 0, 0, 0, 0, 0, 0, 0],\n",
       " [0, 1, 1, 0, 1, 1, 0, 1, 1, 0],\n",
       " [0, 1, 1, 0, 1, 1, 0, 1, 1, 0],\n",
       " [0, 1, 1, 0, 1, 1, 0, 1, 1, 0],\n",
       " [0, 1, 1, 0, 1, 1, 0, 1, 1, 0],\n",
       " [0, 1, 1, 0, 1, 1, 0, 1, 1, 0],\n",
       " [0, 1, 1, 0, 1, 1, 0, 1, 1, 0],\n",
       " [0, 1, 1, 0, 1, 1, 0, 1, 1, 0],\n",
       " [0, 0, 0, 0, 0, 0, 0, 0, 0, 0]]"
      ]
     },
     "execution_count": 35,
     "metadata": {},
     "output_type": "execute_result"
    }
   ],
   "source": [
    "warehouse"
   ]
  },
  {
   "cell_type": "code",
   "execution_count": 36,
   "metadata": {},
   "outputs": [
    {
     "name": "stdout",
     "output_type": "stream",
     "text": [
      "[(0, 9), (1, 9), (1, 8), (2, 8), (3, 8), (4, 8), (5, 8), (6, 8), (6, 7), (6, 6), (6, 5), (6, 4), (6, 3), (6, 2), (6, 1), (6, 0)]\n"
     ]
    }
   ],
   "source": [
    "print(astar(warehouse,agv1.current_location,OUTPUT_STATION))"
   ]
  },
  {
   "cell_type": "code",
   "execution_count": 37,
   "metadata": {},
   "outputs": [
    {
     "data": {
      "text/plain": [
       "[[9, 9, 2, 0, 0, 0, 0, 2, 0, 0],\n",
       " [0, 9, 9, 9, 9, 9, 9, 0, 0, 0],\n",
       " [0, 1, 1, 0, 1, 1, 9, 1, 1, 0],\n",
       " [0, 1, 1, 0, 1, 1, 9, 1, 1, 0],\n",
       " [0, 1, 1, 0, 1, 1, 9, 1, 1, 0],\n",
       " [0, 1, 1, 0, 1, 1, 9, 1, 1, 0],\n",
       " [0, 1, 1, 0, 1, 1, 9, 1, 1, 0],\n",
       " [0, 1, 1, 0, 1, 1, 9, 1, 1, 0],\n",
       " [0, 1, 1, 0, 1, 1, 9, 1, 1, 0],\n",
       " [0, 0, 0, 0, 0, 0, 9, 0, 0, 0]]"
      ]
     },
     "execution_count": 37,
     "metadata": {},
     "output_type": "execute_result"
    }
   ],
   "source": [
    "warehouse"
   ]
  },
  {
   "cell_type": "code",
   "execution_count": 25,
   "metadata": {},
   "outputs": [],
   "source": [
    "Rack_enterence={}\n",
    "for point in rack_location:\n",
    "    four_ways = get4Ways(point)\n",
    "    neighbour_obstacle_list = [way for way in four_ways if way in rack_location]  ## 좌표정보 ex) (1,3), (2,2)....\n",
    "    neighbour_empty_list = [way for way in four_ways if way not in rack_location] \n",
    "    if len(neighbour_empty_list) == 1: ### 모서리 아님\n",
    "        Rack_enterence[point] = neighbour_empty_list[0]\n",
    "    elif len(neighbour_empty_list) == 2: ### 모서리임\n",
    "        obstacle_way_list = [four_ways.index(obst) for obst in neighbour_obstacle_list]  ## 방향정보 ex) 0,1, 2...\n",
    "        for idx, obst_point in enumerate(neighbour_obstacle_list):\n",
    "            obst_way = obstacle_way_list[idx]\n",
    "            obst_plus1_point = get4Ways(obst_point)[obst_way]\n",
    "            if obst_plus1_point in rack_location:\n",
    "                continue\n",
    "            else:\n",
    "                Rack_enterence[point] = four_ways[obst_way-2]\n",
    "    else:\n",
    "        print('ERROR finding obstacle/entrance for RACK {}'.format(point))"
   ]
  },
  {
   "cell_type": "markdown",
   "metadata": {},
   "source": [
    "# 실험"
   ]
  },
  {
   "cell_type": "markdown",
   "metadata": {},
   "source": [
    "#### Main 함수"
   ]
  },
  {
   "cell_type": "code",
   "execution_count": 26,
   "metadata": {},
   "outputs": [
    {
     "name": "stdout",
     "output_type": "stream",
     "text": [
      "[0, 6, 16, 20, 22, 29, 36, 40, 45, 49, 50, 54, 60, 67, 72, 73, 78, 81, 83, 85, 88, 93, 98, 102, 110, 116, 121, 124, 130, 132, 132, 135, 140, 141, 145, 146, 150, 157, 158, 164, 169, 171, 174, 177, 181, 187, 191, 194, 197, 205, 213, 221, 226, 230, 240, 243, 248, 256, 262, 267, 270, 276, 277, 283, 289, 296, 299, 302, 306, 309, 315, 317, 323, 330, 336, 342, 346, 349, 351, 356, 362, 367, 372, 378, 384, 392, 396, 401, 409, 413, 415, 420, 425, 430, 433, 435, 440, 446, 452, 457]\n"
     ]
    }
   ],
   "source": [
    "print(job_create_time)"
   ]
  },
  {
   "cell_type": "markdown",
   "metadata": {},
   "source": [
    "### Create agv"
   ]
  },
  {
   "cell_type": "code",
   "execution_count": 27,
   "metadata": {},
   "outputs": [
    {
     "data": {
      "text/plain": [
       "[<__main__.AGV at 0x1b26d004a88>,\n",
       " <__main__.AGV at 0x1b26d004ec8>,\n",
       " <__main__.AGV at 0x1b26d004508>,\n",
       " <__main__.AGV at 0x1b26d004e48>]"
      ]
     },
     "execution_count": 27,
     "metadata": {},
     "output_type": "execute_result"
    }
   ],
   "source": [
    "agv1 = AGV(\"agv1\",(0,9))\n",
    "agv2 = AGV(\"agv2\",(3,9))\n",
    "agv3 = AGV(\"agv3\",(6,9))\n",
    "agv4 = AGV(\"agv4\",(9,9))\n",
    "AGV_LIST = [agv1,agv2,agv3,agv4]\n",
    "AGV_LIST"
   ]
  },
  {
   "cell_type": "code",
   "execution_count": null,
   "metadata": {},
   "outputs": [],
   "source": []
  },
  {
   "cell_type": "code",
   "execution_count": null,
   "metadata": {},
   "outputs": [],
   "source": []
  },
  {
   "cell_type": "code",
   "execution_count": null,
   "metadata": {},
   "outputs": [],
   "source": []
  },
  {
   "cell_type": "code",
   "execution_count": null,
   "metadata": {},
   "outputs": [],
   "source": []
  },
  {
   "cell_type": "code",
   "execution_count": null,
   "metadata": {},
   "outputs": [],
   "source": []
  },
  {
   "cell_type": "code",
   "execution_count": null,
   "metadata": {},
   "outputs": [],
   "source": []
  },
  {
   "cell_type": "markdown",
   "metadata": {},
   "source": [
    "### Simulation condition"
   ]
  },
  {
   "cell_type": "code",
   "execution_count": 28,
   "metadata": {},
   "outputs": [],
   "source": [
    "jobQ = JobQueue()\n",
    "jobQ_for_simulation = JobQueue()\n",
    "run_time = 500\n",
    "total_job_location_list = []\n",
    "select_agv = []\n",
    "battery_threshold = 20\n",
    "total_job_information = {}"
   ]
  },
  {
   "cell_type": "markdown",
   "metadata": {},
   "source": [
    "### Job_create"
   ]
  },
  {
   "cell_type": "code",
   "execution_count": 29,
   "metadata": {},
   "outputs": [
    {
     "name": "stdout",
     "output_type": "stream",
     "text": [
      "{'0': ['in', [(7, 3)]], '6': ['in', [(4, 3)]], '16': ['in', [(2, 6)]], '20': ['in', [(1, 6)]], '22': ['in', [(5, 6)]], '29': ['in', [(1, 2)]], '36': ['in', [(2, 4)]], '40': ['out', [(7, 3)]], '45': ['out', [(1, 6)]], '49': ['in', [(1, 4)]], '50': ['in', [(7, 5)]], '54': ['in', [(5, 3)]], '60': ['out', [(2, 4)]], '67': ['out', [(2, 6)]], '72': ['in', [(1, 1)]], '73': ['in', [(5, 1)]], '78': ['in', [(7, 3)]], '81': ['in', [(4, 5)]], '83': ['in', [(2, 6)]], '85': ['in', [(2, 3)]], '88': ['in', [(1, 3)]], '93': ['in', [(4, 1)]], '98': ['out', [(1, 1)]], '102': ['out', [(1, 4)]], '110': ['out', [(2, 6)]], '116': ['in', [(2, 5)]], '121': ['in', [(8, 4)]], '124': ['out', [(5, 3)]], '130': ['in', [(1, 4)]], '132': ['in', [(4, 6)]], '135': ['out', [(4, 1)]], '140': ['in', [(1, 1)]], '141': ['in', [(7, 7)]], '145': ['out', [(2, 3)]], '146': ['out', [(5, 6)]], '150': ['in', [(4, 4)]], '157': ['out', [(1, 1)]], '158': ['out', [(1, 2)]], '164': ['in', [(5, 3)]], '169': ['out', [(7, 5)]], '171': ['in', [(5, 6)]], '174': ['out', [(1, 4)]], '177': ['in', [(8, 3)]], '181': ['in', [(7, 1)]], '187': ['in', [(8, 5)]], '191': ['out', [(4, 4)]], '194': ['in', [(7, 2)]], '197': ['in', [(8, 1)]], '205': ['out', [(4, 6)]], '213': ['out', [(4, 5)]], '221': ['in', [(8, 7)]], '226': ['out', [(8, 1)]], '230': ['out', [(5, 6)]], '240': ['in', [(2, 4)]], '243': ['in', [(1, 1)]], '248': ['in', [(5, 2)]], '256': ['in', [(8, 6)]], '262': ['in', [(4, 4)]], '267': ['out', [(8, 4)]], '270': ['out', [(1, 3)]], '276': ['in', [(2, 2)]], '277': ['in', [(5, 6)]], '283': ['in', [(8, 4)]], '289': ['in', [(1, 5)]], '296': ['out', [(1, 1)]], '299': ['out', [(7, 2)]], '302': ['in', [(5, 7)]], '306': ['in', [(1, 4)]], '309': ['out', [(2, 5)]], '315': ['out', [(5, 3)]], '317': ['in', [(4, 7)]], '323': ['in', [(8, 2)]], '330': ['out', [(4, 3)]], '336': ['in', [(1, 6)]], '342': ['out', [(8, 4)]], '346': ['in', [(7, 4)]], '349': ['out', [(7, 7)]], '351': ['out', [(1, 4)]], '356': ['in', [(7, 5)]], '362': ['in', [(8, 1)]], '367': ['out', [(2, 2)]], '372': ['out', [(8, 5)]], '378': ['out', [(8, 7)]], '384': ['out', [(7, 1)]], '392': ['in', [(4, 2)]], '396': ['in', [(2, 2)]], '401': ['in', [(7, 1)]], '409': ['in', [(8, 5)]], '413': ['in', [(2, 1)]], '415': ['out', [(5, 1)]], '420': ['out', [(7, 4)]], '425': ['in', [(5, 4)]], '430': ['in', [(8, 7)]], '433': ['out', [(1, 6)]], '435': ['out', [(2, 1)]], '440': ['out', [(8, 2)]], '446': ['in', [(2, 5)]], '452': ['out', [(8, 6)]], '457': ['in', [(1, 4)]]}\n"
     ]
    }
   ],
   "source": [
    "for time in range(run_time+1):\n",
    "    if time in job_create_time:\n",
    "        job_create(rack_location,total_job_location_list,time,total_job_information)\n",
    "print(total_job_information)"
   ]
  },
  {
   "cell_type": "code",
   "execution_count": 30,
   "metadata": {},
   "outputs": [
    {
     "name": "stdout",
     "output_type": "stream",
     "text": [
      "[<__main__.AGV object at 0x000001B26D004A88>, <__main__.AGV object at 0x000001B26D004EC8>, <__main__.AGV object at 0x000001B26D004508>, <__main__.AGV object at 0x000001B26D004E48>]\n"
     ]
    },
    {
     "ename": "TypeError",
     "evalue": "object of type 'NoneType' has no len()",
     "output_type": "error",
     "traceback": [
      "\u001b[1;31m---------------------------------------------------------------------------\u001b[0m",
      "\u001b[1;31mTypeError\u001b[0m                                 Traceback (most recent call last)",
      "\u001b[1;32m<ipython-input-30-2ca64d8f7df0>\u001b[0m in \u001b[0;36m<module>\u001b[1;34m\u001b[0m\n\u001b[0;32m     13\u001b[0m             \u001b[0mbid_list\u001b[0m \u001b[1;33m=\u001b[0m \u001b[1;33m[\u001b[0m\u001b[1;33m]\u001b[0m\u001b[1;33m\u001b[0m\u001b[1;33m\u001b[0m\u001b[0m\n\u001b[0;32m     14\u001b[0m             \u001b[1;32mfor\u001b[0m \u001b[0magv\u001b[0m \u001b[1;32min\u001b[0m \u001b[0magv_avail\u001b[0m\u001b[1;33m:\u001b[0m\u001b[1;33m\u001b[0m\u001b[1;33m\u001b[0m\u001b[0m\n\u001b[1;32m---> 15\u001b[1;33m                 \u001b[0mbid_list\u001b[0m\u001b[1;33m.\u001b[0m\u001b[0mappend\u001b[0m\u001b[1;33m(\u001b[0m\u001b[0magv\u001b[0m\u001b[1;33m.\u001b[0m\u001b[0mcalculate_cost\u001b[0m\u001b[1;33m(\u001b[0m\u001b[0magv\u001b[0m\u001b[1;33m,\u001b[0m\u001b[0mjob\u001b[0m\u001b[1;33m,\u001b[0m\u001b[0mwarehouse\u001b[0m\u001b[1;33m,\u001b[0m\u001b[0mINPUT_STATION\u001b[0m\u001b[1;33m,\u001b[0m\u001b[0mOUTPUT_STATION\u001b[0m\u001b[1;33m)\u001b[0m\u001b[1;33m)\u001b[0m\u001b[1;33m\u001b[0m\u001b[1;33m\u001b[0m\u001b[0m\n\u001b[0m\u001b[0;32m     16\u001b[0m             \u001b[0mmin_bid\u001b[0m \u001b[1;33m=\u001b[0m \u001b[0mmin\u001b[0m\u001b[1;33m(\u001b[0m\u001b[0mbid_list\u001b[0m\u001b[1;33m)\u001b[0m\u001b[1;33m\u001b[0m\u001b[1;33m\u001b[0m\u001b[0m\n\u001b[0;32m     17\u001b[0m             \u001b[0mtarget_agv\u001b[0m \u001b[1;33m=\u001b[0m \u001b[0magv_avail\u001b[0m\u001b[1;33m[\u001b[0m\u001b[0mbid_list\u001b[0m\u001b[1;33m.\u001b[0m\u001b[0mindex\u001b[0m\u001b[1;33m(\u001b[0m\u001b[0mmin_bid\u001b[0m\u001b[1;33m)\u001b[0m\u001b[1;33m]\u001b[0m\u001b[1;33m\u001b[0m\u001b[1;33m\u001b[0m\u001b[0m\n",
      "\u001b[1;32m<ipython-input-11-887a19c59059>\u001b[0m in \u001b[0;36mcalculate_cost\u001b[1;34m(self, agv_id, job, warehouse, INPUT_STATION, OUTPUT_STATION)\u001b[0m\n\u001b[0;32m     38\u001b[0m     \u001b[1;32mdef\u001b[0m \u001b[0mcalculate_cost\u001b[0m\u001b[1;33m(\u001b[0m\u001b[0mself\u001b[0m\u001b[1;33m,\u001b[0m\u001b[0magv_id\u001b[0m\u001b[1;33m,\u001b[0m\u001b[0mjob\u001b[0m\u001b[1;33m,\u001b[0m\u001b[0mwarehouse\u001b[0m\u001b[1;33m,\u001b[0m\u001b[0mINPUT_STATION\u001b[0m\u001b[1;33m,\u001b[0m\u001b[0mOUTPUT_STATION\u001b[0m\u001b[1;33m)\u001b[0m\u001b[1;33m:\u001b[0m\u001b[1;33m\u001b[0m\u001b[1;33m\u001b[0m\u001b[0m\n\u001b[0;32m     39\u001b[0m         \u001b[1;32mif\u001b[0m \u001b[0mjob\u001b[0m\u001b[1;33m[\u001b[0m\u001b[1;34m'inout'\u001b[0m\u001b[1;33m]\u001b[0m\u001b[1;33m==\u001b[0m\u001b[1;34m'in'\u001b[0m\u001b[1;33m:\u001b[0m\u001b[1;33m\u001b[0m\u001b[1;33m\u001b[0m\u001b[0m\n\u001b[1;32m---> 40\u001b[1;33m             \u001b[0mcost\u001b[0m \u001b[1;33m=\u001b[0m \u001b[0mlen\u001b[0m\u001b[1;33m(\u001b[0m\u001b[0mastar\u001b[0m\u001b[1;33m(\u001b[0m\u001b[0mwarehouse\u001b[0m\u001b[1;33m,\u001b[0m\u001b[0magv\u001b[0m\u001b[1;33m.\u001b[0m\u001b[0mcurrent_location\u001b[0m\u001b[1;33m,\u001b[0m\u001b[0mINPUT_STATION\u001b[0m\u001b[1;33m)\u001b[0m\u001b[1;33m)\u001b[0m\u001b[1;33m\u001b[0m\u001b[1;33m\u001b[0m\u001b[0m\n\u001b[0m\u001b[0;32m     41\u001b[0m         \u001b[1;32melse\u001b[0m\u001b[1;33m:\u001b[0m\u001b[1;33m\u001b[0m\u001b[1;33m\u001b[0m\u001b[0m\n\u001b[0;32m     42\u001b[0m             \u001b[0mcost\u001b[0m \u001b[1;33m=\u001b[0m \u001b[0mlen\u001b[0m\u001b[1;33m(\u001b[0m\u001b[0mastar\u001b[0m\u001b[1;33m(\u001b[0m\u001b[0mwarehouse\u001b[0m\u001b[1;33m,\u001b[0m\u001b[0magv\u001b[0m\u001b[1;33m.\u001b[0m\u001b[0mcurrent_location\u001b[0m\u001b[1;33m,\u001b[0m\u001b[0mRack_enterence\u001b[0m\u001b[1;33m[\u001b[0m\u001b[0mjob\u001b[0m\u001b[1;33m[\u001b[0m\u001b[1;34m'station_dest'\u001b[0m\u001b[1;33m]\u001b[0m\u001b[1;33m]\u001b[0m\u001b[1;33m)\u001b[0m\u001b[1;33m)\u001b[0m\u001b[1;33m\u001b[0m\u001b[1;33m\u001b[0m\u001b[0m\n",
      "\u001b[1;31mTypeError\u001b[0m: object of type 'NoneType' has no len()"
     ]
    }
   ],
   "source": [
    "for running_time in range(run_time+1):\n",
    "    if running_time in job_create_time:\n",
    "        jobQ.insertJob(total_job_information.get('{}'.format(running_time))[0],total_job_information.get('{}'.format(running_time))[1][0])\n",
    "        agv_avail = getAvailAGV(AGV_LIST,battery_threshold)\n",
    "        print(agv_avail)\n",
    "        #사용가능한 agv와 job이 있을때 \n",
    "        if len(agv_avail)!=0 and jobQ.job_number !=0:\n",
    "            if running_time ==0:\n",
    "                auctioneer = random.choice(agv_avail)\n",
    "            else:\n",
    "                auctioneer = select_agv[-1]\n",
    "            job = jobQ.getJob()\n",
    "            bid_list = []\n",
    "            for agv in agv_avail:\n",
    "                bid_list.append(agv.calculate_cost(agv,job,warehouse,INPUT_STATION,OUTPUT_STATION))\n",
    "            min_bid = min(bid_list)\n",
    "            target_agv = agv_avail[bid_list.index(min_bid)]\n",
    "            if job['inout']=='in':\n",
    "                astar_path = astar(warehouse,target_agv.current_location,INPUT_STATION)+astar(warehouse,INPUT_STATION,Rack_enterence[job['station_dest']])\n",
    "            else:\n",
    "                astar_path = astar(warehouse,target_agv.current_location,Rack_enterence[job['station_dest']])+astar(warehouse,Rack_enterence[job['station_dest']],OUTPUT_STATION)\n",
    "            target_agv.get_job(job,astar_path)\n",
    "            select_agv.append(target_agv)\n",
    "            print(\"target_agv : {}, target_agv.battery: {} ,astar_path : {}, available:{}\".format(target_agv,target_agv.battery,astar_path,target_agv.available))\n",
    "    #           print(auctioneer)\n",
    "            for moving_agv in select_agv:\n",
    "                moving_agv.move_one_tick()\n",
    "                print(\"@@\",moving_agv,moving_agv.battery,moving_agv.current_location)\n",
    "                    \n",
    "    else:\n",
    "        for moving_agvs in select_agv:\n",
    "            moving_agvs.move_one_tick()\n",
    "            print(\"moving agvs {} , agv battery : {}, moving agv location{}, agv available {}\".format(moving_agvs, moving_agvs.battery,moving_agvs.current_location, moving_agvs.available))\n",
    "#             if len(moving_agvs.path) ==1:\n",
    "#                 del select_agv[select_agv.index(moving_agvs)]\n",
    "#             print(\"@@@@\",moving_agvs,moving_agv.battery,moving_agv.current_location)\n",
    "        "
   ]
  },
  {
   "cell_type": "code",
   "execution_count": null,
   "metadata": {},
   "outputs": [],
   "source": [
    "for running_time in range(run_time+1):\n",
    "    if running_time in job_create_time:\n",
    "        jobQ.insertJob(total_job_information.get('{}'.format(running_time))[0],total_job_information.get('{}'.format(running_time))[1][0])\n",
    "        agv_avail = getAvailAGV(AGV_LIST,battery_threshold)\n",
    "        need_charage_agv = \n",
    "#         print(agv_avail)\n",
    "        #사용가능한 agv와 job이 있을때 \n",
    "        if len(agv_avail)!=0 and jobQ.job_number !=0:\n",
    "            if running_time ==0:\n",
    "                auctioneer = random.choice(agv_avail)\n",
    "            else:\n",
    "                auctioneer = select_agv[-1]\n",
    "            job = jobQ.getJob()\n",
    "            bid_list = []\n",
    "            for agv in agv_avail:\n",
    "                bid_list.append(agv.calculate_cost(agv,job,warehouse,INPUT_STATION,OUTPUT_STATION))\n",
    "            min_bid = min(bid_list)\n",
    "            target_agv = agv_avail[bid_list.index(min_bid)]\n",
    "            if job['inout']=='in':\n",
    "                astar_path = astar(warehouse,target_agv.current_location,INPUT_STATION)+astar(warehouse,INPUT_STATION,Rack_enterence[job['station_dest']])\n",
    "            else:\n",
    "                astar_path = astar(warehouse,target_agv.current_location,Rack_enterence[job['station_dest']])+astar(warehouse,Rack_enterence[job['station_dest']],OUTPUT_STATION)\n",
    "            target_agv.get_job(job,astar_path)\n",
    "            select_agv.append(target_agv)\n",
    "            print(\"target_agv : {}, target_agv.battery: {} ,astar_path : {}, available:{}\".format(target_agv,target_agv.battery,astar_path,target_agv.available))\n",
    "    #           print(auctioneer)\n",
    "            for moving_agv in select_agv:\n",
    "                moving_agv.move_one_tick()\n",
    "                print(\"@@\",moving_agv,moving_agv.battery,moving_agv.current_location)\n",
    "            \n",
    "                \n",
    "#         elif len(agv_avail) == 0 and jobQ.job_number = 0  # move one tick \n",
    "#         elif len(agv_avail) == 0 and jobQ.job_number !=0  # move one tick \n",
    "#         elif len(agv_avail) !=0 and jobQ.job_number = 0   # move one tick \n",
    "                    \n",
    "    else:\n",
    "        for moving_agvs in select_agv:\n",
    "            moving_agvs.move_one_tick()\n",
    "            print(\"moving agvs{} , moving agv location{}, agv battery{}, agv available{}\".format(moving_agvs, moving_agvs.current_location, moving_agvs.battery, moving_agvs.available))\n",
    "#             if len(moving_agvs.path) ==1:\n",
    "#                 del select_agv[select_agv.index(moving_agvs)]\n",
    "#             print(\"@@@@\",moving_agvs,moving_agv.battery,moving_agv.current_location)\n",
    "        "
   ]
  },
  {
   "cell_type": "code",
   "execution_count": null,
   "metadata": {},
   "outputs": [],
   "source": []
  },
  {
   "cell_type": "code",
   "execution_count": null,
   "metadata": {},
   "outputs": [],
   "source": [
    "# for time in range(run_time+1):\n",
    "#     if time in job_create_time:\n",
    "#         job_create(rack_location,job_create_time,jobQ,total_job_location_list)\n",
    "#         agv_avail = getAvailAGV(AGV_LIST,battery_threshold)\n",
    "#         print(agv_avail)\n",
    "#         if len(agv_avail)!=0 and jobQ.job_number !=0:\n",
    "#             if time ==0:\n",
    "#                 auctioneer = random.choice(agv_avail)\n",
    "#             else:\n",
    "#                 auctioneer = select_agv[-1]\n",
    "#             job = jobQ.getJob()\n",
    "#             print(job)\n",
    "#             bid_list = []\n",
    "#             for agv in agv_avail:\n",
    "#                 bid_list.append(agv.calculate_cost(agv,job,warehouse,INPUT_STATION,OUTPUT_STATION))\n",
    "#             min_bid = min(bid_list)\n",
    "#             target_agv = agv_avail[bid_list.index(min_bid)]\n",
    "#             if job['inout']=='in':\n",
    "#                 astar_path = astar(warehouse,target_agv.current_location,INPUT_STATION)+astar(warehouse,INPUT_STATION,Rack_enterence[job['station_dest'][0]])\n",
    "#             else:\n",
    "#                 astar_path = astar(warehouse,target_agv.current_location,Rack_enterence[job['station_dest'][0]])+astar(warehouse,Rack_enterence[job['station_dest'][0]],OUTPUT_STATION)\n",
    "#             target_agv.get_job(job,astar_path)\n",
    "#             select_agv.append(target_agv)\n",
    "#             print(\"target_agv : {}, target_agv.battery: {} ,astar_path : {}, available:{}\".format(target_agv,target_agv.battery,astar_path,target_agv.available))\n",
    "# #             print(auctioneer)\n",
    "#             for moving_agv in select_agv:\n",
    "#                 moving_agv.move_one_tick()\n",
    "#                 print(\"@@\",moving_agv,moving_agv.battery,moving_agv.current_location)\n",
    "#     else:\n",
    "#         for moving_agvs in select_agv:\n",
    "#             moving_agvs.move_one_tick()\n",
    "#             print(\"moving agvs : {} ,agv battery : {} ,moving agv location{} , agv available : {}\".format(moving_agvs, moving_agvs.battery,moving_agvs.current_location, moving_agvs.available))\n",
    "# #             if len(moving_agvs.path) ==1:\n",
    "# #                 del select_agv[select_agv.index(moving_agvs)]\n",
    "# #             print(\"@@@@\",moving_agvs,moving_agv.battery,moving_agv.current_location)"
   ]
  },
  {
   "cell_type": "code",
   "execution_count": null,
   "metadata": {},
   "outputs": [],
   "source": [
    "# ### job이 알려지지 않은 채로 생성될 때 \n",
    "# for time in range(run_time+1):\n",
    "#     if time in job_create_time:\n",
    "#         job_create(rack_location,job_create_time,jobQ,total_job_location_list)\n",
    "#         agv_avail = getAvailAGV(AGV_LIST,battery_threshold)\n",
    "#         print(agv_avail)\n",
    "#         if len(agv_avail)!=0 and jobQ.job_number !=0:\n",
    "#             if time ==0:\n",
    "#                 auctioneer = random.choice(agv_avail)\n",
    "#             else:\n",
    "#                 auctioneer = select_agv[-1]\n",
    "#             job = jobQ.getJob()\n",
    "#             print(job)\n",
    "#             bid_list = []\n",
    "#             for agv in agv_avail:\n",
    "#                 bid_list.append(agv.calculate_cost(agv,job,warehouse,INPUT_STATION,OUTPUT_STATION))\n",
    "#             min_bid = min(bid_list)\n",
    "#             target_agv = agv_avail[bid_list.index(min_bid)]\n",
    "#             if job['inout']=='in':\n",
    "#                 astar_path = astar(warehouse,target_agv.current_location,INPUT_STATION)+astar(warehouse,INPUT_STATION,Rack_enterence[job['station_dest'][0]])\n",
    "#             else:\n",
    "#                 astar_path = astar(warehouse,target_agv.current_location,Rack_enterence[job['station_dest'][0]])+astar(warehouse,Rack_enterence[job['station_dest'][0]],OUTPUT_STATION)\n",
    "#             target_agv.get_job(job,astar_path)\n",
    "#             select_agv.append(target_agv)\n",
    "#             print(\"target_agv : {}, target_agv.battery: {} ,astar_path : {}, available:{}\".format(target_agv,target_agv.battery,astar_path,target_agv.available))\n",
    "# #             print(auctioneer)\n",
    "#             for moving_agv in select_agv:\n",
    "#                 moving_agv.move_one_tick()\n",
    "#                 print(\"@@\",moving_agv,moving_agv.battery,moving_agv.current_location)\n",
    "#     else:\n",
    "#         for moving_agvs in select_agv:\n",
    "#             moving_agvs.move_one_tick()\n",
    "#             print(\"moving agvs : {} ,agv battery : {} ,moving agv location{} , agv available : {}\".format(moving_agvs, moving_agvs.battery,moving_agvs.current_location, moving_agvs.available))\n",
    "# #             if len(moving_agvs.path) ==1:\n",
    "# #                 del select_agv[select_agv.index(moving_agvs)]\n",
    "# #             print(\"@@@@\",moving_agvs,moving_agv.battery,moving_agv.current_location)\n",
    "        "
   ]
  },
  {
   "cell_type": "code",
   "execution_count": null,
   "metadata": {},
   "outputs": [],
   "source": []
  },
  {
   "cell_type": "code",
   "execution_count": null,
   "metadata": {},
   "outputs": [],
   "source": []
  },
  {
   "cell_type": "code",
   "execution_count": null,
   "metadata": {},
   "outputs": [],
   "source": []
  },
  {
   "cell_type": "code",
   "execution_count": null,
   "metadata": {},
   "outputs": [],
   "source": []
  },
  {
   "cell_type": "code",
   "execution_count": null,
   "metadata": {},
   "outputs": [],
   "source": []
  },
  {
   "cell_type": "code",
   "execution_count": null,
   "metadata": {},
   "outputs": [],
   "source": []
  },
  {
   "cell_type": "code",
   "execution_count": null,
   "metadata": {},
   "outputs": [],
   "source": []
  }
 ],
 "metadata": {
  "kernelspec": {
   "display_name": "Python 3",
   "language": "python",
   "name": "python3"
  },
  "language_info": {
   "codemirror_mode": {
    "name": "ipython",
    "version": 3
   },
   "file_extension": ".py",
   "mimetype": "text/x-python",
   "name": "python",
   "nbconvert_exporter": "python",
   "pygments_lexer": "ipython3",
   "version": "3.7.6"
  }
 },
 "nbformat": 4,
 "nbformat_minor": 4
}
