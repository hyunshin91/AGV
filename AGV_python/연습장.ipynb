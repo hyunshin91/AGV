{
 "cells": [
  {
   "cell_type": "code",
   "execution_count": null,
   "metadata": {},
   "outputs": [],
   "source": [
    "## global_time 추가, OUPUT_STATION의 tuple 형태, INPUT_STATION의 tuple 형태\n",
    "def CAStar(graph,AGV_LIST,INPUT_STATION,OUTPUT_STATION,reservation_table,global_time):\n",
    "    agv_avail = getAvailAGV(AGV_LIST,battery_threshold)\n",
    "    total_cost = 0\n",
    "    while len(agv_avail)!=0 and jobQ.job_number!=0:\n",
    "        job = jobQ.getJob()\n",
    "        print(job)\n",
    "#         print(job['station_dest'])\n",
    "        agv_avail = getAvailAGV(AGV_LIST, battery_threshold)\n",
    "        for agv in agv_avail:\n",
    "            agv.calculate_bid(job,warehouse,INPUT_STATION[0].coordinates,OUTPUT_STATION[0].coordinates)\n",
    "            agv.bid_list.append(agv.calculate_bid(job,warehouse,INPUT_STATION[0].coordinates,OUTPUT_STATION[0].coordinates))\n",
    "        for agv_ in agv_avail:\n",
    "#             print(agv_bid_list)\n",
    "            agv_bid_sort = sorted(agv_.bid_list,key = lambda x:x[0], reverse = False)\n",
    "#             print(agv_bid_sort)\n",
    "        bid_compare_battery=[]\n",
    "        for i in range(len(agv_bid_sort)):\n",
    "            if agv_bid_sort[i][1]==agv_bid_sort[0][1]:\n",
    "                bid_compare_battery.append((agv_bid_sort[i]))\n",
    "        bid_compare_battery_sort = sorted(bid_compare_battery, key= lambda x:x[1].battery, reverse =True)\n",
    "\n",
    "        reset_graph(graph)\n",
    "         \n",
    "        if job['inout']=='in':\n",
    "            castar_path = findPathAstar(graph,bid_compare_battery_sort[0][1],bid_compare_battery_sort[0][1].current_location,INPUT_STATION[0].coordinates,reservation_table)+findPathAstar(graph,bid_compare_battery_sort[0][1],INPUT_STATION[0].coordinates,Rack_enterence[job['station_dest']],reservation_table)\n",
    "        else:\n",
    "            castar_path = findPathAstar(graph,bid_compare_battery_sort[0][1],bid_compare_battery_sort[0][1].current_location,Rack_enterence[job['station_dest']],reservation_table)+findPathAstar(graph,bid_compare_battery_sort[0][1],Rack_enterence[job['station_dest']],OUTPUT_STATION[0].coordinates,reservation_table)\n",
    "        \n",
    "        \n",
    "        \n",
    "        if castar_path == None:\n",
    "            return -1\n",
    "        for time,value in enumerate(castar_path):\n",
    "#             reservation_table[hash(value.depth, value.id)] = True \n",
    "            reservation_table[(value.depth+global_time, value.id)] = True  \n",
    "        target_agv = bid_compare_battery_sort[0][0]\n",
    "        select_agv_list.append(target_agv)\n",
    "        target_agv.get_job(job,castar_path)\n",
    "        print(\" target_agv : {}, target_agv.battery: {}, destination : {}, castar_path : {}, available:{}\".format(target_agv,target_agv.battery,job['station_dest'],[i.coordinates for i in castar_path],target_agv.available))\n",
    "#         ### path 찍어보기 \n",
    "#         for move in castar_path:\n",
    "#             print(move.coordinates)\n",
    "#         print(reservation_table)\n",
    "        for agv in AGV_LIST:\n",
    "                agv.clear_bid_list(AGV_LIST)\n",
    "        agv_avail = getAvailAGV(AGV_LIST,battery_threshold)\n",
    "        for agv in AGV_LIST:\n",
    "            total_cost += len(agv.walking_path)\n",
    "            return total_cost"
   ]
  }
 ],
 "metadata": {
  "kernelspec": {
   "display_name": "Python 3",
   "language": "python",
   "name": "python3"
  },
  "language_info": {
   "codemirror_mode": {
    "name": "ipython",
    "version": 3
   },
   "file_extension": ".py",
   "mimetype": "text/x-python",
   "name": "python",
   "nbconvert_exporter": "python",
   "pygments_lexer": "ipython3",
   "version": "3.8.5"
  }
 },
 "nbformat": 4,
 "nbformat_minor": 4
}
