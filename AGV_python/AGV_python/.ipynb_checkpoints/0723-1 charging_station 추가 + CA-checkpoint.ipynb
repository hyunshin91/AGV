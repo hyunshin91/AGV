{
 "cells": [
  {
   "cell_type": "markdown",
   "metadata": {},
   "source": [
    "# Import library"
   ]
  },
  {
   "cell_type": "code",
   "execution_count": 2,
   "metadata": {},
   "outputs": [],
   "source": [
    "import numpy as np\n",
    "import matplotlib.pyplot as plt\n",
    "import queue\n",
    "from queue import PriorityQueue\n",
    "import random\n",
    "import copy"
   ]
  },
  {
   "cell_type": "markdown",
   "metadata": {},
   "source": [
    "# Seed 고정"
   ]
  },
  {
   "cell_type": "code",
   "execution_count": 2,
   "metadata": {},
   "outputs": [],
   "source": [
    "np.random.seed(10)\n",
    "random.seed(10)"
   ]
  },
  {
   "cell_type": "markdown",
   "metadata": {},
   "source": [
    "# Create Job"
   ]
  },
  {
   "cell_type": "code",
   "execution_count": 3,
   "metadata": {},
   "outputs": [],
   "source": [
    "job_number  = 100"
   ]
  },
  {
   "cell_type": "code",
   "execution_count": 4,
   "metadata": {},
   "outputs": [
    {
     "name": "stdout",
     "output_type": "stream",
     "text": [
      "[13 11 10  7  6 13 12 15 10  9  9 11 11 13 15  5 10  7  8  8  8  9 13  9\n",
      " 13 10  4  8  8  8 14 14 11 11  8  8 10 10  8  8  4 11  8  8 12  3  5 14\n",
      "  7 10  6 11  7  7 15 11 11 11  6 12  9 10  5 11  7  8 12  9 11 11 12 10\n",
      " 10  6 10  5  5  4 11 11  8  9  9 10 19 14  7 10 13  8  9 14 11  9 10  8\n",
      " 13  7 11]\n",
      "[0, 13, 24, 34, 41, 47, 60, 72, 87, 97, 106, 115, 126, 137, 150, 165, 170, 180, 187, 195, 203, 211, 220, 233, 242, 255, 265, 269, 277, 285, 293, 307, 321, 332, 343, 351, 359, 369, 379, 387, 395, 399, 410, 418, 426, 438, 441, 446, 460, 467, 477, 483, 494, 501, 508, 523, 534, 545, 556, 562, 574, 583, 593, 598, 609, 616, 624, 636, 645, 656, 667, 679, 689, 699, 705, 715, 720, 725, 729, 740, 751, 759, 768, 777, 787, 806, 820, 827, 837, 850, 858, 867, 881, 892, 901, 911, 919, 932, 939, 950]\n"
     ]
    }
   ],
   "source": [
    "job_time_interval = np.random.poisson(10,job_number-1)\n",
    "job_create_time = [sum(job_time_interval[:i]) for i in range(len(job_time_interval)+1)]\n",
    "print(job_time_interval)\n",
    "print(job_create_time)"
   ]
  },
  {
   "cell_type": "code",
   "execution_count": 5,
   "metadata": {},
   "outputs": [
    {
     "data": {
      "image/png": "[encoded data removed]",
      "text/plain": [
       "<Figure size 432x288 with 1 Axes>"
      ]
     },
     "metadata": {
      "needs_background": "light"
     },
     "output_type": "display_data"
    }
   ],
   "source": [
    "count, bins, ignored = plt.hist(job_time_interval, 100, density = True)\n",
    "plt.show()"
   ]
  },
  {
   "cell_type": "code",
   "execution_count": 6,
   "metadata": {},
   "outputs": [
    {
     "data": {
      "image/png": "[encoded data removed]",
      "text/plain": [
       "<Figure size 432x288 with 1 Axes>"
      ]
     },
     "metadata": {
      "needs_background": "light"
     },
     "output_type": "display_data"
    }
   ],
   "source": [
    "plt.plot(job_create_time)\n",
    "plt.show()"
   ]
  },
  {
   "cell_type": "markdown",
   "metadata": {},
   "source": [
    "# Job Queue"
   ]
  },
  {
   "cell_type": "code",
   "execution_count": 7,
   "metadata": {},
   "outputs": [],
   "source": [
    "class JobQueue(object):\n",
    "    \n",
    "    def __init__(self):\n",
    "        self.job_q = queue.Queue()\n",
    "        self.job_number = 0\n",
    "        \n",
    "    def insertJob(self, inout,  station_dest):\n",
    "        job = {\"inout\": inout, \"station_dest\": station_dest}\n",
    "        self.job_q.put(job)\n",
    "        self.job_number+=1\n",
    "\n",
    "    def getJob(self):\n",
    "        if self.job_q.empty():\n",
    "            return \n",
    "        self.job_number-=1\n",
    "        return self.job_q.get()"
   ]
  },
  {
   "cell_type": "code",
   "execution_count": 8,
   "metadata": {},
   "outputs": [],
   "source": [
    "def job_create(rack_location,total_job_location_list,time,total_job_information):\n",
    "    job_location = [random.choice(rack_location)]\n",
    "    if total_job_location_list.count(job_location)%2==0:\n",
    "        total_job_information['{}'.format(time)] = ['in',job_location]\n",
    "    else:\n",
    "        total_job_information['{}'.format(time)] = ['out',job_location]\n",
    "    total_job_location_list.append(job_location)\n",
    "    return total_job_information"
   ]
  },
  {
   "cell_type": "markdown",
   "metadata": {},
   "source": [
    "# AGV"
   ]
  },
  {
   "cell_type": "code",
   "execution_count": 9,
   "metadata": {},
   "outputs": [],
   "source": [
    "class AGV(object):\n",
    "    max_battery = 200\n",
    "    \n",
    "    def __init__(self,agv_id,current_location,job_for_bid,current_tick=0,cost=0,bid_list = []):\n",
    "        self.agv_id = agv_id\n",
    "        self.battery = self.max_battery\n",
    "        self.current_location = current_location\n",
    "        self.job = None\n",
    "        self.destination = None\n",
    "        self.available = True\n",
    "        self.current_tick = current_tick\n",
    "        self.to_chaging_station = False\n",
    "        self.charging = False\n",
    "        self.job_for_bid = job_for_bid\n",
    "        self.bid_list = bid_list\n",
    "        self.cost = cost \n",
    "        \n",
    "#     def __str__(self):\n",
    "#         return 'agv_id:{}  job:{}  available:{}'.format(self.agv_id, self.job, self.available)\n",
    "    \n",
    "    def __str__(self):\n",
    "        return 'agv_id:{}'.format(self.agv_id)\n",
    "    \n",
    "    def move_one_tick(self):\n",
    "        if len(self.path) !=0:\n",
    "            self.next_location = self.path[0]\n",
    "            self.current_location = self.next_location\n",
    "            del self.path[0]\n",
    "            if len(self.path) ==0:\n",
    "                self.available = True\n",
    "            self.battery -=1\n",
    "            self.current_tick +=1\n",
    "        else:\n",
    "            self.available = True\n",
    "            \n",
    "    def move_one_tick_for_charge(self,charging_agvs_list,moving_for_charge_agvs):\n",
    "        self.path_for_charge = self.astar_path_to_charger\n",
    "        if len(self.path_for_charge) !=0:\n",
    "            self.to_chaging_station = True\n",
    "            self.next_location = self.path_for_charge[0]\n",
    "            self.current_location = self.next_location\n",
    "            del self.path_for_charge[0]\n",
    "            self.battery -=1\n",
    "            self.current_tick +=1\n",
    "            if len(self.path_for_charge) ==0:\n",
    "                charging_agvs_list.append(self)\n",
    "                moving_for_charge_agvs.remove(self)\n",
    "                self.to_chaging_station = False\n",
    "                self.charging = True\n",
    "#                 self.charging_agv()\n",
    "#         else:\n",
    "#             self.charging = True\n",
    "    \n",
    "    def get_job(self,job,astar_path):\n",
    "        self.job = job\n",
    "        self.path = astar_path\n",
    "        self.available = False\n",
    "        \n",
    "    def go_to_charge(self,astar_path_to_charger):\n",
    "        self.path_for_charge = astar_path_to_charger\n",
    "        self.to_chaging_station = True\n",
    "    \n",
    "    \n",
    "#     def agv_to_charging_station(self,battery_threshold):\n",
    "#         if self.available == True and self.battery <= battery_threshold:\n",
    "#             self.to_chaging_station = True\n",
    "\n",
    "    def calculate_bid(self,job,warehouse,INPUT_STATION,OUTPUT_STATION):\n",
    "        if job['inout']=='in':\n",
    "            cost = len(astar(warehouse,agv.current_location,INPUT_STATION)+astar(warehouse,INPUT_STATION,Rack_enterence[job['station_dest']]))\n",
    "        else:\n",
    "            cost = len(astar(warehouse,agv.current_location,Rack_enterence[job['station_dest']])+astar(warehouse,Rack_enterence[job['station_dest']],OUTPUT_STATION))\n",
    "        self.cost= cost \n",
    "        return self,cost,self.agv_id\n",
    "    \n",
    "#     def calculate_cost_for_charing_bid(self,warehouse,CHARGING_STATION):\n",
    "#         bid_for_charge = []\n",
    "#         for charging_station in CHARGING_STATION:\n",
    "#             bid_for_charge.append(charging_station,astar(warehouse,self.current_location,charging_station))\n",
    "#         bid_for_charge_sort = sorted(bid_for_charge, key =lambda x:x[1])\n",
    "#         selected_chargeing\n",
    "#         return cost        \n",
    "    \n",
    "    \n",
    "    def select_charging_station(self,warehouse,CHARGING_STATION):\n",
    "        bid_for_charge = []\n",
    "#         print('%',CHARGING_STATION)\n",
    "        for charging_station in CHARGING_STATION:\n",
    "            bid_for_charge.append((charging_station,len(astar(warehouse,self.current_location,charging_station))))\n",
    "        bid_for_charge_sort = sorted(bid_for_charge, key =lambda x:x[1])\n",
    "        selected_charging_station = bid_for_charge_sort[0][0]\n",
    "        astar_path_to_charger = astar(warehouse,self.current_location,charging_station)\n",
    "        self.astar_path_to_charger = astar_path_to_charger\n",
    "#         print('3',astar_path_to_charger)\n",
    "        return selected_charging_station, astar_path_to_charger   \n",
    "    \n",
    "    def charge_agv(self,charging_agvs):\n",
    "        if self.charging == True:\n",
    "            self.battery +=10\n",
    "            if self.battery >= self.max_battery:\n",
    "                self.battery = self.max_battery\n",
    "                self.charging = False \n",
    "                self.available=True\n",
    "                charging_agvs.remove(self)\n",
    "                \n",
    "#                 \n",
    "                \n",
    "    def send_bid(self,avail_agv_list):\n",
    "        for agv_ in avail_agv_list:\n",
    "            agv_.bid_list.append((self,agv.agv_id,agv.cost))\n",
    "            \n",
    "#     def win_bid(self)\n",
    "        \n",
    "    \n",
    "    def drop_job(self):\n",
    "        self.job = None\n",
    "        self.available = True\n",
    "        \n",
    "    def clear_bid_list(self,agv_list):\n",
    "        for agv in agv_list:\n",
    "            agv.bid_list = []\n"
   ]
  },
  {
   "cell_type": "code",
   "execution_count": 10,
   "metadata": {},
   "outputs": [],
   "source": [
    "def getAvailAGV(AGV_LIST,battery_threshold):\n",
    "    return [agv for agv in AGV_LIST if agv.available == True and agv.battery >= battery_threshold and agv.charging == False]"
   ]
  },
  {
   "cell_type": "code",
   "execution_count": 11,
   "metadata": {},
   "outputs": [],
   "source": [
    "def getnNeedChargeAgv(AGV_LIST,battery_threshold):\n",
    "    return [agv for agv in AGV_LIST if agv.charging == True and agv.battery <= battery_threshold and agv.charging == False and agv.to_chaging_station == False]"
   ]
  },
  {
   "cell_type": "code",
   "execution_count": 12,
   "metadata": {},
   "outputs": [],
   "source": [
    "def getChargingAGV(AGV_LIST):\n",
    "    return [agv for agv in AGV_LIST if agv.charging == True]"
   ]
  },
  {
   "cell_type": "markdown",
   "metadata": {},
   "source": [
    "# Utilities for path finding algorithms"
   ]
  },
  {
   "cell_type": "code",
   "execution_count": null,
   "metadata": {},
   "outputs": [],
   "source": [
    "def manhattan_distance(start_node,goal_node):\n",
    "    dx = abs(start_node[0]-goal_node[0])\n",
    "    dy = abs(start_node[1]-goal_node[1])\n",
    "    return dx + dy"
   ]
  },
  {
   "cell_type": "code",
   "execution_count": null,
   "metadata": {},
   "outputs": [],
   "source": [
    "def get4Ways(point):\n",
    "    return [(point[0],point[1]+1), (point[0]+1,point[1]),\n",
    "            (point[0],point[1]-1), (point[0]-1,point[1])]"
   ]
  },
  {
   "cell_type": "markdown",
   "metadata": {},
   "source": [
    "# Astar"
   ]
  },
  {
   "cell_type": "code",
   "execution_count": 13,
   "metadata": {},
   "outputs": [],
   "source": [
    "class node:\n",
    "    def __init__(self,parent=None, position = None):\n",
    "        self.parent = parent\n",
    "        self.position = position\n",
    "        self.g = 0\n",
    "        self.h = 0\n",
    "        self.f = 0\n",
    "    def __eq__(self,other):\n",
    "        return self.position == other.position"
   ]
  },
  {
   "cell_type": "code",
   "execution_count": 15,
   "metadata": {},
   "outputs": [],
   "source": [
    "def astar(graph,start,goal):\n",
    "    start_node = node(None,(start[1],start[0]))\n",
    "    goal_node = node(None,(goal[1],goal[0]))\n",
    "    open_list = []\n",
    "    closed_list = []\n",
    "    graph = [el for el in graph][::-1]\n",
    "#     for i in graph:\n",
    "#         print(i)\n",
    "    \n",
    "    open_list.append(start_node)\n",
    "    while open_list:\n",
    "        current_node = open_list[0]\n",
    "        current_index = 0\n",
    "        \n",
    "        for index, item in enumerate(open_list):\n",
    "            if item.f < current_node.f:\n",
    "                current_node = item\n",
    "                current_index = index\n",
    "        open_list.pop(current_index)\n",
    "        closed_list.append(current_node)\n",
    "        \n",
    "        if current_node == goal_node:\n",
    "            path = []\n",
    "            current = current_node\n",
    "            while current is not None:\n",
    "#                 x,y = current.position\n",
    "#                 graph[x][y] = 9\n",
    "                path.append((current.position[1],current.position[0]))\n",
    "                current = current.parent\n",
    "                \n",
    "            return path[::-1]\n",
    "        \n",
    "        children = []\n",
    "        for new_position in [(0,1),(1,0),(-1,0),(0,-1)]:\n",
    "            node_position = (current_node.position[0]+new_position[0],\n",
    "                             current_node.position[1]+new_position[1])\n",
    "            within_range = [\n",
    "                node_position[1]>len(graph)-1,\n",
    "                node_position[1]<0,\n",
    "                node_position[0]>len(graph[len(graph)-1])-1,\n",
    "                node_position[0]<0]\n",
    "            if any(within_range):\n",
    "                continue\n",
    "            if graph[node_position[0]][node_position[1]] !=0:\n",
    "                continue\n",
    "            \n",
    "            new_node = node(current_node, node_position)\n",
    "            children.append(new_node)\n",
    "        \n",
    "        for child in children:\n",
    "            if child in closed_list:\n",
    "                continue\n",
    "            child.g = current_node.g+1\n",
    "            child.h = manhattan_distance(child.position,goal_node.position)\n",
    "            child.f = child.g + child.h\n",
    "            \n",
    "            if len([open_node for open_node in open_list\n",
    "                   if child == open_node and child.g>open_node.g]) > 0:\n",
    "                continue\n",
    "            open_list.append(child)"
   ]
  },
  {
   "cell_type": "markdown",
   "metadata": {},
   "source": [
    "# Cooperative Astar"
   ]
  },
  {
   "cell_type": "code",
   "execution_count": 3,
   "metadata": {},
   "outputs": [],
   "source": [
    "#Draw를 위한 색값 정리\n",
    "RED = (255, 0, 0)\n",
    "GREEN = (0, 255, 0)\n",
    "BLUE = (0, 255, 0)\n",
    "YELLOW = (255, 255, 0)\n",
    "WHITE = (255, 255, 255)\n",
    "BLACK = (0, 0, 0)\n",
    "PURPLE = (128, 0, 128)\n",
    "ORANGE = (255, 165, 0)\n",
    "GREY = (128, 128, 128)\n",
    "TURQUOISE = (64, 224, 208)"
   ]
  },
  {
   "cell_type": "code",
   "execution_count": null,
   "metadata": {},
   "outputs": [],
   "source": [
    "class Spot:\n",
    "    def __init__(self, row, col, width, total_rows):\n",
    "        self.row = row\n",
    "        self.col = ROWS - col - 1\n",
    "        self.x = row * width\n",
    "        self.y = col * width\n",
    "        self.color = WHITE\n",
    "        self.neighbors = []\n",
    "        self.width = width\n",
    "        self.total_rows = total_rows\n",
    "\n",
    "    def get_pos(self):\n",
    "        return self.row, self.col\n",
    "\n",
    "    def is_closed(self):\n",
    "        return self.color == RED\n",
    "\n",
    "    def is_open(self):\n",
    "        return self.color == GREEN\n",
    "\n",
    "    def is_barrier(self):\n",
    "        return self.color == BLACK\n",
    "\n",
    "    def is_start(self):\n",
    "        return self.color == ORANGE\n",
    "\n",
    "    def is_end(self):\n",
    "        return self.color == TURQUOISE\n",
    "\n",
    "    def reset(self):\n",
    "        self.color = WHITE\n",
    "\n",
    "    def make_start(self):\n",
    "        self.color = ORANGE\n",
    "\n",
    "    def make_closed(self):\n",
    "        self.color = RED\n",
    "\n",
    "    def make_open(self):\n",
    "        self.color = GREEN\n",
    "\n",
    "    def make_barrier(self):\n",
    "        self.color = BLACK\n",
    "\n",
    "    def make_end(self):\n",
    "        self.color = TURQUOISE\n",
    "\n",
    "    def make_path(self):\n",
    "        self.color = PURPLE\n",
    "\n",
    "    # def draw(self, win):\n",
    "    #     pygame.draw.rect(win, self.color, (self.x, self.y, self.width, self.width))\n",
    "\n",
    "    def update_neighbors(self, grid):\n",
    "        self.neighbors = []\n",
    "        ## 색깔 + 장애물 (False)\n",
    "        if self.row < self.total_rows - 1 and not grid[self.row + 1][self.col].is_barrier(): # DOWN\n",
    "            self.neighbors.append(grid[self.row + 1][self.col])\n",
    "\n",
    "        if self.row > 0 and not grid[self.row - 1][self.col].is_barrier(): # UP\n",
    "            self.neighbors.append(grid[self.row - 1][self.col])\n",
    "\n",
    "        if self.col < self.total_rows - 1 and not grid[self.row][self.col + 1].is_barrier(): # RIGHT\n",
    "            self.neighbors.append(grid[self.row][self.col + 1])\n",
    "\n",
    "        if self.col > 0 and not grid[self.row][self.col - 1].is_barrier(): # LEFT\n",
    "            self.neighbors.append(grid[self.row][self.col - 1])\n",
    "\n",
    "    def __lt__(self, other):\n",
    "        return False\n"
   ]
  },
  {
   "cell_type": "code",
   "execution_count": null,
   "metadata": {},
   "outputs": [],
   "source": [
    "#CA*를 위한 utility 정리 \n",
    "\n",
    "def reconstruct_path(came_from, current):\n",
    "    #     print('reconstruct_path start from:{}'.format(current.get_pos()))\n",
    "    path = [current.get_pos()]\n",
    "    while current in came_from:\n",
    "        current = came_from[current]\n",
    "        if not isinstance(current, str):\n",
    "            current.make_path()\n",
    "            path.append(current.get_pos())\n",
    "        else:\n",
    "            path.append(came_from[current].get_pos())\n",
    "    return path\n",
    "\n",
    "\n",
    "def get_turn_point(turn_val):\n",
    "    turn_pos = turn_val.split('_')\n",
    "    gap = settings.WIDTH // settings.ROWS\n",
    "    return Spot(int(turn_pos[1]), int(turn_pos[2]), gap, settings.ROWS)\n",
    "\n",
    "\n",
    "### came_from이 쌓임 (3, 5):(3, 4), (2, 5):(3, 5), (1, 5):(2, 5)\n",
    "### came_from은 어디서왔는지를 나타냄, 타입은 딕셔너리, neighbor, 현재위치 (갈수있는 neighbor들의 위치값이 저장되어있음)\n",
    "### (neighbor,curret위치)\n",
    "\n",
    "def count_reconstruct_path(came_from, current):\n",
    "    cnt = 0\n",
    "    while current in came_from:\n",
    "        current = came_from[current]\n",
    "        cnt += 1\n",
    "    return cnt\n",
    "\n",
    "\n",
    "def check_turn(came_from, current):\n",
    "    ### return False if position didn't move for more than 2\n",
    "    if count_reconstruct_path(came_from, current) < 2:\n",
    "        return False\n",
    "    ### check if current position is already turning (by checking if value of current is string instead of Spot)\n",
    "    if isinstance(came_from[current], str):\n",
    "        #         print('@@ check_turn already turning!')\n",
    "        return False\n",
    "    ### 전전 위치가 회전중(string 타입)이라면, 그 전꺼의 위치로 회전 여부 파악\n",
    "    ### ex) 현재위치: (4, 0),  경로: (3, 1), 'turn_4_1', (4, 1), (4, 0) -> 경로를 다음과 같이 처리: (3, 1), (4, 1), (4, 0)\n",
    "    elif isinstance(came_from[came_from[current]], str):\n",
    "        last_last_pos = came_from[came_from[came_from[current]]].get_pos()\n",
    "    else:\n",
    "        last_last_pos = came_from[came_from[current]].get_pos()\n",
    "\n",
    "    cur_pos = current.get_pos()\n",
    "    last_pos = came_from[current].get_pos()\n",
    "    if last_last_pos[0] == last_pos[0] and cur_pos[0] != last_pos[0] or \\\n",
    "            last_last_pos[1] == last_pos[1] and cur_pos[1] != last_pos[1]:\n",
    "        return True\n",
    "    else:\n",
    "        return False\n",
    "\n",
    "\n",
    "def make_grid(rows, width):\n",
    "    grid = []\n",
    "    gap = width // rows\n",
    "    for i in range(rows):\n",
    "        grid.append([])\n",
    "        for j in range(rows):\n",
    "            spot = Spot(i, rows - j - 1, gap, rows)\n",
    "            grid[i].append(spot)\n",
    "\n",
    "    return grid\n",
    "\n",
    "\n",
    "def get_clicked_pos(pos, rows, width):\n",
    "    gap = width // rows\n",
    "    y, x = pos\n",
    "\n",
    "    row = y // gap\n",
    "    col = x // gap\n",
    "\n",
    "    return row, col\n",
    "\n",
    "\n",
    "def add_obstacle(grid, x, y):\n",
    "    spot = grid[x][y]\n",
    "    spot.make_barrier()\n",
    "    spot.update_neighbors(grid)\n",
    "    for row in grid:\n",
    "        for s in row:\n",
    "            s.update_neighbors(grid)\n",
    "\n",
    "\n",
    "\n",
    "\n",
    "def remove_obstacle(grid, x, y):\n",
    "    spot = grid[x][y]\n",
    "    spot.reset()\n",
    "    spot.update_neighbors(grid)\n",
    "    for row in grid:\n",
    "        for s in row:\n",
    "            s.update_neighbors(grid)\n",
    "\n",
    "\n",
    "def setRack(grid, rack_list):\n",
    "    for rack_point in rack_list:\n",
    "        spot = grid[rack_point[0]][rack_point[1]]\n",
    "        spot.make_barrier()\n",
    "    for row in grid:\n",
    "        for s in row:\n",
    "            s.update_neighbors(grid)\n",
    "\n",
    "\n",
    "def comparePosition(pos1, pos2):\n",
    "    return (pos1[0] == pos2[0]) and (pos1[1] == pos2[1])\n",
    "\n",
    "\n",
    "def setAGVObstacle(tick, grid, agv_list):\n",
    "    for agv in agv_list:\n",
    "        start_tick = agv['start_tick']\n",
    "        agv_path = agv['path']\n",
    "        tick_interval = tick - start_tick\n",
    "\n",
    "        if tick_interval >= 0 and tick_interval < len(agv_path):\n",
    "            add_obstacle(grid, agv_path[tick_interval][0], agv_path[tick_interval][1])\n",
    "            if tick_interval > 0 and comparePosition(agv_path[tick_interval], agv_path[tick_interval - 1]):\n",
    "                return\n",
    "            elif tick_interval > 0:\n",
    "                remove_obstacle(grid, agv_path[tick_interval - 1][0], agv_path[tick_interval - 1][1])\n",
    "        ### TODO: current가 turn을 해서 tick 이 +2 될 경우 이전 obstacle을 삭제하지 못하는 경우 발생!!!\n",
    "\n",
    "def detect_collision(tick, current, neighbour, agv_list):\n",
    "    for agv in agv_list:\n",
    "        start_tick = agv['start_tick']\n",
    "        agv_path = agv['path']\n",
    "        tick_interval = tick - start_tick\n",
    "        if tick_interval <= 0:\n",
    "            continue\n",
    "\n",
    "        ### 1. tick에 현재 agv 위치(current) vs tick+1에 obstacle(agv_path[tick]) 위치 비교\n",
    "        ### 2. tick+1에 현재 agv 위치(neighbour) vs tick에 obstacle(agv_path[tick+1]) 위치 비교\n",
    "        if current.get_pos() == agv_path[tick_interval] and neighbour.get_pos() == agv_path[tick_interval+1]:\n",
    "            return True ### detected collision\n",
    "    return False ### there is no collision\n",
    "\n",
    "\n",
    "\n",
    "# def check_throughpass(tick, current, came_from, agv):\n",
    "#     start_tick = agv['start_tick']\n",
    "#     agv_path = agv['path']\n",
    "#     tick_interval = tick - start_tick + 1\n",
    "#     if tick_interval >= 0 and tick_interval < len(agv_path):"
   ]
  },
  {
   "cell_type": "code",
   "execution_count": null,
   "metadata": {},
   "outputs": [],
   "source": [
    "def CAstar(grid, start, end, start_tick, AGV1_PATH):\n",
    "    count = 0\n",
    "    open_set = PriorityQueue()\n",
    "    open_set.put((0, count, start))\n",
    "    came_from = {}\n",
    "    g_score = {spot: float(\"inf\") for row in grid for spot in row}\n",
    "    g_score[start] = 0\n",
    "    f_score = {spot: float(\"inf\") for row in grid for spot in row}\n",
    "    f_score[start] = manhattan_distance(start.get_pos(), end.get_pos())\n",
    "    open_set_hash = {start}\n",
    "\n",
    "    ##openset이 있을 때 동안 계속 실행\n",
    "    while not open_set.empty():\n",
    "        # prev_open_set[2]는 spot을 의미한다.\n",
    "        prev_open_set = open_set.get()\n",
    "\n",
    "        current = prev_open_set[2]\n",
    "        # Camefrom은 어디서왔는지를 나타냄, 타입은 딕셔너리, neighbor, 현재위치 (갈수있는 neighbor들의 위치값이 저장되어있음)\n",
    "        # (neighbor,Curret위치)\n",
    "\n",
    "        # tick을 계산하기 위해 count_reconstruct_path함수를 실행\n",
    "        tick = count_reconstruct_path(came_from, current) + start_tick\n",
    "        print('@@@ tick:{} current:{}'.format(tick, current.get_pos()))\n",
    "\n",
    "        ### 장애물을 추가하는 함수\n",
    "        setAGVObstacle(tick, grid, AGV1_PATH)\n",
    "        current.update_neighbors(grid)\n",
    "\n",
    "        ### open_set이랑 똑같은데 spot만 가진다(위치)\n",
    "        open_set_hash.remove(current)\n",
    "\n",
    "        if current == end:\n",
    "            path = reconstruct_path(came_from, end)\n",
    "            return path\n",
    "\n",
    "        for neighbor in current.neighbors:\n",
    "            temp_g_score = g_score[current]\n",
    "\n",
    "            if temp_g_score < g_score[neighbor]:\n",
    "                if check_turn(came_from, current):\n",
    "                    ## check if current selected 'current' is a turn\n",
    "                    ### current: 2,5    neighbor: 1,5     came_from[current]: 3,5\n",
    "                    ### 기존 came_from: (3, 5):(3, 4), (2, 5):(3, 5), (1, 5):(2, 5)\n",
    "                    ### 바꾼 came_from: (3, 5):(3, 4), (turn):(3, 5), (2, 5):(turn), (1, 5):(2, 5)\n",
    "                    came_from['turn_{}_{}'.format(came_from[current].get_pos()[0],\n",
    "                                                  came_from[current].get_pos()[1])] = came_from[current]\n",
    "                    came_from[current] = 'turn_{}_{}'.format(came_from[current].get_pos()[0],\n",
    "                                                             came_from[current].get_pos()[1])\n",
    "                came_from[neighbor] = current\n",
    "\n",
    "                g_score[neighbor] = temp_g_score\n",
    "                f_score[neighbor] = temp_g_score + manhattan_distance(neighbor.get_pos(), end.get_pos())\n",
    "\n",
    "                if neighbor not in open_set_hash:\n",
    "                    count += 1\n",
    "                    open_set.put((f_score[neighbor], count, neighbor))\n",
    "                    open_set_hash.add(neighbor)\n",
    "                    neighbor.make_open()\n",
    "\n",
    "        if current != start:\n",
    "            current.make_closed()\n",
    "\n",
    "    return False\n"
   ]
  },
  {
   "cell_type": "code",
   "execution_count": null,
   "metadata": {},
   "outputs": [],
   "source": []
  },
  {
   "cell_type": "markdown",
   "metadata": {},
   "source": [
    "# Charging station"
   ]
  },
  {
   "cell_type": "code",
   "execution_count": 16,
   "metadata": {},
   "outputs": [],
   "source": [
    "class ChargingStation(object):\n",
    "    \n",
    "    def __init__(self,charging_station_id,charging_station_location,agv_first_location_list):\n",
    "        self.charging_station_location = charging_station_location\n",
    "        if self.charging_station_location in agv_first_location_list:\n",
    "            self.free = False\n",
    "        else:\n",
    "            self.free = True\n",
    "        self.reserved = False\n",
    "        \n",
    "    def charging_station_reservation(self):\n",
    "        self.reserved = True\n",
    "        \n",
    "    def charging_station_free(self):\n",
    "        self.free = True\n",
    "        self.reserved = False"
   ]
  },
  {
   "cell_type": "code",
   "execution_count": 17,
   "metadata": {},
   "outputs": [],
   "source": [
    "def getAvail_ChargingStation(AGV_LIST):\n",
    "    return [charging_station for charging_station in CHARING_STATION if charging_station.free == True]"
   ]
  },
  {
   "cell_type": "markdown",
   "metadata": {},
   "source": [
    "# Warehouse, Rack, Charging_station"
   ]
  },
  {
   "cell_type": "code",
   "execution_count": null,
   "metadata": {},
   "outputs": [],
   "source": [
    "def make_warehouse(row,col):\n",
    "    warehouse = [[0]*col for i in range(row)]\n",
    "    return warehouse "
   ]
  },
  {
   "cell_type": "code",
   "execution_count": null,
   "metadata": {},
   "outputs": [],
   "source": [
    "def set_rack(warehouse,rack_location):\n",
    "    for idx, row in enumerate(warehouse):\n",
    "        warehouse[idx] =  [1 if (ix, ROW -1 - idx) in rack_location else 0 for ix,col in enumerate(warehouse[idx])]"
   ]
  },
  {
   "cell_type": "code",
   "execution_count": null,
   "metadata": {},
   "outputs": [],
   "source": [
    "def set_charging_station(warehouse,CHARGING_STATION,ROW,COL):\n",
    "    for charging_spot in CHARGING_STATION:\n",
    "        warehouse[ROW-1-charging_spot[1]][charging_spot[0]]=2\n",
    "    return warehouse"
   ]
  },
  {
   "cell_type": "markdown",
   "metadata": {},
   "source": [
    "# Make warehouse, Rack, Rack enterence, Station"
   ]
  },
  {
   "cell_type": "code",
   "execution_count": null,
   "metadata": {},
   "outputs": [],
   "source": [
    "ROW, COL = 10,10\n",
    "warehouse = make_warehouse(ROW,COL)\n",
    "INPUT_STATION = (3,0)\n",
    "OUTPUT_STATION = (6,0)\n",
    "CHARGING_STATION = [(2,9),(7,9)]   \n",
    "rack_location =  [(1, 1), (1, 2), (1, 3), (1, 4), (1, 5), (1, 6), (1, 7),\n",
    "                  (2, 1), (2, 2), (2, 3), (2, 4), (2, 5), (2, 6), (2, 7), \n",
    "                  (4, 1), (4, 2), (4, 3), (4, 4), (4, 5), (4, 6), (4, 7), \n",
    "                  (5, 1), (5, 2), (5, 3), (5, 4), (5, 5), (5, 6), (5, 7), \n",
    "                  (7, 1), (7, 2), (7, 3), (7, 4), (7, 5), (7, 6), (7, 7), \n",
    "                  (8, 1), (8, 2), (8, 3), (8, 4), (8, 5), (8, 6), (8, 7)]\n"
   ]
  },
  {
   "cell_type": "code",
   "execution_count": null,
   "metadata": {},
   "outputs": [],
   "source": [
    "set_rack(warehouse,rack_location)\n",
    "# set_charging_station(warehouse,CHARGING_STATION,ROW,COL)"
   ]
  },
  {
   "cell_type": "code",
   "execution_count": null,
   "metadata": {},
   "outputs": [],
   "source": [
    "Rack_enterence={}\n",
    "for point in rack_location:\n",
    "    four_ways = get4Ways(point)\n",
    "    neighbour_obstacle_list = [way for way in four_ways if way in rack_location]  ## 좌표정보 ex) (1,3), (2,2)....\n",
    "    neighbour_empty_list = [way for way in four_ways if way not in rack_location] \n",
    "    if len(neighbour_empty_list) == 1: ### 모서리 아님\n",
    "        Rack_enterence[point] = neighbour_empty_list[0]\n",
    "    elif len(neighbour_empty_list) == 2: ### 모서리임\n",
    "        obstacle_way_list = [four_ways.index(obst) for obst in neighbour_obstacle_list]  ## 방향정보 ex) 0,1, 2...\n",
    "        for idx, obst_point in enumerate(neighbour_obstacle_list):\n",
    "            obst_way = obstacle_way_list[idx]\n",
    "            obst_plus1_point = get4Ways(obst_point)[obst_way]\n",
    "            if obst_plus1_point in rack_location:\n",
    "                continue\n",
    "            else:\n",
    "                Rack_enterence[point] = four_ways[obst_way-2]\n",
    "    else:\n",
    "        print('ERROR finding obstacle/entrance for RACK {}'.format(point))"
   ]
  },
  {
   "cell_type": "markdown",
   "metadata": {},
   "source": [
    "### AGV location when simulation starts"
   ]
  },
  {
   "cell_type": "code",
   "execution_count": null,
   "metadata": {},
   "outputs": [],
   "source": [
    "def agv_first_location(AGV_list):\n",
    "    agv_first_location_list = []\n",
    "    for agv in AGV_list:\n",
    "        agv_first_location_list.append(agv.current_location)\n",
    "    return agv_first_location_list\n",
    "        "
   ]
  },
  {
   "cell_type": "markdown",
   "metadata": {},
   "source": [
    "# Cooperative Astar"
   ]
  },
  {
   "cell_type": "code",
   "execution_count": null,
   "metadata": {},
   "outputs": [],
   "source": []
  },
  {
   "cell_type": "markdown",
   "metadata": {},
   "source": [
    "# 실험"
   ]
  },
  {
   "cell_type": "markdown",
   "metadata": {},
   "source": [
    "### Simulation condition"
   ]
  },
  {
   "cell_type": "code",
   "execution_count": null,
   "metadata": {},
   "outputs": [],
   "source": [
    "jobQ = JobQueue()\n",
    "jobQ_for_simulation = JobQueue()\n",
    "run_time = 1000\n",
    "total_job_location_list = []\n",
    "select_agv_list = []\n",
    "charging_agvs_list = []\n",
    "moving_for_charge_agvs_list = []\n",
    "battery_threshold = 100\n",
    "total_job_information = {}\n",
    "free_charging_station = []"
   ]
  },
  {
   "cell_type": "markdown",
   "metadata": {},
   "source": [
    "### Created Job 확인"
   ]
  },
  {
   "cell_type": "code",
   "execution_count": null,
   "metadata": {},
   "outputs": [],
   "source": [
    "for time in range(run_time+1):\n",
    "    if time in job_create_time:\n",
    "        job_create(rack_location,total_job_location_list,time,total_job_information)\n",
    "# print(total_job_information)\n",
    "# print(len(total_job_information))"
   ]
  },
  {
   "cell_type": "markdown",
   "metadata": {},
   "source": [
    "### Create AGV"
   ]
  },
  {
   "cell_type": "code",
   "execution_count": null,
   "metadata": {},
   "outputs": [],
   "source": [
    "agv1 = AGV(\"agv1\",(0,9),[])\n",
    "agv2 = AGV(\"agv2\",(3,9),[])\n",
    "agv3 = AGV(\"agv3\",(6,9),[])\n",
    "agv4 = AGV(\"agv4\",(9,9),[])\n",
    "AGV_LIST = [agv1,agv2,agv3,agv4]\n",
    "AGV_LIST"
   ]
  },
  {
   "cell_type": "markdown",
   "metadata": {},
   "source": [
    "### AGV location when simulation starts"
   ]
  },
  {
   "cell_type": "code",
   "execution_count": null,
   "metadata": {},
   "outputs": [],
   "source": [
    "agv_first_location_list = agv_first_location(AGV_LIST)"
   ]
  },
  {
   "cell_type": "code",
   "execution_count": null,
   "metadata": {},
   "outputs": [],
   "source": [
    "print(agv_first_location_list)"
   ]
  },
  {
   "cell_type": "markdown",
   "metadata": {},
   "source": [
    "### Create Charging station"
   ]
  },
  {
   "cell_type": "code",
   "execution_count": null,
   "metadata": {},
   "outputs": [],
   "source": [
    "charging_station1 = ChargingStation('charging_station1',(2,9),agv_first_location_list)\n",
    "charging_station2 = ChargingStation('charging_station2',(6,9),agv_first_location_list)\n",
    "CHARING_STATION = [charging_station1,charging_station2]"
   ]
  },
  {
   "cell_type": "markdown",
   "metadata": {},
   "source": [
    "### Main 함수 "
   ]
  },
  {
   "cell_type": "code",
   "execution_count": null,
   "metadata": {},
   "outputs": [],
   "source": [
    "#7월 21 일 flowchart대로 수정\n",
    "if __name__ =='__main__':\n",
    "    for running_time in range(run_time+1):\n",
    "        now_charging_agv = getChargingAGV(AGV_LIST)\n",
    "        if len(now_charging_agv)!=0:\n",
    "            print('charging_agv',now_charging_agv)\n",
    "        if len(now_charging_agv)!=0:\n",
    "            for charging_agv in now_charging_agv:\n",
    "                charging_agv.charge_agv(charging_agvs_list)\n",
    "        if len(moving_for_charge_agvs_list)!=0:\n",
    "#             print('-',moving_for_charge_agvs_list)\n",
    "            for moving_agvs in moving_for_charge_agvs_list :\n",
    "                moving_agvs.move_one_tick_for_charge(charging_agvs_list,moving_for_charge_agvs_list)\n",
    "                print(\"running time : {}, moving agv for charging : {}, current location : {}, current battery : {}\".format(running_time, moving_agvs,moving_agvs.current_location,moving_agvs.battery))\n",
    "                if moving_agvs.charging == True:\n",
    "                    print('moving_for_charge_agvs_list:',moving_for_charge_agvs_list,'moving_agvs',moving_agvs,'moving_agvs battery:',moving_agvs.battery)\n",
    "#                     moving_for_charge_agvs_list.remove(moving_agvs)\n",
    "                    charging_agvs_list.append(moving_agvs)\n",
    "    #       #사용가능한 agv와 job이 있을때 \n",
    "        if running_time in job_create_time:\n",
    "            print(\"@@@@@@@@@@@@@@@@@\",running_time)\n",
    "            jobQ.insertJob(total_job_information.get('{}'.format(running_time))[0],total_job_information.get('{}'.format(running_time))[1][0])\n",
    "        agv_avail = getAvailAGV(AGV_LIST,battery_threshold)\n",
    "#         print('C running_time : {} , agv_avail : {}'.format(running_time,agv_avail))\n",
    "        while len(agv_avail)!=0 and jobQ.job_number!=0:\n",
    "            job = jobQ.getJob()\n",
    "#             print(job)\n",
    "            agv_avail = getAvailAGV(AGV_LIST, battery_threshold)\n",
    "            for agv in agv_avail:\n",
    "                agv.calculate_bid(job,warehouse,INPUT_STATION,OUTPUT_STATION)\n",
    "                agv.bid_list.append(agv.calculate_bid(job,warehouse,INPUT_STATION,OUTPUT_STATION))\n",
    "            for agv_ in agv_avail:\n",
    "                agv_bid_sort = sorted(agv_.bid_list,key = lambda x:x[1], reverse = False)\n",
    "#                 print(agv_bid_sort)\n",
    "            bid_compare_battery=[]\n",
    "            for i in range(len(agv_bid_sort)):\n",
    "                if agv_bid_sort[i][1]==agv_bid_sort[0][1]:\n",
    "                    bid_compare_battery.append((agv_bid_sort[i]))\n",
    "            bid_compare_battery_sort = sorted(bid_compare_battery, key= lambda x:x[0].battery, reverse =True)\n",
    "#             print('0',type(bid_compare_battery_sort[0][0]))\n",
    "            if job['inout']=='in':\n",
    "                astar_path = astar(warehouse,bid_compare_battery_sort[0][0].current_location,INPUT_STATION)+astar(warehouse,INPUT_STATION,Rack_enterence[job['station_dest']])\n",
    "            else:\n",
    "                astar_path = astar(warehouse,bid_compare_battery_sort[0][0].current_location,Rack_enterence[job['station_dest']])+astar(warehouse,Rack_enterence[job['station_dest']],OUTPUT_STATION)\n",
    "            target_agv = bid_compare_battery_sort[0][0]\n",
    "            select_agv_list.append(target_agv)\n",
    "            target_agv.get_job(job,astar_path)\n",
    "            print(\"D running_time : {}, target_agv : {}, target_agv.battery: {}, destination : {}, astar_path : {}, available:{}\".format(running_time,target_agv,target_agv.battery,job['station_dest'],astar_path,target_agv.available))\n",
    "            for agv in AGV_LIST:\n",
    "                agv.clear_bid_list(AGV_LIST)                \n",
    "        for moving_agv in select_agv_list:\n",
    "            moving_agv.move_one_tick()\n",
    "            print(\"E time : {}, moving agv : {}, battery : {}, current location : {}\".format(running_time,moving_agv,moving_agv.battery,moving_agv.current_location))\n",
    "            if len(moving_agv.path)==0:\n",
    "                select_agv_list.remove(moving_agv)\n",
    "                moving_agv.available = True\n",
    "                if moving_agv.battery < battery_threshold:\n",
    "                    moving_for_charge_agvs_list.append(moving_agv)\n",
    "                    moving_agv.go_to_charge(moving_agv.select_charging_station(warehouse,CHARGING_STATION))\n",
    "                    "
   ]
  },
  {
   "cell_type": "code",
   "execution_count": null,
   "metadata": {},
   "outputs": [],
   "source": []
  },
  {
   "cell_type": "code",
   "execution_count": null,
   "metadata": {},
   "outputs": [],
   "source": []
  },
  {
   "cell_type": "code",
   "execution_count": null,
   "metadata": {},
   "outputs": [],
   "source": []
  }
 ],
 "metadata": {
  "kernelspec": {
   "display_name": "Python 3",
   "language": "python",
   "name": "python3"
  },
  "language_info": {
   "codemirror_mode": {
    "name": "ipython",
    "version": 3
   },
   "file_extension": ".py",
   "mimetype": "text/x-python",
   "name": "python",
   "nbconvert_exporter": "python",
   "pygments_lexer": "ipython3",
   "version": "3.8.5"
  }
 },
 "nbformat": 4,
 "nbformat_minor": 4
}
