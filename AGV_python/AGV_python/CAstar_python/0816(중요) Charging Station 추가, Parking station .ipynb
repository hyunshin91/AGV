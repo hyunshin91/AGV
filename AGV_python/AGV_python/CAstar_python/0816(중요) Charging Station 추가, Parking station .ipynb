{
 "cells": [
  {
   "cell_type": "markdown",
   "metadata": {},
   "source": [
    "# Import Library"
   ]
  },
  {
   "cell_type": "code",
   "execution_count": 1,
   "metadata": {},
   "outputs": [],
   "source": [
    "## find Astart 고친것 (모든 함수에서)"
   ]
  },
  {
   "cell_type": "code",
   "execution_count": 2,
   "metadata": {},
   "outputs": [],
   "source": [
    "import numpy as np\n",
    "import matplotlib.pyplot as plt\n",
    "import queue\n",
    "import random\n",
    "from enum import Enum\n",
    "from heapq import *\n",
    "import copy"
   ]
  },
  {
   "cell_type": "markdown",
   "metadata": {},
   "source": [
    "# Seed 고정"
   ]
  },
  {
   "cell_type": "code",
   "execution_count": 3,
   "metadata": {},
   "outputs": [],
   "source": [
    "np.random.seed(10)\n",
    "random.seed(10)"
   ]
  },
  {
   "cell_type": "markdown",
   "metadata": {},
   "source": [
    "# Create Job"
   ]
  },
  {
   "cell_type": "code",
   "execution_count": 4,
   "metadata": {},
   "outputs": [],
   "source": [
    "job_number  = 100"
   ]
  },
  {
   "cell_type": "code",
   "execution_count": 5,
   "metadata": {},
   "outputs": [
    {
     "name": "stdout",
     "output_type": "stream",
     "text": [
      "[13 11 10  7  6 13 12 15 10  9  9 11 11 13 15  5 10  7  8  8  8  9 13  9\n",
      " 13 10  4  8  8  8 14 14 11 11  8  8 10 10  8  8  4 11  8  8 12  3  5 14\n",
      "  7 10  6 11  7  7 15 11 11 11  6 12  9 10  5 11  7  8 12  9 11 11 12 10\n",
      " 10  6 10  5  5  4 11 11  8  9  9 10 19 14  7 10 13  8  9 14 11  9 10  8\n",
      " 13  7 11]\n",
      "[0, 13, 24, 34, 41, 47, 60, 72, 87, 97, 106, 115, 126, 137, 150, 165, 170, 180, 187, 195, 203, 211, 220, 233, 242, 255, 265, 269, 277, 285, 293, 307, 321, 332, 343, 351, 359, 369, 379, 387, 395, 399, 410, 418, 426, 438, 441, 446, 460, 467, 477, 483, 494, 501, 508, 523, 534, 545, 556, 562, 574, 583, 593, 598, 609, 616, 624, 636, 645, 656, 667, 679, 689, 699, 705, 715, 720, 725, 729, 740, 751, 759, 768, 777, 787, 806, 820, 827, 837, 850, 858, 867, 881, 892, 901, 911, 919, 932, 939, 950]\n"
     ]
    }
   ],
   "source": [
    "job_time_interval = np.random.poisson(10,job_number-1)\n",
    "job_create_time = [sum(job_time_interval[:i]) for i in range(len(job_time_interval)+1)]\n",
    "print(job_time_interval)\n",
    "print(job_create_time)"
   ]
  },
  {
   "cell_type": "code",
   "execution_count": 6,
   "metadata": {},
   "outputs": [
    {
     "data": {
      "image/png": "[encoded data removed]",
      "text/plain": [
       "<Figure size 432x288 with 1 Axes>"
      ]
     },
     "metadata": {
      "needs_background": "light"
     },
     "output_type": "display_data"
    }
   ],
   "source": [
    "count, bins, ignored = plt.hist(job_time_interval, 100, density = True)\n",
    "plt.show()"
   ]
  },
  {
   "cell_type": "code",
   "execution_count": 7,
   "metadata": {},
   "outputs": [
    {
     "data": {
      "image/png": "[encoded data removed]",
      "text/plain": [
       "<Figure size 432x288 with 1 Axes>"
      ]
     },
     "metadata": {
      "needs_background": "light"
     },
     "output_type": "display_data"
    }
   ],
   "source": [
    "plt.plot(job_create_time)\n",
    "plt.show()"
   ]
  },
  {
   "cell_type": "markdown",
   "metadata": {},
   "source": [
    "# Job Queue"
   ]
  },
  {
   "cell_type": "code",
   "execution_count": 8,
   "metadata": {},
   "outputs": [],
   "source": [
    "class JobQueue(object):\n",
    "    \n",
    "    def __init__(self):\n",
    "        self.job_q = queue.Queue()\n",
    "        self.job_number = 0\n",
    "        \n",
    "    def insertJob(self, inout,  station_dest):\n",
    "        job = {\"inout\": inout, \"station_dest\": station_dest}\n",
    "        self.job_q.put(job)\n",
    "        self.job_number+=1\n",
    "\n",
    "    def getJob(self):\n",
    "        if self.job_q.empty():\n",
    "            return \n",
    "        self.job_number-=1\n",
    "        return self.job_q.get()"
   ]
  },
  {
   "cell_type": "code",
   "execution_count": 9,
   "metadata": {},
   "outputs": [],
   "source": [
    "def job_create(rack_location,total_job_location_list,time,total_job_information):\n",
    "    job_location = [random.choice(rack_location)]\n",
    "    if total_job_location_list.count(job_location)%2==0:\n",
    "        total_job_information['{}'.format(time)] = ['in',job_location]\n",
    "    else:\n",
    "        total_job_information['{}'.format(time)] = ['out',job_location]\n",
    "    total_job_location_list.append(job_location)\n",
    "    return total_job_information"
   ]
  },
  {
   "cell_type": "markdown",
   "metadata": {},
   "source": [
    "# AGV"
   ]
  },
  {
   "cell_type": "code",
   "execution_count": 10,
   "metadata": {},
   "outputs": [],
   "source": [
    "class AGV(object):\n",
    "    max_battery = 200\n",
    "    CHARGING_STATION = [(2,9),(6,9)]    \n",
    "    \n",
    "    def __init__(self,agv_id,current_location,job_for_bid,current_tick=0,cost=0,bid_list = []):\n",
    "        self.agv_id = agv_id\n",
    "        self.battery = self.max_battery\n",
    "        self.current_location = current_location\n",
    "        self.job = None\n",
    "        self.destination = None\n",
    "        self.available = True\n",
    "        self.current_tick = current_tick\n",
    "        self.to_chaging_station = False\n",
    "        self.charging = False\n",
    "        self.job_for_bid = job_for_bid\n",
    "        self.bid_list = bid_list\n",
    "        self.cost = cost \n",
    "        self.walking_path = []\n",
    "        \n",
    "        \n",
    "#     def __str__(self):\n",
    "#         return 'agv_id:{}  job:{}  available:{}'.format(self.agv_id, self.job, self.available)\n",
    "    \n",
    "#     def __str__(self):\n",
    "#         return 'agv_id:{}'.format(self.agv_id)\n",
    "    \n",
    "    def move_one_tick(self):\n",
    "        if len(self.path) !=0:\n",
    "            self.walking_path += self.path[1:]\n",
    "            self.next_location = self.path[0]\n",
    "            self.current_location = self.next_location\n",
    "            del self.path[0]\n",
    "            if len(self.path) ==0:\n",
    "                self.available = True\n",
    "            self.battery -=1\n",
    "            self.current_tick +=1\n",
    "        else:\n",
    "            self.available = True\n",
    "            \n",
    "    def move_one_tick_for_charge(self,charging_agvs_list,moving_for_charge_agvs):\n",
    "        self.path_for_charge = self.castar_path_to_charger\n",
    "        if len(self.path_for_charge) !=0:\n",
    "            self.to_chaging_station = True\n",
    "            self.next_location = self.path_for_charge[0]\n",
    "            self.current_location = self.next_location\n",
    "            del self.path_for_charge[0]\n",
    "            self.battery -=1\n",
    "            self.current_tick +=1\n",
    "            if len(self.path_for_charge) ==0:\n",
    "                charging_agvs_list.append(self)\n",
    "                moving_for_charge_agvs.remove(self)\n",
    "                self.to_chaging_station = False\n",
    "                self.charging = True\n",
    "#                 self.charging_agv()\n",
    "#         else:\n",
    "#             self.charging = True\n",
    "    \n",
    "    def get_job(self,job,castar_path):\n",
    "        self.job = job\n",
    "        self.path = castar_path\n",
    "        self.available = False\n",
    "        \n",
    "    def go_to_charge(self,castar_path_to_charger):\n",
    "        self.path_for_charge = castar_path_to_charger\n",
    "        self.to_chaging_station = True\n",
    "    \n",
    "    \n",
    "#     def agv_to_charging_station(self,battery_threshold):\n",
    "#         if self.available == True and self.battery <= battery_threshold:\n",
    "#             self.to_chaging_station = True\n",
    "\n",
    "    def calculate_bid(self,job,warehouse,INPUT_STATION_tuple,OUTPUT_STATION_tuple,reservation_table,global_time):\n",
    "#         print(job['station_dest'][1][0])\n",
    "#         print(\"INPUT_STATION[0]\",INPUT_STATION[0])\n",
    "#         print(\"Rack_enterence[job['station_dest']]\",Rack_enterence[job['station_dest']])\n",
    "        if job['inout']=='in':\n",
    "            cost = len(findPathAstar(graph,self,self.current_location,INPUT_STATION_tuple,reservation_table,global_time)+findPathAstar(graph,self,INPUT_STATION_tuple,Rack_enterence[job['station_dest']],reservation_table,global_time))\n",
    "        else:\n",
    "            cost = len(findPathAstar(graph,self,self.current_location,Rack_enterence[job['station_dest']],reservation_table,global_time)+findPathAstar(graph,self,Rack_enterence[job['station_dest']],OUTPUT_STATION_tuple,reservation_table,global_time))\n",
    "        self.cost= cost \n",
    "        return self.cost,self\n",
    "    \n",
    "#     def calculate_cost_for_charing_bid(self,warehouse,CHARGING_STATION):\n",
    "#         bid_for_charge = []\n",
    "#         for charging_station in CHARGING_STATION:\n",
    "#             bid_for_charge.append(charging_station,astar(warehouse,self.current_location,charging_station))\n",
    "#         bid_for_charge_sort = sorted(bid_for_charge, key =lambda x:x[1])\n",
    "#         selected_chargeing\n",
    "#         return cost        \n",
    "    \n",
    "    \n",
    "    def select_charging_station(self,warehouse,CHARGING_STATION,reservation_table,global_time):\n",
    "        bid_for_charge = []\n",
    "#         print('%',CHARGING_STATION)\n",
    "        for charging_station in CHARGING_STATION:\n",
    "#             if charging_station, booked\n",
    "#             print(\"^\",charging_station)\n",
    "            bid_for_charge.append((charging_station,len(findPathAstar(graph,self,self.current_location,charging_station,reservation_table,global_time))))\n",
    "        bid_for_charge_sort = sorted(bid_for_charge, key =lambda x:x[1])\n",
    "#         print(\"$$bid_for_charge_sort\",bid_for_charge_sort)\n",
    "        selected_charging_station = bid_for_charge_sort[0][0]\n",
    "        print(\"selected_charging_station : {}\".format(selected_charging_station.coordinates))\n",
    "        castar_path_to_charger = findPathAstar(graph,self,self.current_location,charging_station,reservation_table,global_time)\n",
    "        print(\"time : {} ,need charging agv_id : {} castar_path_to_charger : {}\".format(global_time,self.agv_id,[i.coordinates for i in castar_path_to_charger]))\n",
    "        self.castar_path_to_charger = castar_path_to_charger\n",
    "        book_reservation_table(castar_path_to_charger,global_time,reservation_table)\n",
    "#         print('3',castar_path_to_charger)\n",
    "        return selected_charging_station, castar_path_to_charger   \n",
    "    \n",
    "    \n",
    "    def charge_agv(self,charging_agvs):\n",
    "        if self.charging == True:\n",
    "            self.battery +=10\n",
    "            if self.battery >= self.max_battery:\n",
    "                self.battery = self.max_battery\n",
    "                self.charging = False \n",
    "                self.available=True\n",
    "                charging_agvs.remove(self)\n",
    "                \n",
    "#                 \n",
    "                \n",
    "\n",
    "#     def win_bid(self)\n",
    "        \n",
    "    \n",
    "    def drop_job(self):\n",
    "        self.job = None\n",
    "        self.available = True\n",
    "        \n",
    "    def clear_bid_list(self,agv_list):\n",
    "        for agv in agv_list:\n",
    "            agv.bid_list = []\n",
    "            \n",
    "            \n",
    "    def copy(self):\n",
    "        new_agent = Agent(self.pos, self.id)\n",
    "        new_agent.path = self.path.copy()\n",
    "\n",
    "        if self.pickup:\n",
    "            # new_agent.pickup = Pickup(self.pickup.target_list[0], self.pickup.target_list[1])\n",
    "            # new_agent.pickup.state = self.pickup.state\n",
    "            new_agent.pickup = copy.deepcopy(self.pickup)\n",
    "\n",
    "        new_agent.walking_path = self.walking_path.copy()\n",
    "        new_agent.target_path = self.target_path.copy()\n",
    "        new_agent.is_copy = self.is_copy\n",
    "        new_agent.is_carrying_shelf = self.is_carrying_shelf\n",
    "        new_agent.was_at_target = self.was_at_target\n",
    "\n",
    "        return new_agent"
   ]
  },
  {
   "cell_type": "code",
   "execution_count": 11,
   "metadata": {},
   "outputs": [],
   "source": [
    "def getAvailAGV(AGV_LIST,battery_threshold):\n",
    "    return [agv for agv in AGV_LIST if agv.available == True and agv.battery > battery_threshold and agv.charging == False]"
   ]
  },
  {
   "cell_type": "code",
   "execution_count": 12,
   "metadata": {},
   "outputs": [],
   "source": [
    "def getnNeedChargeAgv(AGV_LIST,battery_threshold):\n",
    "    return [agv for agv in AGV_LIST if agv.charging == True and agv.battery <= battery_threshold and agv.charging == False and agv.to_chaging_station == False]"
   ]
  },
  {
   "cell_type": "code",
   "execution_count": 13,
   "metadata": {},
   "outputs": [],
   "source": [
    "def getChargingAGV(AGV_LIST):\n",
    "    return [agv for agv in AGV_LIST if agv.charging == True]"
   ]
  },
  {
   "cell_type": "markdown",
   "metadata": {},
   "source": [
    "# Node"
   ]
  },
  {
   "cell_type": "code",
   "execution_count": 47,
   "metadata": {},
   "outputs": [],
   "source": [
    "class NodeType(Enum):\n",
    "    DEFAULT = 0\n",
    "    OBSTACLE = 1\n",
    "    INPUT = 2\n",
    "    OUPUT = 3\n",
    "    CHARGING_STATION = 4\n",
    "\n",
    "\n",
    "class BasicNode(object):\n",
    "    def __init__(self, new_id, new_type):\n",
    "        self.id = new_id\n",
    "        self.type = new_type\n",
    "\n",
    "class AStarNode(BasicNode):\n",
    "    def __init__(self, new_id, new_type, new_coordinaters):\n",
    "        BasicNode.__init__(self, new_id, new_type)\n",
    "        self.coordinates = new_coordinaters\n",
    "        self.g = None\n",
    "        self.h = None\n",
    "        self.f = None\n",
    "        self.came_from = None\n",
    "        self.depth = 0\n",
    "        self.booked = False\n",
    "\n",
    "    def __lt__(self, other):\n",
    "        if self.f == None or other.f == None:\n",
    "            raise Exception(\"Some f value not initialized!\")\n",
    "        else:\n",
    "            return self.f < other.f\n",
    "\n",
    "    def __eq__(self, other):\n",
    "        return (self.id == other.id and self.depth == other.depth)\n",
    "\n",
    "    def __hash__(self):\n",
    "        return self.id\n",
    "\n",
    "    def compare(self, other):\n",
    "        ok = True\n",
    "        if self.id != other.id:\n",
    "            print(\"1\")\n",
    "            return False\n",
    "        if self.type != other.type:\n",
    "            print(\"2\")\n",
    "            return False\n",
    "        if self.coordinates != other.coordinates:\n",
    "            print(\"3\")\n",
    "            return False\n",
    "        if self.g != other.g:\n",
    "            print(\"4\")\n",
    "            #return False\n",
    "            ok = False\n",
    "        if self.h != other.h:\n",
    "            print(\"5\")\n",
    "            #return False\n",
    "            ok = False\n",
    "        if self.f != other.f:\n",
    "            print(\"6\")\n",
    "            #return False\n",
    "            ok = False\n",
    "        if self.came_from and other.came_from:\n",
    "            if self.came_from.id != other.came_from.id:\n",
    "                print(\"7\")\n",
    "                ok = False\n",
    "        elif self.came_from and not other.came_from:\n",
    "            print(\"8\")\n",
    "            ok = False\n",
    "        elif other.came_from and not self.came_from:\n",
    "            print(\"9\")\n",
    "            ok = False\n",
    "        if self.depth != other.depth:\n",
    "            print(\"10\")\n",
    "            ok = False\n",
    "        if self.booked != other.booked:\n",
    "            print(\"11\")\n",
    "            ok = False\n",
    "\n",
    "        if not ok:\n",
    "            return False\n",
    "        return True\n"
   ]
  },
  {
   "cell_type": "markdown",
   "metadata": {},
   "source": [
    "# Charing Station"
   ]
  },
  {
   "cell_type": "code",
   "execution_count": 15,
   "metadata": {},
   "outputs": [],
   "source": [
    "class ChargingStation(object):\n",
    "    \n",
    "    def __init__(self,charging_station_id,charging_station_location,agv_first_location_list):\n",
    "        self.charging_station_location = charging_station_location\n",
    "        if self.charging_station_location in agv_first_location_list:\n",
    "            self.free = False\n",
    "        else:\n",
    "            self.free = True\n",
    "        self.reserved = False\n",
    "        \n",
    "    def charging_station_reservation(self):\n",
    "        self.reserved = True\n",
    "        \n",
    "    def charging_station_free(self):\n",
    "        self.free = True\n",
    "        self.reserved = False"
   ]
  },
  {
   "cell_type": "code",
   "execution_count": 16,
   "metadata": {},
   "outputs": [],
   "source": [
    "def getAvail_ChargingStation(AGV_LIST):\n",
    "    return [charging_station for charging_station in CHARING_STATION if charging_station.free == True]"
   ]
  },
  {
   "cell_type": "markdown",
   "metadata": {},
   "source": [
    "# Function "
   ]
  },
  {
   "cell_type": "code",
   "execution_count": 17,
   "metadata": {},
   "outputs": [],
   "source": [
    "def reset_graph(graph):\n",
    "    for i in range(0, graph.shape[0]):\n",
    "        for j in range(0, graph.shape[1]):\n",
    "            graph[j][i].g = None\n",
    "            graph[j][i].h = None\n",
    "            graph[j][i].f = None\n",
    "            graph[j][i].came_from = None\n",
    "            graph[j][i].depth = 0"
   ]
  },
  {
   "cell_type": "code",
   "execution_count": 18,
   "metadata": {},
   "outputs": [],
   "source": [
    "def extract_path(current, graph=None):\n",
    "    path = [current]\n",
    "    next_node = current.came_from\n",
    "    while next_node:\n",
    "        path.insert(0, next_node)\n",
    "        next_node = next_node.came_from\n",
    "\n",
    "    for node in path:\n",
    "        node.came_from = None\n",
    "    # if graph != None:\n",
    "    #     reset_graph(graph)\n",
    "    return path"
   ]
  },
  {
   "cell_type": "code",
   "execution_count": 19,
   "metadata": {},
   "outputs": [],
   "source": [
    "def manhattan_distance(start_node,goal_node):\n",
    "    dx = abs(start_node.coordinates[0]-goal_node.coordinates[0])\n",
    "    dy = abs(start_node.coordinates[1]-goal_node.coordinates[1])\n",
    "    return dx + dy"
   ]
  },
  {
   "cell_type": "code",
   "execution_count": 20,
   "metadata": {},
   "outputs": [],
   "source": [
    "## i와 j 바꾼거\n",
    "def reset_f_val_graph(graph):\n",
    "    for i in range(0, graph.shape[0]):\n",
    "        for j in range(0, graph.shape[1]):\n",
    "            graph[j][i].g = None\n",
    "            graph[j][i].h = None\n",
    "            graph[j][i].f = None\n",
    "            graph[j][i].came_from = None"
   ]
  },
  {
   "cell_type": "code",
   "execution_count": 21,
   "metadata": {},
   "outputs": [],
   "source": [
    "def warehouse_show(warehouse):\n",
    "    return warehouse[::-1]"
   ]
  },
  {
   "cell_type": "code",
   "execution_count": 22,
   "metadata": {},
   "outputs": [],
   "source": [
    "def get4Ways(point):\n",
    "    return [(point[0],point[1]+1), (point[0]+1,point[1]),\n",
    "            (point[0],point[1]-1), (point[0]-1,point[1])]"
   ]
  },
  {
   "cell_type": "code",
   "execution_count": 23,
   "metadata": {},
   "outputs": [],
   "source": [
    "# def send_bid(avail_agv_list):\n",
    "#     for agv_ in avail_agv_list:\n",
    "#         agv_.bid_list.append((agv_,agv_.agv_id,agv_.cost))\n",
    "            "
   ]
  },
  {
   "cell_type": "code",
   "execution_count": 24,
   "metadata": {},
   "outputs": [],
   "source": [
    "def send_bid(avail_agv_list):\n",
    "    bid_list = []\n",
    "    for agv_ in avail_agv_list:\n",
    "        bid_list.append(((agv_,agv_.agv_id,agv_.cost)))\n",
    "    for agvs in avail_agv_list:\n",
    "        agvs.bid_list = bid_list"
   ]
  },
  {
   "cell_type": "code",
   "execution_count": 25,
   "metadata": {},
   "outputs": [],
   "source": [
    "## Rack_information 함수로 만들것"
   ]
  },
  {
   "cell_type": "markdown",
   "metadata": {},
   "source": [
    "# Graph"
   ]
  },
  {
   "cell_type": "code",
   "execution_count": 26,
   "metadata": {},
   "outputs": [],
   "source": [
    "def create_Astar_graph(warehouse):\n",
    "    graph = np.ndarray((warehouse.shape), dtype=BasicNode)\n",
    "    index = 0\n",
    "    item_counter = 0\n",
    "    input_station = []\n",
    "    output_station = []\n",
    "    charging_station = []\n",
    "    for (i,j), value in np.ndenumerate(warehouse):\n",
    "            graph[j][i] = AStarNode(index, NodeType(value), (j,i))\n",
    "            if value == 2:\n",
    "#                 graph[j][i].booked = False\n",
    "                input_station.append(graph[j][i])\n",
    "            if value == 3:\n",
    "                output_station.append(graph[j][i])\n",
    "                \n",
    "            if value ==4:\n",
    "                charging_station.append(graph[j][i])\n",
    "            index += 1\n",
    "    return graph, input_station, output_station ,charging_station"
   ]
  },
  {
   "cell_type": "markdown",
   "metadata": {},
   "source": [
    "# Astar"
   ]
  },
  {
   "cell_type": "code",
   "execution_count": 27,
   "metadata": {},
   "outputs": [],
   "source": [
    "def AStar(graph, start_tuple,goal_tuple, p=False):\n",
    "    #reset_graph(graph)\n",
    "    start = graph[start_tuple[0]][start_tuple[1]]\n",
    "    start.depth = 0\n",
    "    start.came_from = None\n",
    "    target = graph[goal_tuple[0]][goal_tuple[1]]\n",
    "\n",
    "    if p:\n",
    "        print(\"new astar from %d to %d\" % (start.id, target.id))\n",
    "\n",
    "    start.g = 0\n",
    "    start.h = manhattan_distance(start, target)\n",
    "    start.f = start.h\n",
    "\n",
    "    neighbours = [(0,1),(1,0),(-1,0),(0,-1)]\n",
    "\n",
    "    open_list = []\n",
    "    closed_list = set()\n",
    "\n",
    "    heappush(open_list, start) # add start to open list\n",
    "\n",
    "    while open_list:\n",
    "        current = heappop(open_list)\n",
    "        closed_list.add(current)\n",
    "\n",
    "        if current.coordinates == target.coordinates:\n",
    "            # target is found, extract the path\n",
    "            return extract_path(current, graph)\n",
    "####1차시도 for(i,j) -> for (j,i)로 변경 -> 실패 \n",
    "###2차시도 x , y  = y, x\n",
    "###3차시도 graph 에 있는x , y  = y, x\n",
    "        for (i,j) in neighbours:\n",
    "            x, y = (current.coordinates[0] + i, current.coordinates[1] + j)\n",
    "            if x < 0 or x >= graph.shape[0] or y < 0 or y >= graph.shape[1]:\n",
    "                # neighbour coordinates are out of the graph\n",
    "                continue\n",
    "            neighbour = graph[x][y]\n",
    "            neighbour.depth = 0\n",
    "            if neighbour.type == NodeType.OBSTACLE:\n",
    "                continue\n",
    "            if neighbour in closed_list:\n",
    "                continue\n",
    "\n",
    "            if neighbour not in open_list or current.g + 1 < neighbour.g:\n",
    "                neighbour.g = current.g + 1\n",
    "                neighbour.h = manhattan_distance(neighbour, target)\n",
    "                neighbour.f = neighbour.g + neighbour.h\n",
    "                neighbour.came_from = current\n",
    "                if neighbour not in open_list:\n",
    "                    heappush(open_list, neighbour)"
   ]
  },
  {
   "cell_type": "code",
   "execution_count": 28,
   "metadata": {},
   "outputs": [],
   "source": [
    "#내가 생각하는 맞는것 + global_time\n",
    "def collisionWillOccur(reservation_table, current, neighbour,global_time):\n",
    "    if (current.depth+global_time + 1,neighbour.id) in reservation_table:\n",
    "        # Moving to node collision\n",
    "        return True\n",
    "    if (current.depth + global_time+1,current.id) in reservation_table and (current.depth+global_time,neighbour.id) in reservation_table:\n",
    "        # Swap collision\n",
    "        return True\n",
    "    return False"
   ]
  },
  {
   "cell_type": "code",
   "execution_count": 29,
   "metadata": {},
   "outputs": [],
   "source": [
    "# #내가 생각하는 맞는것 \n",
    "# def collisionWillOccur(reservation_table, current, neighbour):\n",
    "#     if (current.depth + 1,neighbour.id) in reservation_table:\n",
    "#         # Moving to node collision\n",
    "#         return True\n",
    "#     if (current.depth + 1,current.id) in reservation_table and (current.depth,neighbour.id) in reservation_table:\n",
    "#         # Swap collision\n",
    "#         return True\n",
    "#     return False"
   ]
  },
  {
   "cell_type": "code",
   "execution_count": 30,
   "metadata": {},
   "outputs": [],
   "source": [
    "def book_reservation_table(path_so_far,global_time,reservation_table):\n",
    "    for time, value in enumerate(path_so_far):\n",
    "        reservation_table[(value.depth+global_time, value.id)] = True\n",
    "    return reservation_table"
   ]
  },
  {
   "cell_type": "code",
   "execution_count": 31,
   "metadata": {},
   "outputs": [],
   "source": [
    "### start, goal 고친 후 \n",
    "### gloabl_time을 추가한 이후 \n",
    "## findPathAstar에 reservation까지 같이 들어 있음 \n",
    "## findPathAstar에서 예약부분만 따로 떼어냄 \n",
    "\n",
    "def findPathAstar(graph, agv,start_tuple,goal_tuple,reservation_table,global_time):\n",
    "    global_time = global_time\n",
    "    \n",
    "    if type(start_tuple)==tuple:\n",
    "        start = graph[start_tuple[0]][start_tuple[1]]\n",
    "    else:\n",
    "        start = graph[start_tuple.coordinates[0]][start_tuple.coordinates[1]] \n",
    "        \n",
    "    if type(goal_tuple)==tuple:\n",
    "        target = graph[goal_tuple[0]][goal_tuple[1]]\n",
    "    else:\n",
    "        target = graph[goal_tuple.coordinates[0]][goal_tuple.coordinates[1]]\n",
    "    \n",
    "    start.g = 0\n",
    "    start.h = manhattan_distance(start,target)\n",
    "    start.f = start.h\n",
    "    \n",
    "    neighbours = [(0,1),(1,0),(-1,0),(0,-1),(0,0)]\n",
    "    open_list = []\n",
    "    closed_list = set()   \n",
    "    \n",
    "    # add start to open list\n",
    "    heappush(open_list, start)\n",
    "    reached_target_last_step = False\n",
    "\n",
    "    while open_list:\n",
    "        current = heappop(open_list)\n",
    "        current.depth = current.depth \n",
    "#         current.depth = current.depth + global_time\n",
    "#         print(\"current : {} , current.depth : {}\".format(current.coordinates,current.depth))\n",
    "        ## 내가 추가한 부분 \n",
    "        closed_list.add(current)\n",
    "        if current.coordinates == target.coordinates:\n",
    "            if not reached_target_last_step:\n",
    "                reached_target_last_step = True\n",
    "            else:\n",
    "                path_so_far = extract_path(current) \n",
    "                                        \n",
    "                return path_so_far\n",
    "#                 return path_so_far + next_path[1:]\n",
    "                \n",
    "        else:\n",
    "            reached_target_last_step = False\n",
    "#         print(\"a\")   \n",
    "            \n",
    "        for (i,j) in neighbours:\n",
    "            x, y = (current.coordinates[0] + i, current.coordinates[1] + j)\n",
    "            if x < 0 or x >= graph.shape[0] or y < 0 or y >= graph.shape[1]:\n",
    "                # neighbour coordinates are out of the graph\n",
    "                continue\n",
    "#             print(\"c\") \n",
    "            neighbour = graph[x][y]\n",
    "            neighbour = copy.deepcopy(neighbour)\n",
    "            ## 이부분에 tick 추가 (global)\n",
    "#             neighbour.depth = current.depth +global_time+ 1\n",
    "            neighbour.depth = current.depth + 1\n",
    "\n",
    "            if neighbour.type == NodeType.OBSTACLE:\n",
    "                # neighbour is not traversable, an obstacle\n",
    "                #print(\"neigbout %d depth %d has OBSTACLE\" % (neighbour.id, neighbour.depth))\n",
    "                continue\n",
    "\n",
    "            if neighbour in closed_list:\n",
    "                # neighbour case has already been considered\n",
    "                #print(\"neigbout %d depth %d has CLOSED\" % (neighbour.id, neighbour.depth))\n",
    "                continue\n",
    "\n",
    "            if collisionWillOccur(reservation_table, current, neighbour, global_time):\n",
    "                # can't move to neighbour since another agent is there\n",
    "                #print(\"neigbout %d depth %d has colliiiishhh\" % (neighbour.id, neighbour.depth))\n",
    "                continue\n",
    "\n",
    "            if neighbour in open_list:\n",
    "                # make neighbour refer to correct node object\n",
    "                for x in open_list:\n",
    "                    if x == neighbour:\n",
    "                        neighbour = x\n",
    "                        break\n",
    "\n",
    "            if neighbour not in open_list or current.g + 1 < neighbour.g:\n",
    "                if neighbour.coordinates == target.coordinates:\n",
    "                    # waiting at target is preferred\n",
    "                    neighbour.g = current.g + 0\n",
    "                else:\n",
    "                    neighbour.g = current.g + 1\n",
    "                neighbour.h = manhattan_distance(neighbour, target)\n",
    "                neighbour.f = neighbour.g + neighbour.h\n",
    "\n",
    "                # set parent\n",
    "                neighbour.came_from = current\n",
    "\n",
    "                if neighbour not in open_list:\n",
    "                    # add newly discovered node to open list.\n",
    "                    heappush(open_list, neighbour)\n",
    "#     print(\"a\")\n",
    "\n",
    "    print(\"IMPOSSIBLE PROBLEM\")\n",
    "        "
   ]
  },
  {
   "cell_type": "markdown",
   "metadata": {},
   "source": [
    "# CAstar Cost 계산 함수 "
   ]
  },
  {
   "cell_type": "code",
   "execution_count": 32,
   "metadata": {},
   "outputs": [],
   "source": [
    "## global_time 추가, OUPUT_STATION의 tuple 형태, INPUT_STATION의 tuple 형태\n",
    "def CAStar(graph,AGV_LIST,INPUT_STATION,OUTPUT_STATION,reservation_table,global_time):\n",
    "    agv_avail = getAvailAGV(AGV_LIST,battery_threshold)\n",
    "    total_cost = 0\n",
    "    while len(agv_avail)!=0 and jobQ.job_number!=0:\n",
    "        job = jobQ.getJob()\n",
    "        print(job)\n",
    "#         print(job['station_dest'])\n",
    "        agv_avail = getAvailAGV(AGV_LIST, battery_threshold)\n",
    "        for agv in agv_avail:\n",
    "            agv.calculate_bid(job,warehouse,INPUT_STATION[0].coordinates,OUTPUT_STATION[0].coordinates)\n",
    "            agv.bid_list.append(agv.calculate_bid(job,warehouse,INPUT_STATION[0].coordinates,OUTPUT_STATION[0].coordinates))\n",
    "        for agv_ in agv_avail:\n",
    "#             print(agv_bid_list)\n",
    "            agv_bid_sort = sorted(agv_.bid_list,key = lambda x:x[0], reverse = False)\n",
    "#             print(agv_bid_sort)\n",
    "        bid_compare_battery=[]\n",
    "        for i in range(len(agv_bid_sort)):\n",
    "            if agv_bid_sort[i][1]==agv_bid_sort[0][1]:\n",
    "                bid_compare_battery.append((agv_bid_sort[i]))\n",
    "        bid_compare_battery_sort = sorted(bid_compare_battery, key= lambda x:x[1].battery, reverse =True)\n",
    "\n",
    "        reset_graph(graph)\n",
    "         \n",
    "        if job['inout']=='in':\n",
    "            castar_path = findPathAstar(graph,bid_compare_battery_sort[0][1],bid_compare_battery_sort[0][1].current_location,INPUT_STATION[0].coordinates,reservation_table,global_time)+findPathAstar(graph,bid_compare_battery_sort[0][1],INPUT_STATION[0].coordinates,Rack_enterence[job['station_dest']],reservation_table,global_time)\n",
    "        else:\n",
    "            castar_path = findPathAstar(graph,bid_compare_battery_sort[0][1],bid_compare_battery_sort[0][1].current_location,Rack_enterence[job['station_dest']],reservation_table,global_time)+findPathAstar(graph,bid_compare_battery_sort[0][1],Rack_enterence[job['station_dest']],OUTPUT_STATION[0].coordinates,reservation_table,global_time)\n",
    "        if castar_path == None:\n",
    "            return -1\n",
    "        for time,value in enumerate(castar_path):\n",
    "#             reservation_table[hash(value.depth, value.id)] = True \n",
    "            reservation_table[(value.depth+global_time, value.id)] = True  \n",
    "        target_agv = bid_compare_battery_sort[0][1]\n",
    "        select_agv_list.append(target_agv)\n",
    "        target_agv.get_job(job,castar_path)\n",
    "        print(\" target_agv : {}, target_agv.battery: {}, destination : {}, castar_path : {}, available:{}\".format(target_agv,target_agv.battery,job['station_dest'],[i.coordinates for i in castar_path],target_agv.available))\n",
    "#         ### path 찍어보기 \n",
    "#         for move in castar_path:\n",
    "#             print(move.coordinates)\n",
    "#         print(reservation_table)\n",
    "        for agv in AGV_LIST:\n",
    "                agv.clear_bid_list(AGV_LIST)\n",
    "        agv_avail = getAvailAGV(AGV_LIST,battery_threshold)\n",
    "        for agv in AGV_LIST:\n",
    "            total_cost += len(agv.walking_path)\n",
    "            return total_cost"
   ]
  },
  {
   "cell_type": "markdown",
   "metadata": {},
   "source": [
    "# Main 함수"
   ]
  },
  {
   "cell_type": "code",
   "execution_count": 33,
   "metadata": {},
   "outputs": [],
   "source": [
    "def main():\n",
    "    global number_of_tests\n",
    "    cost_CA= []\n",
    "    input_size_items = []\n",
    "    input_size_orders = []\n",
    "    select_agv_list = []\n",
    "    charging_agvs_list = []\n",
    "    moving_for_charge_agvs_list = []\n",
    "#     number_of_agents = 20\n",
    "    failed_count = 0\n",
    "    impossible_problems_CA = 0\n",
    "    for test_number in range(0,number_of_tests):\n",
    "        print(\"starting test {}\".format(test_number))\n",
    "        order_input = len(total_job_information)\n",
    "        graph, INPUT_STATION, OUTPUT_STATION, CHARGING_STATION = create_Astar_graph(warehouse)\n",
    "        for running_time in range(run_time+1):\n",
    "            now_charging_agv = getChargingAGV(AGV_LIST)\n",
    "            \n",
    "            \n",
    "            ### reservation_table 삭제 \n",
    "            delete = []\n",
    "            if running_time-1>=0:\n",
    "                for keys in reservation_table.keys():\n",
    "                    if keys[0]==running_time-1:\n",
    "                        delete.append(keys)\n",
    "                for _ in delete:\n",
    "                    del reservation_table[_]\n",
    "                \n",
    "            \n",
    "            if len(now_charging_agv)!=0:\n",
    "                print('time : {: >5}, charging_agv : {}'.format(running_time,[i.agv_id for i in now_charging_agv]))\n",
    "            if len(now_charging_agv)!=0:\n",
    "                for charging_agv in now_charging_agv:\n",
    "                    charging_agv.charge_agv(charging_agvs_list)\n",
    "            if len(moving_for_charge_agvs_list)!=0:\n",
    "                print('moving_for_charge_agvs_list :',[agv.agv_id for agv in  moving_for_charge_agvs_list])\n",
    "                for moving_agvs in moving_for_charge_agvs_list :\n",
    "                    moving_agvs.move_one_tick_for_charge(charging_agvs_list,moving_for_charge_agvs_list)\n",
    "                    print(\"time : {: >5}, moving agv for charging : {}, current location : {}, current battery : {}\".format(running_time, moving_agvs.agv_id,moving_agvs.current_location.coordinates,moving_agvs.battery))\n",
    "                    if moving_agvs.charging == True:\n",
    "                        #10#\n",
    "#                         print('moving_for_charge_agvs_list :',moving_for_charge_agvs_list,'moving_agvs : ',moving_agvs.agv_id,'moving_agvs battery :',moving_agvs.battery)\n",
    "    #                     moving_for_charge_agvs_list.remove(moving_agvs)\n",
    "                        charging_agvs_list.append(moving_agvs)\n",
    "        #       #사용가능한 agv와 job이 있을때 \n",
    "            if running_time in job_create_time:\n",
    "#                 print(\"@@@@@@@@@@@@@@@@@\",running_time)\n",
    "                jobQ.insertJob(total_job_information.get('{}'.format(running_time))[0],total_job_information.get('{}'.format(running_time))[1][0])\n",
    "            agv_avail = getAvailAGV(AGV_LIST,battery_threshold)\n",
    "            while len(agv_avail)!=0 and jobQ.job_number!=0:\n",
    "#                 AGV는 제대로 나옴 \n",
    "#                 print(\"@#@agv_avail\",agv_avail)\n",
    "                job = jobQ.getJob()\n",
    "#                 print(job)\n",
    "                print(\"time : {: >5}, available_agv : {}\".format(running_time,[agv.agv_id for agv in agv_avail]))\n",
    "        #         print(job['station_dest'])\n",
    "                agv_avail = getAvailAGV(AGV_LIST, battery_threshold)\n",
    "            #01#\n",
    "                for agv in agv_avail:\n",
    "                    agv.calculate_bid(job,graph,INPUT_STATION[0].coordinates,OUTPUT_STATION[0].coordinates,reservation_table,running_time)\n",
    "                    \n",
    "                send_bid(agv_avail)            \n",
    "                \n",
    "                for agv_ in agv_avail:\n",
    "#                     print(\"agv_bid_listagv_bid_list\",agv_.bid_list)\n",
    "                    agv_bid_sort = sorted(agv_.bid_list,key = lambda x:x[2], reverse = False)\n",
    "#                     print(\"agv_bid_sort\",agv_bid_sort)\n",
    "                bid_compare_battery=[]\n",
    "                for i in range(len(agv_bid_sort)):\n",
    "                    if agv_bid_sort[i][1]==agv_bid_sort[0][1]:\n",
    "                        bid_compare_battery.append((agv_bid_sort[i]))\n",
    "                \n",
    "                bid_compare_battery_sort = sorted(bid_compare_battery, key= lambda x:x[0].battery, reverse =True)\n",
    "#                 print(\"bid_compare_battery_sort\",bid_compare_battery_sort)\n",
    "                reset_graph(graph)\n",
    "#                 print(\"bid_compare_battery_sort[0][1]\",bid_compare_battery_sort[0][1])\n",
    "#                 print(\"bid_compare_battery_sort[0][1].current_location\",bid_compare_battery_sort[0][1].current_location)\n",
    "#                 print(\"INPUT_STATION[0].coordinates\",INPUT_STATION[0].coordinates)\n",
    "#                 print(\"Rack_enterence[job['station_dest']]\",Rack_enterence[job['station_dest']])\n",
    "                if job['inout']=='in':\n",
    "                    path_agvloc_to_in = findPathAstar(graph,bid_compare_battery_sort[0][0],bid_compare_battery_sort[0][0].current_location,INPUT_STATION[0].coordinates,reservation_table,running_time) \n",
    "                    path_in_to_rack = findPathAstar(graph,bid_compare_battery_sort[0][0],INPUT_STATION[0].coordinates,Rack_enterence[job['station_dest']],reservation_table,running_time+len(path_agvloc_to_in))\n",
    "                    castar_path = path_agvloc_to_in + path_in_to_rack\n",
    "                    book_reservation_table(path_agvloc_to_in,running_time,reservation_table)\n",
    "                    book_reservation_table(path_in_to_rack,running_time+len(path_agvloc_to_in),reservation_table)\n",
    "                else:\n",
    "                    path_agvloc_to_rack = findPathAstar(graph,bid_compare_battery_sort[0][0],bid_compare_battery_sort[0][0].current_location,Rack_enterence[job['station_dest']],reservation_table,running_time)\n",
    "                    path_rack_to_out = findPathAstar(graph,bid_compare_battery_sort[0][0].current_location,Rack_enterence[job['station_dest']],OUTPUT_STATION[0].coordinates,reservation_table,running_time+len(path_agvloc_to_rack))\n",
    "                    book_reservation_table(path_agvloc_to_rack,running_time,reservation_table)\n",
    "                    book_reservation_table(path_rack_to_out,running_time+len(path_agvloc_to_rack),reservation_table)\n",
    "                    print(\"path_agvloc_to_rack\",len(path_agvloc_to_rack))\n",
    "                    castar_path = path_agvloc_to_rack+path_rack_to_out\n",
    "#                 print([i.coordinates for i in castar_path])\n",
    "                if castar_path == None:\n",
    "                    return -1\n",
    "                                \n",
    "                ##3##    \n",
    "                \n",
    "\n",
    "#                 for time,value in enumerate(castar_path):\n",
    "#         #             reservation_table[hash(value.depth, value.id)] = True \n",
    "#                     reservation_table[(value.depth+running_time, value.id)] = True  \n",
    "#                 print(reservation_table)\n",
    "                \n",
    "                target_agv = bid_compare_battery_sort[0][0]\n",
    "                select_agv_list.append(target_agv)\n",
    "                target_agv.get_job(job,castar_path)\n",
    "#                 print(\"D running_time : {}, target_agv : {}, target_agv.battery: {}, destination : {}, castar_path : {}, available:{}\".format(running_time,target_agv.agv_id,target_agv.battery,job['station_dest'],[i.coordinates for i in castar_path],target_agv.available))\n",
    "                print(\"time : {: >5}, target_agv : {}, target_agv.battery: {}, destination : {}, castar_path : {}, available:{}\".format(running_time,target_agv.agv_id,target_agv.battery,job['station_dest'],[i.coordinates for i in castar_path],target_agv.available))\n",
    "                \n",
    "                for agv_ in agv_avail:\n",
    "                    agv_.bid_list = []\n",
    "                agv_avail = getAvailAGV(AGV_LIST, battery_threshold)\n",
    "#             one_algorithm_failed = False \n",
    "#             print(\"INPUT_STATION.coordinates\",INPUT_STATION[0].coordinates,\"OUTPUT_STATION.coordinates\",OUTPUT_STATION[0].coordinates)\n",
    "            #@#\n",
    "            # cost 계산부분\n",
    "#             current_COST = CAStar(graph,AGV_LIST,INPUT_STATION,OUTPUT_STATION,reservation_table,running_time)\n",
    "#             if current_COST ==-1:\n",
    "#                 impossible_problems_CA +=1\n",
    "#                 one_algorithm_failed = True\n",
    "#             cost_CA.append(current_COST)\n",
    "\n",
    "\n",
    "##################################################추가#######################################################################    \n",
    "\n",
    "    #         print('C running_time : {} , agv_avail : {}'.format(running_time,agv_avail))\n",
    "            for moving_agv in select_agv_list:\n",
    "                moving_agv.move_one_tick()\n",
    "#                 print(\"RTRTRT\",reservation_table)\n",
    "#                 print(\"E time : {}, moving agv : {}, battery : {}, current location : {}\".format(running_time,moving_agv.agv_id,moving_agv.battery,moving_agv.current_location.coordinates))\n",
    "                print(\"time : {: >5}, moving agv : {}, battery : {}, current location : {}\".format(running_time,moving_agv.agv_id,moving_agv.battery,moving_agv.current_location.coordinates))\n",
    "                \n",
    "                if len(moving_agv.path)==0:\n",
    "                    select_agv_list.remove(moving_agv)\n",
    "                    moving_agv.available = True\n",
    "                    if moving_agv.battery < battery_threshold:\n",
    "                        moving_for_charge_agvs_list.append(moving_agv)\n",
    "                        moving_agv.go_to_charge(moving_agv.select_charging_station(graph,CHARGING_STATION,reservation_table,running_time))\n",
    "                        \n",
    "        number_of_tests = number_of_tests - failed_count   \n",
    "        if number_of_tests <= 0:\n",
    "            print(\"No simulations were successful\")\n",
    "            return\n",
    "        print(\"cost_CA\",cost_CA)\n",
    "        avg_cost_CA = np.sum(cost_CA) / number_of_tests\n",
    "        print(\"The average cost for CA: %.3f\" % (avg_cost_CA))\n",
    "        print(\"impossible problems encountered: CA: %d\" % (impossible_problems_CA))\n",
    "                \n"
   ]
  },
  {
   "cell_type": "markdown",
   "metadata": {},
   "source": [
    "# 실험"
   ]
  },
  {
   "cell_type": "markdown",
   "metadata": {},
   "source": [
    "### Simulation condition"
   ]
  },
  {
   "cell_type": "code",
   "execution_count": 88,
   "metadata": {},
   "outputs": [],
   "source": [
    "warehouse = np.array(\n",
    "[[0, 0, 0, 2, 0, 0, 3, 0, 0, 0, 0],\n",
    " [0, 1, 1, 0, 1, 1, 0, 1, 1, 0, 0],\n",
    " [0, 1, 1, 0, 1, 1, 0, 1, 1, 0, 0],\n",
    " [0, 1, 1, 0, 1, 1, 0, 1, 1, 0, 0],\n",
    " [0, 1, 1, 0, 1, 1, 0, 1, 1, 0, 0],\n",
    " [0, 1, 1, 0, 1, 1, 0, 1, 1, 0, 0],\n",
    " [0, 1, 1, 0, 1, 1, 0, 1, 1, 0, 0],\n",
    " [0, 1, 1, 1, 1, 1, 1, 1, 1, 1, 1],\n",
    " [0, 0, 0, 0, 0, 0, 0, 0, 0, 0, 0],\n",
    " [0, 4, 0, 4, 0, 0, 4, 0, 4, 0, 0]]\n",
    ",dtype = np.int32)"
   ]
  },
  {
   "cell_type": "code",
   "execution_count": 89,
   "metadata": {},
   "outputs": [
    {
     "data": {
      "text/plain": [
       "array([[0, 4, 0, 4, 0, 0, 4, 0, 4, 0, 0],\n",
       "       [0, 0, 0, 0, 0, 0, 0, 0, 0, 0, 0],\n",
       "       [0, 1, 1, 1, 1, 1, 1, 1, 1, 1, 1],\n",
       "       [0, 1, 1, 0, 1, 1, 0, 1, 1, 0, 0],\n",
       "       [0, 1, 1, 0, 1, 1, 0, 1, 1, 0, 0],\n",
       "       [0, 1, 1, 0, 1, 1, 0, 1, 1, 0, 0],\n",
       "       [0, 1, 1, 0, 1, 1, 0, 1, 1, 0, 0],\n",
       "       [0, 1, 1, 0, 1, 1, 0, 1, 1, 0, 0],\n",
       "       [0, 1, 1, 0, 1, 1, 0, 1, 1, 0, 0],\n",
       "       [0, 0, 0, 2, 0, 0, 3, 0, 0, 0, 0]])"
      ]
     },
     "execution_count": 89,
     "metadata": {},
     "output_type": "execute_result"
    }
   ],
   "source": [
    "warehouse_show(warehouse)"
   ]
  },
  {
   "cell_type": "code",
   "execution_count": 90,
   "metadata": {},
   "outputs": [
    {
     "name": "stdout",
     "output_type": "stream",
     "text": [
      "(10, 11)\n"
     ]
    }
   ],
   "source": [
    "print(warehouse.shape)"
   ]
  },
  {
   "cell_type": "code",
   "execution_count": 91,
   "metadata": {},
   "outputs": [
    {
     "name": "stdout",
     "output_type": "stream",
     "text": [
      "[[None None None None None None None None None None None]\n",
      " [None None None None None None None None None None None]\n",
      " [None None None None None None None None None None None]\n",
      " [None None None None None None None None None None None]\n",
      " [None None None None None None None None None None None]\n",
      " [None None None None None None None None None None None]\n",
      " [None None None None None None None None None None None]\n",
      " [None None None None None None None None None None None]\n",
      " [None None None None None None None None None None None]\n",
      " [None None None None None None None None None None None]]\n"
     ]
    }
   ],
   "source": [
    "t = np.ndarray((warehouse.shape), dtype = BasicNode)\n",
    "print(t)"
   ]
  },
  {
   "cell_type": "code",
   "execution_count": 95,
   "metadata": {},
   "outputs": [],
   "source": [
    "def create_Astar_graph(warehouse):\n",
    "    graph = np.ndarray((warehouse.shape), dtype=BasicNode)\n",
    "    index = 0\n",
    "    item_counter = 0\n",
    "    input_station = []\n",
    "    output_station = []\n",
    "    charging_station = []\n",
    "    for (i,j), value in np.ndenumerate(warehouse):\n",
    "            graph[i][j] = AStarNode(index, NodeType(value), (i,j))\n",
    "            if value == 2:\n",
    "#                 graph[j][i].booked = False\n",
    "                input_station.append(graph[i][j])\n",
    "            if value == 3:\n",
    "                output_station.append(graph[i][j])\n",
    "            if value ==4:\n",
    "                charging_station.append(graph[i][j])\n",
    "            index += 1\n",
    "    return graph, input_station, output_station ,charging_station"
   ]
  },
  {
   "cell_type": "code",
   "execution_count": 96,
   "metadata": {},
   "outputs": [],
   "source": [
    "graph , input_station, output_station, chargingstation = create_Astar_graph(warehouse)"
   ]
  },
  {
   "cell_type": "code",
   "execution_count": 98,
   "metadata": {},
   "outputs": [
    {
     "name": "stdout",
     "output_type": "stream",
     "text": [
      "<__main__.AStarNode object at 0x000001B962558070>\n",
      "(0, 3)\n"
     ]
    }
   ],
   "source": [
    "for i in input_station:\n",
    "    print(i)\n",
    "    print(i.coordinates)"
   ]
  },
  {
   "cell_type": "code",
   "execution_count": 74,
   "metadata": {},
   "outputs": [
    {
     "data": {
      "text/plain": [
       "[<__main__.AGV at 0x1b96253f3a0>,\n",
       " <__main__.AGV at 0x1b96253f310>,\n",
       " <__main__.AGV at 0x1b96253f520>,\n",
       " <__main__.AGV at 0x1b96253ff70>]"
      ]
     },
     "execution_count": 74,
     "metadata": {},
     "output_type": "execute_result"
    }
   ],
   "source": [
    "## agv 위치 Random 하게 선택 \n",
    "agv1 = AGV(\"agv1\",(0,9),[])\n",
    "agv2 = AGV(\"agv2\",(3,9),[])\n",
    "agv3 = AGV(\"agv3\",(6,9),[])\n",
    "agv4 = AGV(\"agv4\",(9,9),[])\n",
    "AGV_LIST = [agv1,agv2,agv3,agv4]\n",
    "AGV_LIST"
   ]
  },
  {
   "cell_type": "code",
   "execution_count": 75,
   "metadata": {},
   "outputs": [],
   "source": [
    "reservation_table = {}"
   ]
  },
  {
   "cell_type": "code",
   "execution_count": 77,
   "metadata": {},
   "outputs": [
    {
     "ename": "IndexError",
     "evalue": "index 10 is out of bounds for axis 0 with size 10",
     "output_type": "error",
     "traceback": [
      "\u001b[1;31m---------------------------------------------------------------------------\u001b[0m",
      "\u001b[1;31mIndexError\u001b[0m                                Traceback (most recent call last)",
      "\u001b[1;32m<ipython-input-77-1d261aee1802>\u001b[0m in \u001b[0;36m<module>\u001b[1;34m\u001b[0m\n\u001b[1;32m----> 1\u001b[1;33m \u001b[0mpath\u001b[0m \u001b[1;33m=\u001b[0m \u001b[0mfindPathAstar\u001b[0m\u001b[1;33m(\u001b[0m\u001b[0mgraph\u001b[0m\u001b[1;33m,\u001b[0m \u001b[0magv1\u001b[0m\u001b[1;33m,\u001b[0m \u001b[1;33m(\u001b[0m\u001b[1;36m0\u001b[0m\u001b[1;33m,\u001b[0m\u001b[1;36m10\u001b[0m\u001b[1;33m)\u001b[0m\u001b[1;33m,\u001b[0m\u001b[1;33m(\u001b[0m\u001b[1;36m10\u001b[0m\u001b[1;33m,\u001b[0m\u001b[1;36m9\u001b[0m\u001b[1;33m)\u001b[0m\u001b[1;33m,\u001b[0m\u001b[0mreservation_table\u001b[0m\u001b[1;33m,\u001b[0m\u001b[1;36m0\u001b[0m\u001b[1;33m)\u001b[0m\u001b[1;33m\u001b[0m\u001b[1;33m\u001b[0m\u001b[0m\n\u001b[0m",
      "\u001b[1;32m<ipython-input-31-7a3547836fb7>\u001b[0m in \u001b[0;36mfindPathAstar\u001b[1;34m(graph, agv, start_tuple, goal_tuple, reservation_table, global_time)\u001b[0m\n\u001b[0;32m     13\u001b[0m \u001b[1;33m\u001b[0m\u001b[0m\n\u001b[0;32m     14\u001b[0m     \u001b[1;32mif\u001b[0m \u001b[0mtype\u001b[0m\u001b[1;33m(\u001b[0m\u001b[0mgoal_tuple\u001b[0m\u001b[1;33m)\u001b[0m\u001b[1;33m==\u001b[0m\u001b[0mtuple\u001b[0m\u001b[1;33m:\u001b[0m\u001b[1;33m\u001b[0m\u001b[1;33m\u001b[0m\u001b[0m\n\u001b[1;32m---> 15\u001b[1;33m         \u001b[0mtarget\u001b[0m \u001b[1;33m=\u001b[0m \u001b[0mgraph\u001b[0m\u001b[1;33m[\u001b[0m\u001b[0mgoal_tuple\u001b[0m\u001b[1;33m[\u001b[0m\u001b[1;36m0\u001b[0m\u001b[1;33m]\u001b[0m\u001b[1;33m]\u001b[0m\u001b[1;33m[\u001b[0m\u001b[0mgoal_tuple\u001b[0m\u001b[1;33m[\u001b[0m\u001b[1;36m1\u001b[0m\u001b[1;33m]\u001b[0m\u001b[1;33m]\u001b[0m\u001b[1;33m\u001b[0m\u001b[1;33m\u001b[0m\u001b[0m\n\u001b[0m\u001b[0;32m     16\u001b[0m     \u001b[1;32melse\u001b[0m\u001b[1;33m:\u001b[0m\u001b[1;33m\u001b[0m\u001b[1;33m\u001b[0m\u001b[0m\n\u001b[0;32m     17\u001b[0m         \u001b[0mtarget\u001b[0m \u001b[1;33m=\u001b[0m \u001b[0mgraph\u001b[0m\u001b[1;33m[\u001b[0m\u001b[0mgoal_tuple\u001b[0m\u001b[1;33m.\u001b[0m\u001b[0mcoordinates\u001b[0m\u001b[1;33m[\u001b[0m\u001b[1;36m0\u001b[0m\u001b[1;33m]\u001b[0m\u001b[1;33m]\u001b[0m\u001b[1;33m[\u001b[0m\u001b[0mgoal_tuple\u001b[0m\u001b[1;33m.\u001b[0m\u001b[0mcoordinates\u001b[0m\u001b[1;33m[\u001b[0m\u001b[1;36m1\u001b[0m\u001b[1;33m]\u001b[0m\u001b[1;33m]\u001b[0m\u001b[1;33m\u001b[0m\u001b[1;33m\u001b[0m\u001b[0m\n",
      "\u001b[1;31mIndexError\u001b[0m: index 10 is out of bounds for axis 0 with size 10"
     ]
    }
   ],
   "source": [
    "path = findPathAstar(graph, agv1, (0,10),(10,9),reservation_table,0)"
   ]
  },
  {
   "cell_type": "code",
   "execution_count": null,
   "metadata": {},
   "outputs": [],
   "source": [
    "def create_Astar_graph(warehouse):\n",
    "    graph = np.ndarray((warehouse.shape), dtype=BasicNode)\n",
    "    index = 0\n",
    "    item_counter = 0\n",
    "    input_station = []\n",
    "    output_station = []\n",
    "    charging_station = []\n",
    "    for (i,j), value in np.ndenumerate(warehouse):\n",
    "            graph[j][i] = AStarNode(index, NodeType(value), (j,i))\n",
    "            if value == 2:\n",
    "#                 graph[j][i].booked = False\n",
    "                input_station.append(graph[j][i])\n",
    "            if value == 3:\n",
    "                output_station.append(graph[j][i])\n",
    "                \n",
    "            if value ==4:\n",
    "                charging_station.append(graph[j][i])\n",
    "            index += 1\n",
    "    return graph, input_station, output_station ,charging_station"
   ]
  },
  {
   "cell_type": "code",
   "execution_count": 36,
   "metadata": {},
   "outputs": [
    {
     "ename": "IndexError",
     "evalue": "index 10 is out of bounds for axis 0 with size 10",
     "output_type": "error",
     "traceback": [
      "\u001b[1;31m---------------------------------------------------------------------------\u001b[0m",
      "\u001b[1;31mIndexError\u001b[0m                                Traceback (most recent call last)",
      "\u001b[1;32m<ipython-input-36-26066bda5750>\u001b[0m in \u001b[0;36m<module>\u001b[1;34m\u001b[0m\n\u001b[0;32m     10\u001b[0m \u001b[0mnumber_of_tests\u001b[0m \u001b[1;33m=\u001b[0m \u001b[1;36m1\u001b[0m\u001b[1;33m\u001b[0m\u001b[1;33m\u001b[0m\u001b[0m\n\u001b[0;32m     11\u001b[0m \u001b[0mreservation_table\u001b[0m \u001b[1;33m=\u001b[0m \u001b[1;33m{\u001b[0m\u001b[1;33m}\u001b[0m\u001b[1;33m\u001b[0m\u001b[1;33m\u001b[0m\u001b[0m\n\u001b[1;32m---> 12\u001b[1;33m \u001b[0mgraph\u001b[0m\u001b[1;33m,\u001b[0m \u001b[0mINPUT_STATION\u001b[0m\u001b[1;33m,\u001b[0m \u001b[0mOUTPUT_STATION\u001b[0m\u001b[1;33m,\u001b[0m \u001b[0mCHARGING_STATION\u001b[0m \u001b[1;33m=\u001b[0m \u001b[0mcreate_Astar_graph\u001b[0m\u001b[1;33m(\u001b[0m\u001b[0mwarehouse\u001b[0m\u001b[1;33m)\u001b[0m\u001b[1;33m\u001b[0m\u001b[1;33m\u001b[0m\u001b[0m\n\u001b[0m\u001b[0;32m     13\u001b[0m rack_location =  [(1, 1), (1, 2), (1, 3), (1, 4), (1, 5), (1, 6), (1, 7),\n\u001b[0;32m     14\u001b[0m                   \u001b[1;33m(\u001b[0m\u001b[1;36m2\u001b[0m\u001b[1;33m,\u001b[0m \u001b[1;36m1\u001b[0m\u001b[1;33m)\u001b[0m\u001b[1;33m,\u001b[0m \u001b[1;33m(\u001b[0m\u001b[1;36m2\u001b[0m\u001b[1;33m,\u001b[0m \u001b[1;36m2\u001b[0m\u001b[1;33m)\u001b[0m\u001b[1;33m,\u001b[0m \u001b[1;33m(\u001b[0m\u001b[1;36m2\u001b[0m\u001b[1;33m,\u001b[0m \u001b[1;36m3\u001b[0m\u001b[1;33m)\u001b[0m\u001b[1;33m,\u001b[0m \u001b[1;33m(\u001b[0m\u001b[1;36m2\u001b[0m\u001b[1;33m,\u001b[0m \u001b[1;36m4\u001b[0m\u001b[1;33m)\u001b[0m\u001b[1;33m,\u001b[0m \u001b[1;33m(\u001b[0m\u001b[1;36m2\u001b[0m\u001b[1;33m,\u001b[0m \u001b[1;36m5\u001b[0m\u001b[1;33m)\u001b[0m\u001b[1;33m,\u001b[0m \u001b[1;33m(\u001b[0m\u001b[1;36m2\u001b[0m\u001b[1;33m,\u001b[0m \u001b[1;36m6\u001b[0m\u001b[1;33m)\u001b[0m\u001b[1;33m,\u001b[0m \u001b[1;33m(\u001b[0m\u001b[1;36m2\u001b[0m\u001b[1;33m,\u001b[0m \u001b[1;36m7\u001b[0m\u001b[1;33m)\u001b[0m\u001b[1;33m,\u001b[0m\u001b[1;33m\u001b[0m\u001b[1;33m\u001b[0m\u001b[0m\n",
      "\u001b[1;32m<ipython-input-26-c7b26ca6aa1e>\u001b[0m in \u001b[0;36mcreate_Astar_graph\u001b[1;34m(warehouse)\u001b[0m\n\u001b[0;32m      7\u001b[0m     \u001b[0mcharging_station\u001b[0m \u001b[1;33m=\u001b[0m \u001b[1;33m[\u001b[0m\u001b[1;33m]\u001b[0m\u001b[1;33m\u001b[0m\u001b[1;33m\u001b[0m\u001b[0m\n\u001b[0;32m      8\u001b[0m     \u001b[1;32mfor\u001b[0m \u001b[1;33m(\u001b[0m\u001b[0mi\u001b[0m\u001b[1;33m,\u001b[0m\u001b[0mj\u001b[0m\u001b[1;33m)\u001b[0m\u001b[1;33m,\u001b[0m \u001b[0mvalue\u001b[0m \u001b[1;32min\u001b[0m \u001b[0mnp\u001b[0m\u001b[1;33m.\u001b[0m\u001b[0mndenumerate\u001b[0m\u001b[1;33m(\u001b[0m\u001b[0mwarehouse\u001b[0m\u001b[1;33m)\u001b[0m\u001b[1;33m:\u001b[0m\u001b[1;33m\u001b[0m\u001b[1;33m\u001b[0m\u001b[0m\n\u001b[1;32m----> 9\u001b[1;33m             \u001b[0mgraph\u001b[0m\u001b[1;33m[\u001b[0m\u001b[0mj\u001b[0m\u001b[1;33m]\u001b[0m\u001b[1;33m[\u001b[0m\u001b[0mi\u001b[0m\u001b[1;33m]\u001b[0m \u001b[1;33m=\u001b[0m \u001b[0mAStarNode\u001b[0m\u001b[1;33m(\u001b[0m\u001b[0mindex\u001b[0m\u001b[1;33m,\u001b[0m \u001b[0mNodeType\u001b[0m\u001b[1;33m(\u001b[0m\u001b[0mvalue\u001b[0m\u001b[1;33m)\u001b[0m\u001b[1;33m,\u001b[0m \u001b[1;33m(\u001b[0m\u001b[0mj\u001b[0m\u001b[1;33m,\u001b[0m\u001b[0mi\u001b[0m\u001b[1;33m)\u001b[0m\u001b[1;33m)\u001b[0m\u001b[1;33m\u001b[0m\u001b[1;33m\u001b[0m\u001b[0m\n\u001b[0m\u001b[0;32m     10\u001b[0m             \u001b[1;32mif\u001b[0m \u001b[0mvalue\u001b[0m \u001b[1;33m==\u001b[0m \u001b[1;36m2\u001b[0m\u001b[1;33m:\u001b[0m\u001b[1;33m\u001b[0m\u001b[1;33m\u001b[0m\u001b[0m\n\u001b[0;32m     11\u001b[0m \u001b[1;31m#                 graph[j][i].booked = False\u001b[0m\u001b[1;33m\u001b[0m\u001b[1;33m\u001b[0m\u001b[1;33m\u001b[0m\u001b[0m\n",
      "\u001b[1;31mIndexError\u001b[0m: index 10 is out of bounds for axis 0 with size 10"
     ]
    }
   ],
   "source": [
    "jobQ = JobQueue()\n",
    "jobQ_for_simulation = JobQueue()\n",
    "run_time = 2000\n",
    "total_job_location_list = []\n",
    "select_agv_list = []\n",
    "charging_agvs_list = []\n",
    "moving_for_charge_agvs_list = []\n",
    "battery_threshold = 100\n",
    "total_job_information = {}\n",
    "number_of_tests = 1\n",
    "reservation_table = {}\n",
    "graph, INPUT_STATION, OUTPUT_STATION, CHARGING_STATION = create_Astar_graph(warehouse)\n",
    "rack_location =  [(1, 1), (1, 2), (1, 3), (1, 4), (1, 5), (1, 6), (1, 7),\n",
    "                  (2, 1), (2, 2), (2, 3), (2, 4), (2, 5), (2, 6), (2, 7), \n",
    "                  (4, 1), (4, 2), (4, 3), (4, 4), (4, 5), (4, 6), (4, 7), \n",
    "                  (5, 1), (5, 2), (5, 3), (5, 4), (5, 5), (5, 6), (5, 7), \n",
    "                  (7, 1), (7, 2), (7, 3), (7, 4), (7, 5), (7, 6), (7, 7), \n",
    "                  (8, 1), (8, 2), (8, 3), (8, 4), (8, 5), (8, 6), (8, 7)]"
   ]
  },
  {
   "cell_type": "code",
   "execution_count": null,
   "metadata": {},
   "outputs": [],
   "source": [
    "Rack_enterence={}\n",
    "for point in rack_location:\n",
    "    four_ways = get4Ways(point)\n",
    "    neighbour_obstacle_list = [way for way in four_ways if way in rack_location]  ## 좌표정보 ex) (1,3), (2,2)....\n",
    "    neighbour_empty_list = [way for way in four_ways if way not in rack_location] \n",
    "    if len(neighbour_empty_list) == 1: ### 모서리 아님\n",
    "        Rack_enterence[point] = neighbour_empty_list[0]\n",
    "    elif len(neighbour_empty_list) == 2: ### 모서리임\n",
    "        obstacle_way_list = [four_ways.index(obst) for obst in neighbour_obstacle_list]  ## 방향정보 ex) 0,1, 2...\n",
    "        for idx, obst_point in enumerate(neighbour_obstacle_list):\n",
    "            obst_way = obstacle_way_list[idx]\n",
    "            obst_plus1_point = get4Ways(obst_point)[obst_way]\n",
    "            if obst_plus1_point in rack_location:\n",
    "                continue\n",
    "            else:\n",
    "                Rack_enterence[point] = four_ways[obst_way-2]\n",
    "    else:\n",
    "        print('ERROR finding obstacle/entrance for RACK {}'.format(point))"
   ]
  },
  {
   "cell_type": "markdown",
   "metadata": {},
   "source": [
    "### Created Job 확인"
   ]
  },
  {
   "cell_type": "code",
   "execution_count": null,
   "metadata": {},
   "outputs": [],
   "source": [
    "for time in range(run_time+1):\n",
    "    if time in job_create_time:\n",
    "        job_create(rack_location,total_job_location_list,time,total_job_information)\n",
    "print(total_job_information)\n",
    "print(len(total_job_information))"
   ]
  },
  {
   "cell_type": "markdown",
   "metadata": {},
   "source": [
    "### Charging station 생성"
   ]
  },
  {
   "cell_type": "code",
   "execution_count": null,
   "metadata": {},
   "outputs": [],
   "source": [
    "print(CHARGING_STATION)"
   ]
  },
  {
   "cell_type": "code",
   "execution_count": null,
   "metadata": {},
   "outputs": [],
   "source": [
    "# CHARGING_STATION_ENTER = "
   ]
  },
  {
   "cell_type": "code",
   "execution_count": null,
   "metadata": {},
   "outputs": [],
   "source": [
    "Rack_enterence={}\n",
    "for point in rack_location:\n",
    "    four_ways = get4Ways(point)\n",
    "    neighbour_obstacle_list = [way for way in four_ways if way in rack_location]  ## 좌표정보 ex) (1,3), (2,2)....\n",
    "    neighbour_empty_list = [way for way in four_ways if way not in rack_location] \n",
    "    if len(neighbour_empty_list) == 1: ### 모서리 아님\n",
    "        Rack_enterence[point] = neighbour_empty_list[0]\n",
    "    elif len(neighbour_empty_list) == 2: ### 모서리임\n",
    "        obstacle_way_list = [four_ways.index(obst) for obst in neighbour_obstacle_list]  ## 방향정보 ex) 0,1, 2...\n",
    "        for idx, obst_point in enumerate(neighbour_obstacle_list):\n",
    "            obst_way = obstacle_way_list[idx]\n",
    "            obst_plus1_point = get4Ways(obst_point)[obst_way]\n",
    "            if obst_plus1_point in rack_location:\n",
    "                continue\n",
    "            else:\n",
    "                Rack_enterence[point] = four_ways[obst_way-2]\n",
    "    else:\n",
    "        print('ERROR finding obstacle/entrance for RACK {}'.format(point))"
   ]
  },
  {
   "cell_type": "markdown",
   "metadata": {},
   "source": [
    "### Create AGV"
   ]
  },
  {
   "cell_type": "code",
   "execution_count": null,
   "metadata": {},
   "outputs": [],
   "source": [
    "## agv 위치 Random 하게 선택 \n",
    "agv1 = AGV(\"agv1\",(0,9),[])\n",
    "agv2 = AGV(\"agv2\",(3,9),[])\n",
    "agv3 = AGV(\"agv3\",(6,9),[])\n",
    "agv4 = AGV(\"agv4\",(9,9),[])\n",
    "AGV_LIST = [agv1,agv2,agv3,agv4]\n",
    "AGV_LIST"
   ]
  },
  {
   "cell_type": "code",
   "execution_count": null,
   "metadata": {},
   "outputs": [],
   "source": [
    "# #실험1 같은 time 상황에서 제대로 동작한다. path1이 설정되면 path2는 알아서 피하는 경로 설정 -> CA* \n",
    "# path1 = findPathAstar(graph, agv1, (9,8),(4,0),reservation_table,0)\n",
    "# book_reservation_table(path1,0,reservation_table)\n",
    "# for i in path1:\n",
    "#     print(i.coordinates)\n",
    "# print(reservation_table)"
   ]
  },
  {
   "cell_type": "code",
   "execution_count": null,
   "metadata": {},
   "outputs": [],
   "source": [
    "# path2 = findPathAstar(graph, agv1, (8,9),(3,0),reservation_table,0)\n",
    "# book_reservation_table(path2,0,reservation_table)\n",
    "# for i in path2:\n",
    "#     print(i.coordinates)\n",
    "# print(reservation_table)"
   ]
  },
  {
   "cell_type": "code",
   "execution_count": null,
   "metadata": {},
   "outputs": [],
   "source": [
    "# #실험1 같은 time 상황에서 제대로 동작한다. path1이 설정되면 path2는 알아서 피하는 경로 설정 -> CA* \n",
    "# #global tick을 포함해서 CA*가 잘 작동함 \n",
    "# ## 그러나 작업을 새로 받지 앟으면 reservation table에 현재 위치를 계속 예약하는 것이 되어있지 않다, \n",
    "# # 새로운 작업을 받지 않으면 치워버려야 한다. 어디로 치워야 하나? 뒤로 치우는 것이 어떨까?\n",
    "# t = findPathAstar(graph, agv1, (9,8),(4,0),reservation_table,0)\n",
    "# path1 = findPathAstar(graph, agv1, (9,8),(4,0),reservation_table,0)\n",
    "# path2 = findPathAstar(graph, agv1, (4,0),(9,0),reservation_table,len(path1))\n",
    "# path0 = findPathAstar(graph, agv1, (4,8),(4,0),reservation_table,0)\n",
    "# cost =  path1+path0+path2\n",
    "# print([i.coordinates for i in cost])\n",
    "# book_reservation_table(path1,0,reservation_table)\n",
    "# book_reservation_table(path2,len(path1),reservation_table)\n",
    "# book_reservation_table(path0,len(path1)+len(path2),reservation_table)\n",
    "# print(reservation_table)\n",
    "# print(\"여기까지 path1\")\n",
    "# path3 = findPathAstar(graph, agv2, (7,9),(3,0),reservation_table,1)\n",
    "# path4 = findPathAstar(graph, agv2, (3,0),(4,0),reservation_table,1)\n",
    "# cost1 = path3 + path4\n",
    "# print([i.coordinates for i in cost1])\n",
    "# book_reservation_table(path3,1,reservation_table)\n",
    "# book_reservation_table(path4,len(path3),reservation_table)\n",
    "# print(reservation_table)\n",
    "# # print(\"여기까지 path2\")\n",
    "# # path5 = findPathAstar(graph, agv3, (9,9),(3,3),reservation_table,3)\n",
    "# # book_reservation_table(path3,3,reservation_table)\n",
    "# # print(reservation_table)"
   ]
  },
  {
   "cell_type": "code",
   "execution_count": null,
   "metadata": {
    "scrolled": false
   },
   "outputs": [],
   "source": [
    "if __name__ == \"__main__\":\n",
    "    main()"
   ]
  },
  {
   "cell_type": "code",
   "execution_count": null,
   "metadata": {},
   "outputs": [],
   "source": []
  }
 ],
 "metadata": {
  "kernelspec": {
   "display_name": "Python 3",
   "language": "python",
   "name": "python3"
  },
  "language_info": {
   "codemirror_mode": {
    "name": "ipython",
    "version": 3
   },
   "file_extension": ".py",
   "mimetype": "text/x-python",
   "name": "python",
   "nbconvert_exporter": "python",
   "pygments_lexer": "ipython3",
   "version": "3.8.5"
  }
 },
 "nbformat": 4,
 "nbformat_minor": 4
}
