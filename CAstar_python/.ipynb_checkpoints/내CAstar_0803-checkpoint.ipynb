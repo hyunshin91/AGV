{
 "cells": [
  {
   "cell_type": "markdown",
   "metadata": {},
   "source": [
    "# Import library"
   ]
  },
  {
   "cell_type": "code",
   "execution_count": 1,
   "metadata": {},
   "outputs": [],
   "source": [
    "import numpy as np\n",
    "import matplotlib.pyplot as plt\n",
    "import queue\n",
    "import random\n",
    "from enum import Enum\n",
    "from heapq import *\n",
    "import copy"
   ]
  },
  {
   "cell_type": "markdown",
   "metadata": {},
   "source": [
    "# Seed 고정"
   ]
  },
  {
   "cell_type": "code",
   "execution_count": 2,
   "metadata": {},
   "outputs": [],
   "source": [
    "np.random.seed(10)\n",
    "random.seed(10)"
   ]
  },
  {
   "cell_type": "markdown",
   "metadata": {},
   "source": [
    "# Create Job"
   ]
  },
  {
   "cell_type": "code",
   "execution_count": 3,
   "metadata": {},
   "outputs": [],
   "source": [
    "job_number  = 100"
   ]
  },
  {
   "cell_type": "code",
   "execution_count": 4,
   "metadata": {},
   "outputs": [
    {
     "name": "stdout",
     "output_type": "stream",
     "text": [
      "[13 11 10  7  6 13 12 15 10  9  9 11 11 13 15  5 10  7  8  8  8  9 13  9\n",
      " 13 10  4  8  8  8 14 14 11 11  8  8 10 10  8  8  4 11  8  8 12  3  5 14\n",
      "  7 10  6 11  7  7 15 11 11 11  6 12  9 10  5 11  7  8 12  9 11 11 12 10\n",
      " 10  6 10  5  5  4 11 11  8  9  9 10 19 14  7 10 13  8  9 14 11  9 10  8\n",
      " 13  7 11]\n",
      "[0, 13, 24, 34, 41, 47, 60, 72, 87, 97, 106, 115, 126, 137, 150, 165, 170, 180, 187, 195, 203, 211, 220, 233, 242, 255, 265, 269, 277, 285, 293, 307, 321, 332, 343, 351, 359, 369, 379, 387, 395, 399, 410, 418, 426, 438, 441, 446, 460, 467, 477, 483, 494, 501, 508, 523, 534, 545, 556, 562, 574, 583, 593, 598, 609, 616, 624, 636, 645, 656, 667, 679, 689, 699, 705, 715, 720, 725, 729, 740, 751, 759, 768, 777, 787, 806, 820, 827, 837, 850, 858, 867, 881, 892, 901, 911, 919, 932, 939, 950]\n"
     ]
    }
   ],
   "source": [
    "job_time_interval = np.random.poisson(10,job_number-1)\n",
    "job_create_time = [sum(job_time_interval[:i]) for i in range(len(job_time_interval)+1)]\n",
    "print(job_time_interval)\n",
    "print(job_create_time)"
   ]
  },
  {
   "cell_type": "code",
   "execution_count": 5,
   "metadata": {},
   "outputs": [
    {
     "data": {
      "image/png": "[encoded data removed]",
      "text/plain": [
       "<Figure size 432x288 with 1 Axes>"
      ]
     },
     "metadata": {
      "needs_background": "light"
     },
     "output_type": "display_data"
    }
   ],
   "source": [
    "count, bins, ignored = plt.hist(job_time_interval, 100, density = True)\n",
    "plt.show()"
   ]
  },
  {
   "cell_type": "code",
   "execution_count": 6,
   "metadata": {},
   "outputs": [
    {
     "data": {
      "image/png": "[encoded data removed]",
      "text/plain": [
       "<Figure size 432x288 with 1 Axes>"
      ]
     },
     "metadata": {
      "needs_background": "light"
     },
     "output_type": "display_data"
    }
   ],
   "source": [
    "plt.plot(job_create_time)\n",
    "plt.show()"
   ]
  },
  {
   "cell_type": "markdown",
   "metadata": {},
   "source": [
    "# Job Queue"
   ]
  },
  {
   "cell_type": "code",
   "execution_count": 7,
   "metadata": {},
   "outputs": [],
   "source": [
    "class JobQueue(object):\n",
    "    \n",
    "    def __init__(self):\n",
    "        self.job_q = queue.Queue()\n",
    "        self.job_number = 0\n",
    "        \n",
    "    def insertJob(self, inout,  station_dest):\n",
    "        job = {\"inout\": inout, \"station_dest\": station_dest}\n",
    "        self.job_q.put(job)\n",
    "        self.job_number+=1\n",
    "\n",
    "    def getJob(self):\n",
    "        if self.job_q.empty():\n",
    "            return \n",
    "        self.job_number-=1\n",
    "        return self.job_q.get()"
   ]
  },
  {
   "cell_type": "code",
   "execution_count": 8,
   "metadata": {},
   "outputs": [],
   "source": [
    "def job_create(rack_location,total_job_location_list,time,total_job_information):\n",
    "    job_location = [random.choice(rack_location)]\n",
    "    if total_job_location_list.count(job_location)%2==0:\n",
    "        total_job_information['{}'.format(time)] = ['in',job_location]\n",
    "    else:\n",
    "        total_job_information['{}'.format(time)] = ['out',job_location]\n",
    "    total_job_location_list.append(job_location)\n",
    "    return total_job_information"
   ]
  },
  {
   "cell_type": "markdown",
   "metadata": {},
   "source": [
    "# AGV"
   ]
  },
  {
   "cell_type": "code",
   "execution_count": 9,
   "metadata": {},
   "outputs": [],
   "source": [
    "class AGV(object):\n",
    "    max_battery = 200\n",
    "    CHARGING_STATION = [(2,9),(6,9)]    \n",
    "    \n",
    "    def __init__(self,agv_id,current_location,job_for_bid,current_tick=0,cost=0,bid_list = []):\n",
    "        self.agv_id = agv_id\n",
    "        self.battery = self.max_battery\n",
    "        self.current_location = current_location\n",
    "        self.job = None\n",
    "        self.destination = None\n",
    "        self.available = True\n",
    "        self.current_tick = current_tick\n",
    "        self.to_chaging_station = False\n",
    "        self.charging = False\n",
    "        self.job_for_bid = job_for_bid\n",
    "        self.bid_list = bid_list\n",
    "        self.cost = cost \n",
    "        \n",
    "#     def __str__(self):\n",
    "#         return 'agv_id:{}  job:{}  available:{}'.format(self.agv_id, self.job, self.available)\n",
    "    \n",
    "    def __str__(self):\n",
    "        return 'agv_id:{}'.format(self.agv_id)\n",
    "    \n",
    "    def move_one_tick(self):\n",
    "        if len(self.path) !=0:\n",
    "            self.next_location = self.path[0]\n",
    "            self.current_location = self.next_location\n",
    "            del self.path[0]\n",
    "            if len(self.path) ==0:\n",
    "                self.available = True\n",
    "            self.battery -=1\n",
    "            self.current_tick +=1\n",
    "        else:\n",
    "            self.available = True\n",
    "            \n",
    "    def move_one_tick_for_charge(self,charging_agvs_list,moving_for_charge_agvs):\n",
    "        self.path_for_charge = self.astar_path_to_charger\n",
    "        if len(self.path_for_charge) !=0:\n",
    "            self.to_chaging_station = True\n",
    "            self.next_location = self.path_for_charge[0]\n",
    "            self.current_location = self.next_location\n",
    "            del self.path_for_charge[0]\n",
    "            self.battery -=1\n",
    "            self.current_tick +=1\n",
    "            if len(self.path_for_charge) ==0:\n",
    "                charging_agvs_list.append(self)\n",
    "                moving_for_charge_agvs.remove(self)\n",
    "                self.to_chaging_station = False\n",
    "                self.charging = True\n",
    "#                 self.charging_agv()\n",
    "#         else:\n",
    "#             self.charging = True\n",
    "    \n",
    "    def get_job(self,job,astar_path):\n",
    "        self.job = job\n",
    "        self.path = astar_path\n",
    "        self.available = False\n",
    "        \n",
    "    def go_to_charge(self,astar_path_to_charger):\n",
    "        self.path_for_charge = astar_path_to_charger\n",
    "        self.to_chaging_station = True\n",
    "    \n",
    "    \n",
    "#     def agv_to_charging_station(self,battery_threshold):\n",
    "#         if self.available == True and self.battery <= battery_threshold:\n",
    "#             self.to_chaging_station = True\n",
    "\n",
    "    def calculate_bid(self,job,warehouse,INPUT_STATION,OUTPUT_STATION):\n",
    "        if job['inout']=='in':\n",
    "            cost = len(astar(warehouse,agv.current_location,INPUT_STATION)+astar(warehouse,INPUT_STATION,Rack_enterence[job['station_dest']]))\n",
    "        else:\n",
    "            cost = len(astar(warehouse,agv.current_location,Rack_enterence[job['station_dest']])+astar(warehouse,Rack_enterence[job['station_dest']],OUTPUT_STATION))\n",
    "        self.cost= cost \n",
    "        return self,cost,self.agv_id\n",
    "    \n",
    "#     def calculate_cost_for_charing_bid(self,warehouse,CHARGING_STATION):\n",
    "#         bid_for_charge = []\n",
    "#         for charging_station in CHARGING_STATION:\n",
    "#             bid_for_charge.append(charging_station,astar(warehouse,self.current_location,charging_station))\n",
    "#         bid_for_charge_sort = sorted(bid_for_charge, key =lambda x:x[1])\n",
    "#         selected_chargeing\n",
    "#         return cost        \n",
    "    \n",
    "    \n",
    "    def select_charging_station(self,warehouse,CHARGING_STATION):\n",
    "        bid_for_charge = []\n",
    "#         print('%',CHARGING_STATION)\n",
    "        for charging_station in CHARGING_STATION:\n",
    "            print(\"^\",charging_station)\n",
    "            bid_for_charge.append((charging_station,len(astar(warehouse,self.current_location,charging_station))))\n",
    "        bid_for_charge_sort = sorted(bid_for_charge, key =lambda x:x[1])\n",
    "        selected_charging_station = bid_for_charge_sort[0][0]\n",
    "        astar_path_to_charger = astar(warehouse,self.current_location,charging_station)\n",
    "        self.astar_path_to_charger = astar_path_to_charger\n",
    "#         print('3',astar_path_to_charger)\n",
    "        return selected_charging_station, astar_path_to_charger   \n",
    "    \n",
    "    def charge_agv(self,charging_agvs):\n",
    "        if self.charging == True:\n",
    "            self.battery +=10\n",
    "            if self.battery >= self.max_battery:\n",
    "                self.battery = self.max_battery\n",
    "                self.charging = False \n",
    "                self.available=True\n",
    "                charging_agvs.remove(self)\n",
    "                \n",
    "#                 \n",
    "                \n",
    "    def send_bid(self,avail_agv_list):\n",
    "        for agv_ in avail_agv_list:\n",
    "            agv_.bid_list.append((self,agv.agv_id,agv.cost))\n",
    "            \n",
    "#     def win_bid(self)\n",
    "        \n",
    "    \n",
    "    def drop_job(self):\n",
    "        self.job = None\n",
    "        self.available = True\n",
    "        \n",
    "    def clear_bid_list(self,agv_list):\n",
    "        for agv in agv_list:\n",
    "            agv.bid_list = []\n"
   ]
  },
  {
   "cell_type": "code",
   "execution_count": 10,
   "metadata": {},
   "outputs": [],
   "source": [
    "def getAvailAGV(AGV_LIST,battery_threshold):\n",
    "    return [agv for agv in AGV_LIST if agv.available == True and agv.battery > battery_threshold and agv.charging == False]"
   ]
  },
  {
   "cell_type": "code",
   "execution_count": 11,
   "metadata": {},
   "outputs": [],
   "source": [
    "def getnNeedChargeAgv(AGV_LIST,battery_threshold):\n",
    "    return [agv for agv in AGV_LIST if agv.charging == True and agv.battery <= battery_threshold and agv.charging == False and agv.to_chaging_station == False]"
   ]
  },
  {
   "cell_type": "code",
   "execution_count": 12,
   "metadata": {},
   "outputs": [],
   "source": [
    "def getChargingAGV(AGV_LIST):\n",
    "    return [agv for agv in AGV_LIST if agv.charging == True]"
   ]
  },
  {
   "cell_type": "markdown",
   "metadata": {},
   "source": [
    "# Astar"
   ]
  },
  {
   "cell_type": "code",
   "execution_count": 13,
   "metadata": {},
   "outputs": [],
   "source": [
    "# class NodeType(Enum):\n",
    "#     DEFAULT = 0\n",
    "#     RACK = 1\n",
    "#     PICKUP = 2\n",
    "#     DROPOFF = 3\n",
    "#     CHARGING = 4"
   ]
  },
  {
   "cell_type": "code",
   "execution_count": 14,
   "metadata": {},
   "outputs": [],
   "source": [
    "class node:\n",
    "    def __init__(self,parent=None, position = None):\n",
    "        self.parent = parent\n",
    "        self.position = position\n",
    "        self.g = 0\n",
    "        self.h = 0\n",
    "        self.f = 0\n",
    "        self.depth = 0 \n",
    "        self.booked = False\n",
    "        \n",
    "    def __eq__(self,other):\n",
    "        return self.position == other.position"
   ]
  },
  {
   "cell_type": "code",
   "execution_count": 15,
   "metadata": {},
   "outputs": [],
   "source": [
    "def manhattan_distance(start_node,goal_node):\n",
    "    dx = abs(start_node[0]-goal_node[0])\n",
    "    dy = abs(start_node[1]-goal_node[1])\n",
    "    return dx + dy"
   ]
  },
  {
   "cell_type": "code",
   "execution_count": 16,
   "metadata": {},
   "outputs": [],
   "source": [
    "def astar(graph,start,goal):\n",
    "    start_node = node(None,(start[1],start[0]))\n",
    "    goal_node = node(None,(goal[1],goal[0]))\n",
    "    open_list = []\n",
    "    closed_list = []\n",
    "    graph = [el for el in graph][::-1]\n",
    "#     for i in graph:\n",
    "#         print(i)\n",
    "    \n",
    "    open_list.append(start_node)\n",
    "    while open_list:\n",
    "        current_node = open_list[0]\n",
    "        current_index = 0\n",
    "        \n",
    "        for index, item in enumerate(open_list):\n",
    "            if item.f < current_node.f:\n",
    "                current_node = item\n",
    "                current_index = index\n",
    "        open_list.pop(current_index)\n",
    "        closed_list.append(current_node)\n",
    "        \n",
    "        if current_node == goal_node:\n",
    "            path = []\n",
    "            current = current_node\n",
    "            while current is not None:\n",
    "#                 x,y = current.position\n",
    "#                 graph[x][y] = 9\n",
    "                path.append((current.position[1],current.position[0]))\n",
    "                current = current.parent\n",
    "                \n",
    "            return path[::-1]\n",
    "        \n",
    "        children = []\n",
    "        for new_position in [(0,1),(1,0),(-1,0),(0,-1)]:\n",
    "            node_position = (current_node.position[0]+new_position[0],\n",
    "                             current_node.position[1]+new_position[1])\n",
    "            within_range = [\n",
    "                node_position[1]>len(graph)-1,\n",
    "                node_position[1]<0,\n",
    "                node_position[0]>len(graph[len(graph)-1])-1,\n",
    "                node_position[0]<0]\n",
    "            if any(within_range):\n",
    "                continue\n",
    "            if graph[node_position[0]][node_position[1]] !=0:\n",
    "                continue\n",
    "            \n",
    "            new_node = node(current_node, node_position)\n",
    "            children.append(new_node)\n",
    "        \n",
    "        for child in children:\n",
    "            if child in closed_list:\n",
    "                continue\n",
    "            child.g = current_node.g+1\n",
    "            child.h = manhattan_distance(child.position,goal_node.position)\n",
    "            child.f = child.g + child.h\n",
    "            \n",
    "            if len([open_node for open_node in open_list\n",
    "                   if child == open_node and child.g>open_node.g]) > 0:\n",
    "                continue\n",
    "            open_list.append(child)"
   ]
  },
  {
   "cell_type": "code",
   "execution_count": 17,
   "metadata": {},
   "outputs": [],
   "source": [
    "def collision_occur(reservation_table, current, neighbour):\n",
    "    #moving to node 상황\n",
    "    if (neighbour.position, current.depth+1) in reservation_table:\n",
    "        return True\n",
    "    #swap collision 상황\n",
    "    if (current.position, current.depth+1) in reservation_table and (neighbour.position,current.depth) in reservation_table:\n",
    "        return True\n",
    "    return False"
   ]
  },
  {
   "cell_type": "code",
   "execution_count": 18,
   "metadata": {},
   "outputs": [],
   "source": [
    "def astar_reserved(graph, agv, reservation_table, job, p=False):\n",
    "    #job은 goal 정보를 위해서 필요함\n",
    "    start = (agent.current_location[1],agent.current_location[0])\n",
    "    start_node = node(None,start)\n",
    "    start_node.parent = None\n",
    "    start_node.depth = 0\n",
    "    goal = Rack_enterence[job['station_dest'][1][0]]\n",
    "    goal_node = node(None,goal)\n",
    "    graph = [el for el in graph][::-1]   \n",
    "\n",
    "    if p:\n",
    "        print(\"new astar from {} to {}\".format(start,target))\n",
    "    \n",
    "    start_node.g = 0\n",
    "    start_node.h = manhattan_distance(start,target)\n",
    "    start_node.f = start_node.h\n",
    "    \n",
    "    neighbours = [(0,1),(1,0),(-1,0),(0,-1)]\n",
    "    open_list = []\n",
    "    closed_list = []\n",
    "    \n",
    "    open_list.append(start_node)\n",
    "    while open_list:\n",
    "        current_node = open_list[0]\n",
    "        current_index = 0\n",
    "        \n",
    "        for index, item in enumerate(open_list):\n",
    "            if item.f < current_node.f:\n",
    "                current_node = item\n",
    "                current_index = index\n",
    "        open_list.pop(current_index)\n",
    "        closed_list.append((current_node),current_node.depth)\n",
    "        \n",
    "        if current_node == goal_node:\n",
    "            path = []\n",
    "            current = current_node\n",
    "            while current is not None:\n",
    "#                 x,y = current.position\n",
    "#                 graph[x][y] = 9\n",
    "                path.append((current.position[1],current.position[0]))\n",
    "                current = current.parent\n",
    "                \n",
    "            return path[::-1]\n",
    "        \n",
    "        children = []\n",
    "        for new_position in [(0,1),(1,0),(-1,0),(0,-1)]:\n",
    "            node_position = (current_node.position[0]+new_position[0],\n",
    "                             current_node.position[1]+new_position[1])\n",
    "            within_range = [\n",
    "                node_position[1]>len(graph)-1,\n",
    "                node_position[1]<0,\n",
    "                node_position[0]>len(graph[len(graph)-1])-1,\n",
    "                node_position[0]<0]\n",
    "            \n",
    "            neighbour = graph[node_position[0]][node_position[1]]\n",
    "            neighbour = copy.deepcopy(neighbour)\n",
    "            neighbour.depth= current.depth+1\n",
    "            \n",
    "            if any(within_range):\n",
    "                continue\n",
    "            if graph[node_position[0]][node_position[1]] !=0:\n",
    "                continue\n",
    "                \n",
    "            if (neighbour.position, current.depth+1) in closed_list:\n",
    "                continue\n",
    "                \n",
    "            if collision_occur(reservation_table, current, neighbour):\n",
    "                continue\n",
    "                \n",
    "            if neighbour in open_list:\n",
    "                for x in open_list:\n",
    "                    if x == neighbour:\n",
    "                        neighbour = x\n",
    "                        break\n",
    "            if neighbour not in open_list or current.g + 1 < neighbour.g:\n",
    "                neighbour.g = current.g + 1\n",
    "                neighbour.h = manhattan_distance(neighbour.position, goal)\n",
    "                neighbour.f = neighbour.g + neighbour.h\n",
    "                neighbour.parent = current\n",
    "                if neighbour not in open_list:\n",
    "                    if p:\n",
    "                        print(\"added %d depth %d to open list\" % (neighbour.id, neighbour.depth))\n",
    "                    open_list.append(neighbour)\n",
    "    return []\n",
    "            \n",
    "#             new_node = node(current_node, node_position)\n",
    "#             children.append(new_node)\n",
    "        \n",
    "#         for child in children:\n",
    "#             if child in closed_list:\n",
    "#                 continue\n",
    "#             child.g = current_node.g+1\n",
    "#             child.h = manhattan_distance(child.position,goal_node.position)\n",
    "#             child.f = child.g + child.h\n",
    "            \n",
    "#             if len([open_node for open_node in open_list\n",
    "#                    if child == open_node and child.g>open_node.g]) > 0:\n",
    "#                 continue\n",
    "#             open_list.append(child)"
   ]
  },
  {
   "cell_type": "code",
   "execution_count": 19,
   "metadata": {},
   "outputs": [],
   "source": [
    "def find_path_astar(graph, agv,reservation_table,job):\n",
    "    #job은 goal 정보를 위해서 필요함\n",
    "    start = (agv.current_location[1],agv.current_location[0])\n",
    "    start_node = node(None,start)\n",
    "    start_node.parent = None\n",
    "    start_node.depth = 0\n",
    "    goal = Rack_enterence[job['station_dest'][1][0]]\n",
    "    goal_node = node(None,goal)\n",
    "    graph = [el for el in graph][::-1]   \n",
    "    \n",
    "    print(start_node)\n",
    "\n",
    "    start_node.g = 0\n",
    "    start_node.h = manhattan_distance(start,goal)\n",
    "    start_node.f = start_node.h\n",
    "    \n",
    "    neighbours = [(0,1),(1,0),(-1,0),(0,-1),(0,0)]\n",
    "    open_list = []\n",
    "    closed_list = []\n",
    "    \n",
    "    open_list.append(start_node)\n",
    "    reached_target_last_step = False\n",
    "    \n",
    "    while open_list:\n",
    "        current_node = open_list[0]\n",
    "        current_index = 0\n",
    "        \n",
    "        for index, item in enumerate(open_list):\n",
    "            if item.f < current_node.f:\n",
    "                current_node = item\n",
    "                current_index = index\n",
    "                \n",
    "        open_list.pop(current_index)\n",
    "        closed_list.append(current_node)\n",
    "        \n",
    "        if current_node == goal_node:\n",
    "            path = []\n",
    "            current = current_node\n",
    "            while current is not None:\n",
    "#                 x,y = current.position\n",
    "#                 graph[x][y] = 9\n",
    "                path.append((current.position[1],current.position[0]))\n",
    "                current = current.parent\n",
    "            reached_target_last_step = True\n",
    "            return path[::-1]\n",
    "        else:\n",
    "            reached_target_last_step = False\n",
    "        \n",
    "        children = []\n",
    "        for new_position in [(0,1),(1,0),(-1,0),(0,-1)]:\n",
    "            node_position = (current_node.position[0]+new_position[0],\n",
    "                             current_node.position[1]+new_position[1])\n",
    "            within_range = [\n",
    "                node_position[1]>len(graph)-1,\n",
    "                node_position[1]<0,\n",
    "                node_position[0]>len(graph[len(graph)-1])-1,\n",
    "                node_position[0]<0]\n",
    "            \n",
    "            neighbour = graph[node_position[0]][node_position[1]]\n",
    "            neighbour = copy.deepcopy(neighbour)\n",
    "            neighbour.depth= current_node.depth+1\n",
    "            \n",
    "            if any(within_range):\n",
    "                continue\n",
    "            if graph[node_position[0]][node_position[1]] !=0:\n",
    "                continue\n",
    "                \n",
    "            if (neighbour.position, current.depth+1) in closed_list:\n",
    "                continue\n",
    "                \n",
    "            if collision_occur(reservation_table, current, neighbour):\n",
    "                continue\n",
    "                \n",
    "            if neighbour in open_list:\n",
    "                for x in open_list:\n",
    "                    if x == neighbour:\n",
    "                        neighbour = x\n",
    "                        break\n",
    "            if neighbour not in open_list or current.g + 1 < neighbour.g:\n",
    "                if neighbour.position == goal:\n",
    "                    neighbour.g = current.g + 0\n",
    "                else:\n",
    "                    neighbour.g = current.g + 1\n",
    "                neighbour.h = manhatten_distance(neighbour.position,goal)\n",
    "                neighbour.f = neighbour.g + neighbour.h\n",
    "                \n",
    "                neighbour.parent = current\n",
    "                \n",
    "                if neighbour not in open_list:\n",
    "                    open_list.append(neighbour)\n",
    "                    \n",
    "    print(\"IMPOSSIBLE PROBlEM\")\n",
    "                     \n",
    "                \n",
    "                "
   ]
  },
  {
   "cell_type": "markdown",
   "metadata": {},
   "source": [
    "# Warehouse, Rack, Charging_station"
   ]
  },
  {
   "cell_type": "code",
   "execution_count": 20,
   "metadata": {},
   "outputs": [],
   "source": [
    "def make_warehouse(row,col):\n",
    "    warehouse = [[0]*col for i in range(row)]\n",
    "    return warehouse "
   ]
  },
  {
   "cell_type": "code",
   "execution_count": 21,
   "metadata": {},
   "outputs": [],
   "source": [
    "def set_rack(warehouse,rack_location):\n",
    "    for idx, row in enumerate(warehouse):\n",
    "        warehouse[idx] =  [1 if (ix, ROW -1 - idx) in rack_location else 0 for ix,col in enumerate(warehouse[idx])]"
   ]
  },
  {
   "cell_type": "code",
   "execution_count": 22,
   "metadata": {},
   "outputs": [],
   "source": [
    "def get4Ways(point):\n",
    "    return [(point[0],point[1]+1), (point[0]+1,point[1]),\n",
    "            (point[0],point[1]-1), (point[0]-1,point[1])]"
   ]
  },
  {
   "cell_type": "code",
   "execution_count": 23,
   "metadata": {},
   "outputs": [],
   "source": [
    "def set_charging_station(warehouse,CHARGING_STATION,ROW,COL):\n",
    "    for charging_spot in CHARGING_STATION:\n",
    "        warehouse[ROW-1-charging_spot[1]][charging_spot[0]]=2\n",
    "    return warehouse"
   ]
  },
  {
   "cell_type": "markdown",
   "metadata": {},
   "source": [
    "# Make warehouse, Rack, Rack enterence, Station"
   ]
  },
  {
   "cell_type": "code",
   "execution_count": 24,
   "metadata": {},
   "outputs": [],
   "source": [
    "ROW, COL = 10,10\n",
    "# warehouse = make_warehouse(ROW,COL)\n",
    "INPUT_STATION = (3,0)\n",
    "OUTPUT_STATION = (6,0)\n",
    "CHARGING_STATION = [(2,9),(7,9)]   \n",
    "rack_location =  [(1, 1), (1, 2), (1, 3), (1, 4), (1, 5), (1, 6), (1, 7),\n",
    "                  (2, 1), (2, 2), (2, 3), (2, 4), (2, 5), (2, 6), (2, 7), \n",
    "                  (4, 1), (4, 2), (4, 3), (4, 4), (4, 5), (4, 6), (4, 7), \n",
    "                  (5, 1), (5, 2), (5, 3), (5, 4), (5, 5), (5, 6), (5, 7), \n",
    "                  (7, 1), (7, 2), (7, 3), (7, 4), (7, 5), (7, 6), (7, 7), \n",
    "                  (8, 1), (8, 2), (8, 3), (8, 4), (8, 5), (8, 6), (8, 7)]\n"
   ]
  },
  {
   "cell_type": "code",
   "execution_count": 25,
   "metadata": {},
   "outputs": [],
   "source": [
    "# set_rack(warehouse,rack_location)\n",
    "# set_charging_station(warehouse,CHARGING_STATION,ROW,COL)"
   ]
  },
  {
   "cell_type": "code",
   "execution_count": 26,
   "metadata": {},
   "outputs": [],
   "source": [
    "Rack_enterence={}\n",
    "for point in rack_location:\n",
    "    four_ways = get4Ways(point)\n",
    "    neighbour_obstacle_list = [way for way in four_ways if way in rack_location]  ## 좌표정보 ex) (1,3), (2,2)....\n",
    "    neighbour_empty_list = [way for way in four_ways if way not in rack_location] \n",
    "    if len(neighbour_empty_list) == 1: ### 모서리 아님\n",
    "        Rack_enterence[point] = neighbour_empty_list[0]\n",
    "    elif len(neighbour_empty_list) == 2: ### 모서리임\n",
    "        obstacle_way_list = [four_ways.index(obst) for obst in neighbour_obstacle_list]  ## 방향정보 ex) 0,1, 2...\n",
    "        for idx, obst_point in enumerate(neighbour_obstacle_list):\n",
    "            obst_way = obstacle_way_list[idx]\n",
    "            obst_plus1_point = get4Ways(obst_point)[obst_way]\n",
    "            if obst_plus1_point in rack_location:\n",
    "                continue\n",
    "            else:\n",
    "                Rack_enterence[point] = four_ways[obst_way-2]\n",
    "    else:\n",
    "        print('ERROR finding obstacle/entrance for RACK {}'.format(point))"
   ]
  },
  {
   "cell_type": "code",
   "execution_count": 38,
   "metadata": {},
   "outputs": [
    {
     "data": {
      "text/plain": [
       "[[0, 0, 0, 0, 0, 0, 0, 0, 0, 0],\n",
       " [0, 0, 0, 0, 0, 0, 0, 0, 0, 0],\n",
       " [0, 1, 1, 0, 1, 1, 0, 1, 1, 0],\n",
       " [0, 1, 1, 0, 1, 1, 0, 1, 1, 0],\n",
       " [0, 1, 1, 0, 1, 1, 0, 1, 1, 0],\n",
       " [0, 1, 1, 0, 1, 1, 0, 1, 1, 0],\n",
       " [0, 1, 1, 0, 1, 1, 0, 1, 1, 0],\n",
       " [0, 1, 1, 0, 1, 1, 0, 1, 1, 0],\n",
       " [0, 1, 1, 0, 1, 1, 0, 1, 1, 0],\n",
       " [0, 0, 0, 0, 0, 0, 0, 0, 0, 0]]"
      ]
     },
     "execution_count": 38,
     "metadata": {},
     "output_type": "execute_result"
    }
   ],
   "source": [
    "warehouse = np.array(\n",
    "[[0, 0, 0, 0, 0, 0, 0, 0, 0, 0],\n",
    " [0, 0, 0, 0, 0, 0, 0, 0, 0, 0],\n",
    " [0, 1, 1, 0, 1, 1, 0, 1, 1, 0],\n",
    " [0, 1, 1, 0, 1, 1, 0, 1, 1, 0],\n",
    " [0, 1, 1, 0, 1, 1, 0, 1, 1, 0],\n",
    " [0, 1, 1, 0, 1, 1, 0, 1, 1, 0],\n",
    " [0, 1, 1, 0, 1, 1, 0, 1, 1, 0],\n",
    " [0, 1, 1, 0, 1, 1, 0, 1, 1, 0],\n",
    " [0, 1, 1, 0, 1, 1, 0, 1, 1, 0],\n",
    " [0, 0, 0, 0, 0, 0, 0, 0, 0, 0]]\n",
    ",dtype = np.int32)"
   ]
  },
  {
   "cell_type": "markdown",
   "metadata": {},
   "source": [
    "# 실험"
   ]
  },
  {
   "cell_type": "markdown",
   "metadata": {},
   "source": [
    "### Simulation condition"
   ]
  },
  {
   "cell_type": "code",
   "execution_count": 27,
   "metadata": {},
   "outputs": [],
   "source": [
    "jobQ = JobQueue()\n",
    "jobQ_for_simulation = JobQueue()\n",
    "run_time = 2000\n",
    "total_job_location_list = []\n",
    "select_agv_list = []\n",
    "charging_agvs_list = []\n",
    "moving_for_charge_agvs_list = []\n",
    "battery_threshold = 100\n",
    "total_job_information = {}"
   ]
  },
  {
   "cell_type": "markdown",
   "metadata": {},
   "source": [
    "### Created Job 확인"
   ]
  },
  {
   "cell_type": "code",
   "execution_count": 28,
   "metadata": {},
   "outputs": [
    {
     "name": "stdout",
     "output_type": "stream",
     "text": [
      "{'0': ['in', [(8, 2)]], '13': ['in', [(1, 3)]], '24': ['in', [(5, 7)]], '34': ['in', [(7, 3)]], '41': ['out', [(8, 2)]], '47': ['in', [(1, 1)]], '60': ['in', [(2, 7)]], '72': ['in', [(7, 2)]], '87': ['in', [(7, 4)]], '97': ['in', [(4, 4)]], '106': ['in', [(8, 7)]], '115': ['in', [(2, 4)]], '126': ['out', [(1, 3)]], '137': ['in', [(7, 6)]], '150': ['out', [(7, 4)]], '165': ['in', [(4, 7)]], '170': ['in', [(1, 5)]], '180': ['in', [(4, 2)]], '187': ['in', [(5, 3)]], '195': ['in', [(1, 3)]], '203': ['in', [(5, 6)]], '211': ['in', [(2, 2)]], '220': ['in', [(8, 4)]], '233': ['in', [(5, 2)]], '242': ['in', [(5, 4)]], '255': ['out', [(5, 6)]], '265': ['in', [(4, 5)]], '269': ['in', [(4, 3)]], '277': ['out', [(7, 2)]], '285': ['in', [(2, 5)]], '293': ['in', [(4, 6)]], '307': ['out', [(5, 3)]], '321': ['out', [(2, 2)]], '332': ['in', [(7, 2)]], '343': ['out', [(4, 2)]], '351': ['in', [(7, 1)]], '359': ['in', [(8, 5)]], '369': ['out', [(5, 4)]], '379': ['out', [(1, 3)]], '387': ['in', [(8, 3)]], '395': ['out', [(1, 1)]], '399': ['in', [(4, 2)]], '410': ['in', [(2, 2)]], '418': ['in', [(2, 6)]], '426': ['out', [(4, 6)]], '438': ['in', [(7, 7)]], '441': ['in', [(5, 3)]], '446': ['out', [(4, 2)]], '460': ['out', [(4, 7)]], '467': ['in', [(8, 1)]], '477': ['out', [(7, 1)]], '483': ['out', [(5, 7)]], '494': ['out', [(7, 3)]], '501': ['out', [(1, 5)]], '508': ['out', [(8, 7)]], '523': ['out', [(8, 3)]], '534': ['in', [(4, 7)]], '545': ['in', [(7, 5)]], '556': ['out', [(2, 4)]], '562': ['in', [(4, 1)]], '574': ['in', [(5, 6)]], '583': ['in', [(4, 2)]], '593': ['in', [(1, 3)]], '598': ['out', [(1, 3)]], '609': ['in', [(7, 4)]], '616': ['in', [(4, 6)]], '624': ['out', [(8, 4)]], '636': ['in', [(1, 5)]], '645': ['out', [(7, 7)]], '656': ['in', [(1, 6)]], '667': ['in', [(2, 3)]], '679': ['in', [(5, 4)]], '689': ['in', [(8, 2)]], '699': ['out', [(5, 3)]], '705': ['in', [(8, 4)]], '715': ['out', [(2, 3)]], '720': ['in', [(2, 1)]], '725': ['in', [(1, 7)]], '729': ['in', [(7, 1)]], '740': ['in', [(2, 4)]], '751': ['out', [(2, 6)]], '759': ['out', [(5, 2)]], '768': ['in', [(5, 7)]], '777': ['out', [(5, 6)]], '787': ['out', [(7, 1)]], '806': ['out', [(4, 2)]], '820': ['out', [(4, 4)]], '827': ['in', [(2, 3)]], '837': ['out', [(8, 5)]], '850': ['out', [(7, 6)]], '858': ['out', [(2, 5)]], '867': ['out', [(2, 1)]], '881': ['in', [(4, 4)]], '892': ['out', [(7, 2)]], '901': ['out', [(4, 6)]], '911': ['out', [(2, 4)]], '919': ['in', [(8, 7)]], '932': ['in', [(2, 5)]], '939': ['out', [(2, 5)]], '950': ['in', [(7, 3)]]}\n",
      "100\n"
     ]
    }
   ],
   "source": [
    "for time in range(run_time+1):\n",
    "    if time in job_create_time:\n",
    "        job_create(rack_location,total_job_location_list,time,total_job_information)\n",
    "print(total_job_information)\n",
    "print(len(total_job_information))"
   ]
  },
  {
   "cell_type": "markdown",
   "metadata": {},
   "source": [
    "### Create AGV"
   ]
  },
  {
   "cell_type": "code",
   "execution_count": 29,
   "metadata": {},
   "outputs": [
    {
     "name": "stdout",
     "output_type": "stream",
     "text": [
      "[[0, 0, 0, 0, 0, 0, 0, 0, 0, 0], [0, 0, 0, 0, 0, 0, 0, 0, 0, 0], [0, 1, 1, 0, 1, 1, 0, 1, 1, 0], [0, 1, 1, 0, 1, 1, 0, 1, 1, 0], [0, 1, 1, 0, 1, 1, 0, 1, 1, 0], [0, 1, 1, 0, 1, 1, 0, 1, 1, 0], [0, 1, 1, 0, 1, 1, 0, 1, 1, 0], [0, 1, 1, 0, 1, 1, 0, 1, 1, 0], [0, 1, 1, 0, 1, 1, 0, 1, 1, 0], [0, 0, 0, 0, 0, 0, 0, 0, 0, 0]]\n"
     ]
    }
   ],
   "source": [
    "print(warehouse)"
   ]
  },
  {
   "cell_type": "code",
   "execution_count": 30,
   "metadata": {},
   "outputs": [
    {
     "data": {
      "text/plain": [
       "[<__main__.AGV at 0x1abfdeb9b88>,\n",
       " <__main__.AGV at 0x1abfdeb9b48>,\n",
       " <__main__.AGV at 0x1abfdeb9bc8>,\n",
       " <__main__.AGV at 0x1abfdeb9d08>]"
      ]
     },
     "execution_count": 30,
     "metadata": {},
     "output_type": "execute_result"
    }
   ],
   "source": [
    "agv1 = AGV(\"agv1\",(0,9),[])\n",
    "agv2 = AGV(\"agv2\",(3,9),[])\n",
    "agv3 = AGV(\"agv3\",(6,9),[])\n",
    "agv4 = AGV(\"agv4\",(9,9),[])\n",
    "AGV_LIST = [agv1,agv2,agv3,agv4]\n",
    "AGV_LIST"
   ]
  },
  {
   "cell_type": "code",
   "execution_count": 31,
   "metadata": {},
   "outputs": [
    {
     "data": {
      "text/plain": [
       "[(0, 0), (0, 1), (0, 2), (0, 3), (0, 4), (0, 5)]"
      ]
     },
     "execution_count": 31,
     "metadata": {},
     "output_type": "execute_result"
    }
   ],
   "source": [
    "astar(warehouse,(0,0),(0,5))"
   ]
  },
  {
   "cell_type": "code",
   "execution_count": 32,
   "metadata": {},
   "outputs": [],
   "source": [
    "jobQ.insertJob(['in', [(8, 2)]],['in', [(1, 3)]])"
   ]
  },
  {
   "cell_type": "code",
   "execution_count": 33,
   "metadata": {},
   "outputs": [],
   "source": [
    "reservation_table = dict()"
   ]
  },
  {
   "cell_type": "code",
   "execution_count": 34,
   "metadata": {},
   "outputs": [],
   "source": [
    "job = jobQ.getJob()"
   ]
  },
  {
   "cell_type": "code",
   "execution_count": 35,
   "metadata": {},
   "outputs": [
    {
     "name": "stdout",
     "output_type": "stream",
     "text": [
      "{'inout': ['in', [(8, 2)]], 'station_dest': ['in', [(1, 3)]]}\n"
     ]
    }
   ],
   "source": [
    "print(job)"
   ]
  },
  {
   "cell_type": "code",
   "execution_count": 36,
   "metadata": {},
   "outputs": [
    {
     "name": "stdout",
     "output_type": "stream",
     "text": [
      "(1, 3)\n"
     ]
    }
   ],
   "source": [
    "print(job['station_dest'][1][0])"
   ]
  },
  {
   "cell_type": "code",
   "execution_count": 37,
   "metadata": {},
   "outputs": [
    {
     "name": "stdout",
     "output_type": "stream",
     "text": [
      "<__main__.node object at 0x000001ABFDEAA948>\n"
     ]
    },
    {
     "ename": "AttributeError",
     "evalue": "'int' object has no attribute 'depth'",
     "output_type": "error",
     "traceback": [
      "\u001b[1;31m---------------------------------------------------------------------------\u001b[0m",
      "\u001b[1;31mAttributeError\u001b[0m                            Traceback (most recent call last)",
      "\u001b[1;32m<ipython-input-37-4a7b12c35422>\u001b[0m in \u001b[0;36m<module>\u001b[1;34m\u001b[0m\n\u001b[1;32m----> 1\u001b[1;33m \u001b[0mfind_path_astar\u001b[0m\u001b[1;33m(\u001b[0m\u001b[0mwarehouse\u001b[0m\u001b[1;33m,\u001b[0m\u001b[0magv1\u001b[0m\u001b[1;33m,\u001b[0m\u001b[0mreservation_table\u001b[0m\u001b[1;33m,\u001b[0m\u001b[0mjob\u001b[0m\u001b[1;33m)\u001b[0m\u001b[1;33m\u001b[0m\u001b[1;33m\u001b[0m\u001b[0m\n\u001b[0m",
      "\u001b[1;32m<ipython-input-19-cf9176979583>\u001b[0m in \u001b[0;36mfind_path_astar\u001b[1;34m(graph, agv, reservation_table, job)\u001b[0m\n\u001b[0;32m     59\u001b[0m             \u001b[0mneighbour\u001b[0m \u001b[1;33m=\u001b[0m \u001b[0mgraph\u001b[0m\u001b[1;33m[\u001b[0m\u001b[0mnode_position\u001b[0m\u001b[1;33m[\u001b[0m\u001b[1;36m0\u001b[0m\u001b[1;33m]\u001b[0m\u001b[1;33m]\u001b[0m\u001b[1;33m[\u001b[0m\u001b[0mnode_position\u001b[0m\u001b[1;33m[\u001b[0m\u001b[1;36m1\u001b[0m\u001b[1;33m]\u001b[0m\u001b[1;33m]\u001b[0m\u001b[1;33m\u001b[0m\u001b[1;33m\u001b[0m\u001b[0m\n\u001b[0;32m     60\u001b[0m             \u001b[0mneighbour\u001b[0m \u001b[1;33m=\u001b[0m \u001b[0mcopy\u001b[0m\u001b[1;33m.\u001b[0m\u001b[0mdeepcopy\u001b[0m\u001b[1;33m(\u001b[0m\u001b[0mneighbour\u001b[0m\u001b[1;33m)\u001b[0m\u001b[1;33m\u001b[0m\u001b[1;33m\u001b[0m\u001b[0m\n\u001b[1;32m---> 61\u001b[1;33m             \u001b[0mneighbour\u001b[0m\u001b[1;33m.\u001b[0m\u001b[0mdepth\u001b[0m\u001b[1;33m=\u001b[0m \u001b[0mcurrent_node\u001b[0m\u001b[1;33m.\u001b[0m\u001b[0mdepth\u001b[0m\u001b[1;33m+\u001b[0m\u001b[1;36m1\u001b[0m\u001b[1;33m\u001b[0m\u001b[1;33m\u001b[0m\u001b[0m\n\u001b[0m\u001b[0;32m     62\u001b[0m \u001b[1;33m\u001b[0m\u001b[0m\n\u001b[0;32m     63\u001b[0m             \u001b[1;32mif\u001b[0m \u001b[0many\u001b[0m\u001b[1;33m(\u001b[0m\u001b[0mwithin_range\u001b[0m\u001b[1;33m)\u001b[0m\u001b[1;33m:\u001b[0m\u001b[1;33m\u001b[0m\u001b[1;33m\u001b[0m\u001b[0m\n",
      "\u001b[1;31mAttributeError\u001b[0m: 'int' object has no attribute 'depth'"
     ]
    }
   ],
   "source": [
    "find_path_astar(warehouse,agv1,reservation_table,job)"
   ]
  },
  {
   "cell_type": "code",
   "execution_count": null,
   "metadata": {},
   "outputs": [],
   "source": []
  },
  {
   "cell_type": "code",
   "execution_count": null,
   "metadata": {},
   "outputs": [],
   "source": [
    "def find_path_astar(graph, agv,reservation_table,job):"
   ]
  },
  {
   "cell_type": "code",
   "execution_count": null,
   "metadata": {},
   "outputs": [],
   "source": [
    "find_path_astar(graph,agv1,reservation_table)"
   ]
  },
  {
   "cell_type": "markdown",
   "metadata": {},
   "source": [
    "### Main 함수 "
   ]
  },
  {
   "cell_type": "code",
   "execution_count": null,
   "metadata": {},
   "outputs": [],
   "source": [
    "def CAstar(graph,agv_list):\n",
    "    reservation_table = dict()\n",
    "    while len(agv_avail)!=0 and jobQ.job_number!=0:\n",
    "        job = jobQ.getJob()\n",
    "        agv_avail = getAvailAGV(AGV_LIST, battery_threshold)\n",
    "        for agv in agv_avail:\n",
    "            agv.calculate_bid(job,warehouse,INPUT_STATION,OUTPUT_STATION)\n",
    "            agv.bid_list.append(agv.calculate_bid(job,warehouse,INPUT_STATION,OUTPUT_STATION))\n",
    "        for agv_ in agv_avail:\n",
    "            agv_bid_sort = sorted(agv_.bid_list,key = lambda x:x[1], reverse = False)\n",
    "#                 print(agv_bid_sort)\n",
    "        bid_compare_battery=[]\n",
    "        for i in range(len(agv_bid_sort)):\n",
    "            if agv_bid_sort[i][1]==agv_bid_sort[0][1]:\n",
    "                bid_compare_battery.append((agv_bid_sort[i]))\n",
    "        bid_compare_battery_sort = sorted(bid_compare_battery, key= lambda x:x[0].battery, reverse =True)\n",
    "#             print('0',type(bid_compare_battery_sort[0][0]))\n",
    "        if job['inout']=='in':\n",
    "            astar_path = astar(warehouse,bid_compare_battery_sort[0][0].current_location,INPUT_STATION)+astar(warehouse,INPUT_STATION,Rack_enterence[job['station_dest']])\n",
    "        else:\n",
    "            astar_path = astar(warehouse,bid_compare_battery_sort[0][0].current_location,Rack_enterence[job['station_dest']])+astar(warehouse,Rack_enterence[job['station_dest']],OUTPUT_STATION)\n",
    "        target_agv = bid_compare_battery_sort[0][0]\n",
    "        select_agv_list.append(target_agv)\n",
    "        target_agv.get_job(job,astar_path)\n",
    "        print(\"D running_time : {}, target_agv : {}, target_agv.battery: {}, destination : {}, astar_path : {}, available:{}\".format(running_time,target_agv,target_agv.battery,job['station_dest'],astar_path,target_agv.available))\n",
    "        for agv in AGV_LIST:\n",
    "            agv.clear_bid_list(AGV_LIST)    "
   ]
  },
  {
   "cell_type": "code",
   "execution_count": null,
   "metadata": {},
   "outputs": [],
   "source": [
    "def CAstar(graph,agv_list):\n",
    "    reservation_table = dict()\n",
    "    while len(agv_avail)!=0 and jobQ.job_number!=0:\n",
    "        job = jobQ.getJob()\n",
    "        agv_avail = getAvailAGV(AGV_LIST, battery_threshold)\n",
    "        for agv in agv_avail:\n",
    "            agv.calculate_bid(job,warehouse,INPUT_STATION,OUTPUT_STATION)\n",
    "            agv.bid_list.append(agv.calculate_bid(job,warehouse,INPUT_STATION,OUTPUT_STATION))\n",
    "        for agv_ in agv_avail:\n",
    "            agv_bid_sort = sorted(agv_.bid_list,key = lambda x:x[1], reverse = False)\n",
    "#                 print(agv_bid_sort)\n",
    "        bid_compare_battery=[]\n",
    "        for i in range(len(agv_bid_sort)):\n",
    "            if agv_bid_sort[i][1]==agv_bid_sort[0][1]:\n",
    "                bid_compare_battery.append((agv_bid_sort[i]))\n",
    "        bid_compare_battery_sort = sorted(bid_compare_battery, key= lambda x:x[0].battery, reverse =True)\n",
    "#             print('0',type(bid_compare_battery_sort[0][0]))\n",
    "        if job['inout']=='in':\n",
    "            astar_path = astar(warehouse,bid_compare_battery_sort[0][0].current_location,INPUT_STATION)+astar(warehouse,INPUT_STATION,Rack_enterence[job['station_dest']])\n",
    "        else:\n",
    "            astar_path = astar(warehouse,bid_compare_battery_sort[0][0].current_location,Rack_enterence[job['station_dest']])+astar(warehouse,Rack_enterence[job['station_dest']],OUTPUT_STATION)\n",
    "        target_agv = bid_compare_battery_sort[0][0]\n",
    "        select_agv_list.append(target_agv)\n",
    "        target_agv.get_job(job,astar_path)\n",
    "        print(\"D running_time : {}, target_agv : {}, target_agv.battery: {}, destination : {}, astar_path : {}, available:{}\".format(running_time,target_agv,target_agv.battery,job['station_dest'],astar_path,target_agv.available))\n",
    "        for agv in AGV_LIST:\n",
    "            agv.clear_bid_list(AGV_LIST)    "
   ]
  },
  {
   "cell_type": "code",
   "execution_count": null,
   "metadata": {},
   "outputs": [],
   "source": [
    "        while len(agv_avail)!=0 and jobQ.job_number!=0:\n",
    "            job = jobQ.getJob()\n",
    "#             print(job)\n",
    "            agv_avail = getAvailAGV(AGV_LIST, battery_threshold)\n",
    "            for agv in agv_avail:\n",
    "                agv.calculate_bid(job,warehouse,INPUT_STATION,OUTPUT_STATION)\n",
    "                agv.bid_list.append(agv.calculate_bid(job,warehouse,INPUT_STATION,OUTPUT_STATION))\n",
    "            for agv_ in agv_avail:\n",
    "                agv_bid_sort = sorted(agv_.bid_list,key = lambda x:x[1], reverse = False)\n",
    "#                 print(agv_bid_sort)\n",
    "            bid_compare_battery=[]\n",
    "            for i in range(len(agv_bid_sort)):\n",
    "                if agv_bid_sort[i][1]==agv_bid_sort[0][1]:\n",
    "                    bid_compare_battery.append((agv_bid_sort[i]))\n",
    "            bid_compare_battery_sort = sorted(bid_compare_battery, key= lambda x:x[0].battery, reverse =True)\n",
    "#             print('0',type(bid_compare_battery_sort[0][0]))\n",
    "            if job['inout']=='in':\n",
    "                astar_path = astar(warehouse,bid_compare_battery_sort[0][0].current_location,INPUT_STATION)+astar(warehouse,INPUT_STATION,Rack_enterence[job['station_dest']])\n",
    "            else:\n",
    "                astar_path = astar(warehouse,bid_compare_battery_sort[0][0].current_location,Rack_enterence[job['station_dest']])+astar(warehouse,Rack_enterence[job['station_dest']],OUTPUT_STATION)\n",
    "            target_agv = bid_compare_battery_sort[0][0]\n",
    "            select_agv_list.append(target_agv)\n",
    "            target_agv.get_job(job,astar_path)\n",
    "            print(\"D running_time : {}, target_agv : {}, target_agv.battery: {}, destination : {}, astar_path : {}, available:{}\".format(running_time,target_agv,target_agv.battery,job['station_dest'],astar_path,target_agv.available))\n",
    "            for agv in AGV_LIST:\n",
    "                agv.clear_bid_list(AGV_LIST)"
   ]
  },
  {
   "cell_type": "code",
   "execution_count": null,
   "metadata": {},
   "outputs": [],
   "source": []
  },
  {
   "cell_type": "code",
   "execution_count": null,
   "metadata": {},
   "outputs": [],
   "source": []
  },
  {
   "cell_type": "code",
   "execution_count": null,
   "metadata": {},
   "outputs": [],
   "source": []
  },
  {
   "cell_type": "code",
   "execution_count": null,
   "metadata": {},
   "outputs": [],
   "source": []
  },
  {
   "cell_type": "code",
   "execution_count": null,
   "metadata": {},
   "outputs": [],
   "source": [
    "#7월 21 일 flowchart대로 수정\n",
    "if __name__ =='__main__':\n",
    "    for running_time in range(run_time+1):\n",
    "        now_charging_agv = getChargingAGV(AGV_LIST)\n",
    "        if len(now_charging_agv)!=0:\n",
    "            print('charging_agv',now_charging_agv)\n",
    "        if len(now_charging_agv)!=0:\n",
    "            for charging_agv in now_charging_agv:\n",
    "                charging_agv.charge_agv(charging_agvs_list)\n",
    "        if len(moving_for_charge_agvs_list)!=0:\n",
    "#             print('-',moving_for_charge_agvs_list)\n",
    "            for moving_agvs in moving_for_charge_agvs_list :\n",
    "                moving_agvs.move_one_tick_for_charge(charging_agvs_list,moving_for_charge_agvs_list)\n",
    "                print(\"running time : {}, moving agv for charging : {}, current location : {}, current battery : {}\".format(running_time, moving_agvs,moving_agvs.current_location,moving_agvs.battery))\n",
    "                if moving_agvs.charging == True:\n",
    "                    print('moving_for_charge_agvs_list:',moving_for_charge_agvs_list,'moving_agvs',moving_agvs,'moving_agvs battery:',moving_agvs.battery)\n",
    "#                     moving_for_charge_agvs_list.remove(moving_agvs)\n",
    "                    charging_agvs_list.append(moving_agvs)\n",
    "    #       #사용가능한 agv와 job이 있을때 \n",
    "        if running_time in job_create_time:\n",
    "            print(\"@@@@@@@@@@@@@@@@@\",running_time)\n",
    "            jobQ.insertJob(total_job_information.get('{}'.format(running_time))[0],total_job_information.get('{}'.format(running_time))[1][0])\n",
    "        agv_avail = getAvailAGV(AGV_LIST,battery_threshold)\n",
    "#         print('C running_time : {} , agv_avail : {}'.format(running_time,agv_avail))\n",
    "        while len(agv_avail)!=0 and jobQ.job_number!=0:\n",
    "            job = jobQ.getJob()\n",
    "#             print(job)\n",
    "            agv_avail = getAvailAGV(AGV_LIST, battery_threshold)\n",
    "            for agv in agv_avail:\n",
    "                agv.calculate_bid(job,warehouse,INPUT_STATION,OUTPUT_STATION)\n",
    "                agv.bid_list.append(agv.calculate_bid(job,warehouse,INPUT_STATION,OUTPUT_STATION))\n",
    "            for agv_ in agv_avail:\n",
    "                agv_bid_sort = sorted(agv_.bid_list,key = lambda x:x[1], reverse = False)\n",
    "#                 print(agv_bid_sort)\n",
    "            bid_compare_battery=[]\n",
    "            for i in range(len(agv_bid_sort)):\n",
    "                if agv_bid_sort[i][1]==agv_bid_sort[0][1]:\n",
    "                    bid_compare_battery.append((agv_bid_sort[i]))\n",
    "            bid_compare_battery_sort = sorted(bid_compare_battery, key= lambda x:x[0].battery, reverse =True)\n",
    "#             print('0',type(bid_compare_battery_sort[0][0]))\n",
    "            if job['inout']=='in':\n",
    "                astar_path = astar(warehouse,bid_compare_battery_sort[0][0].current_location,INPUT_STATION)+astar(warehouse,INPUT_STATION,Rack_enterence[job['station_dest']])\n",
    "            else:\n",
    "                astar_path = astar(warehouse,bid_compare_battery_sort[0][0].current_location,Rack_enterence[job['station_dest']])+astar(warehouse,Rack_enterence[job['station_dest']],OUTPUT_STATION)\n",
    "            target_agv = bid_compare_battery_sort[0][0]\n",
    "            select_agv_list.append(target_agv)\n",
    "            target_agv.get_job(job,astar_path)\n",
    "            print(\"D running_time : {}, target_agv : {}, target_agv.battery: {}, destination : {}, astar_path : {}, available:{}\".format(running_time,target_agv,target_agv.battery,job['station_dest'],astar_path,target_agv.available))\n",
    "            for agv in AGV_LIST:\n",
    "                agv.clear_bid_list(AGV_LIST)\n",
    "        for moving_agv in select_agv_list:\n",
    "            moving_agv.move_one_tick()\n",
    "            print(\"E time : {}, moving agv : {}, battery : {}, current location : {}\".format(running_time,moving_agv,moving_agv.battery,moving_agv.current_location))\n",
    "            if len(moving_agv.path)==0:\n",
    "                select_agv_list.remove(moving_agv)\n",
    "                moving_agv.available = True\n",
    "                if moving_agv.battery < battery_threshold:\n",
    "                    moving_for_charge_agvs_list.append(moving_agv)\n",
    "                    moving_agv.go_to_charge(moving_agv.select_charging_station(warehouse,CHARGING_STATION))"
   ]
  },
  {
   "cell_type": "code",
   "execution_count": null,
   "metadata": {},
   "outputs": [],
   "source": []
  },
  {
   "cell_type": "code",
   "execution_count": null,
   "metadata": {},
   "outputs": [],
   "source": []
  }
 ],
 "metadata": {
  "kernelspec": {
   "display_name": "Python 3",
   "language": "python",
   "name": "python3"
  },
  "language_info": {
   "codemirror_mode": {
    "name": "ipython",
    "version": 3
   },
   "file_extension": ".py",
   "mimetype": "text/x-python",
   "name": "python",
   "nbconvert_exporter": "python",
   "pygments_lexer": "ipython3",
   "version": "3.8.5"
  }
 },
 "nbformat": 4,
 "nbformat_minor": 4
}
