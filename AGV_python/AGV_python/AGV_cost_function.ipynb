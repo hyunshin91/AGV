{
 "cells": [
  {
   "cell_type": "code",
   "execution_count": 210,
   "metadata": {},
   "outputs": [],
   "source": [
    "import numpy as np\n",
    "import matplotlib.pyplot as plt\n",
    "import queue\n",
    "import random"
   ]
  },
  {
   "cell_type": "code",
   "execution_count": 4,
   "metadata": {},
   "outputs": [
    {
     "ename": "SyntaxError",
     "evalue": "invalid syntax (<ipython-input-4-0bd127241798>, line 10)",
     "output_type": "error",
     "traceback": [
      "\u001b[1;36m  File \u001b[1;32m\"<ipython-input-4-0bd127241798>\"\u001b[1;36m, line \u001b[1;32m10\u001b[0m\n\u001b[1;33m    self.auctioneer =\u001b[0m\n\u001b[1;37m                      ^\u001b[0m\n\u001b[1;31mSyntaxError\u001b[0m\u001b[1;31m:\u001b[0m invalid syntax\n"
     ]
    }
   ],
   "source": [
    "class Auction:\n",
    "    def __init__(self,jobQ):\n",
    "        if jobQ !=0 :\n",
    "            self.job = jobQ.getJob()\n",
    "            self.is_stareted = False\n",
    "            self.has_ddfailed = None\n",
    "            self.highest_bid = None\n",
    "    \n",
    "    def chose_auctioneer(tick,):\n",
    "        self.auctioneer = \n",
    "    \n",
    "    def announcement\n",
    "    \n",
    "    def submission\n",
    "    \n",
    "    def selection\n",
    "    \n",
    "    def assignment"
   ]
  },
  {
   "cell_type": "code",
   "execution_count": null,
   "metadata": {},
   "outputs": [],
   "source": [
    "class Auction:\n",
    "    def __init__(self,jobQ):\n",
    "        if jobQ !=0 :\n",
    "            self.job = jobQ.getJob()\n",
    "            self.is_stareted = False\n",
    "            self.has_failed = None\n",
    "            self.highest_bid = None     \n",
    "    def start(self):\n",
    "        if self.has_failed is not None:\n",
    "            logging.error(\"Job {} already sold\".format(Auction(jobQ).job))\n",
    "        else:\n",
    "            self.is_stareted=True\n",
    "            logging.info(\"Auction {} already performed\".format(self.job))\n",
    "    def stop(self):\n",
    "        self.is_started = True:\n",
    "            self.highest_bid  = highest_bid\n",
    "            if(highest_bid is None or )\n",
    "            \n",
    "            "
   ]
  },
  {
   "cell_type": "code",
   "execution_count": null,
   "metadata": {},
   "outputs": [],
   "source": [
    "jobQ = JobQueue()\n",
    "jobQ.insertJob('in',(1,1))\n",
    "jobQ.insertJob('out',(1,2))\n",
    "jobQ.insertJob('in',(1,3))\n",
    "jobQ.insertJob('out',(1,4))\n",
    "print(getAvailAGV(AGV_LIST,battery_threshold))"
   ]
  },
  {
   "cell_type": "code",
   "execution_count": null,
   "metadata": {},
   "outputs": [],
   "source": []
  },
  {
   "cell_type": "markdown",
   "metadata": {},
   "source": [
    "# Job"
   ]
  },
  {
   "cell_type": "code",
   "execution_count": 6,
   "metadata": {},
   "outputs": [
    {
     "name": "stdout",
     "output_type": "stream",
     "text": [
      "[ 2  4  3  5  6  6  7  6  2  3  8  9  4 10  2  5  2  4  9  8  3  3  2  4\n",
      "  6  4  5  7  0  2  4  9  5  7  1  7  7  5  5  8  5  3  7  1  6  4  4  7\n",
      "  4  2  5  7  2  6  7  3  3  3  6  7  3  3  5  6  5  6  4  5  2  7  5  4\n",
      "  5  5  3  4  6  7  4  5  7  5  7  4  4  5  9  7 12  8  8  2 10  3  3  9\n",
      "  8  6  9  3]\n",
      "[0, 2, 6, 9, 14, 20, 26, 33, 39, 41, 44, 52, 61, 65, 75, 77, 82, 84, 88, 97, 105, 108, 111, 113, 117, 123, 127, 132, 139, 139, 141, 145, 154, 159, 166, 167, 174, 181, 186, 191, 199, 204, 207, 214, 215, 221, 225, 229, 236, 240, 242, 247, 254, 256, 262, 269, 272, 275, 278, 284, 291, 294, 297, 302, 308, 313, 319, 323, 328, 330, 337, 342, 346, 351, 356, 359, 363, 369, 376, 380, 385, 392, 397, 404, 408, 412, 417, 426, 433, 445, 453, 461, 463, 473, 476, 479, 488, 496, 502, 511, 514]\n"
     ]
    }
   ],
   "source": [
    "job_time_interval = np.random.poisson(5,100)\n",
    "job_create_time = [sum(job_time_interval[:i]) for i in range(len(job_time_interval)+1)]\n",
    "print(job_time_interval)\n",
    "print(job_create_time)"
   ]
  },
  {
   "cell_type": "code",
   "execution_count": 7,
   "metadata": {},
   "outputs": [],
   "source": [
    "class JobQueue(object):\n",
    "    \n",
    "    def __init__(self):\n",
    "        self.job_q = queue.Queue()\n",
    "        \n",
    "    def insertJob(self, inout,  station_dest):\n",
    "        job = {\"inout\": inout, \"station_dest\": station_dest}\n",
    "        self.job_q.put(job)\n",
    "\n",
    "    def getJob(self):\n",
    "        if self.job_q.empty():\n",
    "            return None\n",
    "        return self.job_q.get()"
   ]
  },
  {
   "cell_type": "code",
   "execution_count": 8,
   "metadata": {},
   "outputs": [],
   "source": [
    "def job_create(rack_location,job_create_time,jobQ):\n",
    "    job_location = [random.choice(rack_location) for i in range(len(job_create_time))]\n",
    "    for idx, jobloc in enumerate(job_location):\n",
    "        if job_location[:idx].count(jobloc) %2 ==0:\n",
    "            jobQ.insertJob(\"in\",job_location[idx])\n",
    "        else:\n",
    "            jobQ.insertJob(\"out\",job_location[idx])\n",
    "    return jobQ\n",
    "\n",
    "    "
   ]
  },
  {
   "cell_type": "markdown",
   "metadata": {},
   "source": [
    "# AGV"
   ]
  },
  {
   "cell_type": "code",
   "execution_count": 158,
   "metadata": {},
   "outputs": [],
   "source": [
    "class AGV(object):\n",
    "    max_battery = 1000\n",
    "    charger = [(10,6)]\n",
    "    \n",
    "    \n",
    "    def __init__(self,agv_id,current_location,current_tick=0):\n",
    "        self.agv_id = agv_id\n",
    "        self.battery = self.max_battery\n",
    "        self.current_location = current_location\n",
    "        self.job = None\n",
    "        self.destination = None\n",
    "        self.available = True\n",
    "        self.current_tick = current_tick\n",
    "\n",
    "    \n",
    "    def move_one_tick(self,astar_path):\n",
    "        self.astar_path = astar_path\n",
    "        self.next_location = self.path[0]\n",
    "        self.current_location = self.next_location\n",
    "        del self.astar_path[0]\n",
    "        self.battery -=1\n",
    "        self.current_tick +=1\n",
    "    \n",
    "    def get_job(self,job,astar_path):\n",
    "        self.job = job\n",
    "        self.path = astar_path\n",
    "        self.available = False\n",
    "        \n",
    "    def job_release(self):\n",
    "        self.available = True\n",
    "        \n",
    "        \n",
    "        "
   ]
  },
  {
   "cell_type": "code",
   "execution_count": 177,
   "metadata": {},
   "outputs": [],
   "source": [
    "class AGV(object):\n",
    "    max_battery = 1000\n",
    "    charger = [(10,6)]\n",
    "    \n",
    "    \n",
    "    def __init__(self,agv_id,current_location,current_tick=0):\n",
    "        self.agv_id = agv_id\n",
    "        self.battery = self.max_battery\n",
    "        self.current_location = current_location\n",
    "        self.job = None\n",
    "        self.destination = None\n",
    "        self.available = True\n",
    "        self.current_tick = current_tick\n",
    "\n",
    "    \n",
    "    def move_one_tick(self):\n",
    "        self.next_location = self.path[0]\n",
    "        self.current_location = self.next_location\n",
    "        del self.path[0]\n",
    "        self.battery -=1\n",
    "        self.current_tick +=1\n",
    "    \n",
    "    def get_job(self,job,astar_path):\n",
    "        self.job = job\n",
    "        self.path = astar_path\n",
    "        self.available = False\n",
    "        \n",
    "    def job_release(self):\n",
    "        self.available = True\n",
    "        "
   ]
  },
  {
   "cell_type": "code",
   "execution_count": 178,
   "metadata": {},
   "outputs": [],
   "source": [
    "def getAvailAGV(AGV_LIST,battery_threshold):\n",
    "    return [agv for agv in AGV_LIST if agv.available == True and agv.battery > battery_threshold]"
   ]
  },
  {
   "cell_type": "code",
   "execution_count": 189,
   "metadata": {},
   "outputs": [
    {
     "name": "stdout",
     "output_type": "stream",
     "text": [
      "[<__main__.AGV object at 0x0000027CB0E777C8>, <__main__.AGV object at 0x0000027CB0E77D88>, <__main__.AGV object at 0x0000027CB0E77608>, <__main__.AGV object at 0x0000027CB0E98B08>]\n"
     ]
    }
   ],
   "source": [
    "agv1 = AGV(\"agv1\",(0,0))\n",
    "agv2 = AGV(\"agv2\",(0,3))\n",
    "agv3 = AGV(\"agv3\",(0,6))\n",
    "agv4 = AGV(\"agv4\",(0,9))\n",
    "AGV_LIST = [agv1,agv2,agv3,agv4]\n",
    "print(AGV_LIST)"
   ]
  },
  {
   "cell_type": "code",
   "execution_count": 198,
   "metadata": {},
   "outputs": [
    {
     "name": "stdout",
     "output_type": "stream",
     "text": [
      "[<__main__.AGV object at 0x0000027CB0E777C8>, <__main__.AGV object at 0x0000027CB0E77D88>, <__main__.AGV object at 0x0000027CB0E77608>, <__main__.AGV object at 0x0000027CB0E98B08>]\n"
     ]
    }
   ],
   "source": [
    "jobQ = JobQueue()\n",
    "jobQ.insertJob('in',(1,1))\n",
    "jobQ.insertJob('out',(1,2))\n",
    "jobQ.insertJob('in',(1,3))\n",
    "jobQ.insertJob('out',(1,4))\n",
    "print(getAvailAGV(AGV_LIST,battery_threshold))"
   ]
  },
  {
   "cell_type": "code",
   "execution_count": 199,
   "metadata": {},
   "outputs": [
    {
     "name": "stdout",
     "output_type": "stream",
     "text": [
      "{'inout': 'in', 'station_dest': (1, 1)}\n"
     ]
    }
   ],
   "source": [
    "job_select = jobQ.getJob()  \n",
    "print(job_select)"
   ]
  },
  {
   "cell_type": "code",
   "execution_count": 200,
   "metadata": {},
   "outputs": [
    {
     "data": {
      "text/plain": [
       "(0, 1)"
      ]
     },
     "execution_count": 200,
     "metadata": {},
     "output_type": "execute_result"
    }
   ],
   "source": [
    "Rack_enterence[job_select['station_dest']]"
   ]
  },
  {
   "cell_type": "code",
   "execution_count": 201,
   "metadata": {},
   "outputs": [
    {
     "data": {
      "text/plain": [
       "[(0, 1)]"
      ]
     },
     "execution_count": 201,
     "metadata": {},
     "output_type": "execute_result"
    }
   ],
   "source": [
    "astar(warehouse,agv1.current_location,Rack_enterence[job_select['station_dest']])"
   ]
  },
  {
   "cell_type": "code",
   "execution_count": 202,
   "metadata": {},
   "outputs": [],
   "source": [
    "agv1.get_job(job_select,astar(warehouse,agv1.current_location,Rack_enterence[job_select['station_dest']]))"
   ]
  },
  {
   "cell_type": "code",
   "execution_count": 203,
   "metadata": {},
   "outputs": [],
   "source": [
    "for i in range(len(astar(warehouse,agv1.current_location,Rack_enterence[job_select['station_dest']]))):\n",
    "    agv1.move_one_tick()\n",
    "agv1.job_release()"
   ]
  },
  {
   "cell_type": "code",
   "execution_count": 208,
   "metadata": {},
   "outputs": [
    {
     "data": {
      "text/plain": [
       "[<__main__.AGV at 0x27cb0e77d88>,\n",
       " <__main__.AGV at 0x27cb0e77608>,\n",
       " <__main__.AGV at 0x27cb0e98b08>]"
      ]
     },
     "execution_count": 208,
     "metadata": {},
     "output_type": "execute_result"
    }
   ],
   "source": [
    "getAvailAGV(AGV_LIST,999)"
   ]
  },
  {
   "cell_type": "code",
   "execution_count": 209,
   "metadata": {},
   "outputs": [
    {
     "data": {
      "text/plain": [
       "997"
      ]
     },
     "execution_count": 209,
     "metadata": {},
     "output_type": "execute_result"
    }
   ],
   "source": [
    "agv1.battery"
   ]
  },
  {
   "cell_type": "markdown",
   "metadata": {},
   "source": [
    "# Astar"
   ]
  },
  {
   "cell_type": "code",
   "execution_count": 11,
   "metadata": {},
   "outputs": [],
   "source": [
    "class node:\n",
    "    def __init__(self,parent=None, position = None):\n",
    "        self.parent = parent\n",
    "        self.position = position\n",
    "        self.g = 0\n",
    "        self.h = 0\n",
    "        self.f = 0\n",
    "    def __eq__(self,other):\n",
    "        return self.position == other.position"
   ]
  },
  {
   "cell_type": "code",
   "execution_count": 12,
   "metadata": {},
   "outputs": [],
   "source": [
    "def manhattan_distance(start_node,goal_node):\n",
    "    dx = abs(start_node[0]-goal_node[0])\n",
    "    dy = abs(start_node[1]-goal_node[1])\n",
    "    return dx + dy"
   ]
  },
  {
   "cell_type": "code",
   "execution_count": 13,
   "metadata": {},
   "outputs": [],
   "source": [
    "def astar(graph,start,goal):\n",
    "    start_node = node(None,(start[1],start[0]))\n",
    "    goal_node = node(None,(goal[1],goal[0]))\n",
    "    open_list = []\n",
    "    closed_list = []\n",
    "    graph = [el for el in graph][::-1]\n",
    "#     for i in graph:\n",
    "#         print(i)\n",
    "    \n",
    "    open_list.append(start_node)\n",
    "    while open_list:\n",
    "        current_node = open_list[0]\n",
    "        current_index = 0\n",
    "        \n",
    "        for index, item in enumerate(open_list):\n",
    "            if item.f < current_node.f:\n",
    "                current_node = item\n",
    "                current_index = index\n",
    "        open_list.pop(current_index)\n",
    "        closed_list.append(current_node)\n",
    "        \n",
    "        if current_node == goal_node:\n",
    "            path = []\n",
    "            current = current_node\n",
    "            while current is not None:\n",
    "#                 x,y = current.position\n",
    "#                 graph[x][y] = 9\n",
    "                path.append((current.position[1],current.position[0]))\n",
    "                current = current.parent\n",
    "                \n",
    "            return path[::-1]\n",
    "        \n",
    "        children = []\n",
    "        for new_position in [(0,1),(1,0),(-1,0),(0,-1)]:\n",
    "            node_position = (current_node.position[0]+new_position[0],\n",
    "                             current_node.position[1]+new_position[1])\n",
    "            within_range = [\n",
    "                node_position[1]>len(graph)-1,\n",
    "                node_position[1]<0,\n",
    "                node_position[0]>len(graph[len(graph)-1])-1,\n",
    "                node_position[0]<0]\n",
    "            if any(within_range):\n",
    "                continue\n",
    "            if graph[node_position[0]][node_position[1]] !=0:\n",
    "                continue\n",
    "            \n",
    "            new_node = node(current_node, node_position)\n",
    "            children.append(new_node)\n",
    "        \n",
    "        for child in children:\n",
    "            if child in closed_list:\n",
    "                continue\n",
    "            child.g = current_node.g+1\n",
    "            child.h = manhattan_distance(child.position,goal_node.position)\n",
    "            child.f = child.g + child.h\n",
    "            \n",
    "            if len([open_node for open_node in open_list\n",
    "                   if child == open_node and child.g>open_node.g]) > 0:\n",
    "                continue\n",
    "            open_list.append(child)\n",
    "            "
   ]
  },
  {
   "cell_type": "code",
   "execution_count": 14,
   "metadata": {},
   "outputs": [],
   "source": [
    "def make_warehouse(row,col):\n",
    "    warehouse = [[0]*col for i in range(row)]\n",
    "    return warehouse "
   ]
  },
  {
   "cell_type": "code",
   "execution_count": 15,
   "metadata": {},
   "outputs": [],
   "source": [
    "def set_rack(warehouse,rack_location):\n",
    "    for idx, row in enumerate(warehouse):\n",
    "        warehouse[idx] =  [1 if (ix, ROW -1 - idx) in rack_location else 0 for ix,col in enumerate(warehouse[idx])]"
   ]
  },
  {
   "cell_type": "code",
   "execution_count": 16,
   "metadata": {},
   "outputs": [],
   "source": [
    "def get4Ways(point):\n",
    "    return [(point[0],point[1]+1), (point[0]+1,point[1]),\n",
    "            (point[0],point[1]-1), (point[0]-1,point[1])]"
   ]
  },
  {
   "cell_type": "code",
   "execution_count": 17,
   "metadata": {},
   "outputs": [],
   "source": [
    "ROW, COL = 10,10\n",
    "warehouse = make_warehouse(ROW,COL)"
   ]
  },
  {
   "cell_type": "code",
   "execution_count": 18,
   "metadata": {},
   "outputs": [],
   "source": [
    "battery_threshold = 200"
   ]
  },
  {
   "cell_type": "code",
   "execution_count": 19,
   "metadata": {},
   "outputs": [],
   "source": [
    "rack_location =  [(1, 1), (1, 2), (1, 3), (1, 4), (1, 5), (1, 6), (1, 7),\n",
    "                  (2, 1), (2, 2), (2, 3), (2, 4), (2, 5), (2, 6), (2, 7), \n",
    "                  (4, 1), (4, 2), (4, 3), (4, 4), (4, 5), (4, 6), (4, 7), \n",
    "                  (5, 1), (5, 2), (5, 3), (5, 4), (5, 5), (5, 6), (5, 7), \n",
    "                  (7, 1), (7, 2), (7, 3), (7, 4), (7, 5), (7, 6), (7, 7), \n",
    "                  (8, 1), (8, 2), (8, 3), (8, 4), (8, 5), (8, 6), (8, 7)]\n",
    "\n",
    "set_rack(warehouse,rack_location)"
   ]
  },
  {
   "cell_type": "code",
   "execution_count": 20,
   "metadata": {},
   "outputs": [],
   "source": [
    "Rack_enterence={}\n",
    "for point in rack_location:\n",
    "    four_ways = get4Ways(point)\n",
    "    neighbour_obstacle_list = [way for way in four_ways if way in rack_location]  ## 좌표정보 ex) (1,3), (2,2)....\n",
    "    neighbour_empty_list = [way for way in four_ways if way not in rack_location] \n",
    "    if len(neighbour_empty_list) == 1: ### 모서리 아님\n",
    "        Rack_enterence[point] = neighbour_empty_list[0]\n",
    "    elif len(neighbour_empty_list) == 2: ### 모서리임\n",
    "        obstacle_way_list = [four_ways.index(obst) for obst in neighbour_obstacle_list]  ## 방향정보 ex) 0,1, 2...\n",
    "        for idx, obst_point in enumerate(neighbour_obstacle_list):\n",
    "            obst_way = obstacle_way_list[idx]\n",
    "            obst_plus1_point = get4Ways(obst_point)[obst_way]\n",
    "            if obst_plus1_point in rack_location:\n",
    "                continue\n",
    "            else:\n",
    "                Rack_enterence[point] = four_ways[obst_way-2]\n",
    "    else:\n",
    "        print('ERROR finding obstacle/entrance for RACK {}'.format(point))"
   ]
  },
  {
   "cell_type": "code",
   "execution_count": 21,
   "metadata": {},
   "outputs": [
    {
     "data": {
      "text/plain": [
       "(0, 1)"
      ]
     },
     "execution_count": 21,
     "metadata": {},
     "output_type": "execute_result"
    }
   ],
   "source": [
    "Rack_enterence[(1,1)]"
   ]
  },
  {
   "cell_type": "code",
   "execution_count": 22,
   "metadata": {},
   "outputs": [
    {
     "data": {
      "text/plain": [
       "{(1, 1): (0, 1),\n",
       " (1, 2): (0, 2),\n",
       " (1, 3): (0, 3),\n",
       " (1, 4): (0, 4),\n",
       " (1, 5): (0, 5),\n",
       " (1, 6): (0, 6),\n",
       " (1, 7): (0, 7),\n",
       " (2, 1): (3, 1),\n",
       " (2, 2): (3, 2),\n",
       " (2, 3): (3, 3),\n",
       " (2, 4): (3, 4),\n",
       " (2, 5): (3, 5),\n",
       " (2, 6): (3, 6),\n",
       " (2, 7): (3, 7),\n",
       " (4, 1): (3, 1),\n",
       " (4, 2): (3, 2),\n",
       " (4, 3): (3, 3),\n",
       " (4, 4): (3, 4),\n",
       " (4, 5): (3, 5),\n",
       " (4, 6): (3, 6),\n",
       " (4, 7): (3, 7),\n",
       " (5, 1): (6, 1),\n",
       " (5, 2): (6, 2),\n",
       " (5, 3): (6, 3),\n",
       " (5, 4): (6, 4),\n",
       " (5, 5): (6, 5),\n",
       " (5, 6): (6, 6),\n",
       " (5, 7): (6, 7),\n",
       " (7, 1): (6, 1),\n",
       " (7, 2): (6, 2),\n",
       " (7, 3): (6, 3),\n",
       " (7, 4): (6, 4),\n",
       " (7, 5): (6, 5),\n",
       " (7, 6): (6, 6),\n",
       " (7, 7): (6, 7),\n",
       " (8, 1): (9, 1),\n",
       " (8, 2): (9, 2),\n",
       " (8, 3): (9, 3),\n",
       " (8, 4): (9, 4),\n",
       " (8, 5): (9, 5),\n",
       " (8, 6): (9, 6),\n",
       " (8, 7): (9, 7)}"
      ]
     },
     "execution_count": 22,
     "metadata": {},
     "output_type": "execute_result"
    }
   ],
   "source": [
    "Rack_enterence"
   ]
  },
  {
   "cell_type": "code",
   "execution_count": 23,
   "metadata": {},
   "outputs": [],
   "source": [
    "INPUT_STATION = (0,3)\n",
    "OUTPUT_STATION = (0,6)\n",
    "CHARGING_STATION = [(2,9),(6,9)]"
   ]
  },
  {
   "cell_type": "code",
   "execution_count": 24,
   "metadata": {},
   "outputs": [],
   "source": [
    "def calculate_cost(agv,jobQ,warehouse,INPUT_STATION,OUTPUT_STATION):\n",
    "    bidjob = jobQ.getJob()\n",
    "    if bidjob['inout'] == 'in':\n",
    "        cost = len(astar(warehouse,agv.current_location,INPUT_STATION))\n",
    "    else:\n",
    "        cost = len(astar(warehouse,agv.current_location,Rack_enterence[bidjob['station_dest']]))\n",
    "    return cost"
   ]
  },
  {
   "cell_type": "code",
   "execution_count": 25,
   "metadata": {},
   "outputs": [],
   "source": [
    "def target_agv_select(cost_list):\n",
    "    target_agv = None\n",
    "    tmp_dist = -1\n",
    "    for i in range(len(cost_list)):\n",
    "        for idx, cost in enumerate(cost_list[i][1]):\n",
    "            print(idx)\n",
    "\n",
    "#         min_agv_cost = min(cost_list[idx][1])\n",
    "#         if tmp_dist < 0 or tmp_dist>min_agv_cost:\n",
    "#             tmp_dist = min_agv_cost\n",
    "#             target_agv = cost_list[idx][0]\n",
    "#     return target_agv"
   ]
  },
  {
   "cell_type": "code",
   "execution_count": 26,
   "metadata": {},
   "outputs": [
    {
     "name": "stdout",
     "output_type": "stream",
     "text": [
      "[<__main__.AGV object at 0x0000027CB0E9D7C8>, <__main__.AGV object at 0x0000027CB0E9D688>, <__main__.AGV object at 0x0000027CB0D78888>, <__main__.AGV object at 0x0000027CB0E9D548>]\n"
     ]
    }
   ],
   "source": [
    "agv1 = AGV(\"agv1\",(0,0))\n",
    "agv2 = AGV(\"agv2\",(0,3))\n",
    "agv3 = AGV(\"agv3\",(0,6))\n",
    "agv4 = AGV(\"agv4\",(0,9))\n",
    "AGV_LIST = [agv1,agv2,agv3,agv4]\n",
    "print(AGV_LIST)"
   ]
  },
  {
   "cell_type": "code",
   "execution_count": 27,
   "metadata": {},
   "outputs": [
    {
     "name": "stdout",
     "output_type": "stream",
     "text": [
      "[<__main__.AGV object at 0x0000027CB0E9D7C8>, <__main__.AGV object at 0x0000027CB0E9D688>, <__main__.AGV object at 0x0000027CB0D78888>, <__main__.AGV object at 0x0000027CB0E9D548>]\n"
     ]
    }
   ],
   "source": [
    "jobQ = JobQueue()\n",
    "jobQ.insertJob('in',(1,1))\n",
    "jobQ.insertJob('out',(1,2))\n",
    "jobQ.insertJob('in',(1,3))\n",
    "jobQ.insertJob('out',(1,4))\n",
    "print(getAvailAGV(AGV_LIST,battery_threshold))"
   ]
  },
  {
   "cell_type": "code",
   "execution_count": 28,
   "metadata": {},
   "outputs": [
    {
     "ename": "TypeError",
     "evalue": "'int' object is not subscriptable",
     "output_type": "error",
     "traceback": [
      "\u001b[1;31m---------------------------------------------------------------------------\u001b[0m",
      "\u001b[1;31mTypeError\u001b[0m                                 Traceback (most recent call last)",
      "\u001b[1;32m<ipython-input-28-61840cae2acc>\u001b[0m in \u001b[0;36m<module>\u001b[1;34m\u001b[0m\n\u001b[0;32m      4\u001b[0m \u001b[1;31m# for i in range(len(cost_list)):\u001b[0m\u001b[1;33m\u001b[0m\u001b[1;33m\u001b[0m\u001b[1;33m\u001b[0m\u001b[0m\n\u001b[0;32m      5\u001b[0m \u001b[1;31m#     print(cost_list[i][1])\u001b[0m\u001b[1;33m\u001b[0m\u001b[1;33m\u001b[0m\u001b[1;33m\u001b[0m\u001b[0m\n\u001b[1;32m----> 6\u001b[1;33m \u001b[0mtarget_agv_select\u001b[0m\u001b[1;33m(\u001b[0m\u001b[0mcost_list\u001b[0m\u001b[1;33m)\u001b[0m\u001b[1;33m\u001b[0m\u001b[1;33m\u001b[0m\u001b[0m\n\u001b[0m",
      "\u001b[1;32m<ipython-input-25-ba7959d4e206>\u001b[0m in \u001b[0;36mtarget_agv_select\u001b[1;34m(cost_list)\u001b[0m\n\u001b[0;32m      3\u001b[0m     \u001b[0mtmp_dist\u001b[0m \u001b[1;33m=\u001b[0m \u001b[1;33m-\u001b[0m\u001b[1;36m1\u001b[0m\u001b[1;33m\u001b[0m\u001b[1;33m\u001b[0m\u001b[0m\n\u001b[0;32m      4\u001b[0m     \u001b[1;32mfor\u001b[0m \u001b[0mi\u001b[0m \u001b[1;32min\u001b[0m \u001b[0mrange\u001b[0m\u001b[1;33m(\u001b[0m\u001b[0mlen\u001b[0m\u001b[1;33m(\u001b[0m\u001b[0mcost_list\u001b[0m\u001b[1;33m)\u001b[0m\u001b[1;33m)\u001b[0m\u001b[1;33m:\u001b[0m\u001b[1;33m\u001b[0m\u001b[1;33m\u001b[0m\u001b[0m\n\u001b[1;32m----> 5\u001b[1;33m         \u001b[1;32mfor\u001b[0m \u001b[0midx\u001b[0m\u001b[1;33m,\u001b[0m \u001b[0mcost\u001b[0m \u001b[1;32min\u001b[0m \u001b[0menumerate\u001b[0m\u001b[1;33m(\u001b[0m\u001b[0mcost_list\u001b[0m\u001b[1;33m[\u001b[0m\u001b[0mi\u001b[0m\u001b[1;33m]\u001b[0m\u001b[1;33m[\u001b[0m\u001b[1;36m1\u001b[0m\u001b[1;33m]\u001b[0m\u001b[1;33m)\u001b[0m\u001b[1;33m:\u001b[0m\u001b[1;33m\u001b[0m\u001b[1;33m\u001b[0m\u001b[0m\n\u001b[0m\u001b[0;32m      6\u001b[0m             \u001b[0mprint\u001b[0m\u001b[1;33m(\u001b[0m\u001b[0midx\u001b[0m\u001b[1;33m)\u001b[0m\u001b[1;33m\u001b[0m\u001b[1;33m\u001b[0m\u001b[0m\n\u001b[0;32m      7\u001b[0m \u001b[1;33m\u001b[0m\u001b[0m\n",
      "\u001b[1;31mTypeError\u001b[0m: 'int' object is not subscriptable"
     ]
    }
   ],
   "source": [
    "cost_list = []\n",
    "for agv in getAvailAGV(AGV_LIST,battery_threshold):\n",
    "    cost_list.append(calculate_cost(agv,jobQ,warehouse,INPUT_STATION,OUTPUT_STATION)) \n",
    "# for i in range(len(cost_list)):\n",
    "#     print(cost_list[i][1])\n",
    "target_agv_select(cost_list)"
   ]
  },
  {
   "cell_type": "code",
   "execution_count": 29,
   "metadata": {},
   "outputs": [
    {
     "ename": "SyntaxError",
     "evalue": "unexpected EOF while parsing (<ipython-input-29-5ee20f829d9d>, line 2)",
     "output_type": "error",
     "traceback": [
      "\u001b[1;36m  File \u001b[1;32m\"<ipython-input-29-5ee20f829d9d>\"\u001b[1;36m, line \u001b[1;32m2\u001b[0m\n\u001b[1;33m    \u001b[0m\n\u001b[1;37m    ^\u001b[0m\n\u001b[1;31mSyntaxError\u001b[0m\u001b[1;31m:\u001b[0m unexpected EOF while parsing\n"
     ]
    }
   ],
   "source": [
    "class auction():\n",
    "    "
   ]
  },
  {
   "cell_type": "code",
   "execution_count": 30,
   "metadata": {},
   "outputs": [
    {
     "data": {
      "text/plain": [
       "[[0, 0, 0, 0, 0, 0, 0, 0, 0, 0],\n",
       " [0, 0, 0, 0, 0, 0, 0, 0, 0, 0],\n",
       " [0, 1, 1, 0, 1, 1, 0, 1, 1, 0],\n",
       " [0, 1, 1, 0, 1, 1, 0, 1, 1, 0],\n",
       " [0, 1, 1, 0, 1, 1, 0, 1, 1, 0],\n",
       " [0, 1, 1, 0, 1, 1, 0, 1, 1, 0],\n",
       " [0, 1, 1, 0, 1, 1, 0, 1, 1, 0],\n",
       " [0, 1, 1, 0, 1, 1, 0, 1, 1, 0],\n",
       " [0, 1, 1, 0, 1, 1, 0, 1, 1, 0],\n",
       " [0, 0, 0, 0, 0, 0, 0, 0, 0, 0]]"
      ]
     },
     "execution_count": 30,
     "metadata": {},
     "output_type": "execute_result"
    }
   ],
   "source": [
    "warehouse"
   ]
  },
  {
   "cell_type": "code",
   "execution_count": 32,
   "metadata": {},
   "outputs": [
    {
     "name": "stdout",
     "output_type": "stream",
     "text": [
      "<__main__.AGV object at 0x0000027CB0E9D688>\n",
      "<__main__.AGV object at 0x0000027CB0E9D688>\n",
      "<__main__.AGV object at 0x0000027CB0E9D688>\n",
      "<__main__.AGV object at 0x0000027CB0E9D688>\n",
      "<__main__.AGV object at 0x0000027CB0E9D7C8>\n",
      "<__main__.AGV object at 0x0000027CB0E9D7C8>\n",
      "<__main__.AGV object at 0x0000027CB0E9D7C8>\n",
      "<__main__.AGV object at 0x0000027CB0E9D688>\n",
      "<__main__.AGV object at 0x0000027CB0E9D688>\n",
      "<__main__.AGV object at 0x0000027CB0E9D7C8>\n",
      "<__main__.AGV object at 0x0000027CB0E9D688>\n",
      "<__main__.AGV object at 0x0000027CB0E9D688>\n",
      "<__main__.AGV object at 0x0000027CB0E9D7C8>\n",
      "<__main__.AGV object at 0x0000027CB0E9D688>\n",
      "<__main__.AGV object at 0x0000027CB0E9D688>\n",
      "<__main__.AGV object at 0x0000027CB0E9D688>\n",
      "<__main__.AGV object at 0x0000027CB0E9D688>\n",
      "<__main__.AGV object at 0x0000027CB0D78888>\n",
      "<__main__.AGV object at 0x0000027CB0D78888>\n",
      "<__main__.AGV object at 0x0000027CB0E9D7C8>\n",
      "<__main__.AGV object at 0x0000027CB0E9D688>\n",
      "<__main__.AGV object at 0x0000027CB0E9D7C8>\n",
      "<__main__.AGV object at 0x0000027CB0E9D688>\n",
      "<__main__.AGV object at 0x0000027CB0E9D688>\n",
      "<__main__.AGV object at 0x0000027CB0E9D7C8>\n",
      "<__main__.AGV object at 0x0000027CB0E9D688>\n",
      "<__main__.AGV object at 0x0000027CB0E9D7C8>\n",
      "<__main__.AGV object at 0x0000027CB0E9D688>\n",
      "<__main__.AGV object at 0x0000027CB0E9D688>\n",
      "<__main__.AGV object at 0x0000027CB0E9D688>\n",
      "<__main__.AGV object at 0x0000027CB0E9D688>\n",
      "<__main__.AGV object at 0x0000027CB0E9D688>\n",
      "<__main__.AGV object at 0x0000027CB0E9D688>\n",
      "<__main__.AGV object at 0x0000027CB0E9D688>\n",
      "<__main__.AGV object at 0x0000027CB0E9D688>\n",
      "<__main__.AGV object at 0x0000027CB0E9D7C8>\n",
      "<__main__.AGV object at 0x0000027CB0E9D7C8>\n",
      "<__main__.AGV object at 0x0000027CB0E9D688>\n",
      "<__main__.AGV object at 0x0000027CB0E9D688>\n",
      "<__main__.AGV object at 0x0000027CB0E9D688>\n",
      "<__main__.AGV object at 0x0000027CB0D78888>\n",
      "<__main__.AGV object at 0x0000027CB0E9D7C8>\n",
      "<__main__.AGV object at 0x0000027CB0E9D688>\n",
      "<__main__.AGV object at 0x0000027CB0E9D7C8>\n",
      "<__main__.AGV object at 0x0000027CB0E9D7C8>\n",
      "<__main__.AGV object at 0x0000027CB0E9D7C8>\n",
      "<__main__.AGV object at 0x0000027CB0E9D688>\n",
      "<__main__.AGV object at 0x0000027CB0D78888>\n",
      "<__main__.AGV object at 0x0000027CB0E9D7C8>\n",
      "<__main__.AGV object at 0x0000027CB0D78888>\n",
      "<__main__.AGV object at 0x0000027CB0D78888>\n",
      "<__main__.AGV object at 0x0000027CB0E9D688>\n",
      "<__main__.AGV object at 0x0000027CB0E9D688>\n",
      "<__main__.AGV object at 0x0000027CB0E9D7C8>\n",
      "<__main__.AGV object at 0x0000027CB0E9D688>\n",
      "<__main__.AGV object at 0x0000027CB0E9D688>\n",
      "<__main__.AGV object at 0x0000027CB0E9D688>\n",
      "<__main__.AGV object at 0x0000027CB0E9D688>\n",
      "<__main__.AGV object at 0x0000027CB0E9D688>\n",
      "<__main__.AGV object at 0x0000027CB0D78888>\n",
      "<__main__.AGV object at 0x0000027CB0E9D7C8>\n",
      "<__main__.AGV object at 0x0000027CB0E9D688>\n",
      "<__main__.AGV object at 0x0000027CB0E9D7C8>\n",
      "<__main__.AGV object at 0x0000027CB0E9D548>\n",
      "<__main__.AGV object at 0x0000027CB0E9D7C8>\n",
      "<__main__.AGV object at 0x0000027CB0E9D688>\n",
      "<__main__.AGV object at 0x0000027CB0D78888>\n",
      "<__main__.AGV object at 0x0000027CB0E9D7C8>\n",
      "<__main__.AGV object at 0x0000027CB0E9D688>\n",
      "<__main__.AGV object at 0x0000027CB0E9D688>\n",
      "<__main__.AGV object at 0x0000027CB0D78888>\n",
      "<__main__.AGV object at 0x0000027CB0E9D688>\n",
      "<__main__.AGV object at 0x0000027CB0E9D7C8>\n",
      "<__main__.AGV object at 0x0000027CB0E9D688>\n",
      "<__main__.AGV object at 0x0000027CB0E9D688>\n",
      "<__main__.AGV object at 0x0000027CB0E9D7C8>\n",
      "<__main__.AGV object at 0x0000027CB0E9D688>\n",
      "<__main__.AGV object at 0x0000027CB0E9D688>\n",
      "<__main__.AGV object at 0x0000027CB0E9D688>\n",
      "<__main__.AGV object at 0x0000027CB0E9D688>\n",
      "<__main__.AGV object at 0x0000027CB0E9D688>\n",
      "<__main__.AGV object at 0x0000027CB0E9D688>\n",
      "<__main__.AGV object at 0x0000027CB0E9D688>\n",
      "<__main__.AGV object at 0x0000027CB0E9D7C8>\n",
      "<__main__.AGV object at 0x0000027CB0E9D7C8>\n",
      "<__main__.AGV object at 0x0000027CB0E9D7C8>\n",
      "<__main__.AGV object at 0x0000027CB0E9D688>\n",
      "<__main__.AGV object at 0x0000027CB0D78888>\n",
      "<__main__.AGV object at 0x0000027CB0D78888>\n",
      "<__main__.AGV object at 0x0000027CB0E9D688>\n",
      "<__main__.AGV object at 0x0000027CB0D78888>\n",
      "<__main__.AGV object at 0x0000027CB0E9D7C8>\n",
      "<__main__.AGV object at 0x0000027CB0D78888>\n",
      "<__main__.AGV object at 0x0000027CB0D78888>\n",
      "<__main__.AGV object at 0x0000027CB0D78888>\n",
      "<__main__.AGV object at 0x0000027CB0E9D688>\n",
      "<__main__.AGV object at 0x0000027CB0E9D7C8>\n",
      "<__main__.AGV object at 0x0000027CB0E9D548>\n",
      "<__main__.AGV object at 0x0000027CB0E9D688>\n",
      "<__main__.AGV object at 0x0000027CB0E9D688>\n",
      "<__main__.AGV object at 0x0000027CB0E9D688>\n",
      "<__main__.AGV object at 0x0000027CB0E9D688>\n",
      "<__main__.AGV object at 0x0000027CB0E9D688>\n",
      "<__main__.AGV object at 0x0000027CB0E9D688>\n",
      "<__main__.AGV object at 0x0000027CB0E9D688>\n",
      "<__main__.AGV object at 0x0000027CB0E9D688>\n",
      "<__main__.AGV object at 0x0000027CB0E9D688>\n",
      "<__main__.AGV object at 0x0000027CB0D78888>\n",
      "<__main__.AGV object at 0x0000027CB0E9D688>\n",
      "<__main__.AGV object at 0x0000027CB0E9D548>\n",
      "<__main__.AGV object at 0x0000027CB0E9D688>\n",
      "<__main__.AGV object at 0x0000027CB0E9D688>\n",
      "<__main__.AGV object at 0x0000027CB0E9D688>\n",
      "<__main__.AGV object at 0x0000027CB0E9D688>\n",
      "<__main__.AGV object at 0x0000027CB0E9D688>\n",
      "<__main__.AGV object at 0x0000027CB0E9D7C8>\n",
      "<__main__.AGV object at 0x0000027CB0E9D7C8>\n",
      "<__main__.AGV object at 0x0000027CB0E9D688>\n",
      "<__main__.AGV object at 0x0000027CB0E9D7C8>\n",
      "<__main__.AGV object at 0x0000027CB0E9D688>\n",
      "<__main__.AGV object at 0x0000027CB0D78888>\n",
      "<__main__.AGV object at 0x0000027CB0E9D688>\n",
      "<__main__.AGV object at 0x0000027CB0D78888>\n",
      "<__main__.AGV object at 0x0000027CB0E9D688>\n",
      "<__main__.AGV object at 0x0000027CB0E9D688>\n",
      "<__main__.AGV object at 0x0000027CB0E9D688>\n",
      "<__main__.AGV object at 0x0000027CB0E9D688>\n",
      "<__main__.AGV object at 0x0000027CB0E9D7C8>\n",
      "<__main__.AGV object at 0x0000027CB0E9D7C8>\n",
      "<__main__.AGV object at 0x0000027CB0E9D688>\n",
      "<__main__.AGV object at 0x0000027CB0E9D688>\n",
      "<__main__.AGV object at 0x0000027CB0D78888>\n",
      "<__main__.AGV object at 0x0000027CB0E9D688>\n",
      "<__main__.AGV object at 0x0000027CB0E9D688>\n",
      "<__main__.AGV object at 0x0000027CB0E9D7C8>\n",
      "<__main__.AGV object at 0x0000027CB0E9D7C8>\n",
      "<__main__.AGV object at 0x0000027CB0E9D688>\n",
      "<__main__.AGV object at 0x0000027CB0E9D688>\n",
      "<__main__.AGV object at 0x0000027CB0D78888>\n",
      "<__main__.AGV object at 0x0000027CB0E9D688>\n",
      "<__main__.AGV object at 0x0000027CB0E9D7C8>\n",
      "<__main__.AGV object at 0x0000027CB0E9D688>\n",
      "<__main__.AGV object at 0x0000027CB0E9D7C8>\n",
      "<__main__.AGV object at 0x0000027CB0E9D688>\n",
      "<__main__.AGV object at 0x0000027CB0E9D7C8>\n",
      "<__main__.AGV object at 0x0000027CB0E9D688>\n",
      "<__main__.AGV object at 0x0000027CB0E9D7C8>\n",
      "<__main__.AGV object at 0x0000027CB0E9D688>\n",
      "<__main__.AGV object at 0x0000027CB0E9D548>\n",
      "<__main__.AGV object at 0x0000027CB0D78888>\n",
      "<__main__.AGV object at 0x0000027CB0E9D688>\n",
      "<__main__.AGV object at 0x0000027CB0E9D688>\n",
      "<__main__.AGV object at 0x0000027CB0E9D688>\n",
      "<__main__.AGV object at 0x0000027CB0E9D688>\n",
      "<__main__.AGV object at 0x0000027CB0E9D688>\n",
      "<__main__.AGV object at 0x0000027CB0E9D7C8>\n",
      "<__main__.AGV object at 0x0000027CB0E9D688>\n",
      "<__main__.AGV object at 0x0000027CB0E9D688>\n",
      "<__main__.AGV object at 0x0000027CB0E9D688>\n",
      "<__main__.AGV object at 0x0000027CB0E9D688>\n",
      "<__main__.AGV object at 0x0000027CB0E9D7C8>\n",
      "<__main__.AGV object at 0x0000027CB0E9D688>\n",
      "<__main__.AGV object at 0x0000027CB0E9D7C8>\n",
      "<__main__.AGV object at 0x0000027CB0E9D688>\n",
      "<__main__.AGV object at 0x0000027CB0E9D688>\n",
      "<__main__.AGV object at 0x0000027CB0E9D688>\n",
      "<__main__.AGV object at 0x0000027CB0E9D688>\n",
      "<__main__.AGV object at 0x0000027CB0E9D7C8>\n",
      "<__main__.AGV object at 0x0000027CB0E9D688>\n",
      "<__main__.AGV object at 0x0000027CB0E9D7C8>\n",
      "<__main__.AGV object at 0x0000027CB0E9D7C8>\n",
      "<__main__.AGV object at 0x0000027CB0E9D688>\n",
      "<__main__.AGV object at 0x0000027CB0E9D688>\n",
      "<__main__.AGV object at 0x0000027CB0E9D688>\n",
      "<__main__.AGV object at 0x0000027CB0E9D688>\n",
      "<__main__.AGV object at 0x0000027CB0E9D688>\n",
      "<__main__.AGV object at 0x0000027CB0E9D688>\n",
      "<__main__.AGV object at 0x0000027CB0E9D688>\n",
      "<__main__.AGV object at 0x0000027CB0E9D688>\n",
      "<__main__.AGV object at 0x0000027CB0E9D688>\n",
      "<__main__.AGV object at 0x0000027CB0E9D688>\n",
      "<__main__.AGV object at 0x0000027CB0E9D688>\n",
      "<__main__.AGV object at 0x0000027CB0E9D688>\n",
      "<__main__.AGV object at 0x0000027CB0D78888>\n",
      "<__main__.AGV object at 0x0000027CB0E9D688>\n",
      "<__main__.AGV object at 0x0000027CB0E9D688>\n",
      "<__main__.AGV object at 0x0000027CB0E9D688>\n",
      "<__main__.AGV object at 0x0000027CB0E9D688>\n",
      "<__main__.AGV object at 0x0000027CB0E9D688>\n",
      "<__main__.AGV object at 0x0000027CB0E9D7C8>\n",
      "<__main__.AGV object at 0x0000027CB0E9D688>\n"
     ]
    },
    {
     "name": "stdout",
     "output_type": "stream",
     "text": [
      "<__main__.AGV object at 0x0000027CB0E9D688>\n",
      "<__main__.AGV object at 0x0000027CB0E9D7C8>\n",
      "<__main__.AGV object at 0x0000027CB0E9D688>\n",
      "<__main__.AGV object at 0x0000027CB0E9D688>\n",
      "<__main__.AGV object at 0x0000027CB0E9D548>\n",
      "<__main__.AGV object at 0x0000027CB0D78888>\n",
      "<__main__.AGV object at 0x0000027CB0E9D688>\n",
      "<__main__.AGV object at 0x0000027CB0E9D688>\n",
      "<__main__.AGV object at 0x0000027CB0E9D7C8>\n",
      "<__main__.AGV object at 0x0000027CB0E9D7C8>\n",
      "<__main__.AGV object at 0x0000027CB0E9D688>\n",
      "<__main__.AGV object at 0x0000027CB0E9D688>\n",
      "<__main__.AGV object at 0x0000027CB0E9D688>\n",
      "<__main__.AGV object at 0x0000027CB0E9D688>\n",
      "<__main__.AGV object at 0x0000027CB0E9D688>\n",
      "<__main__.AGV object at 0x0000027CB0E9D7C8>\n",
      "<__main__.AGV object at 0x0000027CB0E9D688>\n",
      "<__main__.AGV object at 0x0000027CB0E9D688>\n",
      "<__main__.AGV object at 0x0000027CB0E9D688>\n",
      "<__main__.AGV object at 0x0000027CB0D78888>\n",
      "<__main__.AGV object at 0x0000027CB0E9D688>\n",
      "<__main__.AGV object at 0x0000027CB0E9D688>\n",
      "<__main__.AGV object at 0x0000027CB0D78888>\n",
      "<__main__.AGV object at 0x0000027CB0E9D688>\n",
      "<__main__.AGV object at 0x0000027CB0E9D7C8>\n",
      "<__main__.AGV object at 0x0000027CB0E9D688>\n",
      "<__main__.AGV object at 0x0000027CB0E9D7C8>\n",
      "<__main__.AGV object at 0x0000027CB0E9D688>\n",
      "<__main__.AGV object at 0x0000027CB0E9D688>\n",
      "<__main__.AGV object at 0x0000027CB0E9D688>\n",
      "<__main__.AGV object at 0x0000027CB0E9D688>\n",
      "<__main__.AGV object at 0x0000027CB0E9D688>\n",
      "<__main__.AGV object at 0x0000027CB0E9D7C8>\n",
      "<__main__.AGV object at 0x0000027CB0D78888>\n",
      "<__main__.AGV object at 0x0000027CB0E9D7C8>\n",
      "<__main__.AGV object at 0x0000027CB0E9D688>\n",
      "<__main__.AGV object at 0x0000027CB0E9D688>\n",
      "<__main__.AGV object at 0x0000027CB0E9D7C8>\n",
      "<__main__.AGV object at 0x0000027CB0E9D7C8>\n",
      "<__main__.AGV object at 0x0000027CB0E9D688>\n",
      "<__main__.AGV object at 0x0000027CB0E9D7C8>\n",
      "<__main__.AGV object at 0x0000027CB0E9D688>\n",
      "<__main__.AGV object at 0x0000027CB0E9D688>\n",
      "<__main__.AGV object at 0x0000027CB0E9D688>\n",
      "<__main__.AGV object at 0x0000027CB0E9D688>\n",
      "<__main__.AGV object at 0x0000027CB0E9D688>\n",
      "<__main__.AGV object at 0x0000027CB0E9D688>\n",
      "<__main__.AGV object at 0x0000027CB0D78888>\n",
      "<__main__.AGV object at 0x0000027CB0E9D688>\n",
      "<__main__.AGV object at 0x0000027CB0E9D7C8>\n",
      "<__main__.AGV object at 0x0000027CB0E9D688>\n",
      "<__main__.AGV object at 0x0000027CB0E9D688>\n",
      "<__main__.AGV object at 0x0000027CB0E9D7C8>\n",
      "<__main__.AGV object at 0x0000027CB0E9D688>\n",
      "<__main__.AGV object at 0x0000027CB0E9D688>\n",
      "<__main__.AGV object at 0x0000027CB0E9D688>\n",
      "<__main__.AGV object at 0x0000027CB0D78888>\n",
      "<__main__.AGV object at 0x0000027CB0D78888>\n",
      "<__main__.AGV object at 0x0000027CB0D78888>\n",
      "<__main__.AGV object at 0x0000027CB0E9D688>\n",
      "<__main__.AGV object at 0x0000027CB0D78888>\n",
      "<__main__.AGV object at 0x0000027CB0D78888>\n",
      "<__main__.AGV object at 0x0000027CB0E9D688>\n",
      "<__main__.AGV object at 0x0000027CB0E9D688>\n",
      "<__main__.AGV object at 0x0000027CB0E9D688>\n",
      "<__main__.AGV object at 0x0000027CB0E9D688>\n",
      "<__main__.AGV object at 0x0000027CB0E9D688>\n",
      "<__main__.AGV object at 0x0000027CB0E9D688>\n",
      "<__main__.AGV object at 0x0000027CB0E9D688>\n",
      "<__main__.AGV object at 0x0000027CB0E9D688>\n",
      "<__main__.AGV object at 0x0000027CB0E9D688>\n",
      "<__main__.AGV object at 0x0000027CB0E9D688>\n",
      "<__main__.AGV object at 0x0000027CB0E9D7C8>\n",
      "<__main__.AGV object at 0x0000027CB0E9D7C8>\n",
      "<__main__.AGV object at 0x0000027CB0E9D548>\n",
      "<__main__.AGV object at 0x0000027CB0E9D688>\n",
      "<__main__.AGV object at 0x0000027CB0E9D688>\n",
      "<__main__.AGV object at 0x0000027CB0E9D688>\n",
      "<__main__.AGV object at 0x0000027CB0D78888>\n",
      "<__main__.AGV object at 0x0000027CB0E9D7C8>\n",
      "<__main__.AGV object at 0x0000027CB0D78888>\n",
      "<__main__.AGV object at 0x0000027CB0D78888>\n",
      "<__main__.AGV object at 0x0000027CB0E9D7C8>\n",
      "<__main__.AGV object at 0x0000027CB0E9D7C8>\n",
      "<__main__.AGV object at 0x0000027CB0E9D688>\n",
      "<__main__.AGV object at 0x0000027CB0E9D688>\n",
      "<__main__.AGV object at 0x0000027CB0D78888>\n",
      "<__main__.AGV object at 0x0000027CB0E9D688>\n",
      "<__main__.AGV object at 0x0000027CB0E9D688>\n",
      "<__main__.AGV object at 0x0000027CB0E9D688>\n",
      "<__main__.AGV object at 0x0000027CB0E9D688>\n",
      "<__main__.AGV object at 0x0000027CB0D78888>\n",
      "<__main__.AGV object at 0x0000027CB0E9D7C8>\n",
      "<__main__.AGV object at 0x0000027CB0E9D688>\n",
      "<__main__.AGV object at 0x0000027CB0E9D688>\n",
      "<__main__.AGV object at 0x0000027CB0E9D688>\n",
      "<__main__.AGV object at 0x0000027CB0D78888>\n",
      "<__main__.AGV object at 0x0000027CB0E9D688>\n",
      "<__main__.AGV object at 0x0000027CB0E9D7C8>\n",
      "<__main__.AGV object at 0x0000027CB0E9D7C8>\n",
      "<__main__.AGV object at 0x0000027CB0E9D688>\n",
      "<__main__.AGV object at 0x0000027CB0E9D688>\n",
      "<__main__.AGV object at 0x0000027CB0D78888>\n",
      "<__main__.AGV object at 0x0000027CB0E9D688>\n",
      "<__main__.AGV object at 0x0000027CB0E9D688>\n",
      "<__main__.AGV object at 0x0000027CB0E9D688>\n",
      "<__main__.AGV object at 0x0000027CB0E9D7C8>\n",
      "<__main__.AGV object at 0x0000027CB0E9D688>\n",
      "<__main__.AGV object at 0x0000027CB0D78888>\n",
      "<__main__.AGV object at 0x0000027CB0D78888>\n",
      "<__main__.AGV object at 0x0000027CB0E9D7C8>\n",
      "<__main__.AGV object at 0x0000027CB0D78888>\n",
      "<__main__.AGV object at 0x0000027CB0E9D688>\n",
      "<__main__.AGV object at 0x0000027CB0E9D7C8>\n",
      "<__main__.AGV object at 0x0000027CB0E9D688>\n",
      "<__main__.AGV object at 0x0000027CB0E9D7C8>\n",
      "<__main__.AGV object at 0x0000027CB0E9D688>\n",
      "<__main__.AGV object at 0x0000027CB0E9D688>\n",
      "<__main__.AGV object at 0x0000027CB0E9D688>\n",
      "<__main__.AGV object at 0x0000027CB0E9D7C8>\n",
      "<__main__.AGV object at 0x0000027CB0E9D7C8>\n",
      "<__main__.AGV object at 0x0000027CB0E9D688>\n",
      "<__main__.AGV object at 0x0000027CB0E9D688>\n",
      "<__main__.AGV object at 0x0000027CB0D78888>\n",
      "<__main__.AGV object at 0x0000027CB0E9D688>\n",
      "<__main__.AGV object at 0x0000027CB0E9D7C8>\n",
      "<__main__.AGV object at 0x0000027CB0E9D7C8>\n",
      "<__main__.AGV object at 0x0000027CB0E9D688>\n",
      "<__main__.AGV object at 0x0000027CB0E9D688>\n",
      "<__main__.AGV object at 0x0000027CB0E9D548>\n",
      "<__main__.AGV object at 0x0000027CB0E9D7C8>\n",
      "<__main__.AGV object at 0x0000027CB0E9D688>\n",
      "<__main__.AGV object at 0x0000027CB0D78888>\n",
      "<__main__.AGV object at 0x0000027CB0E9D7C8>\n",
      "<__main__.AGV object at 0x0000027CB0E9D688>\n",
      "<__main__.AGV object at 0x0000027CB0E9D688>\n",
      "<__main__.AGV object at 0x0000027CB0E9D688>\n",
      "<__main__.AGV object at 0x0000027CB0E9D688>\n",
      "<__main__.AGV object at 0x0000027CB0E9D688>\n",
      "<__main__.AGV object at 0x0000027CB0E9D688>\n",
      "<__main__.AGV object at 0x0000027CB0E9D688>\n",
      "<__main__.AGV object at 0x0000027CB0E9D688>\n",
      "<__main__.AGV object at 0x0000027CB0E9D688>\n",
      "<__main__.AGV object at 0x0000027CB0E9D688>\n",
      "<__main__.AGV object at 0x0000027CB0E9D688>\n",
      "<__main__.AGV object at 0x0000027CB0E9D688>\n",
      "<__main__.AGV object at 0x0000027CB0E9D688>\n",
      "<__main__.AGV object at 0x0000027CB0E9D688>\n",
      "<__main__.AGV object at 0x0000027CB0E9D7C8>\n",
      "<__main__.AGV object at 0x0000027CB0D78888>\n",
      "<__main__.AGV object at 0x0000027CB0E9D688>\n",
      "<__main__.AGV object at 0x0000027CB0E9D688>\n",
      "<__main__.AGV object at 0x0000027CB0E9D7C8>\n",
      "<__main__.AGV object at 0x0000027CB0E9D7C8>\n",
      "<__main__.AGV object at 0x0000027CB0E9D7C8>\n",
      "<__main__.AGV object at 0x0000027CB0E9D7C8>\n",
      "<__main__.AGV object at 0x0000027CB0E9D7C8>\n",
      "<__main__.AGV object at 0x0000027CB0E9D688>\n",
      "<__main__.AGV object at 0x0000027CB0E9D688>\n",
      "<__main__.AGV object at 0x0000027CB0E9D688>\n",
      "<__main__.AGV object at 0x0000027CB0E9D688>\n",
      "<__main__.AGV object at 0x0000027CB0E9D688>\n",
      "<__main__.AGV object at 0x0000027CB0E9D7C8>\n",
      "<__main__.AGV object at 0x0000027CB0E9D688>\n",
      "<__main__.AGV object at 0x0000027CB0E9D688>\n",
      "<__main__.AGV object at 0x0000027CB0E9D688>\n",
      "<__main__.AGV object at 0x0000027CB0E9D688>\n",
      "<__main__.AGV object at 0x0000027CB0E9D7C8>\n",
      "<__main__.AGV object at 0x0000027CB0E9D688>\n",
      "<__main__.AGV object at 0x0000027CB0E9D688>\n",
      "<__main__.AGV object at 0x0000027CB0E9D688>\n",
      "<__main__.AGV object at 0x0000027CB0E9D688>\n",
      "<__main__.AGV object at 0x0000027CB0E9D688>\n",
      "<__main__.AGV object at 0x0000027CB0E9D688>\n",
      "<__main__.AGV object at 0x0000027CB0E9D688>\n",
      "<__main__.AGV object at 0x0000027CB0E9D7C8>\n",
      "<__main__.AGV object at 0x0000027CB0E9D7C8>\n",
      "<__main__.AGV object at 0x0000027CB0E9D688>\n",
      "<__main__.AGV object at 0x0000027CB0E9D688>\n",
      "<__main__.AGV object at 0x0000027CB0D78888>\n",
      "<__main__.AGV object at 0x0000027CB0E9D548>\n",
      "<__main__.AGV object at 0x0000027CB0E9D7C8>\n",
      "<__main__.AGV object at 0x0000027CB0D78888>\n",
      "<__main__.AGV object at 0x0000027CB0E9D688>\n",
      "<__main__.AGV object at 0x0000027CB0E9D688>\n",
      "<__main__.AGV object at 0x0000027CB0E9D688>\n",
      "<__main__.AGV object at 0x0000027CB0E9D688>\n",
      "<__main__.AGV object at 0x0000027CB0E9D7C8>\n",
      "<__main__.AGV object at 0x0000027CB0E9D688>\n",
      "<__main__.AGV object at 0x0000027CB0E9D688>\n",
      "<__main__.AGV object at 0x0000027CB0E9D688>\n",
      "<__main__.AGV object at 0x0000027CB0E9D688>\n",
      "<__main__.AGV object at 0x0000027CB0E9D688>\n",
      "<__main__.AGV object at 0x0000027CB0E9D688>\n",
      "<__main__.AGV object at 0x0000027CB0E9D688>\n",
      "<__main__.AGV object at 0x0000027CB0E9D7C8>\n",
      "<__main__.AGV object at 0x0000027CB0E9D688>\n",
      "<__main__.AGV object at 0x0000027CB0E9D688>\n",
      "<__main__.AGV object at 0x0000027CB0E9D688>\n",
      "<__main__.AGV object at 0x0000027CB0E9D688>\n",
      "<__main__.AGV object at 0x0000027CB0E9D688>\n",
      "<__main__.AGV object at 0x0000027CB0E9D688>\n",
      "<__main__.AGV object at 0x0000027CB0D78888>\n",
      "<__main__.AGV object at 0x0000027CB0E9D688>\n",
      "<__main__.AGV object at 0x0000027CB0E9D688>\n",
      "<__main__.AGV object at 0x0000027CB0D78888>\n",
      "<__main__.AGV object at 0x0000027CB0E9D688>\n",
      "<__main__.AGV object at 0x0000027CB0E9D688>\n",
      "<__main__.AGV object at 0x0000027CB0E9D688>\n",
      "<__main__.AGV object at 0x0000027CB0E9D688>\n",
      "<__main__.AGV object at 0x0000027CB0E9D688>\n",
      "<__main__.AGV object at 0x0000027CB0E9D7C8>\n",
      "<__main__.AGV object at 0x0000027CB0D78888>\n",
      "<__main__.AGV object at 0x0000027CB0E9D688>\n",
      "<__main__.AGV object at 0x0000027CB0E9D688>\n",
      "<__main__.AGV object at 0x0000027CB0E9D688>\n",
      "<__main__.AGV object at 0x0000027CB0E9D688>\n",
      "<__main__.AGV object at 0x0000027CB0E9D688>\n",
      "<__main__.AGV object at 0x0000027CB0E9D688>\n",
      "<__main__.AGV object at 0x0000027CB0E9D7C8>\n",
      "<__main__.AGV object at 0x0000027CB0E9D7C8>\n",
      "<__main__.AGV object at 0x0000027CB0E9D688>\n",
      "<__main__.AGV object at 0x0000027CB0E9D688>\n",
      "<__main__.AGV object at 0x0000027CB0E9D548>\n",
      "<__main__.AGV object at 0x0000027CB0E9D688>\n",
      "<__main__.AGV object at 0x0000027CB0D78888>\n",
      "<__main__.AGV object at 0x0000027CB0E9D688>\n",
      "<__main__.AGV object at 0x0000027CB0E9D688>\n",
      "<__main__.AGV object at 0x0000027CB0E9D7C8>\n",
      "<__main__.AGV object at 0x0000027CB0E9D7C8>\n",
      "<__main__.AGV object at 0x0000027CB0E9D7C8>\n",
      "<__main__.AGV object at 0x0000027CB0E9D688>\n",
      "<__main__.AGV object at 0x0000027CB0E9D688>\n",
      "<__main__.AGV object at 0x0000027CB0E9D7C8>\n",
      "<__main__.AGV object at 0x0000027CB0E9D7C8>\n",
      "<__main__.AGV object at 0x0000027CB0E9D688>\n",
      "<__main__.AGV object at 0x0000027CB0D78888>\n",
      "<__main__.AGV object at 0x0000027CB0E9D688>\n",
      "<__main__.AGV object at 0x0000027CB0E9D688>\n",
      "<__main__.AGV object at 0x0000027CB0E9D688>\n",
      "<__main__.AGV object at 0x0000027CB0E9D7C8>\n",
      "<__main__.AGV object at 0x0000027CB0E9D688>\n",
      "<__main__.AGV object at 0x0000027CB0E9D688>\n",
      "<__main__.AGV object at 0x0000027CB0E9D688>\n",
      "<__main__.AGV object at 0x0000027CB0E9D7C8>\n",
      "<__main__.AGV object at 0x0000027CB0E9D688>\n",
      "<__main__.AGV object at 0x0000027CB0E9D688>\n",
      "<__main__.AGV object at 0x0000027CB0E9D688>\n",
      "<__main__.AGV object at 0x0000027CB0E9D688>\n",
      "<__main__.AGV object at 0x0000027CB0E9D688>\n",
      "<__main__.AGV object at 0x0000027CB0E9D688>\n",
      "<__main__.AGV object at 0x0000027CB0E9D688>\n",
      "<__main__.AGV object at 0x0000027CB0E9D688>\n",
      "<__main__.AGV object at 0x0000027CB0E9D688>\n",
      "<__main__.AGV object at 0x0000027CB0E9D688>\n",
      "<__main__.AGV object at 0x0000027CB0E9D688>\n",
      "<__main__.AGV object at 0x0000027CB0E9D688>\n",
      "<__main__.AGV object at 0x0000027CB0E9D688>\n",
      "<__main__.AGV object at 0x0000027CB0E9D688>\n",
      "<__main__.AGV object at 0x0000027CB0E9D7C8>\n",
      "<__main__.AGV object at 0x0000027CB0E9D688>\n",
      "<__main__.AGV object at 0x0000027CB0E9D7C8>\n",
      "<__main__.AGV object at 0x0000027CB0E9D7C8>\n",
      "<__main__.AGV object at 0x0000027CB0E9D688>\n",
      "<__main__.AGV object at 0x0000027CB0E9D688>\n",
      "<__main__.AGV object at 0x0000027CB0E9D688>\n",
      "<__main__.AGV object at 0x0000027CB0E9D688>\n",
      "<__main__.AGV object at 0x0000027CB0E9D688>\n",
      "<__main__.AGV object at 0x0000027CB0E9D688>\n",
      "<__main__.AGV object at 0x0000027CB0E9D688>\n",
      "<__main__.AGV object at 0x0000027CB0E9D688>\n",
      "<__main__.AGV object at 0x0000027CB0E9D688>\n",
      "<__main__.AGV object at 0x0000027CB0E9D688>\n",
      "<__main__.AGV object at 0x0000027CB0E9D7C8>\n",
      "<__main__.AGV object at 0x0000027CB0E9D688>\n",
      "<__main__.AGV object at 0x0000027CB0E9D688>\n",
      "<__main__.AGV object at 0x0000027CB0E9D688>\n",
      "<__main__.AGV object at 0x0000027CB0D78888>\n",
      "<__main__.AGV object at 0x0000027CB0D78888>\n",
      "<__main__.AGV object at 0x0000027CB0E9D688>\n",
      "<__main__.AGV object at 0x0000027CB0E9D688>\n",
      "<__main__.AGV object at 0x0000027CB0E9D688>\n",
      "<__main__.AGV object at 0x0000027CB0E9D688>\n",
      "<__main__.AGV object at 0x0000027CB0E9D7C8>\n",
      "<__main__.AGV object at 0x0000027CB0E9D688>\n",
      "<__main__.AGV object at 0x0000027CB0E9D7C8>\n",
      "<__main__.AGV object at 0x0000027CB0E9D688>\n",
      "<__main__.AGV object at 0x0000027CB0E9D7C8>\n",
      "<__main__.AGV object at 0x0000027CB0E9D688>\n",
      "<__main__.AGV object at 0x0000027CB0E9D688>\n",
      "<__main__.AGV object at 0x0000027CB0E9D688>\n",
      "<__main__.AGV object at 0x0000027CB0E9D688>\n",
      "<__main__.AGV object at 0x0000027CB0E9D688>\n",
      "<__main__.AGV object at 0x0000027CB0E9D7C8>\n",
      "<__main__.AGV object at 0x0000027CB0E9D688>\n",
      "<__main__.AGV object at 0x0000027CB0E9D688>\n",
      "<__main__.AGV object at 0x0000027CB0E9D7C8>\n",
      "<__main__.AGV object at 0x0000027CB0E9D688>\n",
      "<__main__.AGV object at 0x0000027CB0E9D688>\n",
      "<__main__.AGV object at 0x0000027CB0D78888>\n",
      "<__main__.AGV object at 0x0000027CB0E9D7C8>\n",
      "<__main__.AGV object at 0x0000027CB0E9D688>\n",
      "<__main__.AGV object at 0x0000027CB0D78888>\n",
      "<__main__.AGV object at 0x0000027CB0D78888>\n",
      "<__main__.AGV object at 0x0000027CB0E9D688>\n",
      "<__main__.AGV object at 0x0000027CB0E9D7C8>\n",
      "<__main__.AGV object at 0x0000027CB0D78888>\n",
      "<__main__.AGV object at 0x0000027CB0E9D688>\n",
      "<__main__.AGV object at 0x0000027CB0E9D688>\n"
     ]
    }
   ],
   "source": [
    "jobQ = JobQueue()\n",
    "run_time = 500\n",
    "global_time_tick = 0\n",
    "for tick in range(run_time):\n",
    "    if tick in job_create_time:\n",
    "        job_create(rack_location,job_create_time,jobQ)      \n",
    "        \n",
    "    availalbe = getAvailAGV(AGV_LIST,battery_threshold)\n",
    "    if availalbe !=0 and jobQ!=0:\n",
    "        agv_bid_list = []\n",
    "        for agv in availalbe:\n",
    "            agv_bid_list.append(calculate_cost(agv,jobQ,warehouse,INPUT_STATION,OUTPUT_STATION))\n",
    "        min_agv_cost = min(agv_bid_list)\n",
    "        target_agv = availalbe[agv_bid_list.index(min_agv_cost)]\n",
    "        print(target_agv)\n",
    "#             print(min_agv_cost)\n",
    "#             target_agv = agv_bid_list[idx]\n",
    "#         print(target_agv)\n",
    "#         for idx, val in enumerate(agv_bid_list):\n",
    "#             min_agv_cost = min(val)\n",
    "#             print(min_agv_cost)\n",
    "#             target_agv = availalbe[idx]함수\n",
    "#     print(target_agv)\n",
    "\n",
    "\n",
    "    \n",
    "        \n",
    "    "
   ]
  },
  {
   "cell_type": "code",
   "execution_count": 34,
   "metadata": {},
   "outputs": [
    {
     "name": "stdout",
     "output_type": "stream",
     "text": [
      "1\n"
     ]
    }
   ],
   "source": [
    "a = [1,2,3,4]\n",
    "for i in range(len(a)-1):\n",
    "    min_cost = min(a)\n",
    "    print()\n"
   ]
  },
  {
   "cell_type": "code",
   "execution_count": null,
   "metadata": {},
   "outputs": [],
   "source": []
  },
  {
   "cell_type": "code",
   "execution_count": null,
   "metadata": {},
   "outputs": [],
   "source": []
  },
  {
   "cell_type": "code",
   "execution_count": null,
   "metadata": {},
   "outputs": [],
   "source": []
  },
  {
   "cell_type": "code",
   "execution_count": null,
   "metadata": {},
   "outputs": [],
   "source": []
  }
 ],
 "metadata": {
  "kernelspec": {
   "display_name": "Python 3",
   "language": "python",
   "name": "python3"
  },
  "language_info": {
   "codemirror_mode": {
    "name": "ipython",
    "version": 3
   },
   "file_extension": ".py",
   "mimetype": "text/x-python",
   "name": "python",
   "nbconvert_exporter": "python",
   "pygments_lexer": "ipython3",
   "version": "3.7.6"
  }
 },
 "nbformat": 4,
 "nbformat_minor": 4
}
