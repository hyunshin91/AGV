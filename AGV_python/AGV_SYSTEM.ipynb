{
 "cells": [
  {
   "cell_type": "markdown",
   "metadata": {},
   "source": [
    "# Import Library"
   ]
  },
  {
   "cell_type": "code",
   "execution_count": 354,
   "metadata": {},
   "outputs": [],
   "source": [
    "import numpy as np\n",
    "import matplotlib.pyplot as plt\n",
    "import queue\n",
    "import random"
   ]
  },
  {
   "cell_type": "markdown",
   "metadata": {},
   "source": [
    "# Auction process "
   ]
  },
  {
   "cell_type": "code",
   "execution_count": 381,
   "metadata": {},
   "outputs": [],
   "source": [
    "def Auction_process(available_agv,jobQ):\n",
    "    agv_bid_list = []\n",
    "    for agv in available_agv:\n",
    "        agv_bid_list.append(calculate_cost(agv,jobQ,waehouse,INPUT_STAION,OUTPUT_STATION))\n",
    "    min_agv_cost = min(agv_bid_list)\n",
    "    target_agv = available_agv[agv_bid_list.index(min_agv_cost)]\n",
    "    return target_agv"
   ]
  },
  {
   "cell_type": "markdown",
   "metadata": {},
   "source": [
    "# Create job"
   ]
  },
  {
   "cell_type": "code",
   "execution_count": 356,
   "metadata": {},
   "outputs": [
    {
     "name": "stdout",
     "output_type": "stream",
     "text": [
      "[ 3  2  5  1  8  1  6  3  8  3  6  9  8  7  6 10  2  4  7  4  8  8  9  4\n",
      "  7  7  3  4  8  7  4  4  4 11  4  4  3  3  3  3  3  7 10  7  1  7  1  7\n",
      "  4 10  3  9  7  3  5  4  4  3  1  5  6  8  6  5  4  7  6  2  2  3  3  3\n",
      "  3  5  6  7  5  5  2  5  8  3  5  7  7  6  6  6  2  6  1  6  2  4  3  3\n",
      "  7  7  6  5]\n",
      "[0, 3, 5, 10, 11, 19, 20, 26, 29, 37, 40, 46, 55, 63, 70, 76, 86, 88, 92, 99, 103, 111, 119, 128, 132, 139, 146, 149, 153, 161, 168, 172, 176, 180, 191, 195, 199, 202, 205, 208, 211, 214, 221, 231, 238, 239, 246, 247, 254, 258, 268, 271, 280, 287, 290, 295, 299, 303, 306, 307, 312, 318, 326, 332, 337, 341, 348, 354, 356, 358, 361, 364, 367, 370, 375, 381, 388, 393, 398, 400, 405, 413, 416, 421, 428, 435, 441, 447, 453, 455, 461, 462, 468, 470, 474, 477, 480, 487, 494, 500, 505]\n"
     ]
    }
   ],
   "source": [
    "job_time_interval = np.random.poisson(5,100)\n",
    "job_create_time = [sum(job_time_interval[:i]) for i in range(len(job_time_interval)+1)]\n",
    "print(job_time_interval)\n",
    "print(job_create_time)"
   ]
  },
  {
   "cell_type": "code",
   "execution_count": 357,
   "metadata": {
    "scrolled": false
   },
   "outputs": [
    {
     "data": {
      "image/png": "[encoded data removed]",
      "text/plain": [
       "<Figure size 432x288 with 1 Axes>"
      ]
     },
     "metadata": {
      "needs_background": "light"
     },
     "output_type": "display_data"
    }
   ],
   "source": [
    "count, bins, ignored = plt.hist(job_time_interval, 100, density = True)\n",
    "plt.show()"
   ]
  },
  {
   "cell_type": "code",
   "execution_count": 358,
   "metadata": {},
   "outputs": [
    {
     "data": {
      "image/png": "[encoded data removed]",
      "text/plain": [
       "<Figure size 432x288 with 1 Axes>"
      ]
     },
     "metadata": {
      "needs_background": "light"
     },
     "output_type": "display_data"
    }
   ],
   "source": [
    "plt.plot(job_create_time)\n",
    "plt.show()"
   ]
  },
  {
   "cell_type": "code",
   "execution_count": 359,
   "metadata": {},
   "outputs": [],
   "source": [
    "class JobQueue(object):\n",
    "    \n",
    "    def __init__(self):\n",
    "        self.job_q = queue.Queue()\n",
    "        \n",
    "    def insertJob(self, inout,  station_dest):\n",
    "        job = {\"inout\": inout, \"station_dest\": station_dest}\n",
    "        self.job_q.put(job)\n",
    "\n",
    "    def getJob(self):\n",
    "        if self.job_q.empty():\n",
    "            return None\n",
    "        return self.job_q.get()"
   ]
  },
  {
   "cell_type": "code",
   "execution_count": null,
   "metadata": {},
   "outputs": [],
   "source": [
    "# def job_create(rack_location,job_create_time,jobQ):\n",
    "#     job_location = [random.choice(rack_location) for i in range(len(job_create_time))]\n",
    "#     for idx, jobloc in enumerate(job_location):\n",
    "#         if job_location[:idx].count(jobloc) %2 ==0:\n",
    "#             jobQ.insertJob(\"in\",job_location[idx])\n",
    "#         else:\n",
    "#             jobQ.insertJob(\"out\",job_location[idx])\n",
    "#     return jobQ\n"
   ]
  },
  {
   "cell_type": "code",
   "execution_count": 360,
   "metadata": {},
   "outputs": [],
   "source": [
    "def job_create(rack_location,job_create_time,jobQ):\n",
    "    job_location = [random.choice(rack_location) for i in range(len(job_create_time))]\n",
    "    for idx, jobloc in enumerate(job_location):\n",
    "        if job_location[:idx].count(jobloc) %2 ==0:\n",
    "            jobQ.insertJob(\"in\",job_location[idx])\n",
    "        else:\n",
    "            jobQ.insertJob(\"out\",job_location[idx])\n",
    "    return jobQ\n",
    "\n",
    "    "
   ]
  },
  {
   "cell_type": "markdown",
   "metadata": {},
   "source": [
    "# AGV"
   ]
  },
  {
   "cell_type": "code",
   "execution_count": 361,
   "metadata": {},
   "outputs": [],
   "source": [
    "class AGV(object):\n",
    "    max_battery = 1000\n",
    "    charger = [(10,6)]\n",
    "    \n",
    "    \n",
    "    def __init__(self,agv_id,current_location,current_tick=0):\n",
    "        self.agv_id = agv_id\n",
    "        self.battery = self.max_battery\n",
    "        self.current_location = current_location\n",
    "        self.job = None\n",
    "        self.destination = None\n",
    "        self.available = True\n",
    "        self.current_tick = current_tick\n",
    "\n",
    "    \n",
    "    def move_one_tick(self):\n",
    "        self.next_location = self.path[0]\n",
    "        self.current_location = self.next_location\n",
    "        del self.astar_path[0]\n",
    "        self.battery -=1\n",
    "        self.current_tick +=1\n",
    "    \n",
    "    def get_job(self,job,astar_path):\n",
    "        self.job = job\n",
    "        self.path = astar_path\n",
    "        self.available = False\n",
    "        \n",
    "        "
   ]
  },
  {
   "cell_type": "code",
   "execution_count": 362,
   "metadata": {},
   "outputs": [],
   "source": [
    "def getAvailAGV(AGV_LIST,battery_threshold):\n",
    "    return [agv for agv in AGV_LIST if agv.available == True and agv.battery > battery_threshold]"
   ]
  },
  {
   "cell_type": "markdown",
   "metadata": {},
   "source": [
    "# Astar"
   ]
  },
  {
   "cell_type": "code",
   "execution_count": 363,
   "metadata": {},
   "outputs": [],
   "source": [
    "class node:\n",
    "    def __init__(self,parent=None, position = None):\n",
    "        self.parent = parent\n",
    "        self.position = position\n",
    "        self.g = 0\n",
    "        self.h = 0\n",
    "        self.f = 0\n",
    "    def __eq__(self,other):\n",
    "        return self.position == other.position"
   ]
  },
  {
   "cell_type": "code",
   "execution_count": 364,
   "metadata": {},
   "outputs": [],
   "source": [
    "def manhattan_distance(start_node,goal_node):\n",
    "    dx = abs(start_node[0]-goal_node[0])\n",
    "    dy = abs(start_node[1]-goal_node[1])\n",
    "    return dx + dy"
   ]
  },
  {
   "cell_type": "code",
   "execution_count": 365,
   "metadata": {},
   "outputs": [],
   "source": [
    "def astar(graph,start,goal):\n",
    "    start_node = node(None,(start[1],start[0]))\n",
    "    goal_node = node(None,(goal[1],goal[0]))\n",
    "    open_list = []\n",
    "    closed_list = []\n",
    "    graph = [el for el in graph][::-1]\n",
    "#     for i in graph:\n",
    "#         print(i)\n",
    "    \n",
    "    open_list.append(start_node)\n",
    "    while open_list:\n",
    "        current_node = open_list[0]\n",
    "        current_index = 0\n",
    "        \n",
    "        for index, item in enumerate(open_list):\n",
    "            if item.f < current_node.f:\n",
    "                current_node = item\n",
    "                current_index = index\n",
    "        open_list.pop(current_index)\n",
    "        closed_list.append(current_node)\n",
    "        \n",
    "        if current_node == goal_node:\n",
    "            path = []\n",
    "            current = current_node\n",
    "            while current is not None:\n",
    "#                 x,y = current.position\n",
    "#                 graph[x][y] = 9\n",
    "                path.append((current.position[1],current.position[0]))\n",
    "                current = current.parent\n",
    "                \n",
    "            return path[::-1]\n",
    "        \n",
    "        children = []\n",
    "        for new_position in [(0,1),(1,0),(-1,0),(0,-1)]:\n",
    "            node_position = (current_node.position[0]+new_position[0],\n",
    "                             current_node.position[1]+new_position[1])\n",
    "            within_range = [\n",
    "                node_position[1]>len(graph)-1,\n",
    "                node_position[1]<0,\n",
    "                node_position[0]>len(graph[len(graph)-1])-1,\n",
    "                node_position[0]<0]\n",
    "            if any(within_range):\n",
    "                continue\n",
    "            if graph[node_position[0]][node_position[1]] !=0:\n",
    "                continue\n",
    "            \n",
    "            new_node = node(current_node, node_position)\n",
    "            children.append(new_node)\n",
    "        \n",
    "        for child in children:\n",
    "            if child in closed_list:\n",
    "                continue\n",
    "            child.g = current_node.g+1\n",
    "            child.h = manhattan_distance(child.position,goal_node.position)\n",
    "            child.f = child.g + child.h\n",
    "            \n",
    "            if len([open_node for open_node in open_list\n",
    "                   if child == open_node and child.g>open_node.g]) > 0:\n",
    "                continue\n",
    "            open_list.append(child)\n",
    "            "
   ]
  },
  {
   "cell_type": "markdown",
   "metadata": {},
   "source": [
    "# Cost function"
   ]
  },
  {
   "cell_type": "code",
   "execution_count": 366,
   "metadata": {},
   "outputs": [],
   "source": [
    "def calculate_cost(agv,jobQ,warehouse,INPUT_STATION,OUTPUT_STATION):\n",
    "    bidjob = jobQ.getJob()\n",
    "    if bidjob['inout'] == 'in':\n",
    "        cost = len(astar(warehouse,agv.current_location,INPUT_STATION))\n",
    "    else:\n",
    "        cost = len(astar(warehouse,agv.current_location,Rack_enterence[bidjob['station_dest']]))\n",
    "    return cost"
   ]
  },
  {
   "cell_type": "markdown",
   "metadata": {},
   "source": [
    "# Warehouse, Rack "
   ]
  },
  {
   "cell_type": "code",
   "execution_count": 329,
   "metadata": {},
   "outputs": [],
   "source": [
    "def make_warehouse(row,col):\n",
    "    warehouse = [[0]*col for i in range(row)]\n",
    "    return warehouse "
   ]
  },
  {
   "cell_type": "code",
   "execution_count": 330,
   "metadata": {},
   "outputs": [],
   "source": [
    "def set_rack(warehouse,rack_location):\n",
    "    for idx, row in enumerate(warehouse):\n",
    "        warehouse[idx] =  [1 if (ix, ROW -1 - idx) in rack_location else 0 for ix,col in enumerate(warehouse[idx])]"
   ]
  },
  {
   "cell_type": "code",
   "execution_count": 350,
   "metadata": {},
   "outputs": [],
   "source": [
    "def get4Ways(point):\n",
    "    return [(point[0],point[1]+1), (point[0]+1,point[1]),\n",
    "            (point[0],point[1]-1), (point[0]-1,point[1])]"
   ]
  },
  {
   "cell_type": "code",
   "execution_count": 351,
   "metadata": {},
   "outputs": [],
   "source": [
    "Rack_enterence={}\n",
    "for point in rack_location:\n",
    "    four_ways = get4Ways(point)\n",
    "    neighbour_obstacle_list = [way for way in four_ways if way in rack_location]  ## 좌표정보 ex) (1,3), (2,2)....\n",
    "    neighbour_empty_list = [way for way in four_ways if way not in rack_location] \n",
    "    if len(neighbour_empty_list) == 1: ### 모서리 아님\n",
    "        Rack_enterence[point] = neighbour_empty_list[0]\n",
    "    elif len(neighbour_empty_list) == 2: ### 모서리임\n",
    "        obstacle_way_list = [four_ways.index(obst) for obst in neighbour_obstacle_list]  ## 방향정보 ex) 0,1, 2...\n",
    "        for idx, obst_point in enumerate(neighbour_obstacle_list):\n",
    "            obst_way = obstacle_way_list[idx]\n",
    "            obst_plus1_point = get4Ways(obst_point)[obst_way]\n",
    "            if obst_plus1_point in rack_location:\n",
    "                continue\n",
    "            else:\n",
    "                Rack_enterence[point] = four_ways[obst_way-2]\n",
    "    else:\n",
    "        print('ERROR finding obstacle/entrance for RACK {}'.format(point))"
   ]
  },
  {
   "cell_type": "markdown",
   "metadata": {},
   "source": [
    "# Make AGV, Warehouse, Rack, Station"
   ]
  },
  {
   "cell_type": "code",
   "execution_count": 367,
   "metadata": {},
   "outputs": [],
   "source": [
    "ROW, COL = 10,10\n",
    "battery_threshold = 200\n",
    "warehouse = make_warehouse(ROW,COL)"
   ]
  },
  {
   "cell_type": "code",
   "execution_count": 368,
   "metadata": {},
   "outputs": [],
   "source": [
    "rack_location =  [(1, 1), (1, 2), (1, 3), (1, 4), (1, 5), (1, 6), (1, 7),\n",
    "                  (2, 1), (2, 2), (2, 3), (2, 4), (2, 5), (2, 6), (2, 7), \n",
    "                  (4, 1), (4, 2), (4, 3), (4, 4), (4, 5), (4, 6), (4, 7), \n",
    "                  (5, 1), (5, 2), (5, 3), (5, 4), (5, 5), (5, 6), (5, 7), \n",
    "                  (7, 1), (7, 2), (7, 3), (7, 4), (7, 5), (7, 6), (7, 7), \n",
    "                  (8, 1), (8, 2), (8, 3), (8, 4), (8, 5), (8, 6), (8, 7)]\n",
    "\n",
    "set_rack(warehouse,rack_location)"
   ]
  },
  {
   "cell_type": "code",
   "execution_count": 369,
   "metadata": {},
   "outputs": [],
   "source": [
    "INPUT_STATION = (0,3)\n",
    "OUTPUT_STATION = (0,6)\n",
    "CHARGING_STATION = [(2,9),(6,9)]"
   ]
  },
  {
   "cell_type": "code",
   "execution_count": 370,
   "metadata": {},
   "outputs": [
    {
     "data": {
      "text/plain": [
       "[[0, 0, 0, 0, 0, 0, 0, 0, 0, 0],\n",
       " [0, 0, 0, 0, 0, 0, 0, 0, 0, 0],\n",
       " [0, 1, 1, 0, 1, 1, 0, 1, 1, 0],\n",
       " [0, 1, 1, 0, 1, 1, 0, 1, 1, 0],\n",
       " [0, 1, 1, 0, 1, 1, 0, 1, 1, 0],\n",
       " [0, 1, 1, 0, 1, 1, 0, 1, 1, 0],\n",
       " [0, 1, 1, 0, 1, 1, 0, 1, 1, 0],\n",
       " [0, 1, 1, 0, 1, 1, 0, 1, 1, 0],\n",
       " [0, 1, 1, 0, 1, 1, 0, 1, 1, 0],\n",
       " [0, 0, 0, 0, 0, 0, 0, 0, 0, 0]]"
      ]
     },
     "execution_count": 370,
     "metadata": {},
     "output_type": "execute_result"
    }
   ],
   "source": [
    "warehouse"
   ]
  },
  {
   "cell_type": "markdown",
   "metadata": {},
   "source": [
    "# 실험"
   ]
  },
  {
   "cell_type": "code",
   "execution_count": 372,
   "metadata": {},
   "outputs": [],
   "source": [
    "jobQ = JobQueue()"
   ]
  },
  {
   "cell_type": "code",
   "execution_count": 373,
   "metadata": {},
   "outputs": [
    {
     "data": {
      "text/plain": [
       "[<__main__.AGV at 0x26c1cee17c8>,\n",
       " <__main__.AGV at 0x26c1cee1688>,\n",
       " <__main__.AGV at 0x26c1cee15c8>,\n",
       " <__main__.AGV at 0x26c1cee1888>]"
      ]
     },
     "execution_count": 373,
     "metadata": {},
     "output_type": "execute_result"
    }
   ],
   "source": [
    "agv1 = AGV(\"agv1\",(0,0))\n",
    "agv2 = AGV(\"agv2\",(0,3))\n",
    "agv3 = AGV(\"agv3\",(0,6))\n",
    "agv4 = AGV(\"agv4\",(0,9))\n",
    "AGV_LIST = [agv1,agv2,agv3,agv4]\n",
    "AGV_LIST"
   ]
  },
  {
   "cell_type": "code",
   "execution_count": 374,
   "metadata": {},
   "outputs": [
    {
     "data": {
      "text/plain": [
       "[<__main__.AGV at 0x26c1cee17c8>,\n",
       " <__main__.AGV at 0x26c1cee1688>,\n",
       " <__main__.AGV at 0x26c1cee15c8>,\n",
       " <__main__.AGV at 0x26c1cee1888>]"
      ]
     },
     "execution_count": 374,
     "metadata": {},
     "output_type": "execute_result"
    }
   ],
   "source": [
    "getAvailAGV(AGV_LIST,battery_threshold)"
   ]
  },
  {
   "cell_type": "code",
   "execution_count": 375,
   "metadata": {},
   "outputs": [
    {
     "data": {
      "text/plain": [
       "[(0, 0), (0, 1), (0, 2)]"
      ]
     },
     "execution_count": 375,
     "metadata": {},
     "output_type": "execute_result"
    }
   ],
   "source": [
    "astar(warehouse,(0,0),(0,2))"
   ]
  },
  {
   "cell_type": "code",
   "execution_count": 377,
   "metadata": {},
   "outputs": [
    {
     "data": {
      "text/plain": [
       "[[0, 0, 0, 0, 0, 0, 0, 0, 0, 0],\n",
       " [0, 0, 0, 0, 0, 0, 0, 0, 0, 0],\n",
       " [0, 1, 1, 0, 1, 1, 0, 1, 1, 0],\n",
       " [0, 1, 1, 0, 1, 1, 0, 1, 1, 0],\n",
       " [0, 1, 1, 0, 1, 1, 0, 1, 1, 0],\n",
       " [0, 1, 1, 0, 1, 1, 0, 1, 1, 0],\n",
       " [0, 1, 1, 0, 1, 1, 0, 1, 1, 0],\n",
       " [0, 1, 1, 0, 1, 1, 0, 1, 1, 0],\n",
       " [0, 1, 1, 0, 1, 1, 0, 1, 1, 0],\n",
       " [0, 0, 0, 0, 0, 0, 0, 0, 0, 0]]"
      ]
     },
     "execution_count": 377,
     "metadata": {},
     "output_type": "execute_result"
    }
   ],
   "source": [
    "warehouse"
   ]
  },
  {
   "cell_type": "markdown",
   "metadata": {},
   "source": [
    "# Main 함수"
   ]
  },
  {
   "cell_type": "code",
   "execution_count": null,
   "metadata": {},
   "outputs": [],
   "source": [
    "jobQ = JobQueue()\n",
    "run_time = 500\n",
    "global_time_tick = 0\n",
    "for tick in range(run_time):\n",
    "    if tick in job_create_time:\n",
    "        job_create(rack_location,job_create_time,jobQ)\n",
    "    if getAvailAGV(AGV_LIST,battery_threshold)!=0 and jobQ!=0:\n",
    "        agv_cost_list = []\n",
    "        for agv in getAvailAGV(AGV_LIST,battery_threshold):\n",
    "            calculate_cost(agv,jobQ)\n",
    "    else:\n",
    "        continue\n",
    "        \n",
    "        \n",
    "    for agvs in getAvailAGV(AGV_LIST):\n",
    "        calculate_cost(agvs)\n",
    "            \n",
    "        \n",
    "    global_time_tick+=1\n",
    "\n",
    "    \n",
    "        \n",
    "    "
   ]
  },
  {
   "cell_type": "code",
   "execution_count": null,
   "metadata": {},
   "outputs": [],
   "source": []
  },
  {
   "cell_type": "code",
   "execution_count": null,
   "metadata": {},
   "outputs": [],
   "source": []
  },
  {
   "cell_type": "code",
   "execution_count": null,
   "metadata": {},
   "outputs": [],
   "source": []
  },
  {
   "cell_type": "code",
   "execution_count": null,
   "metadata": {},
   "outputs": [],
   "source": []
  },
  {
   "cell_type": "code",
   "execution_count": null,
   "metadata": {},
   "outputs": [],
   "source": []
  },
  {
   "cell_type": "code",
   "execution_count": null,
   "metadata": {},
   "outputs": [],
   "source": []
  },
  {
   "cell_type": "code",
   "execution_count": null,
   "metadata": {},
   "outputs": [],
   "source": []
  },
  {
   "cell_type": "code",
   "execution_count": null,
   "metadata": {},
   "outputs": [],
   "source": []
  },
  {
   "cell_type": "code",
   "execution_count": null,
   "metadata": {},
   "outputs": [],
   "source": []
  },
  {
   "cell_type": "code",
   "execution_count": null,
   "metadata": {},
   "outputs": [],
   "source": []
  },
  {
   "cell_type": "code",
   "execution_count": null,
   "metadata": {},
   "outputs": [],
   "source": []
  },
  {
   "cell_type": "code",
   "execution_count": null,
   "metadata": {},
   "outputs": [],
   "source": []
  },
  {
   "cell_type": "code",
   "execution_count": null,
   "metadata": {},
   "outputs": [],
   "source": []
  },
  {
   "cell_type": "code",
   "execution_count": null,
   "metadata": {},
   "outputs": [],
   "source": []
  },
  {
   "cell_type": "code",
   "execution_count": null,
   "metadata": {},
   "outputs": [],
   "source": []
  }
 ],
 "metadata": {
  "kernelspec": {
   "display_name": "Python 3",
   "language": "python",
   "name": "python3"
  },
  "language_info": {
   "codemirror_mode": {
    "name": "ipython",
    "version": 3
   },
   "file_extension": ".py",
   "mimetype": "text/x-python",
   "name": "python",
   "nbconvert_exporter": "python",
   "pygments_lexer": "ipython3",
   "version": "3.7.6"
  }
 },
 "nbformat": 4,
 "nbformat_minor": 4
}
