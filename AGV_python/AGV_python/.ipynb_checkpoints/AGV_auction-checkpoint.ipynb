{
 "cells": [
  {
   "cell_type": "code",
   "execution_count": 10,
   "metadata": {},
   "outputs": [],
   "source": [
    "import random"
   ]
  },
  {
   "cell_type": "code",
   "execution_count": 11,
   "metadata": {},
   "outputs": [
    {
     "ename": "SyntaxError",
     "evalue": "invalid syntax (<ipython-input-11-109ab24b018d>, line 2)",
     "output_type": "error",
     "traceback": [
      "\u001b[1;36m  File \u001b[1;32m\"<ipython-input-11-109ab24b018d>\"\u001b[1;36m, line \u001b[1;32m2\u001b[0m\n\u001b[1;33m    def __init__(self,item)\u001b[0m\n\u001b[1;37m                           ^\u001b[0m\n\u001b[1;31mSyntaxError\u001b[0m\u001b[1;31m:\u001b[0m invalid syntax\n"
     ]
    }
   ],
   "source": [
    "class Auction:\n",
    "    def __init__(self,item)\n",
    "    \n",
    "    def auctioneer_bidder_selection\n",
    "    \n",
    "    def announcement()\n",
    "    \n",
    "    def submission(available_agv):\n",
    "        bid 계산\n",
    "    \n",
    "    def assignment\n",
    "    \n",
    "    def tocken_pass\n",
    "    "
   ]
  },
  {
   "cell_type": "code",
   "execution_count": 33,
   "metadata": {},
   "outputs": [],
   "source": [
    "class Auction():\n",
    "    def __init__(self,item,available_agv,time,pervious_auctioneer):\n",
    "        if time==0:\n",
    "            if len(item)!=0:\n",
    "                self.item = item[0]\n",
    "                self.highest_bid = None\n",
    "                self.auctioneer = random.choice(available_agv)\n",
    "                del item[0]\n",
    "            else:\n",
    "                continue         \n",
    "        \n",
    "        else:\n",
    "            if len(item)!=0:\n",
    "                self.item = item[0]\n",
    "                self.highest_bid = None\n",
    "                self.auctioneer = \n",
    "                del item[0]\n",
    "            else:\n",
    "                continue\n",
    "\n",
    "    def\n",
    "        \n",
    "    "
   ]
  },
  {
   "cell_type": "code",
   "execution_count": 47,
   "metadata": {},
   "outputs": [],
   "source": [
    "item = [(1,1),(2,2),(3,3),(4,4)]\n",
    "item2 = []\n",
    "agv = ['agv1','agv2','agv3']"
   ]
  },
  {
   "cell_type": "code",
   "execution_count": 48,
   "metadata": {},
   "outputs": [],
   "source": [
    "auction1 = Auction(item,agv)\n",
    "auciton2 = Auction(item,agv)"
   ]
  },
  {
   "cell_type": "code",
   "execution_count": 49,
   "metadata": {},
   "outputs": [
    {
     "data": {
      "text/plain": [
       "(1, 1)"
      ]
     },
     "execution_count": 49,
     "metadata": {},
     "output_type": "execute_result"
    }
   ],
   "source": [
    "auction1.item"
   ]
  },
  {
   "cell_type": "code",
   "execution_count": 50,
   "metadata": {},
   "outputs": [
    {
     "data": {
      "text/plain": [
       "(2, 2)"
      ]
     },
     "execution_count": 50,
     "metadata": {},
     "output_type": "execute_result"
    }
   ],
   "source": [
    "auciton2.item"
   ]
  },
  {
   "cell_type": "code",
   "execution_count": null,
   "metadata": {},
   "outputs": [],
   "source": []
  }
 ],
 "metadata": {
  "kernelspec": {
   "display_name": "Python 3",
   "language": "python",
   "name": "python3"
  },
  "language_info": {
   "codemirror_mode": {
    "name": "ipython",
    "version": 3
   },
   "file_extension": ".py",
   "mimetype": "text/x-python",
   "name": "python",
   "nbconvert_exporter": "python",
   "pygments_lexer": "ipython3",
   "version": "3.7.6"
  }
 },
 "nbformat": 4,
 "nbformat_minor": 4
}
