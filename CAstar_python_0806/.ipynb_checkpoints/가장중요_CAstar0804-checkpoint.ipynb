{
 "cells": [
  {
   "cell_type": "markdown",
   "metadata": {},
   "source": [
    "# Import library"
   ]
  },
  {
   "cell_type": "code",
   "execution_count": 1,
   "metadata": {},
   "outputs": [],
   "source": [
    "import numpy as np\n",
    "import matplotlib.pyplot as plt\n",
    "import queue\n",
    "import random\n",
    "from enum import Enum\n",
    "from heapq import *\n",
    "import copy"
   ]
  },
  {
   "cell_type": "markdown",
   "metadata": {},
   "source": [
    "# Seed 고정"
   ]
  },
  {
   "cell_type": "code",
   "execution_count": 2,
   "metadata": {},
   "outputs": [],
   "source": [
    "np.random.seed(10)\n",
    "random.seed(10)"
   ]
  },
  {
   "cell_type": "markdown",
   "metadata": {},
   "source": [
    "# Create Job"
   ]
  },
  {
   "cell_type": "code",
   "execution_count": 3,
   "metadata": {},
   "outputs": [],
   "source": [
    "job_number  = 100"
   ]
  },
  {
   "cell_type": "code",
   "execution_count": 4,
   "metadata": {},
   "outputs": [
    {
     "name": "stdout",
     "output_type": "stream",
     "text": [
      "[13 11 10  7  6 13 12 15 10  9  9 11 11 13 15  5 10  7  8  8  8  9 13  9\n",
      " 13 10  4  8  8  8 14 14 11 11  8  8 10 10  8  8  4 11  8  8 12  3  5 14\n",
      "  7 10  6 11  7  7 15 11 11 11  6 12  9 10  5 11  7  8 12  9 11 11 12 10\n",
      " 10  6 10  5  5  4 11 11  8  9  9 10 19 14  7 10 13  8  9 14 11  9 10  8\n",
      " 13  7 11]\n",
      "[0, 13, 24, 34, 41, 47, 60, 72, 87, 97, 106, 115, 126, 137, 150, 165, 170, 180, 187, 195, 203, 211, 220, 233, 242, 255, 265, 269, 277, 285, 293, 307, 321, 332, 343, 351, 359, 369, 379, 387, 395, 399, 410, 418, 426, 438, 441, 446, 460, 467, 477, 483, 494, 501, 508, 523, 534, 545, 556, 562, 574, 583, 593, 598, 609, 616, 624, 636, 645, 656, 667, 679, 689, 699, 705, 715, 720, 725, 729, 740, 751, 759, 768, 777, 787, 806, 820, 827, 837, 850, 858, 867, 881, 892, 901, 911, 919, 932, 939, 950]\n"
     ]
    }
   ],
   "source": [
    "job_time_interval = np.random.poisson(10,job_number-1)\n",
    "job_create_time = [sum(job_time_interval[:i]) for i in range(len(job_time_interval)+1)]\n",
    "print(job_time_interval)\n",
    "print(job_create_time)"
   ]
  },
  {
   "cell_type": "code",
   "execution_count": 5,
   "metadata": {},
   "outputs": [
    {
     "data": {
      "image/png": "[encoded data removed]",
      "text/plain": [
       "<Figure size 432x288 with 1 Axes>"
      ]
     },
     "metadata": {
      "needs_background": "light"
     },
     "output_type": "display_data"
    }
   ],
   "source": [
    "count, bins, ignored = plt.hist(job_time_interval, 100, density = True)\n",
    "plt.show()"
   ]
  },
  {
   "cell_type": "code",
   "execution_count": 6,
   "metadata": {},
   "outputs": [
    {
     "data": {
      "image/png": "[encoded data removed]",
      "text/plain": [
       "<Figure size 432x288 with 1 Axes>"
      ]
     },
     "metadata": {
      "needs_background": "light"
     },
     "output_type": "display_data"
    }
   ],
   "source": [
    "plt.plot(job_create_time)\n",
    "plt.show()"
   ]
  },
  {
   "cell_type": "markdown",
   "metadata": {},
   "source": [
    "# Job Queue"
   ]
  },
  {
   "cell_type": "code",
   "execution_count": 7,
   "metadata": {},
   "outputs": [],
   "source": [
    "class JobQueue(object):\n",
    "    \n",
    "    def __init__(self):\n",
    "        self.job_q = queue.Queue()\n",
    "        self.job_number = 0\n",
    "        \n",
    "    def insertJob(self, inout,  station_dest):\n",
    "        job = {\"inout\": inout, \"station_dest\": station_dest}\n",
    "        self.job_q.put(job)\n",
    "        self.job_number+=1\n",
    "\n",
    "    def getJob(self):\n",
    "        if self.job_q.empty():\n",
    "            return \n",
    "        self.job_number-=1\n",
    "        return self.job_q.get()"
   ]
  },
  {
   "cell_type": "code",
   "execution_count": 8,
   "metadata": {},
   "outputs": [],
   "source": [
    "def job_create(rack_location,total_job_location_list,time,total_job_information):\n",
    "    job_location = [random.choice(rack_location)]\n",
    "    if total_job_location_list.count(job_location)%2==0:\n",
    "        total_job_information['{}'.format(time)] = ['in',job_location]\n",
    "    else:\n",
    "        total_job_information['{}'.format(time)] = ['out',job_location]\n",
    "    total_job_location_list.append(job_location)\n",
    "    return total_job_information"
   ]
  },
  {
   "cell_type": "markdown",
   "metadata": {},
   "source": [
    "# AGV"
   ]
  },
  {
   "cell_type": "code",
   "execution_count": 9,
   "metadata": {},
   "outputs": [],
   "source": [
    "class AGV(object):\n",
    "    max_battery = 200\n",
    "    CHARGING_STATION = [(2,9),(6,9)]    \n",
    "    \n",
    "    def __init__(self,agv_id,current_location,job_for_bid,current_tick=0,cost=0,bid_list = []):\n",
    "        self.agv_id = agv_id\n",
    "        self.battery = self.max_battery\n",
    "        self.current_location = current_location\n",
    "        self.job = None\n",
    "        self.destination = None\n",
    "        self.available = True\n",
    "        self.current_tick = current_tick\n",
    "        self.to_chaging_station = False\n",
    "        self.charging = False\n",
    "        self.job_for_bid = job_for_bid\n",
    "        self.bid_list = bid_list\n",
    "        self.cost = cost \n",
    "        self.walking_path = []\n",
    "        \n",
    "        \n",
    "#     def __str__(self):\n",
    "#         return 'agv_id:{}  job:{}  available:{}'.format(self.agv_id, self.job, self.available)\n",
    "    \n",
    "#     def __str__(self):\n",
    "#         return 'agv_id:{}'.format(self.agv_id)\n",
    "    \n",
    "    def move_one_tick(self):\n",
    "        if len(self.path) !=0:\n",
    "            self.walking_path += self.path[1:]\n",
    "            self.next_location = self.path[0]\n",
    "            self.current_location = self.next_location\n",
    "            del self.path[0]\n",
    "            if len(self.path) ==0:\n",
    "                self.available = True\n",
    "            self.battery -=1\n",
    "            self.current_tick +=1\n",
    "        else:\n",
    "            self.available = True\n",
    "            \n",
    "    def move_one_tick_for_charge(self,charging_agvs_list,moving_for_charge_agvs):\n",
    "        self.path_for_charge = self.astar_path_to_charger\n",
    "        if len(self.path_for_charge) !=0:\n",
    "            self.to_chaging_station = True\n",
    "            self.next_location = self.path_for_charge[0]\n",
    "            self.current_location = self.next_location\n",
    "            del self.path_for_charge[0]\n",
    "            self.battery -=1\n",
    "            self.current_tick +=1\n",
    "            if len(self.path_for_charge) ==0:\n",
    "                charging_agvs_list.append(self)\n",
    "                moving_for_charge_agvs.remove(self)\n",
    "                self.to_chaging_station = False\n",
    "                self.charging = True\n",
    "#                 self.charging_agv()\n",
    "#         else:\n",
    "#             self.charging = True\n",
    "    \n",
    "    def get_job(self,job,astar_path):\n",
    "        self.job = job\n",
    "        self.path = astar_path\n",
    "        self.available = False\n",
    "        \n",
    "    def go_to_charge(self,astar_path_to_charger):\n",
    "        self.path_for_charge = astar_path_to_charger\n",
    "        self.to_chaging_station = True\n",
    "    \n",
    "    \n",
    "#     def agv_to_charging_station(self,battery_threshold):\n",
    "#         if self.available == True and self.battery <= battery_threshold:\n",
    "#             self.to_chaging_station = True\n",
    "\n",
    "    def calculate_bid(self,job,warehouse,INPUT_STATION,OUTPUT_STATION):\n",
    "#         print(job['station_dest'][1][0])\n",
    "#         print(\"INPUT_STATION[0]\",INPUT_STATION[0])\n",
    "#         print(\"Rack_enterence[job['station_dest']]\",Rack_enterence[job['station_dest']])\n",
    "        if job['inout']=='in':\n",
    "            cost = len(findPathAstar(graph,self,self.current_location,INPUT_STATION[0].coordinates,reservation_table)+findPathAstar(graph,self,INPUT_STATION[0].coordinates,Rack_enterence[job['station_dest']],reservation_table))\n",
    "        else:\n",
    "            cost = len(findPathAstar(graph,self,self.current_location,Rack_enterence[job['station_dest']],reservation_table)+findPathAstar(graph,self,Rack_enterence[job['station_dest']],OUTPUT_STATION[0].coordinates,reservation_table))\n",
    "        self.cost= cost \n",
    "        return self.cost,self\n",
    "    \n",
    "#     def calculate_cost_for_charing_bid(self,warehouse,CHARGING_STATION):\n",
    "#         bid_for_charge = []\n",
    "#         for charging_station in CHARGING_STATION:\n",
    "#             bid_for_charge.append(charging_station,astar(warehouse,self.current_location,charging_station))\n",
    "#         bid_for_charge_sort = sorted(bid_for_charge, key =lambda x:x[1])\n",
    "#         selected_chargeing\n",
    "#         return cost        \n",
    "    \n",
    "    \n",
    "    def select_charging_station(self,warehouse,CHARGING_STATION):\n",
    "        bid_for_charge = []\n",
    "#         print('%',CHARGING_STATION)\n",
    "        for charging_station in CHARGING_STATION:\n",
    "            print(\"^\",charging_station)\n",
    "            bid_for_charge.append((charging_station,len(astar(warehouse,self.current_location,charging_station))))\n",
    "        bid_for_charge_sort = sorted(bid_for_charge, key =lambda x:x[1])\n",
    "        selected_charging_station = bid_for_charge_sort[0][0]\n",
    "        astar_path_to_charger = astar(warehouse,self.current_location,charging_station)\n",
    "        self.astar_path_to_charger = astar_path_to_charger\n",
    "#         print('3',astar_path_to_charger)\n",
    "        return selected_charging_station, astar_path_to_charger   \n",
    "    \n",
    "    def charge_agv(self,charging_agvs):\n",
    "        if self.charging == True:\n",
    "            self.battery +=10\n",
    "            if self.battery >= self.max_battery:\n",
    "                self.battery = self.max_battery\n",
    "                self.charging = False \n",
    "                self.available=True\n",
    "                charging_agvs.remove(self)\n",
    "                \n",
    "#                 \n",
    "                \n",
    "    def send_bid(self,avail_agv_list):\n",
    "        for agv_ in avail_agv_list:\n",
    "            agv_.bid_list.append((self,agv.agv_id,agv.cost))\n",
    "            \n",
    "#     def win_bid(self)\n",
    "        \n",
    "    \n",
    "    def drop_job(self):\n",
    "        self.job = None\n",
    "        self.available = True\n",
    "        \n",
    "    def clear_bid_list(self,agv_list):\n",
    "        for agv in agv_list:\n",
    "            agv.bid_list = []\n",
    "            \n",
    "            \n",
    "    def copy(self):\n",
    "        new_agent = Agent(self.pos, self.id)\n",
    "        new_agent.path = self.path.copy()\n",
    "\n",
    "        if self.pickup:\n",
    "            # new_agent.pickup = Pickup(self.pickup.target_list[0], self.pickup.target_list[1])\n",
    "            # new_agent.pickup.state = self.pickup.state\n",
    "            new_agent.pickup = copy.deepcopy(self.pickup)\n",
    "\n",
    "        new_agent.walking_path = self.walking_path.copy()\n",
    "        new_agent.target_path = self.target_path.copy()\n",
    "        new_agent.is_copy = self.is_copy\n",
    "        new_agent.is_carrying_shelf = self.is_carrying_shelf\n",
    "        new_agent.was_at_target = self.was_at_target\n",
    "\n",
    "        return new_agent"
   ]
  },
  {
   "cell_type": "code",
   "execution_count": 10,
   "metadata": {},
   "outputs": [],
   "source": [
    "def getAvailAGV(AGV_LIST,battery_threshold):\n",
    "    return [agv for agv in AGV_LIST if agv.available == True and agv.battery > battery_threshold and agv.charging == False]"
   ]
  },
  {
   "cell_type": "code",
   "execution_count": 11,
   "metadata": {},
   "outputs": [],
   "source": [
    "def getnNeedChargeAgv(AGV_LIST,battery_threshold):\n",
    "    return [agv for agv in AGV_LIST if agv.charging == True and agv.battery <= battery_threshold and agv.charging == False and agv.to_chaging_station == False]"
   ]
  },
  {
   "cell_type": "code",
   "execution_count": 12,
   "metadata": {},
   "outputs": [],
   "source": [
    "def getChargingAGV(AGV_LIST):\n",
    "    return [agv for agv in AGV_LIST if agv.charging == True]"
   ]
  },
  {
   "cell_type": "markdown",
   "metadata": {},
   "source": [
    "# Astar"
   ]
  },
  {
   "cell_type": "code",
   "execution_count": 13,
   "metadata": {},
   "outputs": [],
   "source": [
    "class NodeType(Enum):\n",
    "    DEFAULT = 0\n",
    "    OBSTACLE = 1\n",
    "    INPUT = 2\n",
    "    OUPUT = 3\n",
    "\n",
    "\n",
    "class BasicNode(object):\n",
    "    def __init__(self, new_id, new_type):\n",
    "        self.id = new_id\n",
    "        self.type = new_type\n",
    "\n",
    "class AStarNode(BasicNode):\n",
    "    def __init__(self, new_id, new_type, new_coordinaters):\n",
    "        BasicNode.__init__(self, new_id, new_type)\n",
    "        self.coordinates = new_coordinaters\n",
    "        self.g = None\n",
    "        self.h = None\n",
    "        self.f = None\n",
    "        self.came_from = None\n",
    "        self.depth = 0\n",
    "        self.booked = False\n",
    "\n",
    "    def __lt__(self, other):\n",
    "        if self.f == None or other.f == None:\n",
    "            raise Exception(\"Some f value not initialized!\")\n",
    "        else:\n",
    "            return self.f < other.f\n",
    "\n",
    "    def __eq__(self, other):\n",
    "        return (self.id == other.id and self.depth == other.depth)\n",
    "\n",
    "    def __hash__(self):\n",
    "        return self.id\n",
    "\n",
    "    def compare(self, other):\n",
    "        ok = True\n",
    "        if self.id != other.id:\n",
    "            print(\"1\")\n",
    "            return False\n",
    "        if self.type != other.type:\n",
    "            print(\"2\")\n",
    "            return False\n",
    "        if self.coordinates != other.coordinates:\n",
    "            print(\"3\")\n",
    "            return False\n",
    "        if self.g != other.g:\n",
    "            print(\"4\")\n",
    "            #return False\n",
    "            ok = False\n",
    "        if self.h != other.h:\n",
    "            print(\"5\")\n",
    "            #return False\n",
    "            ok = False\n",
    "        if self.f != other.f:\n",
    "            print(\"6\")\n",
    "            #return False\n",
    "            ok = False\n",
    "        if self.came_from and other.came_from:\n",
    "            if self.came_from.id != other.came_from.id:\n",
    "                print(\"7\")\n",
    "                ok = False\n",
    "        elif self.came_from and not other.came_from:\n",
    "            print(\"8\")\n",
    "            ok = False\n",
    "        elif other.came_from and not self.came_from:\n",
    "            print(\"9\")\n",
    "            ok = False\n",
    "        if self.depth != other.depth:\n",
    "            print(\"10\")\n",
    "            ok = False\n",
    "        if self.booked != other.booked:\n",
    "            print(\"11\")\n",
    "            ok = False\n",
    "\n",
    "        if not ok:\n",
    "            return False\n",
    "        return True\n"
   ]
  },
  {
   "cell_type": "code",
   "execution_count": 14,
   "metadata": {},
   "outputs": [],
   "source": [
    "def one_agent_has_pickup(agents):\n",
    "    for a in agents:\n",
    "        if a.job !=None:\n",
    "            return True\n",
    "    return False"
   ]
  },
  {
   "cell_type": "code",
   "execution_count": 15,
   "metadata": {},
   "outputs": [],
   "source": [
    "def reset_graph(graph):\n",
    "    for i in range(0, graph.shape[0]):\n",
    "        for j in range(0, graph.shape[1]):\n",
    "            graph[i][j].g = None\n",
    "            graph[i][j].h = None\n",
    "            graph[i][j].f = None\n",
    "            graph[i][j].came_from = None\n",
    "            graph[i][j].depth = 0"
   ]
  },
  {
   "cell_type": "code",
   "execution_count": 16,
   "metadata": {},
   "outputs": [],
   "source": [
    "def extract_path(current, graph=None):\n",
    "    path = [current]\n",
    "    next_node = current.came_from\n",
    "    while next_node:\n",
    "        path.insert(0, next_node)\n",
    "        next_node = next_node.came_from\n",
    "\n",
    "    for node in path:\n",
    "        node.came_from = None\n",
    "    # if graph != None:\n",
    "    #     reset_graph(graph)\n",
    "    return path"
   ]
  },
  {
   "cell_type": "code",
   "execution_count": 17,
   "metadata": {},
   "outputs": [],
   "source": [
    "def manhattan_distance(start_node,goal_node):\n",
    "    dx = abs(start_node.coordinates[0]-goal_node.coordinates[0])\n",
    "    dy = abs(start_node.coordinates[1]-goal_node.coordinates[1])\n",
    "    return dx + dy"
   ]
  },
  {
   "cell_type": "code",
   "execution_count": 18,
   "metadata": {},
   "outputs": [],
   "source": [
    "def reset_f_val_graph(graph):\n",
    "    for i in range(0, graph.shape[0]):\n",
    "        for j in range(0, graph.shape[1]):\n",
    "            graph[i][j].g = None\n",
    "            graph[i][j].h = None\n",
    "            graph[i][j].f = None\n",
    "            graph[i][j].came_from = None"
   ]
  },
  {
   "cell_type": "code",
   "execution_count": 19,
   "metadata": {},
   "outputs": [],
   "source": [
    "# ##새로운 create 틀림\n",
    "# def create_Astar_graph(warehouse):\n",
    "#     graph = np.ndarray((warehouse.shape), dtype=BasicNode)\n",
    "#     index = 0\n",
    "#     item_counter = 0\n",
    "#     input_station = []\n",
    "#     output_station = []\n",
    "#     for (i,j), value in np.ndenumerate(warehouse):\n",
    "#             graph[j][len(warehouse)-i-1] = AStarNode(index, NodeType(value), (i,j))\n",
    "#             if value == 2:\n",
    "#                 graph[i][j].booked = False\n",
    "#                 input_station.append(graph[i][j])\n",
    "#             if value == 3:\n",
    "#                 output_station.append(graph[i][j])\n",
    "#             index += 1\n",
    "#     return graph, input_station, output_station"
   ]
  },
  {
   "cell_type": "code",
   "execution_count": 20,
   "metadata": {},
   "outputs": [],
   "source": [
    "##기존 \n",
    "def create_Astar_graph(warehouse):\n",
    "    graph = np.ndarray((warehouse.shape), dtype=BasicNode)\n",
    "    index = 0\n",
    "    item_counter = 0\n",
    "    input_station = []\n",
    "    output_station = []\n",
    "    for (i,j), value in np.ndenumerate(warehouse):\n",
    "            graph[i][j] = AStarNode(index, NodeType(value), (i,j))\n",
    "            if value == 2:\n",
    "                graph[i][j].booked = False\n",
    "                input_station.append(graph[i][j])\n",
    "            if value == 3:\n",
    "                output_station.append(graph[i][j])\n",
    "            index += 1\n",
    "    return graph, input_station, output_station"
   ]
  },
  {
   "cell_type": "code",
   "execution_count": 21,
   "metadata": {},
   "outputs": [],
   "source": [
    "def AStar(graph, start_tuple,goal_tuple, p=False):\n",
    "    #reset_graph(graph)\n",
    "    start = graph[start_tuple[0]][start_tuple[1]]\n",
    "    start.depth = 0\n",
    "    start.came_from = None\n",
    "    target = graph[goal_tuple[0]][goal_tuple[1]]\n",
    "\n",
    "    if p:\n",
    "        print(\"new astar from %d to %d\" % (start.id, target.id))\n",
    "\n",
    "    start.g = 0\n",
    "    start.h = manhattan_distance(start, target)\n",
    "    start.f = start.h\n",
    "\n",
    "    neighbours = [(0,1),(1,0),(-1,0),(0,-1)]\n",
    "\n",
    "    open_list = []\n",
    "    closed_list = set()\n",
    "\n",
    "    heappush(open_list, start) # add start to open list\n",
    "\n",
    "    while open_list:\n",
    "        current = heappop(open_list)\n",
    "        closed_list.add(current)\n",
    "\n",
    "        if current.coordinates == target.coordinates:\n",
    "            # target is found, extract the path\n",
    "            return extract_path(current, graph)\n",
    "\n",
    "        for (i,j) in neighbours:\n",
    "            x, y = (current.coordinates[0] + i, current.coordinates[1] + j)\n",
    "            if x < 0 or x >= graph.shape[0] or y < 0 or y >= graph.shape[1]:\n",
    "                # neighbour coordinates are out of the graph\n",
    "                continue\n",
    "            neighbour = graph[x][y]\n",
    "            neighbour.depth = 0\n",
    "            if neighbour.type == NodeType.OBSTACLE:\n",
    "                continue\n",
    "            if neighbour in closed_list:\n",
    "                continue\n",
    "\n",
    "            if neighbour not in open_list or current.g + 1 < neighbour.g:\n",
    "                neighbour.g = current.g + 1\n",
    "                neighbour.h = manhattan_distance(neighbour, target)\n",
    "                neighbour.f = neighbour.g + neighbour.h\n",
    "                neighbour.came_from = current\n",
    "                if neighbour not in open_list:\n",
    "                    heappush(open_list, neighbour)"
   ]
  },
  {
   "cell_type": "code",
   "execution_count": 22,
   "metadata": {},
   "outputs": [],
   "source": [
    "def collisionWillOccur(reservation_table, current, neighbour):\n",
    "    if (neighbour.id, current.depth + 1) in reservation_table:\n",
    "        # Moving to node collision\n",
    "        return True\n",
    "    if (current.id, current.depth + 1) in reservation_table and (neighbour.id, current.depth) in reservation_table:\n",
    "        # Swap collision\n",
    "        return True\n",
    "    return False"
   ]
  },
  {
   "cell_type": "code",
   "execution_count": 23,
   "metadata": {},
   "outputs": [],
   "source": [
    "def AStarReserved(graph, start_tuple, goal_tuple, reservation_table, p=False):\n",
    "    #reset_graph(graph)\n",
    "    start = graph[start_tuple[0]][start_tuple[1]]\n",
    "    start.depth = 0\n",
    "    start.came_from = None\n",
    "    target = graph[goal_tuple[0]][goal_tuple[1]]\n",
    "    \n",
    "    if p:\n",
    "        print(\"new astar from %d to %d\" % (start.id, target.id))\n",
    "\n",
    "    start.g = 0\n",
    "    start.h = manhattan_distance(start, target)\n",
    "    start.f = start.h\n",
    "\n",
    "    neighbours = [(0,1),(1,0),(-1,0),(0,-1)]\n",
    "\n",
    "    open_list = []\n",
    "    closed_list = set()\n",
    "\n",
    "    heappush(open_list, start) # add start to open list\n",
    "\n",
    "    while open_list:\n",
    "        current = heappop(open_list)\n",
    "        closed_list.add((current.id, current.depth))\n",
    "\n",
    "        if p:\n",
    "            print(\"now looking at %d depth: %d\" % (current.id, current.depth))\n",
    "\n",
    "        if current.coordinates == target.coordinates:\n",
    "            # target is found, extract the path\n",
    "            path = extract_path(current, graph)\n",
    "            if p:\n",
    "                print(\"found path is\")\n",
    "                print([x.id for x in path])\n",
    "            return path\n",
    "\n",
    "        for (i,j) in neighbours:\n",
    "            x, y = (current.coordinates[0] + i, current.coordinates[1] + j)\n",
    "            if x < 0 or x >= graph.shape[0] or y < 0 or y >= graph.shape[1]:\n",
    "                # neighbour coordinates are out of the graph\n",
    "                continue\n",
    "            neighbour = graph[x][y]\n",
    "            #if not current.depth > 7:\n",
    "            neighbour = copy.deepcopy(neighbour)\n",
    "            neighbour.depth = current.depth + 1\n",
    "            if neighbour.type == NodeType.OBSTACLE:\n",
    "                continue\n",
    "\n",
    "            if (neighbour.id, current.depth + 1) in closed_list:\n",
    "                if p:\n",
    "                    print(\"skipped neighbour %d depth: %d becuase in CLOSED\" % (neighbour.id, neighbour.depth))\n",
    "                continue\n",
    "\n",
    "            if collisionWillOccur(reservation_table, current, neighbour):\n",
    "                if p:\n",
    "                    print(\"skipped neighbour %d depth %d becuase of collision\" % (neighbour.id, neighbour.depth))\n",
    "                continue\n",
    "\n",
    "            if neighbour in open_list:\n",
    "                # make neighbour refer to correct node object\n",
    "                for x in open_list:\n",
    "                    if x == neighbour:\n",
    "                        neighbour = x\n",
    "                        break\n",
    "\n",
    "            if neighbour not in open_list or current.g + 1 < neighbour.g:\n",
    "                neighbour.g = current.g + 1\n",
    "                neighbour.h = manhattan_distance(neighbour, target)\n",
    "                neighbour.f = neighbour.g + neighbour.h\n",
    "                neighbour.came_from = current\n",
    "                if neighbour not in open_list:\n",
    "                    if p:\n",
    "                        print(\"added %d depth %d to open list\" % (neighbour.id, neighbour.depth))\n",
    "                    heappush(open_list, neighbour)\n",
    "    return []"
   ]
  },
  {
   "cell_type": "code",
   "execution_count": 24,
   "metadata": {},
   "outputs": [],
   "source": [
    "# findPathAstar(graph 로 검색"
   ]
  },
  {
   "cell_type": "code",
   "execution_count": 25,
   "metadata": {},
   "outputs": [],
   "source": [
    "### start, goal 고친 후 \n",
    "def findPathAstar(graph, agv,start_tuple,goal_tuple,reservation_table):\n",
    "    start = graph[start_tuple[0]][start_tuple[1]]\n",
    "#     print(\"goal_tuple\",goal_tuple)\n",
    "#     print(\"agv_goal\",agv_goal)\n",
    "#     print(\"agv_goal[0]\",agv_goal[0])\n",
    "#     print(\"agv_goal[1]\",agv_goal[1])\n",
    "    target = graph[goal_tuple[0]][goal_tuple[1]]\n",
    "#     print(target)\n",
    "#     target = graph[agv_goal[0]][agv_goal[1]]\n",
    "    \n",
    "    start.g = 0\n",
    "    start.h = manhattan_distance(start,target)\n",
    "    start.f = start.h\n",
    "    \n",
    "    neighbours = [(0,1),(1,0),(-1,0),(0,-1),(0,0)]\n",
    "    open_list = []\n",
    "    closed_list = set()   \n",
    "    \n",
    "    # add start to open list\n",
    "    heappush(open_list, start)\n",
    "    reached_target_last_step = False\n",
    "\n",
    "    while open_list:\n",
    "        current = heappop(open_list)\n",
    "        closed_list.add(current)\n",
    "      \n",
    "        if current.coordinates == target.coordinates:\n",
    "            if not reached_target_last_step:\n",
    "                reached_target_last_step = True\n",
    "            else:\n",
    "                path_so_far = extract_path(current)\n",
    "                \n",
    "                current_depth = current.depth\n",
    "                reset_f_val_graph(graph)\n",
    "                current.came_from = None\n",
    "#                 next_path = findPathAstar(graph, agv, goal_tuple, reservation_table)\n",
    "#                 if next_path == None:\n",
    "#                     return None\n",
    "                return path_so_far\n",
    "#                 return path_so_far + next_path[1:]\n",
    "        else:\n",
    "            reached_target_last_step = False\n",
    "            \n",
    "#         print(\"a\")   \n",
    "            \n",
    "        for (i,j) in neighbours:\n",
    "            x, y = (current.coordinates[0] + i, current.coordinates[1] + j)\n",
    "            if x < 0 or x >= graph.shape[0] or y < 0 or y >= graph.shape[1]:\n",
    "                # neighbour coordinates are out of the graph\n",
    "                continue\n",
    "#             print(\"c\") \n",
    "            neighbour = graph[x][y]\n",
    "            neighbour = copy.deepcopy(neighbour)\n",
    "            neighbour.depth = current.depth + 1\n",
    "\n",
    "            if neighbour.type == NodeType.OBSTACLE:\n",
    "                # neighbour is not traversable, an obstacle\n",
    "                #print(\"neigbout %d depth %d has OBSTACLE\" % (neighbour.id, neighbour.depth))\n",
    "                continue\n",
    "\n",
    "            if neighbour in closed_list:\n",
    "                # neighbour case has already been considered\n",
    "                #print(\"neigbout %d depth %d has CLOSED\" % (neighbour.id, neighbour.depth))\n",
    "                continue\n",
    "\n",
    "            if collisionWillOccur(reservation_table, current, neighbour):\n",
    "                # can't move to neighbour since another agent is there\n",
    "                #print(\"neigbout %d depth %d has colliiiishhh\" % (neighbour.id, neighbour.depth))\n",
    "                continue\n",
    "\n",
    "            if neighbour in open_list:\n",
    "                # make neighbour refer to correct node object\n",
    "                for x in open_list:\n",
    "                    if x == neighbour:\n",
    "                        neighbour = x\n",
    "                        break\n",
    "\n",
    "            if neighbour not in open_list or current.g + 1 < neighbour.g:\n",
    "                if neighbour.coordinates == target.coordinates:\n",
    "                    # waiting at target is preferred\n",
    "                    neighbour.g = current.g + 0\n",
    "                else:\n",
    "                    neighbour.g = current.g + 1\n",
    "                neighbour.h = manhattan_distance(neighbour, target)\n",
    "                neighbour.f = neighbour.g + neighbour.h\n",
    "\n",
    "                # set parent\n",
    "                neighbour.came_from = current\n",
    "\n",
    "                if neighbour not in open_list:\n",
    "                    # add newly discovered node to open list.\n",
    "                    heappush(open_list, neighbour)\n",
    "#     print(\"a\")\n",
    "\n",
    "    print(\"IMPOSSIBLE PROBLEM\")\n",
    "        "
   ]
  },
  {
   "cell_type": "code",
   "execution_count": 26,
   "metadata": {},
   "outputs": [],
   "source": [
    "# ### 고치기 이전 \n",
    "# def findPathAstar(graph, agv,goal_tuple,reservation_table):\n",
    "#     print(\"type(agv)\",type(agv))\n",
    "#     print(\"agv\",agv)\n",
    "#     agv_start = agv.current_location\n",
    "#     start = graph[agv_start[0]][agv_start[1]]\n",
    "#     agv_goal = goal_tuple\n",
    "# #     print(\"agv_goal\",agv_goal)\n",
    "# #     print(\"agv_goal[0]\",agv_goal[0])\n",
    "# #     print(\"agv_goal[1]\",agv_goal[1])\n",
    "#     target = graph[0][3]\n",
    "# #     print(target)\n",
    "# #     target = graph[agv_goal[0]][agv_goal[1]]\n",
    "    \n",
    "#     start.g = 0\n",
    "#     start.h = manhattan_distance(start,target)\n",
    "#     start.f = start.h\n",
    "    \n",
    "#     neighbours = [(0,1),(1,0),(-1,0),(0,-1),(0,0)]\n",
    "#     open_list = []\n",
    "#     closed_list = set()   \n",
    "    \n",
    "#     # add start to open list\n",
    "#     heappush(open_list, start)\n",
    "#     reached_target_last_step = False\n",
    "\n",
    "#     while open_list:\n",
    "#         current = heappop(open_list)\n",
    "#         closed_list.add(current)\n",
    "      \n",
    "#         if current.coordinates == target.coordinates:\n",
    "#             if not reached_target_last_step:\n",
    "#                 reached_target_last_step = True\n",
    "#             else:\n",
    "#                 path_so_far = extract_path(current)\n",
    "                \n",
    "#                 current_depth = current.depth\n",
    "#                 reset_f_val_graph(graph)\n",
    "#                 current.came_from = None\n",
    "# #                 next_path = findPathAstar(graph, agv, goal_tuple, reservation_table)\n",
    "# #                 if next_path == None:\n",
    "# #                     return None\n",
    "#                 return path_so_far\n",
    "# #                 return path_so_far + next_path[1:]\n",
    "#         else:\n",
    "#             reached_target_last_step = False\n",
    "            \n",
    "# #         print(\"a\")   \n",
    "            \n",
    "#         for (i,j) in neighbours:\n",
    "#             x, y = (current.coordinates[0] + i, current.coordinates[1] + j)\n",
    "#             if x < 0 or x >= graph.shape[0] or y < 0 or y >= graph.shape[1]:\n",
    "#                 # neighbour coordinates are out of the graph\n",
    "#                 continue\n",
    "# #             print(\"c\") \n",
    "#             neighbour = graph[x][y]\n",
    "#             neighbour = copy.deepcopy(neighbour)\n",
    "#             neighbour.depth = current.depth + 1\n",
    "\n",
    "#             if neighbour.type == NodeType.OBSTACLE:\n",
    "#                 # neighbour is not traversable, an obstacle\n",
    "#                 #print(\"neigbout %d depth %d has OBSTACLE\" % (neighbour.id, neighbour.depth))\n",
    "#                 continue\n",
    "\n",
    "#             if neighbour in closed_list:\n",
    "#                 # neighbour case has already been considered\n",
    "#                 #print(\"neigbout %d depth %d has CLOSED\" % (neighbour.id, neighbour.depth))\n",
    "#                 continue\n",
    "\n",
    "#             if collisionWillOccur(reservation_table, current, neighbour):\n",
    "#                 # can't move to neighbour since another agent is there\n",
    "#                 #print(\"neigbout %d depth %d has colliiiishhh\" % (neighbour.id, neighbour.depth))\n",
    "#                 continue\n",
    "\n",
    "#             if neighbour in open_list:\n",
    "#                 # make neighbour refer to correct node object\n",
    "#                 for x in open_list:\n",
    "#                     if x == neighbour:\n",
    "#                         neighbour = x\n",
    "#                         break\n",
    "\n",
    "#             if neighbour not in open_list or current.g + 1 < neighbour.g:\n",
    "#                 if neighbour.coordinates == target.coordinates:\n",
    "#                     # waiting at target is preferred\n",
    "#                     neighbour.g = current.g + 0\n",
    "#                 else:\n",
    "#                     neighbour.g = current.g + 1\n",
    "#                 neighbour.h = manhattan_distance(neighbour, target)\n",
    "#                 neighbour.f = neighbour.g + neighbour.h\n",
    "\n",
    "#                 # set parent\n",
    "#                 neighbour.came_from = current\n",
    "\n",
    "#                 if neighbour not in open_list:\n",
    "#                     # add newly discovered node to open list.\n",
    "#                     heappush(open_list, neighbour)\n",
    "# #     print(\"a\")\n",
    "\n",
    "#     print(\"IMPOSSIBLE PROBLEM\")\n",
    "        "
   ]
  },
  {
   "cell_type": "markdown",
   "metadata": {},
   "source": [
    "# Warehouse, Rack, Charging_station"
   ]
  },
  {
   "cell_type": "code",
   "execution_count": 27,
   "metadata": {},
   "outputs": [],
   "source": [
    "# def make_warehouse(row,col):\n",
    "#     warehouse = [[0]*col for i in range(row)]\n",
    "#     return warehouse "
   ]
  },
  {
   "cell_type": "code",
   "execution_count": 28,
   "metadata": {},
   "outputs": [],
   "source": [
    "# def set_rack(warehouse,rack_location):\n",
    "#     for idx, row in enumerate(warehouse):\n",
    "#         warehouse[idx] =  [1 if (ix, ROW -1 - idx) in rack_location else 0 for ix,col in enumerate(warehouse[idx])]"
   ]
  },
  {
   "cell_type": "code",
   "execution_count": 29,
   "metadata": {},
   "outputs": [],
   "source": [
    "def get4Ways(point):\n",
    "    return [(point[0],point[1]+1), (point[0]+1,point[1]),\n",
    "            (point[0],point[1]-1), (point[0]-1,point[1])]"
   ]
  },
  {
   "cell_type": "code",
   "execution_count": 30,
   "metadata": {},
   "outputs": [],
   "source": [
    "# def set_charging_station(warehouse,CHARGING_STATION,ROW,COL):\n",
    "#     for charging_spot in CHARGING_STATION:\n",
    "#         warehouse[ROW-1-charging_spot[1]][charging_spot[0]]=2\n",
    "#     return warehouse"
   ]
  },
  {
   "cell_type": "markdown",
   "metadata": {},
   "source": [
    "# Make warehouse, Rack, Rack enterence, Station"
   ]
  },
  {
   "cell_type": "code",
   "execution_count": 31,
   "metadata": {},
   "outputs": [],
   "source": [
    "# ROW, COL = 10,10\n",
    "# # warehouse = make_warehouse(ROW,COL)\n",
    "# INPUT_STATION = (3,0)\n",
    "# OUTPUT_STATION = (6,0)\n",
    "# CHARGING_STATION = [(2,9),(7,9)]   \n",
    "rack_location =  [(1, 1), (1, 2), (1, 3), (1, 4), (1, 5), (1, 6), (1, 7),\n",
    "                  (2, 1), (2, 2), (2, 3), (2, 4), (2, 5), (2, 6), (2, 7), \n",
    "                  (4, 1), (4, 2), (4, 3), (4, 4), (4, 5), (4, 6), (4, 7), \n",
    "                  (5, 1), (5, 2), (5, 3), (5, 4), (5, 5), (5, 6), (5, 7), \n",
    "                  (7, 1), (7, 2), (7, 3), (7, 4), (7, 5), (7, 6), (7, 7), \n",
    "                  (8, 1), (8, 2), (8, 3), (8, 4), (8, 5), (8, 6), (8, 7)]\n"
   ]
  },
  {
   "cell_type": "code",
   "execution_count": 32,
   "metadata": {},
   "outputs": [],
   "source": [
    "# set_rack(warehouse,rack_location)\n",
    "# set_charging_station(warehouse,CHARGING_STATION,ROW,COL)"
   ]
  },
  {
   "cell_type": "code",
   "execution_count": 33,
   "metadata": {},
   "outputs": [],
   "source": [
    "Rack_enterence={}\n",
    "for point in rack_location:\n",
    "    four_ways = get4Ways(point)\n",
    "    neighbour_obstacle_list = [way for way in four_ways if way in rack_location]  ## 좌표정보 ex) (1,3), (2,2)....\n",
    "    neighbour_empty_list = [way for way in four_ways if way not in rack_location] \n",
    "    if len(neighbour_empty_list) == 1: ### 모서리 아님\n",
    "        Rack_enterence[point] = neighbour_empty_list[0]\n",
    "    elif len(neighbour_empty_list) == 2: ### 모서리임\n",
    "        obstacle_way_list = [four_ways.index(obst) for obst in neighbour_obstacle_list]  ## 방향정보 ex) 0,1, 2...\n",
    "        for idx, obst_point in enumerate(neighbour_obstacle_list):\n",
    "            obst_way = obstacle_way_list[idx]\n",
    "            obst_plus1_point = get4Ways(obst_point)[obst_way]\n",
    "            if obst_plus1_point in rack_location:\n",
    "                continue\n",
    "            else:\n",
    "                Rack_enterence[point] = four_ways[obst_way-2]\n",
    "    else:\n",
    "        print('ERROR finding obstacle/entrance for RACK {}'.format(point))"
   ]
  },
  {
   "cell_type": "code",
   "execution_count": 34,
   "metadata": {},
   "outputs": [],
   "source": [
    "warehouse = np.array(\n",
    "[[0, 0, 0, 2, 0, 0, 3, 0, 0, 0],\n",
    " [0, 1, 1, 0, 1, 1, 0, 1, 1, 0],\n",
    " [0, 1, 1, 0, 1, 1, 0, 1, 1, 0],\n",
    " [0, 1, 1, 0, 1, 1, 0, 1, 1, 0],\n",
    " [0, 1, 1, 0, 1, 1, 0, 1, 1, 0],\n",
    " [0, 1, 1, 0, 1, 1, 0, 1, 1, 0],\n",
    " [0, 1, 1, 0, 1, 1, 0, 1, 1, 0],\n",
    " [1, 1, 1, 1, 1, 1, 1, 1, 1, 0],\n",
    " [0, 0, 0, 0, 0, 0, 0, 0, 0, 0],\n",
    " [0, 0, 0, 0, 0, 0, 0, 0, 0, 0]]\n",
    ",dtype = np.int32)"
   ]
  },
  {
   "cell_type": "markdown",
   "metadata": {},
   "source": [
    "# 실험"
   ]
  },
  {
   "cell_type": "markdown",
   "metadata": {},
   "source": [
    "### Simulation condition"
   ]
  },
  {
   "cell_type": "code",
   "execution_count": 35,
   "metadata": {},
   "outputs": [],
   "source": [
    "jobQ = JobQueue()\n",
    "jobQ_for_simulation = JobQueue()\n",
    "run_time = 2000\n",
    "total_job_location_list = []\n",
    "select_agv_list = []\n",
    "charging_agvs_list = []\n",
    "moving_for_charge_agvs_list = []\n",
    "battery_threshold = 100\n",
    "total_job_information = {}"
   ]
  },
  {
   "cell_type": "markdown",
   "metadata": {},
   "source": [
    "### Created Job 확인"
   ]
  },
  {
   "cell_type": "code",
   "execution_count": 36,
   "metadata": {},
   "outputs": [
    {
     "name": "stdout",
     "output_type": "stream",
     "text": [
      "{'0': ['in', [(8, 2)]], '13': ['in', [(1, 3)]], '24': ['in', [(5, 7)]], '34': ['in', [(7, 3)]], '41': ['out', [(8, 2)]], '47': ['in', [(1, 1)]], '60': ['in', [(2, 7)]], '72': ['in', [(7, 2)]], '87': ['in', [(7, 4)]], '97': ['in', [(4, 4)]], '106': ['in', [(8, 7)]], '115': ['in', [(2, 4)]], '126': ['out', [(1, 3)]], '137': ['in', [(7, 6)]], '150': ['out', [(7, 4)]], '165': ['in', [(4, 7)]], '170': ['in', [(1, 5)]], '180': ['in', [(4, 2)]], '187': ['in', [(5, 3)]], '195': ['in', [(1, 3)]], '203': ['in', [(5, 6)]], '211': ['in', [(2, 2)]], '220': ['in', [(8, 4)]], '233': ['in', [(5, 2)]], '242': ['in', [(5, 4)]], '255': ['out', [(5, 6)]], '265': ['in', [(4, 5)]], '269': ['in', [(4, 3)]], '277': ['out', [(7, 2)]], '285': ['in', [(2, 5)]], '293': ['in', [(4, 6)]], '307': ['out', [(5, 3)]], '321': ['out', [(2, 2)]], '332': ['in', [(7, 2)]], '343': ['out', [(4, 2)]], '351': ['in', [(7, 1)]], '359': ['in', [(8, 5)]], '369': ['out', [(5, 4)]], '379': ['out', [(1, 3)]], '387': ['in', [(8, 3)]], '395': ['out', [(1, 1)]], '399': ['in', [(4, 2)]], '410': ['in', [(2, 2)]], '418': ['in', [(2, 6)]], '426': ['out', [(4, 6)]], '438': ['in', [(7, 7)]], '441': ['in', [(5, 3)]], '446': ['out', [(4, 2)]], '460': ['out', [(4, 7)]], '467': ['in', [(8, 1)]], '477': ['out', [(7, 1)]], '483': ['out', [(5, 7)]], '494': ['out', [(7, 3)]], '501': ['out', [(1, 5)]], '508': ['out', [(8, 7)]], '523': ['out', [(8, 3)]], '534': ['in', [(4, 7)]], '545': ['in', [(7, 5)]], '556': ['out', [(2, 4)]], '562': ['in', [(4, 1)]], '574': ['in', [(5, 6)]], '583': ['in', [(4, 2)]], '593': ['in', [(1, 3)]], '598': ['out', [(1, 3)]], '609': ['in', [(7, 4)]], '616': ['in', [(4, 6)]], '624': ['out', [(8, 4)]], '636': ['in', [(1, 5)]], '645': ['out', [(7, 7)]], '656': ['in', [(1, 6)]], '667': ['in', [(2, 3)]], '679': ['in', [(5, 4)]], '689': ['in', [(8, 2)]], '699': ['out', [(5, 3)]], '705': ['in', [(8, 4)]], '715': ['out', [(2, 3)]], '720': ['in', [(2, 1)]], '725': ['in', [(1, 7)]], '729': ['in', [(7, 1)]], '740': ['in', [(2, 4)]], '751': ['out', [(2, 6)]], '759': ['out', [(5, 2)]], '768': ['in', [(5, 7)]], '777': ['out', [(5, 6)]], '787': ['out', [(7, 1)]], '806': ['out', [(4, 2)]], '820': ['out', [(4, 4)]], '827': ['in', [(2, 3)]], '837': ['out', [(8, 5)]], '850': ['out', [(7, 6)]], '858': ['out', [(2, 5)]], '867': ['out', [(2, 1)]], '881': ['in', [(4, 4)]], '892': ['out', [(7, 2)]], '901': ['out', [(4, 6)]], '911': ['out', [(2, 4)]], '919': ['in', [(8, 7)]], '932': ['in', [(2, 5)]], '939': ['out', [(2, 5)]], '950': ['in', [(7, 3)]]}\n",
      "100\n"
     ]
    }
   ],
   "source": [
    "for time in range(run_time+1):\n",
    "    if time in job_create_time:\n",
    "        job_create(rack_location,total_job_location_list,time,total_job_information)\n",
    "print(total_job_information)\n",
    "print(len(total_job_information))"
   ]
  },
  {
   "cell_type": "markdown",
   "metadata": {},
   "source": [
    "### Create AGV"
   ]
  },
  {
   "cell_type": "code",
   "execution_count": 37,
   "metadata": {},
   "outputs": [
    {
     "data": {
      "text/plain": [
       "[<__main__.AGV at 0x19fb715f160>,\n",
       " <__main__.AGV at 0x19fb715fa00>,\n",
       " <__main__.AGV at 0x19fb715f0a0>,\n",
       " <__main__.AGV at 0x19fb715f6a0>]"
      ]
     },
     "execution_count": 37,
     "metadata": {},
     "output_type": "execute_result"
    }
   ],
   "source": [
    "agv1 = AGV(\"agv1\",(0,9),[])\n",
    "agv2 = AGV(\"agv2\",(3,9),[])\n",
    "agv3 = AGV(\"agv3\",(6,9),[])\n",
    "agv4 = AGV(\"agv4\",(9,9),[])\n",
    "AGV_LIST = [agv1,agv2,agv3,agv4]\n",
    "AGV_LIST"
   ]
  },
  {
   "cell_type": "code",
   "execution_count": 38,
   "metadata": {},
   "outputs": [],
   "source": [
    "graph, INPUT_STATION, OUTPUT_STATION = create_Astar_graph(warehouse)"
   ]
  },
  {
   "cell_type": "code",
   "execution_count": 39,
   "metadata": {},
   "outputs": [
    {
     "name": "stdout",
     "output_type": "stream",
     "text": [
      "[<__main__.AStarNode object at 0x0000019FB711BAC0>]\n"
     ]
    }
   ],
   "source": [
    "print(INPUT_STATION)"
   ]
  },
  {
   "cell_type": "code",
   "execution_count": 40,
   "metadata": {},
   "outputs": [
    {
     "name": "stdout",
     "output_type": "stream",
     "text": [
      "[<__main__.AStarNode object at 0x0000019FB711B1F0>]\n"
     ]
    }
   ],
   "source": [
    "print(OUTPUT_STATION)"
   ]
  },
  {
   "cell_type": "code",
   "execution_count": 41,
   "metadata": {},
   "outputs": [],
   "source": [
    "# jobQ.insertJob('in', [(5, 2)])\n",
    "# jobQ.insertJob('out', [(3, 2)])"
   ]
  },
  {
   "cell_type": "code",
   "execution_count": 42,
   "metadata": {},
   "outputs": [],
   "source": [
    "# job = jobQ.getJob()\n",
    "# print(job)\n",
    "# print(jobQ.job_number)"
   ]
  },
  {
   "cell_type": "code",
   "execution_count": 43,
   "metadata": {},
   "outputs": [],
   "source": [
    "# reservation_table = dict()"
   ]
  },
  {
   "cell_type": "code",
   "execution_count": 44,
   "metadata": {},
   "outputs": [],
   "source": [
    "# path = findPathAstar(graph,agv1,(3,3),reservation_table)+findPathAstar(graph,agv1,(3,3),reservation_table)\n",
    "# for p in path:\n",
    "#     print(p.coordinates)\n",
    "    \n",
    "# print(len(path))"
   ]
  },
  {
   "cell_type": "code",
   "execution_count": 45,
   "metadata": {},
   "outputs": [],
   "source": [
    "# job['station_dest']"
   ]
  },
  {
   "cell_type": "code",
   "execution_count": 46,
   "metadata": {},
   "outputs": [],
   "source": [
    "# job['station_dest'][0]"
   ]
  },
  {
   "cell_type": "code",
   "execution_count": 47,
   "metadata": {},
   "outputs": [],
   "source": [
    "# Rack_enterence[job['station_dest'][0]]"
   ]
  },
  {
   "cell_type": "code",
   "execution_count": 48,
   "metadata": {},
   "outputs": [],
   "source": [
    "# Rack_enterence[job['station_dest'][0]]"
   ]
  },
  {
   "cell_type": "code",
   "execution_count": 49,
   "metadata": {},
   "outputs": [],
   "source": [
    "# findPathAstar(graph,agv1,Rack_enterence[job['station_dest'][0]],reservation_table)"
   ]
  },
  {
   "cell_type": "code",
   "execution_count": 50,
   "metadata": {},
   "outputs": [],
   "source": [
    "# print(len(findPathAstar(graph,agv1,Rack_enterence[job['station_dest'][0]],reservation_table)+findPathAstar(graph,agv1,OUTPUT_STATION,reservation_table)))"
   ]
  },
  {
   "cell_type": "code",
   "execution_count": 51,
   "metadata": {},
   "outputs": [],
   "source": [
    "# findPathAstar(graph,agv1,(0,3),reservation_table)"
   ]
  },
  {
   "cell_type": "code",
   "execution_count": 52,
   "metadata": {},
   "outputs": [],
   "source": [
    "reservation_table = dict()"
   ]
  },
  {
   "cell_type": "code",
   "execution_count": 53,
   "metadata": {},
   "outputs": [
    {
     "name": "stdout",
     "output_type": "stream",
     "text": [
      "<__main__.AStarNode object at 0x0000019FB711BAC0>\n"
     ]
    }
   ],
   "source": [
    "print(INPUT_STATION[0])"
   ]
  },
  {
   "cell_type": "code",
   "execution_count": 54,
   "metadata": {},
   "outputs": [
    {
     "name": "stdout",
     "output_type": "stream",
     "text": [
      "[<__main__.AStarNode object at 0x0000019FB711B1F0>]\n"
     ]
    }
   ],
   "source": [
    "print(OUTPUT_STATION)"
   ]
  },
  {
   "cell_type": "code",
   "execution_count": 55,
   "metadata": {},
   "outputs": [
    {
     "data": {
      "text/plain": [
       "(0, 9)"
      ]
     },
     "execution_count": 55,
     "metadata": {},
     "output_type": "execute_result"
    }
   ],
   "source": [
    "agv1.current_location"
   ]
  },
  {
   "cell_type": "code",
   "execution_count": 56,
   "metadata": {},
   "outputs": [
    {
     "data": {
      "text/plain": [
       "<__main__.AStarNode at 0x19fb711bac0>"
      ]
     },
     "execution_count": 56,
     "metadata": {},
     "output_type": "execute_result"
    }
   ],
   "source": [
    "INPUT_STATION[0]"
   ]
  },
  {
   "cell_type": "code",
   "execution_count": 57,
   "metadata": {},
   "outputs": [],
   "source": [
    "## findAstarpath 고치고 난 후 \n",
    "def CAStar(graph,AGV_LIST,INPUT_STATION,OUTPUT_STATION,reservation_table):\n",
    "    agv_avail = getAvailAGV(AGV_LIST,battery_threshold)\n",
    "    while len(agv_avail)!=0 and jobQ.job_number!=0:\n",
    "        job = jobQ.getJob()\n",
    "        print(job)\n",
    "        print(job['station_dest'])\n",
    "        agv_avail = getAvailAGV(AGV_LIST, battery_threshold)\n",
    "        for agv in agv_avail:\n",
    "            agv.calculate_bid(job,warehouse,INPUT_STATION,OUTPUT_STATION)\n",
    "            agv.bid_list.append(agv.calculate_bid(job,warehouse,INPUT_STATION,OUTPUT_STATION))\n",
    "        for agv_ in agv_avail:\n",
    "#             print(agv_bid_list)\n",
    "            agv_bid_sort = sorted(agv_.bid_list,key = lambda x:x[0], reverse = False)\n",
    "#             print(agv_bid_sort)\n",
    "        bid_compare_battery=[]\n",
    "        for i in range(len(agv_bid_sort)):\n",
    "            if agv_bid_sort[i][1]==agv_bid_sort[0][1]:\n",
    "                bid_compare_battery.append((agv_bid_sort[i]))\n",
    "        bid_compare_battery_sort = sorted(bid_compare_battery, key= lambda x:x[1].battery, reverse =True)\n",
    "\n",
    "        reset_graph(graph)\n",
    "         \n",
    "        if job['inout']=='in':\n",
    "            castar_path = findPathAstar(graph,bid_compare_battery_sort[0][1],bid_compare_battery_sort[0][1].current_location,INPUT_STATION[0].coordinates,reservation_table)+findPathAstar(graph,bid_compare_battery_sort[0][1],INPUT_STATION[0].coordinates,Rack_enterence[job['station_dest']],reservation_table)\n",
    "        else:\n",
    "            castar_path = findPathAstar(graph,bid_compare_battery_sort[0][1],bid_compare_battery_sort[0][1].current_location,Rack_enterence[job['station_dest']],reservation_table)+findPathAstar(graph,bid_compare_battery_sort[0][1],Rack_enterence[job['station_dest']],OUTPUT_STATION[0].coordinates,reservation_table)\n",
    "        if castar_path == None:\n",
    "            return -1\n",
    "        for time,value in enumerate(castar_path):\n",
    "#             reservation_table[hash(value.depth, value.id)] = True \n",
    "            reservation_table[(value.depth, value.id)] = True  \n",
    "        target_agv = bid_compare_battery_sort[0][1]\n",
    "        select_agv_list.append(target_agv)\n",
    "        target_agv.get_job(job,castar_path)\n",
    "        print(\" target_agv : {}, target_agv.battery: {}, destination : {}, castar_path : {}, available:{}\".format(target_agv,target_agv.battery,job['station_dest'],castar_path,target_agv.available))\n",
    "        for move in castar_path:\n",
    "            print(move.coordinates)\n",
    "        for agv in AGV_LIST:\n",
    "                agv.clear_bid_list(AGV_LIST)\n",
    "        agv_avail = getAvailAGV(AGV_LIST,battery_threshold)\n",
    "    total_cost = 0\n",
    "    for agv in AGV_LIST:\n",
    "        total_cost += len(agv.walking_path)\n",
    "        return total_cost\n",
    "        "
   ]
  },
  {
   "cell_type": "code",
   "execution_count": 58,
   "metadata": {},
   "outputs": [],
   "source": [
    "##기존꺼 FindPathAstar 고치기 전 \n",
    "# def CAStar(graph,AGV_LIST,INPUT_STATION,OUTPUT_STATION,reservation_table):\n",
    "#     agv_avail = getAvailAGV(AGV_LIST,battery_threshold)\n",
    "#     while len(agv_avail)!=0 and jobQ.job_number!=0:\n",
    "#         job = jobQ.getJob()\n",
    "#         print(job)\n",
    "#         print(job['station_dest'])\n",
    "#         agv_avail = getAvailAGV(AGV_LIST, battery_threshold)\n",
    "#         for agv in agv_avail:\n",
    "#             agv.calculate_bid(job,warehouse,INPUT_STATION[0],OUTPUT_STATION[0])\n",
    "#             agv.bid_list.append(agv.calculate_bid(job,warehouse,INPUT_STATION,OUTPUT_STATION))\n",
    "#         for agv_ in agv_avail:\n",
    "# #             print(agv_bid_list)\n",
    "#             agv_bid_sort = sorted(agv_.bid_list,key = lambda x:x[0], reverse = False)\n",
    "# #             print(agv_bid_sort)\n",
    "#         bid_compare_battery=[]\n",
    "#         for i in range(len(agv_bid_sort)):\n",
    "#             if agv_bid_sort[i][1]==agv_bid_sort[0][1]:\n",
    "#                 bid_compare_battery.append((agv_bid_sort[i]))\n",
    "#         bid_compare_battery_sort = sorted(bid_compare_battery, key= lambda x:x[1].battery, reverse =True)\n",
    "\n",
    "#         reset_graph(graph)\n",
    "         \n",
    "#         if job['inout']=='in':\n",
    "#             castar_path = findPathAstar(graph,bid_compare_battery_sort[0][1],INPUT_STATION[0],reservation_table)+findPathAstar(graph,bid_compare_battery_sort[0][1],Rack_enterence[job['station_dest']],reservation_table)\n",
    "#         else:\n",
    "#             castar_path = findPathAstar(graph,bid_compare_battery_sort[0][1],Rack_enterence[job['station_dest']],reservation_table)+findPathAstar(graph,bid_compare_battery_sort[0][1],OUTPUT_STATION[0].coordinates,reservation_table)\n",
    "#         if castar_path == None:\n",
    "#             return -1\n",
    "#         for time,value in enumerate(castar_path):\n",
    "# #             reservation_table[hash(value.depth, value.id)] = True \n",
    "#             reservation_table[(value.depth, value.id)] = True  \n",
    "#         target_agv = bid_compare_battery_sort[0][1]\n",
    "#         select_agv_list.append(target_agv)\n",
    "#         target_agv.get_job(job,castar_path)\n",
    "#         print('A')\n",
    "#         print(\" target_agv : {}, target_agv.battery: {}, destination : {}, castar_path : {}, available:{}\".format(target_agv,target_agv.battery,job['station_dest'],castar_path,target_agv.available))\n",
    "#         for move in castar_path:\n",
    "#             print(move.coordinates)\n",
    "#         for agv in AGV_LIST:\n",
    "#                 agv.clear_bid_list(AGV_LIST)\n",
    "#         agv_avail = getAvailAGV(AGV_LIST,battery_threshold)\n",
    "#     total_cost = 0\n",
    "#     for agv in AGV_LIST:\n",
    "#         total_cost += len(agv.walking_path)\n",
    "#         return total_cost\n",
    "        "
   ]
  },
  {
   "cell_type": "code",
   "execution_count": 59,
   "metadata": {},
   "outputs": [],
   "source": [
    "# print(AGV_LIST,INPUT_STATION,OUTPUT_STATION)"
   ]
  },
  {
   "cell_type": "code",
   "execution_count": 60,
   "metadata": {},
   "outputs": [],
   "source": [
    "# CAStar(graph,AGV_LIST,INPUT_STATION,OUTPUT_STATION)"
   ]
  },
  {
   "cell_type": "code",
   "execution_count": 61,
   "metadata": {},
   "outputs": [],
   "source": [
    "number_of_tests = 1"
   ]
  },
  {
   "cell_type": "code",
   "execution_count": 62,
   "metadata": {},
   "outputs": [
    {
     "data": {
      "text/plain": [
       "(1, 0)"
      ]
     },
     "execution_count": 62,
     "metadata": {},
     "output_type": "execute_result"
    }
   ],
   "source": [
    "graph[1][0].coordinates"
   ]
  },
  {
   "cell_type": "code",
   "execution_count": 63,
   "metadata": {},
   "outputs": [
    {
     "name": "stdout",
     "output_type": "stream",
     "text": [
      "[[<__main__.AStarNode object at 0x0000019FB711B820>\n",
      "  <__main__.AStarNode object at 0x0000019FB711B9A0>\n",
      "  <__main__.AStarNode object at 0x0000019FB711B670>\n",
      "  <__main__.AStarNode object at 0x0000019FB711BAC0>\n",
      "  <__main__.AStarNode object at 0x0000019FB711B1C0>\n",
      "  <__main__.AStarNode object at 0x0000019FB711B730>\n",
      "  <__main__.AStarNode object at 0x0000019FB711B1F0>\n",
      "  <__main__.AStarNode object at 0x0000019FB711BB80>\n",
      "  <__main__.AStarNode object at 0x0000019FB711B3A0>\n",
      "  <__main__.AStarNode object at 0x0000019FB711B6A0>]\n",
      " [<__main__.AStarNode object at 0x0000019FB711B760>\n",
      "  <__main__.AStarNode object at 0x0000019FB711B940>\n",
      "  <__main__.AStarNode object at 0x0000019FB711B580>\n",
      "  <__main__.AStarNode object at 0x0000019FB711B610>\n",
      "  <__main__.AStarNode object at 0x0000019FB711B9D0>\n",
      "  <__main__.AStarNode object at 0x0000019FB711B340>\n",
      "  <__main__.AStarNode object at 0x0000019FB711B490>\n",
      "  <__main__.AStarNode object at 0x0000019FB715FCA0>\n",
      "  <__main__.AStarNode object at 0x0000019FB715F040>\n",
      "  <__main__.AStarNode object at 0x0000019FB715F820>]\n",
      " [<__main__.AStarNode object at 0x0000019FB715F910>\n",
      "  <__main__.AStarNode object at 0x0000019FB715FEB0>\n",
      "  <__main__.AStarNode object at 0x0000019FB715FD60>\n",
      "  <__main__.AStarNode object at 0x0000019FB715F100>\n",
      "  <__main__.AStarNode object at 0x0000019FB715F1F0>\n",
      "  <__main__.AStarNode object at 0x0000019FB715FD00>\n",
      "  <__main__.AStarNode object at 0x0000019FB715FFA0>\n",
      "  <__main__.AStarNode object at 0x0000019FB715FFD0>\n",
      "  <__main__.AStarNode object at 0x0000019FB715F070>\n",
      "  <__main__.AStarNode object at 0x0000019FB715F250>]\n",
      " [<__main__.AStarNode object at 0x0000019FB715F130>\n",
      "  <__main__.AStarNode object at 0x0000019FB715FBE0>\n",
      "  <__main__.AStarNode object at 0x0000019FB715F7C0>\n",
      "  <__main__.AStarNode object at 0x0000019FB715FEE0>\n",
      "  <__main__.AStarNode object at 0x0000019FB715FF70>\n",
      "  <__main__.AStarNode object at 0x0000019FB715FE50>\n",
      "  <__main__.AStarNode object at 0x0000019FB715F9A0>\n",
      "  <__main__.AStarNode object at 0x0000019FB715FC10>\n",
      "  <__main__.AStarNode object at 0x0000019FB715FB80>\n",
      "  <__main__.AStarNode object at 0x0000019FB715FAC0>]\n",
      " [<__main__.AStarNode object at 0x0000019FB715FD30>\n",
      "  <__main__.AStarNode object at 0x0000019FB715F850>\n",
      "  <__main__.AStarNode object at 0x0000019FB715FC40>\n",
      "  <__main__.AStarNode object at 0x0000019FB715F310>\n",
      "  <__main__.AStarNode object at 0x0000019FB715F8B0>\n",
      "  <__main__.AStarNode object at 0x0000019FB716D3A0>\n",
      "  <__main__.AStarNode object at 0x0000019FB716D3D0>\n",
      "  <__main__.AStarNode object at 0x0000019FB716D130>\n",
      "  <__main__.AStarNode object at 0x0000019FB716D880>\n",
      "  <__main__.AStarNode object at 0x0000019FB716D8B0>]\n",
      " [<__main__.AStarNode object at 0x0000019FB716D1F0>\n",
      "  <__main__.AStarNode object at 0x0000019FB716D970>\n",
      "  <__main__.AStarNode object at 0x0000019FB716D100>\n",
      "  <__main__.AStarNode object at 0x0000019FB716D400>\n",
      "  <__main__.AStarNode object at 0x0000019FB716D040>\n",
      "  <__main__.AStarNode object at 0x0000019FB716DD90>\n",
      "  <__main__.AStarNode object at 0x0000019FB716DE20>\n",
      "  <__main__.AStarNode object at 0x0000019FB716DD00>\n",
      "  <__main__.AStarNode object at 0x0000019FB716DBB0>\n",
      "  <__main__.AStarNode object at 0x0000019FB716DC10>]\n",
      " [<__main__.AStarNode object at 0x0000019FB716DB50>\n",
      "  <__main__.AStarNode object at 0x0000019FB716DEB0>\n",
      "  <__main__.AStarNode object at 0x0000019FB716D700>\n",
      "  <__main__.AStarNode object at 0x0000019FB716DA30>\n",
      "  <__main__.AStarNode object at 0x0000019FB716D730>\n",
      "  <__main__.AStarNode object at 0x0000019FB716D340>\n",
      "  <__main__.AStarNode object at 0x0000019FB716DA90>\n",
      "  <__main__.AStarNode object at 0x0000019FB716D640>\n",
      "  <__main__.AStarNode object at 0x0000019FB716DB20>\n",
      "  <__main__.AStarNode object at 0x0000019FB716D7F0>]\n",
      " [<__main__.AStarNode object at 0x0000019FB716D820>\n",
      "  <__main__.AStarNode object at 0x0000019FB716D6D0>\n",
      "  <__main__.AStarNode object at 0x0000019FB716D190>\n",
      "  <__main__.AStarNode object at 0x0000019FB716D550>\n",
      "  <__main__.AStarNode object at 0x0000019FB716DF40>\n",
      "  <__main__.AStarNode object at 0x0000019FB716D2B0>\n",
      "  <__main__.AStarNode object at 0x0000019FB716D7C0>\n",
      "  <__main__.AStarNode object at 0x0000019FB716D910>\n",
      "  <__main__.AStarNode object at 0x0000019FB716D5B0>\n",
      "  <__main__.AStarNode object at 0x0000019FB716D670>]\n",
      " [<__main__.AStarNode object at 0x0000019FB716DD30>\n",
      "  <__main__.AStarNode object at 0x0000019FB716DD60>\n",
      "  <__main__.AStarNode object at 0x0000019FB716DAF0>\n",
      "  <__main__.AStarNode object at 0x0000019FB716DF10>\n",
      "  <__main__.AStarNode object at 0x0000019FB716DC40>\n",
      "  <__main__.AStarNode object at 0x0000019FB716DCA0>\n",
      "  <__main__.AStarNode object at 0x0000019FB716DA60>\n",
      "  <__main__.AStarNode object at 0x0000019FB716DBE0>\n",
      "  <__main__.AStarNode object at 0x0000019FB716D310>\n",
      "  <__main__.AStarNode object at 0x0000019FB716DDC0>]\n",
      " [<__main__.AStarNode object at 0x0000019FB716DB80>\n",
      "  <__main__.AStarNode object at 0x0000019FB71BA760>\n",
      "  <__main__.AStarNode object at 0x0000019FB71BAA60>\n",
      "  <__main__.AStarNode object at 0x0000019FB71BA940>\n",
      "  <__main__.AStarNode object at 0x0000019FB71BA4C0>\n",
      "  <__main__.AStarNode object at 0x0000019FB71BA820>\n",
      "  <__main__.AStarNode object at 0x0000019FB71BA580>\n",
      "  <__main__.AStarNode object at 0x0000019FB71BAD00>\n",
      "  <__main__.AStarNode object at 0x0000019FB71BA5B0>\n",
      "  <__main__.AStarNode object at 0x0000019FB71BA400>]]\n"
     ]
    }
   ],
   "source": [
    "print(graph)"
   ]
  },
  {
   "cell_type": "code",
   "execution_count": 64,
   "metadata": {},
   "outputs": [],
   "source": [
    "def main():\n",
    "    global number_of_tests\n",
    "    cost_CA= []\n",
    "    input_size_items = []\n",
    "    input_size_orders = []\n",
    "#     number_of_agents = 20\n",
    "    failed_count = 0\n",
    "    impossible_problems_CA = 0\n",
    "    for test_number in range(0,number_of_tests):\n",
    "        print(\"starting test {}\".format(test_number))\n",
    "        order_input = len(total_job_information)\n",
    "#         order_input = simulate_8020_orders(random.randint(2,15))\n",
    "#         current_item_size = get_item_size(order_input)\n",
    "#         current_order_size = len(order_input)\n",
    "        graph, INPUT_STATION, OUTPUT_STATION = create_Astar_graph(warehouse)\n",
    "        for running_time in range(run_time+1):\n",
    "            now_charging_agv = getChargingAGV(AGV_LIST)\n",
    "            if len(now_charging_agv)!=0:\n",
    "                print('charging_agv',now_charging_agv)\n",
    "            if len(now_charging_agv)!=0:\n",
    "                for charging_agv in now_charging_agv:\n",
    "                    charging_agv.charge_agv(charging_agvs_list)\n",
    "            if len(moving_for_charge_agvs_list)!=0:\n",
    "    #             print('-',moving_for_charge_agvs_list)\n",
    "                for moving_agvs in moving_for_charge_agvs_list :\n",
    "                    moving_agvs.move_one_tick_for_charge(charging_agvs_list,moving_for_charge_agvs_list)\n",
    "                    print(\"running time : {}, moving agv for charging : {}, current location : {}, current battery : {}\".format(running_time, moving_agvs,moving_agvs.current_location,moving_agvs.battery))\n",
    "                    if moving_agvs.charging == True:\n",
    "                        print('moving_for_charge_agvs_list:',moving_for_charge_agvs_list,'moving_agvs',moving_agvs,'moving_agvs battery:',moving_agvs.battery)\n",
    "    #                     moving_for_charge_agvs_list.remove(moving_agvs)\n",
    "                        charging_agvs_list.append(moving_agvs)\n",
    "        #       #사용가능한 agv와 job이 있을때 \n",
    "            if running_time in job_create_time:\n",
    "                print(\"@@@@@@@@@@@@@@@@@\",running_time)\n",
    "                jobQ.insertJob(total_job_information.get('{}'.format(running_time))[0],total_job_information.get('{}'.format(running_time))[1][0])\n",
    "            one_algorithm_failed = False \n",
    "            current_COST = CAStar(graph,AGV_LIST,INPUT_STATION,OUTPUT_STATION,reservation_table)\n",
    "            if current_COST ==-1:\n",
    "                impossible_problems_CA +=1\n",
    "                one_algorithm_failed = True\n",
    "            cost_CA.append(current_COST)\n",
    "#             input_size_items.append(current_item_size)\n",
    "#             input_size_orders.append(current_order_size)\n",
    "        number_of_tests = number_of_tests - failed_count\n",
    "        if number_of_tests <= 0:\n",
    "            print(\"No simulations were successful\")\n",
    "            return\n",
    "        print(\"cost_CA\",cost_CA)\n",
    "        avg_cost_CA = np.sum(cost_CA) / number_of_tests\n",
    "        print(\"The average cost for CA: %.3f\" % (avg_cost_CA))\n",
    "        print(\"impossible problems encountered: CA: %d\" % (impossible_problems_CA))\n",
    "                \n"
   ]
  },
  {
   "cell_type": "code",
   "execution_count": 65,
   "metadata": {},
   "outputs": [
    {
     "data": {
      "text/plain": [
       "(9, 9)"
      ]
     },
     "execution_count": 65,
     "metadata": {},
     "output_type": "execute_result"
    }
   ],
   "source": [
    "agv4.current_location"
   ]
  },
  {
   "cell_type": "code",
   "execution_count": 66,
   "metadata": {},
   "outputs": [
    {
     "data": {
      "text/plain": [
       "(0, 6)"
      ]
     },
     "execution_count": 66,
     "metadata": {},
     "output_type": "execute_result"
    }
   ],
   "source": [
    "OUTPUT_STATION[0].coordinates"
   ]
  },
  {
   "cell_type": "code",
   "execution_count": 67,
   "metadata": {},
   "outputs": [
    {
     "name": "stdout",
     "output_type": "stream",
     "text": [
      "starting test 0\n",
      "@@@@@@@@@@@@@@@@@ 0\n",
      "{'inout': 'in', 'station_dest': (8, 2)}\n",
      "(8, 2)\n",
      " target_agv : <__main__.AGV object at 0x0000019FB715F160>, target_agv.battery: 200, destination : (8, 2), castar_path : [<__main__.AStarNode object at 0x0000019FB71B3FA0>, <__main__.AStarNode object at 0x0000019FB3B5ECA0>, <__main__.AStarNode object at 0x0000019FB71915E0>, <__main__.AStarNode object at 0x0000019FB7191250>, <__main__.AStarNode object at 0x0000019FB71911C0>, <__main__.AStarNode object at 0x0000019FB7191370>, <__main__.AStarNode object at 0x0000019FB7191D90>, <__main__.AStarNode object at 0x0000019FB5FAB070>, <__main__.AStarNode object at 0x0000019FB71B3340>, <__main__.AStarNode object at 0x0000019FB7191B80>, <__main__.AStarNode object at 0x0000019FB71C9A30>, <__main__.AStarNode object at 0x0000019FB71BFA30>, <__main__.AStarNode object at 0x0000019FB71CE160>, <__main__.AStarNode object at 0x0000019FB71CF790>, <__main__.AStarNode object at 0x0000019FB71D0B20>, <__main__.AStarNode object at 0x0000019FB71D38E0>, <__main__.AStarNode object at 0x0000019FB71D3C70>, <__main__.AStarNode object at 0x0000019FB71D3640>, <__main__.AStarNode object at 0x0000019FB71D39A0>, <__main__.AStarNode object at 0x0000019FB71D8040>, <__main__.AStarNode object at 0x0000019FB71D8190>, <__main__.AStarNode object at 0x0000019FB71D8160>, <__main__.AStarNode object at 0x0000019FB71D8250>, <__main__.AStarNode object at 0x0000019FB71D8310>, <__main__.AStarNode object at 0x0000019FB71D8490>, <__main__.AStarNode object at 0x0000019FB71D85B0>, <__main__.AStarNode object at 0x0000019FB71D86D0>, <__main__.AStarNode object at 0x0000019FB71D87F0>, <__main__.AStarNode object at 0x0000019FB71D8910>, <__main__.AStarNode object at 0x0000019FB71D8A30>, <__main__.AStarNode object at 0x0000019FB71D8B50>, <__main__.AStarNode object at 0x0000019FB71D8C40>], available:False\n",
      "(0, 9)\n",
      "(0, 8)\n",
      "(0, 7)\n",
      "(0, 6)\n",
      "(0, 5)\n",
      "(0, 4)\n",
      "(0, 3)\n",
      "(0, 3)\n",
      "(0, 3)\n",
      "(0, 4)\n",
      "(0, 5)\n",
      "(0, 6)\n",
      "(0, 7)\n",
      "(0, 8)\n",
      "(0, 9)\n",
      "(1, 9)\n",
      "(2, 9)\n",
      "(3, 9)\n",
      "(4, 9)\n",
      "(5, 9)\n",
      "(6, 9)\n",
      "(7, 9)\n",
      "(8, 9)\n",
      "(9, 9)\n",
      "(9, 8)\n",
      "(9, 7)\n",
      "(9, 6)\n",
      "(9, 5)\n",
      "(9, 4)\n",
      "(9, 3)\n",
      "(9, 2)\n",
      "(9, 2)\n",
      "@@@@@@@@@@@@@@@@@ 13\n",
      "{'inout': 'in', 'station_dest': (1, 3)}\n",
      "(1, 3)\n",
      " target_agv : <__main__.AGV object at 0x0000019FB715F6A0>, target_agv.battery: 200, destination : (1, 3), castar_path : [<__main__.AStarNode object at 0x0000019FB71BA130>, <__main__.AStarNode object at 0x0000019FB61783A0>, <__main__.AStarNode object at 0x0000019FB71C8730>, <__main__.AStarNode object at 0x0000019FB71C8C70>, <__main__.AStarNode object at 0x0000019FB71D1C70>, <__main__.AStarNode object at 0x0000019FB715F2E0>, <__main__.AStarNode object at 0x0000019FB716D370>, <__main__.AStarNode object at 0x0000019FB71C19D0>, <__main__.AStarNode object at 0x0000019FB71C1310>, <__main__.AStarNode object at 0x0000019FB71D2A30>, <__main__.AStarNode object at 0x0000019FB71CEB80>, <__main__.AStarNode object at 0x0000019FB0E53B50>, <__main__.AStarNode object at 0x0000019FB71BA0D0>, <__main__.AStarNode object at 0x0000019FB71BA370>, <__main__.AStarNode object at 0x0000019FB71BA550>, <__main__.AStarNode object at 0x0000019FB71BA310>, <__main__.AStarNode object at 0x0000019FB6040910>, <__main__.AStarNode object at 0x0000019FB71B3340>, <__main__.AStarNode object at 0x0000019FB71CEE80>], available:False\n",
      "(9, 9)\n",
      "(8, 9)\n",
      "(7, 9)\n",
      "(6, 9)\n",
      "(5, 9)\n",
      "(4, 9)\n",
      "(3, 9)\n",
      "(2, 9)\n",
      "(1, 9)\n",
      "(0, 9)\n",
      "(0, 8)\n",
      "(0, 7)\n",
      "(0, 6)\n",
      "(0, 5)\n",
      "(0, 4)\n",
      "(0, 3)\n",
      "(0, 3)\n",
      "(0, 3)\n",
      "(0, 3)\n",
      "@@@@@@@@@@@@@@@@@ 24\n",
      "{'inout': 'in', 'station_dest': (5, 7)}\n",
      "(5, 7)\n"
     ]
    },
    {
     "ename": "KeyboardInterrupt",
     "evalue": "",
     "output_type": "error",
     "traceback": [
      "\u001b[1;31m---------------------------------------------------------------------------\u001b[0m",
      "\u001b[1;31mKeyboardInterrupt\u001b[0m                         Traceback (most recent call last)",
      "\u001b[1;32m<ipython-input-67-972361fa1b80>\u001b[0m in \u001b[0;36m<module>\u001b[1;34m\u001b[0m\n\u001b[0;32m      1\u001b[0m \u001b[1;32mif\u001b[0m \u001b[0m__name__\u001b[0m \u001b[1;33m==\u001b[0m \u001b[1;34m\"__main__\"\u001b[0m\u001b[1;33m:\u001b[0m\u001b[1;33m\u001b[0m\u001b[1;33m\u001b[0m\u001b[0m\n\u001b[1;32m----> 2\u001b[1;33m     \u001b[0mmain\u001b[0m\u001b[1;33m(\u001b[0m\u001b[1;33m)\u001b[0m\u001b[1;33m\u001b[0m\u001b[1;33m\u001b[0m\u001b[0m\n\u001b[0m",
      "\u001b[1;32m<ipython-input-64-a6e62eaeaacd>\u001b[0m in \u001b[0;36mmain\u001b[1;34m()\u001b[0m\n\u001b[0;32m     35\u001b[0m                 \u001b[0mjobQ\u001b[0m\u001b[1;33m.\u001b[0m\u001b[0minsertJob\u001b[0m\u001b[1;33m(\u001b[0m\u001b[0mtotal_job_information\u001b[0m\u001b[1;33m.\u001b[0m\u001b[0mget\u001b[0m\u001b[1;33m(\u001b[0m\u001b[1;34m'{}'\u001b[0m\u001b[1;33m.\u001b[0m\u001b[0mformat\u001b[0m\u001b[1;33m(\u001b[0m\u001b[0mrunning_time\u001b[0m\u001b[1;33m)\u001b[0m\u001b[1;33m)\u001b[0m\u001b[1;33m[\u001b[0m\u001b[1;36m0\u001b[0m\u001b[1;33m]\u001b[0m\u001b[1;33m,\u001b[0m\u001b[0mtotal_job_information\u001b[0m\u001b[1;33m.\u001b[0m\u001b[0mget\u001b[0m\u001b[1;33m(\u001b[0m\u001b[1;34m'{}'\u001b[0m\u001b[1;33m.\u001b[0m\u001b[0mformat\u001b[0m\u001b[1;33m(\u001b[0m\u001b[0mrunning_time\u001b[0m\u001b[1;33m)\u001b[0m\u001b[1;33m)\u001b[0m\u001b[1;33m[\u001b[0m\u001b[1;36m1\u001b[0m\u001b[1;33m]\u001b[0m\u001b[1;33m[\u001b[0m\u001b[1;36m0\u001b[0m\u001b[1;33m]\u001b[0m\u001b[1;33m)\u001b[0m\u001b[1;33m\u001b[0m\u001b[1;33m\u001b[0m\u001b[0m\n\u001b[0;32m     36\u001b[0m             \u001b[0mone_algorithm_failed\u001b[0m \u001b[1;33m=\u001b[0m \u001b[1;32mFalse\u001b[0m\u001b[1;33m\u001b[0m\u001b[1;33m\u001b[0m\u001b[0m\n\u001b[1;32m---> 37\u001b[1;33m             \u001b[0mcurrent_COST\u001b[0m \u001b[1;33m=\u001b[0m \u001b[0mCAStar\u001b[0m\u001b[1;33m(\u001b[0m\u001b[0mgraph\u001b[0m\u001b[1;33m,\u001b[0m\u001b[0mAGV_LIST\u001b[0m\u001b[1;33m,\u001b[0m\u001b[0mINPUT_STATION\u001b[0m\u001b[1;33m,\u001b[0m\u001b[0mOUTPUT_STATION\u001b[0m\u001b[1;33m,\u001b[0m\u001b[0mreservation_table\u001b[0m\u001b[1;33m)\u001b[0m\u001b[1;33m\u001b[0m\u001b[1;33m\u001b[0m\u001b[0m\n\u001b[0m\u001b[0;32m     38\u001b[0m             \u001b[1;32mif\u001b[0m \u001b[0mcurrent_COST\u001b[0m \u001b[1;33m==\u001b[0m\u001b[1;33m-\u001b[0m\u001b[1;36m1\u001b[0m\u001b[1;33m:\u001b[0m\u001b[1;33m\u001b[0m\u001b[1;33m\u001b[0m\u001b[0m\n\u001b[0;32m     39\u001b[0m                 \u001b[0mimpossible_problems_CA\u001b[0m \u001b[1;33m+=\u001b[0m\u001b[1;36m1\u001b[0m\u001b[1;33m\u001b[0m\u001b[1;33m\u001b[0m\u001b[0m\n",
      "\u001b[1;32m<ipython-input-57-e3fbdc41c4d9>\u001b[0m in \u001b[0;36mCAStar\u001b[1;34m(graph, AGV_LIST, INPUT_STATION, OUTPUT_STATION, reservation_table)\u001b[0m\n\u001b[0;32m      8\u001b[0m         \u001b[0magv_avail\u001b[0m \u001b[1;33m=\u001b[0m \u001b[0mgetAvailAGV\u001b[0m\u001b[1;33m(\u001b[0m\u001b[0mAGV_LIST\u001b[0m\u001b[1;33m,\u001b[0m \u001b[0mbattery_threshold\u001b[0m\u001b[1;33m)\u001b[0m\u001b[1;33m\u001b[0m\u001b[1;33m\u001b[0m\u001b[0m\n\u001b[0;32m      9\u001b[0m         \u001b[1;32mfor\u001b[0m \u001b[0magv\u001b[0m \u001b[1;32min\u001b[0m \u001b[0magv_avail\u001b[0m\u001b[1;33m:\u001b[0m\u001b[1;33m\u001b[0m\u001b[1;33m\u001b[0m\u001b[0m\n\u001b[1;32m---> 10\u001b[1;33m             \u001b[0magv\u001b[0m\u001b[1;33m.\u001b[0m\u001b[0mcalculate_bid\u001b[0m\u001b[1;33m(\u001b[0m\u001b[0mjob\u001b[0m\u001b[1;33m,\u001b[0m\u001b[0mwarehouse\u001b[0m\u001b[1;33m,\u001b[0m\u001b[0mINPUT_STATION\u001b[0m\u001b[1;33m,\u001b[0m\u001b[0mOUTPUT_STATION\u001b[0m\u001b[1;33m)\u001b[0m\u001b[1;33m\u001b[0m\u001b[1;33m\u001b[0m\u001b[0m\n\u001b[0m\u001b[0;32m     11\u001b[0m             \u001b[0magv\u001b[0m\u001b[1;33m.\u001b[0m\u001b[0mbid_list\u001b[0m\u001b[1;33m.\u001b[0m\u001b[0mappend\u001b[0m\u001b[1;33m(\u001b[0m\u001b[0magv\u001b[0m\u001b[1;33m.\u001b[0m\u001b[0mcalculate_bid\u001b[0m\u001b[1;33m(\u001b[0m\u001b[0mjob\u001b[0m\u001b[1;33m,\u001b[0m\u001b[0mwarehouse\u001b[0m\u001b[1;33m,\u001b[0m\u001b[0mINPUT_STATION\u001b[0m\u001b[1;33m,\u001b[0m\u001b[0mOUTPUT_STATION\u001b[0m\u001b[1;33m)\u001b[0m\u001b[1;33m)\u001b[0m\u001b[1;33m\u001b[0m\u001b[1;33m\u001b[0m\u001b[0m\n\u001b[0;32m     12\u001b[0m         \u001b[1;32mfor\u001b[0m \u001b[0magv_\u001b[0m \u001b[1;32min\u001b[0m \u001b[0magv_avail\u001b[0m\u001b[1;33m:\u001b[0m\u001b[1;33m\u001b[0m\u001b[1;33m\u001b[0m\u001b[0m\n",
      "\u001b[1;32m<ipython-input-9-b53d23af2639>\u001b[0m in \u001b[0;36mcalculate_bid\u001b[1;34m(self, job, warehouse, INPUT_STATION, OUTPUT_STATION)\u001b[0m\n\u001b[0;32m     75\u001b[0m \u001b[1;31m#         print(\"Rack_enterence[job['station_dest']]\",Rack_enterence[job['station_dest']])\u001b[0m\u001b[1;33m\u001b[0m\u001b[1;33m\u001b[0m\u001b[1;33m\u001b[0m\u001b[0m\n\u001b[0;32m     76\u001b[0m         \u001b[1;32mif\u001b[0m \u001b[0mjob\u001b[0m\u001b[1;33m[\u001b[0m\u001b[1;34m'inout'\u001b[0m\u001b[1;33m]\u001b[0m\u001b[1;33m==\u001b[0m\u001b[1;34m'in'\u001b[0m\u001b[1;33m:\u001b[0m\u001b[1;33m\u001b[0m\u001b[1;33m\u001b[0m\u001b[0m\n\u001b[1;32m---> 77\u001b[1;33m             \u001b[0mcost\u001b[0m \u001b[1;33m=\u001b[0m \u001b[0mlen\u001b[0m\u001b[1;33m(\u001b[0m\u001b[0mfindPathAstar\u001b[0m\u001b[1;33m(\u001b[0m\u001b[0mgraph\u001b[0m\u001b[1;33m,\u001b[0m\u001b[0mself\u001b[0m\u001b[1;33m,\u001b[0m\u001b[0mself\u001b[0m\u001b[1;33m.\u001b[0m\u001b[0mcurrent_location\u001b[0m\u001b[1;33m,\u001b[0m\u001b[0mINPUT_STATION\u001b[0m\u001b[1;33m[\u001b[0m\u001b[1;36m0\u001b[0m\u001b[1;33m]\u001b[0m\u001b[1;33m.\u001b[0m\u001b[0mcoordinates\u001b[0m\u001b[1;33m,\u001b[0m\u001b[0mreservation_table\u001b[0m\u001b[1;33m)\u001b[0m\u001b[1;33m+\u001b[0m\u001b[0mfindPathAstar\u001b[0m\u001b[1;33m(\u001b[0m\u001b[0mgraph\u001b[0m\u001b[1;33m,\u001b[0m\u001b[0mself\u001b[0m\u001b[1;33m,\u001b[0m\u001b[0mINPUT_STATION\u001b[0m\u001b[1;33m[\u001b[0m\u001b[1;36m0\u001b[0m\u001b[1;33m]\u001b[0m\u001b[1;33m.\u001b[0m\u001b[0mcoordinates\u001b[0m\u001b[1;33m,\u001b[0m\u001b[0mRack_enterence\u001b[0m\u001b[1;33m[\u001b[0m\u001b[0mjob\u001b[0m\u001b[1;33m[\u001b[0m\u001b[1;34m'station_dest'\u001b[0m\u001b[1;33m]\u001b[0m\u001b[1;33m]\u001b[0m\u001b[1;33m,\u001b[0m\u001b[0mreservation_table\u001b[0m\u001b[1;33m)\u001b[0m\u001b[1;33m)\u001b[0m\u001b[1;33m\u001b[0m\u001b[1;33m\u001b[0m\u001b[0m\n\u001b[0m\u001b[0;32m     78\u001b[0m         \u001b[1;32melse\u001b[0m\u001b[1;33m:\u001b[0m\u001b[1;33m\u001b[0m\u001b[1;33m\u001b[0m\u001b[0m\n\u001b[0;32m     79\u001b[0m             \u001b[0mcost\u001b[0m \u001b[1;33m=\u001b[0m \u001b[0mlen\u001b[0m\u001b[1;33m(\u001b[0m\u001b[0mfindPathAstar\u001b[0m\u001b[1;33m(\u001b[0m\u001b[0mgraph\u001b[0m\u001b[1;33m,\u001b[0m\u001b[0mself\u001b[0m\u001b[1;33m,\u001b[0m\u001b[0mself\u001b[0m\u001b[1;33m.\u001b[0m\u001b[0mcurrent_location\u001b[0m\u001b[1;33m,\u001b[0m\u001b[0mRack_enterence\u001b[0m\u001b[1;33m[\u001b[0m\u001b[0mjob\u001b[0m\u001b[1;33m[\u001b[0m\u001b[1;34m'station_dest'\u001b[0m\u001b[1;33m]\u001b[0m\u001b[1;33m]\u001b[0m\u001b[1;33m,\u001b[0m\u001b[0mreservation_table\u001b[0m\u001b[1;33m)\u001b[0m\u001b[1;33m+\u001b[0m\u001b[0mfindPathAstar\u001b[0m\u001b[1;33m(\u001b[0m\u001b[0mgraph\u001b[0m\u001b[1;33m,\u001b[0m\u001b[0mself\u001b[0m\u001b[1;33m,\u001b[0m\u001b[0mRack_enterence\u001b[0m\u001b[1;33m[\u001b[0m\u001b[0mjob\u001b[0m\u001b[1;33m[\u001b[0m\u001b[1;34m'station_dest'\u001b[0m\u001b[1;33m]\u001b[0m\u001b[1;33m]\u001b[0m\u001b[1;33m,\u001b[0m\u001b[0mOUTPUT_STATION\u001b[0m\u001b[1;33m[\u001b[0m\u001b[1;36m0\u001b[0m\u001b[1;33m]\u001b[0m\u001b[1;33m.\u001b[0m\u001b[0mcoordinates\u001b[0m\u001b[1;33m,\u001b[0m\u001b[0mreservation_table\u001b[0m\u001b[1;33m)\u001b[0m\u001b[1;33m)\u001b[0m\u001b[1;33m\u001b[0m\u001b[1;33m\u001b[0m\u001b[0m\n",
      "\u001b[1;32m<ipython-input-25-ec922e84e6c9>\u001b[0m in \u001b[0;36mfindPathAstar\u001b[1;34m(graph, agv, start_tuple, goal_tuple, reservation_table)\u001b[0m\n\u001b[0;32m     60\u001b[0m                 \u001b[1;32mcontinue\u001b[0m\u001b[1;33m\u001b[0m\u001b[1;33m\u001b[0m\u001b[0m\n\u001b[0;32m     61\u001b[0m \u001b[1;33m\u001b[0m\u001b[0m\n\u001b[1;32m---> 62\u001b[1;33m             \u001b[1;32mif\u001b[0m \u001b[0mneighbour\u001b[0m \u001b[1;32min\u001b[0m \u001b[0mclosed_list\u001b[0m\u001b[1;33m:\u001b[0m\u001b[1;33m\u001b[0m\u001b[1;33m\u001b[0m\u001b[0m\n\u001b[0m\u001b[0;32m     63\u001b[0m                 \u001b[1;31m# neighbour case has already been considered\u001b[0m\u001b[1;33m\u001b[0m\u001b[1;33m\u001b[0m\u001b[1;33m\u001b[0m\u001b[0m\n\u001b[0;32m     64\u001b[0m                 \u001b[1;31m#print(\"neigbout %d depth %d has CLOSED\" % (neighbour.id, neighbour.depth))\u001b[0m\u001b[1;33m\u001b[0m\u001b[1;33m\u001b[0m\u001b[1;33m\u001b[0m\u001b[0m\n",
      "\u001b[1;32m<ipython-input-13-b37f9d906c37>\u001b[0m in \u001b[0;36m__eq__\u001b[1;34m(self, other)\u001b[0m\n\u001b[0;32m     29\u001b[0m \u001b[1;33m\u001b[0m\u001b[0m\n\u001b[0;32m     30\u001b[0m     \u001b[1;32mdef\u001b[0m \u001b[0m__eq__\u001b[0m\u001b[1;33m(\u001b[0m\u001b[0mself\u001b[0m\u001b[1;33m,\u001b[0m \u001b[0mother\u001b[0m\u001b[1;33m)\u001b[0m\u001b[1;33m:\u001b[0m\u001b[1;33m\u001b[0m\u001b[1;33m\u001b[0m\u001b[0m\n\u001b[1;32m---> 31\u001b[1;33m         \u001b[1;32mreturn\u001b[0m \u001b[1;33m(\u001b[0m\u001b[0mself\u001b[0m\u001b[1;33m.\u001b[0m\u001b[0mid\u001b[0m \u001b[1;33m==\u001b[0m \u001b[0mother\u001b[0m\u001b[1;33m.\u001b[0m\u001b[0mid\u001b[0m \u001b[1;32mand\u001b[0m \u001b[0mself\u001b[0m\u001b[1;33m.\u001b[0m\u001b[0mdepth\u001b[0m \u001b[1;33m==\u001b[0m \u001b[0mother\u001b[0m\u001b[1;33m.\u001b[0m\u001b[0mdepth\u001b[0m\u001b[1;33m)\u001b[0m\u001b[1;33m\u001b[0m\u001b[1;33m\u001b[0m\u001b[0m\n\u001b[0m\u001b[0;32m     32\u001b[0m \u001b[1;33m\u001b[0m\u001b[0m\n\u001b[0;32m     33\u001b[0m     \u001b[1;32mdef\u001b[0m \u001b[0m__hash__\u001b[0m\u001b[1;33m(\u001b[0m\u001b[0mself\u001b[0m\u001b[1;33m)\u001b[0m\u001b[1;33m:\u001b[0m\u001b[1;33m\u001b[0m\u001b[1;33m\u001b[0m\u001b[0m\n",
      "\u001b[1;31mKeyboardInterrupt\u001b[0m: "
     ]
    }
   ],
   "source": [
    "if __name__ == \"__main__\":\n",
    "    main()"
   ]
  },
  {
   "cell_type": "code",
   "execution_count": null,
   "metadata": {},
   "outputs": [],
   "source": [
    "agv1.current_location"
   ]
  },
  {
   "cell_type": "code",
   "execution_count": null,
   "metadata": {},
   "outputs": [],
   "source": [
    "agv1.agv_id"
   ]
  },
  {
   "cell_type": "code",
   "execution_count": null,
   "metadata": {},
   "outputs": [],
   "source": [
    "print(graph)"
   ]
  },
  {
   "cell_type": "markdown",
   "metadata": {},
   "source": [
    "### Main 함수 "
   ]
  },
  {
   "cell_type": "code",
   "execution_count": null,
   "metadata": {},
   "outputs": [],
   "source": [
    "#7월 21 일 flowchart대로 수정\n",
    "if __name__ =='__main__':\n",
    "    for running_time in range(run_time+1):\n",
    "        now_charging_agv = getChargingAGV(AGV_LIST)\n",
    "        if len(now_charging_agv)!=0:\n",
    "            print('charging_agv',now_charging_agv)\n",
    "        if len(now_charging_agv)!=0:\n",
    "            for charging_agv in now_charging_agv:\n",
    "                charging_agv.charge_agv(charging_agvs_list)\n",
    "        if len(moving_for_charge_agvs_list)!=0:\n",
    "#             print('-',moving_for_charge_agvs_list)\n",
    "            for moving_agvs in moving_for_charge_agvs_list :\n",
    "                moving_agvs.move_one_tick_for_charge(charging_agvs_list,moving_for_charge_agvs_list)\n",
    "                print(\"running time : {}, moving agv for charging : {}, current location : {}, current battery : {}\".format(running_time, moving_agvs,moving_agvs.current_location,moving_agvs.battery))\n",
    "                if moving_agvs.charging == True:\n",
    "                    print('moving_for_charge_agvs_list:',moving_for_charge_agvs_list,'moving_agvs',moving_agvs,'moving_agvs battery:',moving_agvs.battery)\n",
    "#                     moving_for_charge_agvs_list.remove(moving_agvs)\n",
    "                    charging_agvs_list.append(moving_agvs)\n",
    "    #       #사용가능한 agv와 job이 있을때 \n",
    "        if running_time in job_create_time:\n",
    "            print(\"@@@@@@@@@@@@@@@@@\",running_time)\n",
    "            jobQ.insertJob(total_job_information.get('{}'.format(running_time))[0],total_job_information.get('{}'.format(running_time))[1][0])\n",
    "        agv_avail = getAvailAGV(AGV_LIST,battery_threshold)\n",
    "#         print('C running_time : {} , agv_avail : {}'.format(running_time,agv_avail))\n",
    "        while len(agv_avail)!=0 and jobQ.job_number!=0:\n",
    "            job = jobQ.getJob()\n",
    "#             print(job)\n",
    "            agv_avail = getAvailAGV(AGV_LIST, battery_threshold)\n",
    "            for agv in agv_avail:\n",
    "                agv.calculate_bid(job,warehouse,INPUT_STATION,OUTPUT_STATION)\n",
    "                agv.bid_list.append(agv.calculate_bid(job,warehouse,INPUT_STATION,OUTPUT_STATION))\n",
    "            for agv_ in agv_avail:\n",
    "                agv_bid_sort = sorted(agv_.bid_list,key = lambda x:x[1], reverse = False)\n",
    "#                 print(agv_bid_sort)\n",
    "            bid_compare_battery=[]\n",
    "            for i in range(len(agv_bid_sort)):\n",
    "                if agv_bid_sort[i][1]==agv_bid_sort[0][1]:\n",
    "                    bid_compare_battery.append((agv_bid_sort[i]))\n",
    "            bid_compare_battery_sort = sorted(bid_compare_battery, key= lambda x:x[0].battery, reverse =True)\n",
    "#             print('0',type(bid_compare_battery_sort[0][0]))\n",
    "            if job['inout']=='in':\n",
    "                astar_path = astar(warehouse,bid_compare_battery_sort[0][0].current_location,INPUT_STATION)+astar(warehouse,INPUT_STATION,Rack_enterence[job['station_dest']])\n",
    "            else:\n",
    "                astar_path = astar(warehouse,bid_compare_battery_sort[0][0].current_location,Rack_enterence[job['station_dest']])+astar(warehouse,Rack_enterence[job['station_dest']],OUTPUT_STATION)\n",
    "            target_agv = bid_compare_battery_sort[0][0]\n",
    "            select_agv_list.append(target_agv)\n",
    "            target_agv.get_job(job,astar_path)\n",
    "            print(\"D running_time : {}, target_agv : {}, target_agv.battery: {}, destination : {}, astar_path : {}, available:{}\".format(running_time,target_agv,target_agv.battery,job['station_dest'],astar_path,target_agv.available))\n",
    "            for agv in AGV_LIST:\n",
    "                agv.clear_bid_list(AGV_LIST)\n",
    "        for moving_agv in select_agv_list:\n",
    "            moving_agv.move_one_tick()\n",
    "            print(\"E time : {}, moving agv : {}, battery : {}, current location : {}\".format(running_time,moving_agv,moving_agv.battery,moving_agv.current_location))\n",
    "            if len(moving_agv.path)==0:\n",
    "                select_agv_list.remove(moving_agv)\n",
    "                moving_agv.available = True\n",
    "                if moving_agv.battery < battery_threshold:\n",
    "                    moving_for_charge_agvs_list.append(moving_agv)\n",
    "                    moving_agv.go_to_charge(moving_agv.select_charging_station(warehouse,CHARGING_STATION))"
   ]
  },
  {
   "cell_type": "code",
   "execution_count": null,
   "metadata": {},
   "outputs": [],
   "source": []
  },
  {
   "cell_type": "code",
   "execution_count": null,
   "metadata": {},
   "outputs": [],
   "source": []
  },
  {
   "cell_type": "code",
   "execution_count": null,
   "metadata": {},
   "outputs": [],
   "source": []
  },
  {
   "cell_type": "code",
   "execution_count": null,
   "metadata": {},
   "outputs": [],
   "source": []
  },
  {
   "cell_type": "code",
   "execution_count": null,
   "metadata": {},
   "outputs": [],
   "source": []
  },
  {
   "cell_type": "code",
   "execution_count": null,
   "metadata": {},
   "outputs": [],
   "source": []
  },
  {
   "cell_type": "code",
   "execution_count": null,
   "metadata": {},
   "outputs": [],
   "source": []
  }
 ],
 "metadata": {
  "kernelspec": {
   "display_name": "Python 3",
   "language": "python",
   "name": "python3"
  },
  "language_info": {
   "codemirror_mode": {
    "name": "ipython",
    "version": 3
   },
   "file_extension": ".py",
   "mimetype": "text/x-python",
   "name": "python",
   "nbconvert_exporter": "python",
   "pygments_lexer": "ipython3",
   "version": "3.8.5"
  }
 },
 "nbformat": 4,
 "nbformat_minor": 4
}
